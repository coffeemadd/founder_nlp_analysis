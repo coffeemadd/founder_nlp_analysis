{
 "cells": [
  {
   "cell_type": "code",
   "execution_count": 38,
   "metadata": {
    "collapsed": true
   },
   "outputs": [],
   "source": [
    "import pandas as pd\n",
    "import csv\n",
    "from geopy.geocoders import Nominatim"
   ]
  },
  {
   "cell_type": "code",
   "execution_count": 5,
   "metadata": {},
   "outputs": [],
   "source": [
    "closed_seed_angel_us_df = pd.read_csv(\"../data/raw/US_Angel-Seed-SeriesA_Closed_CrunchBase/closed-companies-angel-seed-6-9-2017 (1).csv\")"
   ]
  },
  {
   "cell_type": "code",
   "execution_count": 6,
   "metadata": {
    "collapsed": true
   },
   "outputs": [],
   "source": [
    "closed_seriesa_us_df = pd.read_csv(\"../data/raw/US_Angel-Seed-SeriesA_Closed_CrunchBase/series-a-closed-us-6-9-2017.csv\")"
   ]
  },
  {
   "cell_type": "code",
   "execution_count": 8,
   "metadata": {},
   "outputs": [
    {
     "name": "stdout",
     "output_type": "stream",
     "text": [
      "<class 'pandas.core.frame.DataFrame'>\n",
      "RangeIndex: 1000 entries, 0 to 999\n",
      "Data columns (total 19 columns):\n",
      "Company Name                1000 non-null object\n",
      "Company Name URL            1000 non-null object\n",
      "Category Groups             986 non-null object\n",
      "Headquarters Location       1000 non-null object\n",
      "Description                 1000 non-null object\n",
      "Crunchbase Rank             744 non-null object\n",
      "Founded Date                973 non-null object\n",
      "Status                      1000 non-null object\n",
      "Number of Articles          486 non-null float64\n",
      "Categories                  997 non-null object\n",
      "Number of Founders          628 non-null float64\n",
      "Number of Employees         935 non-null object\n",
      "Last Funding Date           1000 non-null object\n",
      "Last Funding Amount         731 non-null object\n",
      "Total Funding Amount        750 non-null object\n",
      "Number of Investors         626 non-null float64\n",
      "Last Funding Type           1000 non-null object\n",
      "Website                     966 non-null object\n",
      "Number of Funding Rounds    1000 non-null int64\n",
      "dtypes: float64(3), int64(1), object(15)\n",
      "memory usage: 148.5+ KB\n"
     ]
    }
   ],
   "source": [
    "closed_seed_angel_us_df.info()"
   ]
  },
  {
   "cell_type": "code",
   "execution_count": 50,
   "metadata": {},
   "outputs": [
    {
     "data": {
      "text/plain": [
       "'San Jose'"
      ]
     },
     "execution_count": 50,
     "metadata": {},
     "output_type": "execute_result"
    }
   ],
   "source": [
    "closed_seed_angel_us_df['Total Funding Amount']"
   ]
  },
  {
   "cell_type": "code",
   "execution_count": 36,
   "metadata": {},
   "outputs": [
    {
     "data": {
      "text/html": [
       "<div>\n",
       "<style>\n",
       "    .dataframe thead tr:only-child th {\n",
       "        text-align: right;\n",
       "    }\n",
       "\n",
       "    .dataframe thead th {\n",
       "        text-align: left;\n",
       "    }\n",
       "\n",
       "    .dataframe tbody tr th {\n",
       "        vertical-align: top;\n",
       "    }\n",
       "</style>\n",
       "<table border=\"1\" class=\"dataframe\">\n",
       "  <thead>\n",
       "    <tr style=\"text-align: right;\">\n",
       "      <th></th>\n",
       "      <th>Company Name</th>\n",
       "      <th>Company Name URL</th>\n",
       "      <th>Category Groups</th>\n",
       "      <th>Headquarters Location</th>\n",
       "      <th>Description</th>\n",
       "      <th>Crunchbase Rank</th>\n",
       "      <th>Founded Date</th>\n",
       "      <th>Status</th>\n",
       "      <th>Number of Articles</th>\n",
       "      <th>Categories</th>\n",
       "      <th>Number of Founders</th>\n",
       "      <th>Number of Employees</th>\n",
       "      <th>Last Funding Date</th>\n",
       "      <th>Last Funding Amount</th>\n",
       "      <th>Total Funding Amount</th>\n",
       "      <th>Number of Investors</th>\n",
       "      <th>Last Funding Type</th>\n",
       "      <th>Website</th>\n",
       "      <th>Number of Funding Rounds</th>\n",
       "    </tr>\n",
       "  </thead>\n",
       "  <tbody>\n",
       "    <tr>\n",
       "      <th>0</th>\n",
       "      <td>BitInstant</td>\n",
       "      <td>https://www.crunchbase.com/organization/bitins...</td>\n",
       "      <td>Software, Payments, Financial Services</td>\n",
       "      <td>New York, New York, United States</td>\n",
       "      <td>BitInstant is an online payment processor that...</td>\n",
       "      <td>4,234</td>\n",
       "      <td>01/01/2011</td>\n",
       "      <td>Closed</td>\n",
       "      <td>139.0</td>\n",
       "      <td>Financial Services, Bitcoin, Finance</td>\n",
       "      <td>2.0</td>\n",
       "      <td>11-50</td>\n",
       "      <td>05/18/2013</td>\n",
       "      <td>$1,500,000</td>\n",
       "      <td>$1,500,000</td>\n",
       "      <td>2.0</td>\n",
       "      <td>Seed</td>\n",
       "      <td>http://www.bitinstant.com</td>\n",
       "      <td>1</td>\n",
       "    </tr>\n",
       "    <tr>\n",
       "      <th>1</th>\n",
       "      <td>Postcard on the Run</td>\n",
       "      <td>https://www.crunchbase.com/organization/postca...</td>\n",
       "      <td>Apps, Software, Mobile</td>\n",
       "      <td>Los Angeles, California, United States</td>\n",
       "      <td>Postcard on the Run is a mobile app that allow...</td>\n",
       "      <td>5,542</td>\n",
       "      <td>09/01/2011</td>\n",
       "      <td>Closed</td>\n",
       "      <td>10.0</td>\n",
       "      <td>Mobile, Apps</td>\n",
       "      <td>1.0</td>\n",
       "      <td>1-10</td>\n",
       "      <td>11/22/2012</td>\n",
       "      <td>$1,300,000</td>\n",
       "      <td>$3,882,595</td>\n",
       "      <td>9.0</td>\n",
       "      <td>Seed</td>\n",
       "      <td>http://www.postcardontherun.com</td>\n",
       "      <td>3</td>\n",
       "    </tr>\n",
       "    <tr>\n",
       "      <th>2</th>\n",
       "      <td>The Happy Home Company</td>\n",
       "      <td>https://www.crunchbase.com/organization/the-ha...</td>\n",
       "      <td>Consumer Electronics, Real Estate</td>\n",
       "      <td>San Jose, California, United States</td>\n",
       "      <td>The Happy Home Company provides personal home ...</td>\n",
       "      <td>6,140</td>\n",
       "      <td>01/01/2014</td>\n",
       "      <td>Closed</td>\n",
       "      <td>7.0</td>\n",
       "      <td>Home Improvement, Consumer, Home Automation</td>\n",
       "      <td>2.0</td>\n",
       "      <td>1-10</td>\n",
       "      <td>12/22/2015</td>\n",
       "      <td>$3,500,000</td>\n",
       "      <td>$3,500,000</td>\n",
       "      <td>16.0</td>\n",
       "      <td>Seed</td>\n",
       "      <td>http://www.thehappyhome.co</td>\n",
       "      <td>1</td>\n",
       "    </tr>\n",
       "    <tr>\n",
       "      <th>3</th>\n",
       "      <td>Balanced</td>\n",
       "      <td>https://www.crunchbase.com/organization/balanced</td>\n",
       "      <td>Commerce and Shopping, Software, Payments, Fin...</td>\n",
       "      <td>San Francisco, California, United States</td>\n",
       "      <td>Balanced is a payment system allowing marketpl...</td>\n",
       "      <td>9,066</td>\n",
       "      <td>10/11/2010</td>\n",
       "      <td>Closed</td>\n",
       "      <td>8.0</td>\n",
       "      <td>E-Commerce, Mobile Payments, Payments</td>\n",
       "      <td>3.0</td>\n",
       "      <td>11-50</td>\n",
       "      <td>04/01/2014</td>\n",
       "      <td>NaN</td>\n",
       "      <td>$3,550,000</td>\n",
       "      <td>21.0</td>\n",
       "      <td>Seed</td>\n",
       "      <td>http://www.balancedpayments.com</td>\n",
       "      <td>5</td>\n",
       "    </tr>\n",
       "    <tr>\n",
       "      <th>4</th>\n",
       "      <td>North Technologies</td>\n",
       "      <td>https://www.crunchbase.com/organization/north-...</td>\n",
       "      <td>Software, Internet Services</td>\n",
       "      <td>San Francisco, California, United States</td>\n",
       "      <td>A startup in the consumer internet space</td>\n",
       "      <td>9,274</td>\n",
       "      <td>01/01/2011</td>\n",
       "      <td>Closed</td>\n",
       "      <td>28.0</td>\n",
       "      <td>File Sharing, Internet, Service Industry</td>\n",
       "      <td>2.0</td>\n",
       "      <td>1-10</td>\n",
       "      <td>01/15/2015</td>\n",
       "      <td>$5,000,000</td>\n",
       "      <td>$5,000,000</td>\n",
       "      <td>13.0</td>\n",
       "      <td>Seed</td>\n",
       "      <td>http://www.n-o-r-t-h-t-e-c-h-n-o-l-o-g-i-e-s.com/</td>\n",
       "      <td>2</td>\n",
       "    </tr>\n",
       "  </tbody>\n",
       "</table>\n",
       "</div>"
      ],
      "text/plain": [
       "             Company Name                                   Company Name URL  \\\n",
       "0              BitInstant  https://www.crunchbase.com/organization/bitins...   \n",
       "1     Postcard on the Run  https://www.crunchbase.com/organization/postca...   \n",
       "2  The Happy Home Company  https://www.crunchbase.com/organization/the-ha...   \n",
       "3                Balanced   https://www.crunchbase.com/organization/balanced   \n",
       "4      North Technologies  https://www.crunchbase.com/organization/north-...   \n",
       "\n",
       "                                     Category Groups  \\\n",
       "0             Software, Payments, Financial Services   \n",
       "1                             Apps, Software, Mobile   \n",
       "2                  Consumer Electronics, Real Estate   \n",
       "3  Commerce and Shopping, Software, Payments, Fin...   \n",
       "4                        Software, Internet Services   \n",
       "\n",
       "                      Headquarters Location  \\\n",
       "0         New York, New York, United States   \n",
       "1    Los Angeles, California, United States   \n",
       "2       San Jose, California, United States   \n",
       "3  San Francisco, California, United States   \n",
       "4  San Francisco, California, United States   \n",
       "\n",
       "                                         Description Crunchbase Rank  \\\n",
       "0  BitInstant is an online payment processor that...           4,234   \n",
       "1  Postcard on the Run is a mobile app that allow...           5,542   \n",
       "2  The Happy Home Company provides personal home ...           6,140   \n",
       "3  Balanced is a payment system allowing marketpl...           9,066   \n",
       "4           A startup in the consumer internet space           9,274   \n",
       "\n",
       "  Founded Date  Status  Number of Articles  \\\n",
       "0   01/01/2011  Closed               139.0   \n",
       "1   09/01/2011  Closed                10.0   \n",
       "2   01/01/2014  Closed                 7.0   \n",
       "3   10/11/2010  Closed                 8.0   \n",
       "4   01/01/2011  Closed                28.0   \n",
       "\n",
       "                                    Categories  Number of Founders  \\\n",
       "0         Financial Services, Bitcoin, Finance                 2.0   \n",
       "1                                 Mobile, Apps                 1.0   \n",
       "2  Home Improvement, Consumer, Home Automation                 2.0   \n",
       "3        E-Commerce, Mobile Payments, Payments                 3.0   \n",
       "4     File Sharing, Internet, Service Industry                 2.0   \n",
       "\n",
       "  Number of Employees Last Funding Date Last Funding Amount  \\\n",
       "0               11-50        05/18/2013          $1,500,000   \n",
       "1                1-10        11/22/2012          $1,300,000   \n",
       "2                1-10        12/22/2015          $3,500,000   \n",
       "3               11-50        04/01/2014                 NaN   \n",
       "4                1-10        01/15/2015          $5,000,000   \n",
       "\n",
       "  Total Funding Amount  Number of Investors Last Funding Type  \\\n",
       "0           $1,500,000                  2.0              Seed   \n",
       "1           $3,882,595                  9.0              Seed   \n",
       "2           $3,500,000                 16.0              Seed   \n",
       "3           $3,550,000                 21.0              Seed   \n",
       "4           $5,000,000                 13.0              Seed   \n",
       "\n",
       "                                             Website  Number of Funding Rounds  \n",
       "0                          http://www.bitinstant.com                         1  \n",
       "1                    http://www.postcardontherun.com                         3  \n",
       "2                         http://www.thehappyhome.co                         1  \n",
       "3                    http://www.balancedpayments.com                         5  \n",
       "4  http://www.n-o-r-t-h-t-e-c-h-n-o-l-o-g-i-e-s.com/                         2  "
      ]
     },
     "execution_count": 36,
     "metadata": {},
     "output_type": "execute_result"
    }
   ],
   "source": [
    "closed_seed_angel_us_df.head()"
   ]
  },
  {
   "cell_type": "code",
   "execution_count": 10,
   "metadata": {},
   "outputs": [
    {
     "name": "stdout",
     "output_type": "stream",
     "text": [
      "<class 'pandas.core.frame.DataFrame'>\n",
      "RangeIndex: 348 entries, 0 to 347\n",
      "Data columns (total 19 columns):\n",
      "Company Name                348 non-null object\n",
      "Company Name URL            348 non-null object\n",
      "Category Groups             345 non-null object\n",
      "Headquarters Location       348 non-null object\n",
      "Description                 348 non-null object\n",
      "Crunchbase Rank             241 non-null object\n",
      "Founded Date                338 non-null object\n",
      "Status                      348 non-null object\n",
      "Number of Articles          210 non-null float64\n",
      "Categories                  347 non-null object\n",
      "Number of Founders          180 non-null float64\n",
      "Number of Employees         270 non-null object\n",
      "Last Funding Date           348 non-null object\n",
      "Last Funding Amount         313 non-null object\n",
      "Total Funding Amount        322 non-null object\n",
      "Number of Investors         292 non-null float64\n",
      "Last Funding Type           348 non-null object\n",
      "Website                     334 non-null object\n",
      "Number of Funding Rounds    348 non-null int64\n",
      "dtypes: float64(3), int64(1), object(15)\n",
      "memory usage: 51.7+ KB\n"
     ]
    }
   ],
   "source": [
    "closed_seriesa_us_df .info()"
   ]
  },
  {
   "cell_type": "code",
   "execution_count": 32,
   "metadata": {},
   "outputs": [],
   "source": [
    "#with open('closed_rounds.csv','w') as fp:\n",
    "with open('closed_rounds.csv','w') as fp:\n",
    "    csv_writer = csv.writer(fp)\n",
    "    for index,row in closed_seed_angel_us_df.loc[:,('Company Name','Website','Number of Employees')].iterrows():\n",
    "        csv_writer.writerow([index,row])\n",
    "\n"
   ]
  },
  {
   "cell_type": "code",
   "execution_count": 35,
   "metadata": {},
   "outputs": [],
   "source": [
    "closed_seed_angel_us_df.loc[:,('Company Name','Website','Number of Employees')].to_csv('closed_rounds.csv')\n"
   ]
  },
  {
   "cell_type": "markdown",
   "metadata": {},
   "source": [
    "## Convert city into latitdue and longtitude"
   ]
  },
  {
   "cell_type": "code",
   "execution_count": 43,
   "metadata": {},
   "outputs": [
    {
     "name": "stdout",
     "output_type": "stream",
     "text": [
      "SF, California, United States of America\n"
     ]
    }
   ],
   "source": [
    "#test \n",
    "geolocator = Nominatim()\n",
    "location = geolocator.geocode(\"San Francisco\")\n",
    "print(location.address)"
   ]
  },
  {
   "cell_type": "code",
   "execution_count": 52,
   "metadata": {},
   "outputs": [
    {
     "name": "stdout",
     "output_type": "stream",
     "text": [
      "(37.7792808, -122.4192363)\n"
     ]
    }
   ],
   "source": [
    "print((location.latitude, location.longitude))"
   ]
  },
  {
   "cell_type": "code",
   "execution_count": 53,
   "metadata": {},
   "outputs": [],
   "source": [
    "def convert_city_to_lat_long(city):\n",
    "    # convert city into latitude and longtitude\n",
    "    geolocator = Nominatim()\n",
    "    location = geolocator.geocode(city)\n",
    "    return location.latitude, location.longitude"
   ]
  },
  {
   "cell_type": "code",
   "execution_count": 51,
   "metadata": {
    "scrolled": true
   },
   "outputs": [
    {
     "data": {
      "text/plain": [
       "'San Jose'"
      ]
     },
     "execution_count": 51,
     "metadata": {},
     "output_type": "execute_result"
    }
   ],
   "source": [
    "closed_seed_angel_us_df['Headquarters Location'][2].split(',')[0]"
   ]
  },
  {
   "cell_type": "code",
   "execution_count": 77,
   "metadata": {},
   "outputs": [
    {
     "ename": "ValueError",
     "evalue": "Length of values does not match length of index",
     "output_type": "error",
     "traceback": [
      "\u001b[0;31m---------------------------------------------------------------------------\u001b[0m",
      "\u001b[0;31mValueError\u001b[0m                                Traceback (most recent call last)",
      "\u001b[0;32m<ipython-input-77-a1f16148b230>\u001b[0m in \u001b[0;36m<module>\u001b[0;34m()\u001b[0m\n\u001b[1;32m      1\u001b[0m closed_seed_angel_us_df['hq_lat'],closed_seriesa_us_df['hq_lon']=zip(*closed_seed_angel_us_df[\n\u001b[0;32m----> 2\u001b[0;31m     'Headquarters Location'].apply(lambda x: convert_city_to_lat_long(x.split(',')[0])))\n\u001b[0m",
      "\u001b[0;32m/Users/jonathanhilgart/anaconda/envs/nlp_founder/lib/python3.6/site-packages/pandas/core/frame.py\u001b[0m in \u001b[0;36m__setitem__\u001b[0;34m(self, key, value)\u001b[0m\n\u001b[1;32m   2427\u001b[0m         \u001b[0;32melse\u001b[0m\u001b[0;34m:\u001b[0m\u001b[0;34m\u001b[0m\u001b[0m\n\u001b[1;32m   2428\u001b[0m             \u001b[0;31m# set column\u001b[0m\u001b[0;34m\u001b[0m\u001b[0;34m\u001b[0m\u001b[0m\n\u001b[0;32m-> 2429\u001b[0;31m             \u001b[0mself\u001b[0m\u001b[0;34m.\u001b[0m\u001b[0m_set_item\u001b[0m\u001b[0;34m(\u001b[0m\u001b[0mkey\u001b[0m\u001b[0;34m,\u001b[0m \u001b[0mvalue\u001b[0m\u001b[0;34m)\u001b[0m\u001b[0;34m\u001b[0m\u001b[0m\n\u001b[0m\u001b[1;32m   2430\u001b[0m \u001b[0;34m\u001b[0m\u001b[0m\n\u001b[1;32m   2431\u001b[0m     \u001b[0;32mdef\u001b[0m \u001b[0m_setitem_slice\u001b[0m\u001b[0;34m(\u001b[0m\u001b[0mself\u001b[0m\u001b[0;34m,\u001b[0m \u001b[0mkey\u001b[0m\u001b[0;34m,\u001b[0m \u001b[0mvalue\u001b[0m\u001b[0;34m)\u001b[0m\u001b[0;34m:\u001b[0m\u001b[0;34m\u001b[0m\u001b[0m\n",
      "\u001b[0;32m/Users/jonathanhilgart/anaconda/envs/nlp_founder/lib/python3.6/site-packages/pandas/core/frame.py\u001b[0m in \u001b[0;36m_set_item\u001b[0;34m(self, key, value)\u001b[0m\n\u001b[1;32m   2493\u001b[0m \u001b[0;34m\u001b[0m\u001b[0m\n\u001b[1;32m   2494\u001b[0m         \u001b[0mself\u001b[0m\u001b[0;34m.\u001b[0m\u001b[0m_ensure_valid_index\u001b[0m\u001b[0;34m(\u001b[0m\u001b[0mvalue\u001b[0m\u001b[0;34m)\u001b[0m\u001b[0;34m\u001b[0m\u001b[0m\n\u001b[0;32m-> 2495\u001b[0;31m         \u001b[0mvalue\u001b[0m \u001b[0;34m=\u001b[0m \u001b[0mself\u001b[0m\u001b[0;34m.\u001b[0m\u001b[0m_sanitize_column\u001b[0m\u001b[0;34m(\u001b[0m\u001b[0mkey\u001b[0m\u001b[0;34m,\u001b[0m \u001b[0mvalue\u001b[0m\u001b[0;34m)\u001b[0m\u001b[0;34m\u001b[0m\u001b[0m\n\u001b[0m\u001b[1;32m   2496\u001b[0m         \u001b[0mNDFrame\u001b[0m\u001b[0;34m.\u001b[0m\u001b[0m_set_item\u001b[0m\u001b[0;34m(\u001b[0m\u001b[0mself\u001b[0m\u001b[0;34m,\u001b[0m \u001b[0mkey\u001b[0m\u001b[0;34m,\u001b[0m \u001b[0mvalue\u001b[0m\u001b[0;34m)\u001b[0m\u001b[0;34m\u001b[0m\u001b[0m\n\u001b[1;32m   2497\u001b[0m \u001b[0;34m\u001b[0m\u001b[0m\n",
      "\u001b[0;32m/Users/jonathanhilgart/anaconda/envs/nlp_founder/lib/python3.6/site-packages/pandas/core/frame.py\u001b[0m in \u001b[0;36m_sanitize_column\u001b[0;34m(self, key, value, broadcast)\u001b[0m\n\u001b[1;32m   2664\u001b[0m \u001b[0;34m\u001b[0m\u001b[0m\n\u001b[1;32m   2665\u001b[0m             \u001b[0;31m# turn me into an ndarray\u001b[0m\u001b[0;34m\u001b[0m\u001b[0;34m\u001b[0m\u001b[0m\n\u001b[0;32m-> 2666\u001b[0;31m             \u001b[0mvalue\u001b[0m \u001b[0;34m=\u001b[0m \u001b[0m_sanitize_index\u001b[0m\u001b[0;34m(\u001b[0m\u001b[0mvalue\u001b[0m\u001b[0;34m,\u001b[0m \u001b[0mself\u001b[0m\u001b[0;34m.\u001b[0m\u001b[0mindex\u001b[0m\u001b[0;34m,\u001b[0m \u001b[0mcopy\u001b[0m\u001b[0;34m=\u001b[0m\u001b[0;32mFalse\u001b[0m\u001b[0;34m)\u001b[0m\u001b[0;34m\u001b[0m\u001b[0m\n\u001b[0m\u001b[1;32m   2667\u001b[0m             \u001b[0;32mif\u001b[0m \u001b[0;32mnot\u001b[0m \u001b[0misinstance\u001b[0m\u001b[0;34m(\u001b[0m\u001b[0mvalue\u001b[0m\u001b[0;34m,\u001b[0m \u001b[0;34m(\u001b[0m\u001b[0mnp\u001b[0m\u001b[0;34m.\u001b[0m\u001b[0mndarray\u001b[0m\u001b[0;34m,\u001b[0m \u001b[0mIndex\u001b[0m\u001b[0;34m)\u001b[0m\u001b[0;34m)\u001b[0m\u001b[0;34m:\u001b[0m\u001b[0;34m\u001b[0m\u001b[0m\n\u001b[1;32m   2668\u001b[0m                 \u001b[0;32mif\u001b[0m \u001b[0misinstance\u001b[0m\u001b[0;34m(\u001b[0m\u001b[0mvalue\u001b[0m\u001b[0;34m,\u001b[0m \u001b[0mlist\u001b[0m\u001b[0;34m)\u001b[0m \u001b[0;32mand\u001b[0m \u001b[0mlen\u001b[0m\u001b[0;34m(\u001b[0m\u001b[0mvalue\u001b[0m\u001b[0;34m)\u001b[0m \u001b[0;34m>\u001b[0m \u001b[0;36m0\u001b[0m\u001b[0;34m:\u001b[0m\u001b[0;34m\u001b[0m\u001b[0m\n",
      "\u001b[0;32m/Users/jonathanhilgart/anaconda/envs/nlp_founder/lib/python3.6/site-packages/pandas/core/series.py\u001b[0m in \u001b[0;36m_sanitize_index\u001b[0;34m(data, index, copy)\u001b[0m\n\u001b[1;32m   2877\u001b[0m \u001b[0;34m\u001b[0m\u001b[0m\n\u001b[1;32m   2878\u001b[0m     \u001b[0;32mif\u001b[0m \u001b[0mlen\u001b[0m\u001b[0;34m(\u001b[0m\u001b[0mdata\u001b[0m\u001b[0;34m)\u001b[0m \u001b[0;34m!=\u001b[0m \u001b[0mlen\u001b[0m\u001b[0;34m(\u001b[0m\u001b[0mindex\u001b[0m\u001b[0;34m)\u001b[0m\u001b[0;34m:\u001b[0m\u001b[0;34m\u001b[0m\u001b[0m\n\u001b[0;32m-> 2879\u001b[0;31m         \u001b[0;32mraise\u001b[0m \u001b[0mValueError\u001b[0m\u001b[0;34m(\u001b[0m\u001b[0;34m'Length of values does not match length of '\u001b[0m \u001b[0;34m'index'\u001b[0m\u001b[0;34m)\u001b[0m\u001b[0;34m\u001b[0m\u001b[0m\n\u001b[0m\u001b[1;32m   2880\u001b[0m \u001b[0;34m\u001b[0m\u001b[0m\n\u001b[1;32m   2881\u001b[0m     \u001b[0;32mif\u001b[0m \u001b[0misinstance\u001b[0m\u001b[0;34m(\u001b[0m\u001b[0mdata\u001b[0m\u001b[0;34m,\u001b[0m \u001b[0mPeriodIndex\u001b[0m\u001b[0;34m)\u001b[0m\u001b[0;34m:\u001b[0m\u001b[0;34m\u001b[0m\u001b[0m\n",
      "\u001b[0;31mValueError\u001b[0m: Length of values does not match length of index"
     ]
    }
   ],
   "source": [
    "closed_seed_angel_us_df['hq_lat'],closed_seriesa_us_df['hq_lon']=zip(*closed_seed_angel_us_df[\n",
    "    'Headquarters Location'].apply(lambda x: convert_city_to_lat_long(x.split(',')[0])))"
   ]
  },
  {
   "cell_type": "code",
   "execution_count": null,
   "metadata": {
    "collapsed": true
   },
   "outputs": [],
   "source": [
    "closed_seed_angel_us_df"
   ]
  },
  {
   "cell_type": "markdown",
   "metadata": {},
   "source": [
    "# Deal with missing values"
   ]
  },
  {
   "cell_type": "code",
   "execution_count": null,
   "metadata": {
    "collapsed": true
   },
   "outputs": [],
   "source": []
  }
 ],
 "metadata": {
  "kernelspec": {
   "display_name": "nlp_founder",
   "language": "python",
   "name": "nlp_founder"
  },
  "language_info": {
   "codemirror_mode": {
    "name": "ipython",
    "version": 3
   },
   "file_extension": ".py",
   "mimetype": "text/x-python",
   "name": "python",
   "nbconvert_exporter": "python",
   "pygments_lexer": "ipython3",
   "version": "3.6.1"
  }
 },
 "nbformat": 4,
 "nbformat_minor": 2
}
