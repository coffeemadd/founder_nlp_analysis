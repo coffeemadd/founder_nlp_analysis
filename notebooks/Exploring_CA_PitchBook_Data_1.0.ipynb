{
 "cells": [
  {
   "cell_type": "code",
   "execution_count": 59,
   "metadata": {},
   "outputs": [],
   "source": [
    "import pandas as pd\n",
    "import requests\n",
    "import tweepy\n",
    "import yaml \n",
    "import os\n",
    "import json\n",
    "import numpy as np"
   ]
  },
  {
   "cell_type": "markdown",
   "metadata": {},
   "source": []
  },
  {
   "cell_type": "code",
   "execution_count": 37,
   "metadata": {
    "collapsed": true
   },
   "outputs": [],
   "source": [
    "tweets = api.search_users(q=\"Chris Bassolino\")"
   ]
  },
  {
   "cell_type": "code",
   "execution_count": 40,
   "metadata": {},
   "outputs": [
    {
     "data": {
      "text/plain": [
       "1"
      ]
     },
     "execution_count": 40,
     "metadata": {},
     "output_type": "execute_result"
    }
   ],
   "source": [
    "len(tweets)"
   ]
  },
  {
   "cell_type": "code",
   "execution_count": 38,
   "metadata": {},
   "outputs": [
    {
     "data": {
      "text/plain": [
       "'marketectured'"
      ]
     },
     "execution_count": 38,
     "metadata": {},
     "output_type": "execute_result"
    }
   ],
   "source": [
    "tweets[0].screen_name"
   ]
  },
  {
   "cell_type": "markdown",
   "metadata": {},
   "source": [
    "# Read PitchBook data in\n",
    "## Start with companies that HAVE received VC funding. These are the 1 companies (VC investment =1)"
   ]
  },
  {
   "cell_type": "code",
   "execution_count": 127,
   "metadata": {},
   "outputs": [
    {
     "data": {
      "text/html": [
       "<div>\n",
       "<style>\n",
       "    .dataframe thead tr:only-child th {\n",
       "        text-align: right;\n",
       "    }\n",
       "\n",
       "    .dataframe thead th {\n",
       "        text-align: left;\n",
       "    }\n",
       "\n",
       "    .dataframe tbody tr th {\n",
       "        vertical-align: top;\n",
       "    }\n",
       "</style>\n",
       "<table border=\"1\" class=\"dataframe\">\n",
       "  <thead>\n",
       "    <tr style=\"text-align: right;\">\n",
       "      <th></th>\n",
       "      <th>Company ID</th>\n",
       "      <th>Company Name</th>\n",
       "      <th>HQ Post Code</th>\n",
       "      <th>Description</th>\n",
       "      <th>Primary Industry Code</th>\n",
       "      <th>HQ Location</th>\n",
       "      <th>Ownership Status</th>\n",
       "      <th>Company Financing Status</th>\n",
       "      <th>Active Investors</th>\n",
       "      <th>Website</th>\n",
       "      <th>HQ Email</th>\n",
       "      <th>HQ Phone</th>\n",
       "      <th>Primary Contact</th>\n",
       "      <th>Primary Contact Title</th>\n",
       "      <th>Primary Contact Email</th>\n",
       "      <th>Primary Contact Phone</th>\n",
       "      <th>Year Founded</th>\n",
       "      <th>PitchBook Link</th>\n",
       "    </tr>\n",
       "  </thead>\n",
       "  <tbody>\n",
       "    <tr>\n",
       "      <th>0</th>\n",
       "      <td>61743-97</td>\n",
       "      <td>ZypMedia</td>\n",
       "      <td>94102</td>\n",
       "      <td>Developer of an online advertisement platform ...</td>\n",
       "      <td>Social/Platform Software</td>\n",
       "      <td>San Francisco, CA</td>\n",
       "      <td>Privately Held (backing)</td>\n",
       "      <td>Venture Capital-Backed</td>\n",
       "      <td>Sinclair Broadcast Group, Sinclair Digital Ven...</td>\n",
       "      <td>www.zypmedia.com</td>\n",
       "      <td>info@extend.tv</td>\n",
       "      <td>+1 (415) 894-9181</td>\n",
       "      <td>Mark Goldman</td>\n",
       "      <td>Co-Founder, Board Member &amp; Chief Executive Off...</td>\n",
       "      <td>mgoldman@extend.tv</td>\n",
       "      <td>+1 (415) 894-9181</td>\n",
       "      <td>2013.0</td>\n",
       "      <td>NaN</td>\n",
       "    </tr>\n",
       "    <tr>\n",
       "      <th>1</th>\n",
       "      <td>103815-64</td>\n",
       "      <td>Zype</td>\n",
       "      <td>10001</td>\n",
       "      <td>Developer of a cloud platform for video publis...</td>\n",
       "      <td>Social/Platform Software</td>\n",
       "      <td>New York, NY</td>\n",
       "      <td>Privately Held (backing)</td>\n",
       "      <td>Venture Capital-Backed</td>\n",
       "      <td>Alpine Meridian, Berlin Ventures, Bill Dolan, ...</td>\n",
       "      <td>www.zype.com</td>\n",
       "      <td>contact@zype.com</td>\n",
       "      <td>NaN</td>\n",
       "      <td>Chris Bassolino</td>\n",
       "      <td>Co-Founder, Chief Operating Officer &amp; Director</td>\n",
       "      <td>NaN</td>\n",
       "      <td>NaN</td>\n",
       "      <td>2013.0</td>\n",
       "      <td>NaN</td>\n",
       "    </tr>\n",
       "  </tbody>\n",
       "</table>\n",
       "</div>"
      ],
      "text/plain": [
       "  Company ID Company Name HQ Post Code  \\\n",
       "0   61743-97     ZypMedia        94102   \n",
       "1  103815-64         Zype        10001   \n",
       "\n",
       "                                         Description  \\\n",
       "0  Developer of an online advertisement platform ...   \n",
       "1  Developer of a cloud platform for video publis...   \n",
       "\n",
       "      Primary Industry Code        HQ Location          Ownership Status  \\\n",
       "0  Social/Platform Software  San Francisco, CA  Privately Held (backing)   \n",
       "1  Social/Platform Software       New York, NY  Privately Held (backing)   \n",
       "\n",
       "  Company Financing Status                                   Active Investors  \\\n",
       "0   Venture Capital-Backed  Sinclair Broadcast Group, Sinclair Digital Ven...   \n",
       "1   Venture Capital-Backed  Alpine Meridian, Berlin Ventures, Bill Dolan, ...   \n",
       "\n",
       "            Website          HQ Email           HQ Phone  Primary Contact  \\\n",
       "0  www.zypmedia.com    info@extend.tv  +1 (415) 894-9181     Mark Goldman   \n",
       "1      www.zype.com  contact@zype.com                NaN  Chris Bassolino   \n",
       "\n",
       "                               Primary Contact Title Primary Contact Email  \\\n",
       "0  Co-Founder, Board Member & Chief Executive Off...    mgoldman@extend.tv   \n",
       "1     Co-Founder, Chief Operating Officer & Director                   NaN   \n",
       "\n",
       "  Primary Contact Phone  Year Founded  PitchBook Link  \n",
       "0     +1 (415) 894-9181        2013.0             NaN  \n",
       "1                   NaN        2013.0             NaN  "
      ]
     },
     "execution_count": 127,
     "metadata": {},
     "output_type": "execute_result"
    }
   ],
   "source": [
    "vc_general_info_df = pd.read_excel(\"../data/raw/CA_VC_PitchBook/Company_General_Information.xlsx\",header=6)\n",
    "vc_general_info_df.head(2)\n",
    "# interesting columns= Company ID (primary key), Description, Company Name, HQ Post Code, Primary Industry Code, Primary Contact, Year Founded"
   ]
  },
  {
   "cell_type": "code",
   "execution_count": 125,
   "metadata": {},
   "outputs": [
    {
     "name": "stdout",
     "output_type": "stream",
     "text": [
      "<class 'pandas.core.frame.DataFrame'>\n",
      "RangeIndex: 1025 entries, 0 to 1024\n",
      "Data columns (total 18 columns):\n",
      "Company ID                  1023 non-null object\n",
      "Company Name                1022 non-null object\n",
      "HQ Post Code                925 non-null object\n",
      "Description                 1000 non-null object\n",
      "Primary Industry Code       1000 non-null object\n",
      "HQ Location                 998 non-null object\n",
      "Ownership Status            1000 non-null object\n",
      "Company Financing Status    1000 non-null object\n",
      "Active Investors            966 non-null object\n",
      "Website                     983 non-null object\n",
      "HQ Email                    706 non-null object\n",
      "HQ Phone                    705 non-null object\n",
      "Primary Contact             980 non-null object\n",
      "Primary Contact Title       980 non-null object\n",
      "Primary Contact Email       871 non-null object\n",
      "Primary Contact Phone       723 non-null object\n",
      "Year Founded                970 non-null float64\n",
      "PitchBook Link              0 non-null float64\n",
      "dtypes: float64(2), object(16)\n",
      "memory usage: 144.2+ KB\n"
     ]
    }
   ],
   "source": [
    "vc_general_info.info()"
   ]
  },
  {
   "cell_type": "code",
   "execution_count": 130,
   "metadata": {},
   "outputs": [
    {
     "data": {
      "text/html": [
       "<div>\n",
       "<style>\n",
       "    .dataframe thead tr:only-child th {\n",
       "        text-align: right;\n",
       "    }\n",
       "\n",
       "    .dataframe thead th {\n",
       "        text-align: left;\n",
       "    }\n",
       "\n",
       "    .dataframe tbody tr th {\n",
       "        vertical-align: top;\n",
       "    }\n",
       "</style>\n",
       "<table border=\"1\" class=\"dataframe\">\n",
       "  <thead>\n",
       "    <tr style=\"text-align: right;\">\n",
       "      <th></th>\n",
       "      <th>Company ID</th>\n",
       "      <th>Company Name</th>\n",
       "      <th>Revenue</th>\n",
       "      <th>Growth Rate</th>\n",
       "      <th>Size Multiple</th>\n",
       "      <th>Last Financing Date</th>\n",
       "      <th>Last Financing Deal Type</th>\n",
       "      <th>Last Financing Deal Type 2</th>\n",
       "      <th>Last Financing Size</th>\n",
       "      <th>Last Financing Valuation</th>\n",
       "      <th>...</th>\n",
       "      <th>Ownership Status</th>\n",
       "      <th>Company Financing Status</th>\n",
       "      <th>Financing Status Note</th>\n",
       "      <th>Active Investors</th>\n",
       "      <th>Acquirers</th>\n",
       "      <th>Primary Industry Code</th>\n",
       "      <th>Description</th>\n",
       "      <th>HQ Location</th>\n",
       "      <th>Website</th>\n",
       "      <th>PitchBook Link</th>\n",
       "    </tr>\n",
       "  </thead>\n",
       "  <tbody>\n",
       "    <tr>\n",
       "      <th>0</th>\n",
       "      <td>61743-97</td>\n",
       "      <td>ZypMedia</td>\n",
       "      <td>NaN</td>\n",
       "      <td>0.000000</td>\n",
       "      <td>0.144068</td>\n",
       "      <td>2015-04-24</td>\n",
       "      <td>Early Stage VC</td>\n",
       "      <td>Series B</td>\n",
       "      <td>4.42</td>\n",
       "      <td>9.47</td>\n",
       "      <td>...</td>\n",
       "      <td>Privately Held (backing)</td>\n",
       "      <td>Venture Capital-Backed</td>\n",
       "      <td>The company raised $4.42 million of Series B v...</td>\n",
       "      <td>Sinclair Broadcast Group, Sinclair Digital Ven...</td>\n",
       "      <td>NaN</td>\n",
       "      <td>Social/Platform Software</td>\n",
       "      <td>Developer of an online advertisement platform ...</td>\n",
       "      <td>San Francisco, CA</td>\n",
       "      <td>www.zypmedia.com</td>\n",
       "      <td>NaN</td>\n",
       "    </tr>\n",
       "    <tr>\n",
       "      <th>1</th>\n",
       "      <td>103815-64</td>\n",
       "      <td>Zype</td>\n",
       "      <td>NaN</td>\n",
       "      <td>0.919952</td>\n",
       "      <td>9.045216</td>\n",
       "      <td>2016-08-01</td>\n",
       "      <td>Seed Round</td>\n",
       "      <td>Seed</td>\n",
       "      <td>3.60</td>\n",
       "      <td>10.05</td>\n",
       "      <td>...</td>\n",
       "      <td>Privately Held (backing)</td>\n",
       "      <td>Venture Capital-Backed</td>\n",
       "      <td>The company raised $3.6 million of seed ventur...</td>\n",
       "      <td>Alpine Meridian, Berlin Ventures, Bill Dolan, ...</td>\n",
       "      <td>NaN</td>\n",
       "      <td>Social/Platform Software</td>\n",
       "      <td>Developer of a cloud platform for video publis...</td>\n",
       "      <td>New York, NY</td>\n",
       "      <td>www.zype.com</td>\n",
       "      <td>NaN</td>\n",
       "    </tr>\n",
       "  </tbody>\n",
       "</table>\n",
       "<p>2 rows × 21 columns</p>\n",
       "</div>"
      ],
      "text/plain": [
       "  Company ID Company Name  Revenue  Growth Rate  Size Multiple  \\\n",
       "0   61743-97     ZypMedia      NaN     0.000000       0.144068   \n",
       "1  103815-64         Zype      NaN     0.919952       9.045216   \n",
       "\n",
       "  Last Financing Date Last Financing Deal Type Last Financing Deal Type 2   \\\n",
       "0          2015-04-24           Early Stage VC                    Series B   \n",
       "1          2016-08-01               Seed Round                        Seed   \n",
       "\n",
       "   Last Financing Size  Last Financing Valuation      ...        \\\n",
       "0                 4.42                      9.47      ...         \n",
       "1                 3.60                     10.05      ...         \n",
       "\n",
       "           Ownership Status Company Financing Status  \\\n",
       "0  Privately Held (backing)   Venture Capital-Backed   \n",
       "1  Privately Held (backing)   Venture Capital-Backed   \n",
       "\n",
       "                               Financing Status Note  \\\n",
       "0  The company raised $4.42 million of Series B v...   \n",
       "1  The company raised $3.6 million of seed ventur...   \n",
       "\n",
       "                                    Active Investors Acquirers  \\\n",
       "0  Sinclair Broadcast Group, Sinclair Digital Ven...       NaN   \n",
       "1  Alpine Meridian, Berlin Ventures, Bill Dolan, ...       NaN   \n",
       "\n",
       "      Primary Industry Code  \\\n",
       "0  Social/Platform Software   \n",
       "1  Social/Platform Software   \n",
       "\n",
       "                                         Description        HQ Location  \\\n",
       "0  Developer of an online advertisement platform ...  San Francisco, CA   \n",
       "1  Developer of a cloud platform for video publis...       New York, NY   \n",
       "\n",
       "            Website PitchBook Link  \n",
       "0  www.zypmedia.com            NaN  \n",
       "1      www.zype.com            NaN  \n",
       "\n",
       "[2 rows x 21 columns]"
      ]
     },
     "execution_count": 130,
     "metadata": {},
     "output_type": "execute_result"
    }
   ],
   "source": [
    "vc_last_financing_df = pd.read_excel(\"../data/raw/CA_VC_PitchBook/Last_Financing_Details.xlsx\",header=6)\n",
    "vc_last_financing_df .head(2)\n",
    "# interesting columns = Company ID ( primary key), Company Name, Growth Rate, Size Multiple, last financing date,\n",
    "# last financing Size, Last financing valuation, Last Financing Deal Type 2\n",
    "\n",
    "# Note : Only want series A or later, filter OUT the seed rounds"
   ]
  },
  {
   "cell_type": "code",
   "execution_count": 131,
   "metadata": {},
   "outputs": [
    {
     "name": "stdout",
     "output_type": "stream",
     "text": [
      "<class 'pandas.core.frame.DataFrame'>\n",
      "RangeIndex: 1025 entries, 0 to 1024\n",
      "Data columns (total 21 columns):\n",
      "Company ID                     1023 non-null object\n",
      "Company Name                   1022 non-null object\n",
      "Revenue                        113 non-null float64\n",
      "Growth Rate                    957 non-null float64\n",
      "Size Multiple                  957 non-null float64\n",
      "Last Financing Date            869 non-null datetime64[ns]\n",
      "Last Financing Deal Type       994 non-null object\n",
      "Last Financing Deal Type 2     585 non-null object\n",
      "Last Financing Size            695 non-null float64\n",
      "Last Financing Valuation       352 non-null float64\n",
      "Last Financing Status          994 non-null object\n",
      "Ownership Status               1000 non-null object\n",
      "Company Financing Status       1000 non-null object\n",
      "Financing Status Note          997 non-null object\n",
      "Active Investors               966 non-null object\n",
      "Acquirers                      1 non-null object\n",
      "Primary Industry Code          1000 non-null object\n",
      "Description                    1000 non-null object\n",
      "HQ Location                    998 non-null object\n",
      "Website                        983 non-null object\n",
      "PitchBook Link                 0 non-null float64\n",
      "dtypes: datetime64[ns](1), float64(6), object(14)\n",
      "memory usage: 168.2+ KB\n"
     ]
    }
   ],
   "source": [
    "vc_last_financing_df.info()"
   ]
  },
  {
   "cell_type": "code",
   "execution_count": 135,
   "metadata": {},
   "outputs": [
    {
     "data": {
      "text/html": [
       "<div>\n",
       "<style>\n",
       "    .dataframe thead tr:only-child th {\n",
       "        text-align: right;\n",
       "    }\n",
       "\n",
       "    .dataframe thead th {\n",
       "        text-align: left;\n",
       "    }\n",
       "\n",
       "    .dataframe tbody tr th {\n",
       "        vertical-align: top;\n",
       "    }\n",
       "</style>\n",
       "<table border=\"1\" class=\"dataframe\">\n",
       "  <thead>\n",
       "    <tr style=\"text-align: right;\">\n",
       "      <th></th>\n",
       "      <th>Company ID</th>\n",
       "      <th>Company Name</th>\n",
       "      <th>Exchange</th>\n",
       "      <th>Ticker</th>\n",
       "      <th>Fiscal Period</th>\n",
       "      <th>Revenue</th>\n",
       "      <th>Gross Profit</th>\n",
       "      <th>EBITDA</th>\n",
       "      <th>Net Income</th>\n",
       "      <th>Enterprise Value</th>\n",
       "      <th>Ownership Status</th>\n",
       "      <th>Company Financing Status</th>\n",
       "      <th>Last Financing Date</th>\n",
       "      <th>Last Financing Deal Type</th>\n",
       "      <th>Last Financing Size</th>\n",
       "      <th>PitchBook Link</th>\n",
       "    </tr>\n",
       "  </thead>\n",
       "  <tbody>\n",
       "    <tr>\n",
       "      <th>0</th>\n",
       "      <td>61743-97</td>\n",
       "      <td>ZypMedia</td>\n",
       "      <td>NaN</td>\n",
       "      <td>NaN</td>\n",
       "      <td>NaN</td>\n",
       "      <td>NaN</td>\n",
       "      <td>NaN</td>\n",
       "      <td>NaN</td>\n",
       "      <td>NaN</td>\n",
       "      <td>NaN</td>\n",
       "      <td>Privately Held (backing)</td>\n",
       "      <td>Venture Capital-Backed</td>\n",
       "      <td>2015-04-24</td>\n",
       "      <td>Early Stage VC</td>\n",
       "      <td>4.42</td>\n",
       "      <td>NaN</td>\n",
       "    </tr>\n",
       "    <tr>\n",
       "      <th>1</th>\n",
       "      <td>103815-64</td>\n",
       "      <td>Zype</td>\n",
       "      <td>NaN</td>\n",
       "      <td>NaN</td>\n",
       "      <td>NaN</td>\n",
       "      <td>NaN</td>\n",
       "      <td>NaN</td>\n",
       "      <td>NaN</td>\n",
       "      <td>NaN</td>\n",
       "      <td>NaN</td>\n",
       "      <td>Privately Held (backing)</td>\n",
       "      <td>Venture Capital-Backed</td>\n",
       "      <td>2016-08-01</td>\n",
       "      <td>Seed Round</td>\n",
       "      <td>3.60</td>\n",
       "      <td>NaN</td>\n",
       "    </tr>\n",
       "  </tbody>\n",
       "</table>\n",
       "</div>"
      ],
      "text/plain": [
       "  Company ID Company Name Exchange Ticker Fiscal Period  Revenue  \\\n",
       "0   61743-97     ZypMedia      NaN    NaN           NaN      NaN   \n",
       "1  103815-64         Zype      NaN    NaN           NaN      NaN   \n",
       "\n",
       "   Gross Profit  EBITDA  Net Income  Enterprise Value  \\\n",
       "0           NaN     NaN         NaN               NaN   \n",
       "1           NaN     NaN         NaN               NaN   \n",
       "\n",
       "           Ownership Status Company Financing Status Last Financing Date  \\\n",
       "0  Privately Held (backing)   Venture Capital-Backed          2015-04-24   \n",
       "1  Privately Held (backing)   Venture Capital-Backed          2016-08-01   \n",
       "\n",
       "  Last Financing Deal Type  Last Financing Size  PitchBook Link  \n",
       "0           Early Stage VC                 4.42             NaN  \n",
       "1               Seed Round                 3.60             NaN  "
      ]
     },
     "execution_count": 135,
     "metadata": {},
     "output_type": "execute_result"
    }
   ],
   "source": [
    "vc_company_financials_df = pd.read_excel(\"../data/raw/CA_VC_PitchBook/Public_Company_Financials.xlsx\",header=6)\n",
    "vc_company_financials_df.head(2)\n",
    "# Interesting columns are NOTHING"
   ]
  },
  {
   "cell_type": "code",
   "execution_count": 134,
   "metadata": {},
   "outputs": [
    {
     "name": "stdout",
     "output_type": "stream",
     "text": [
      "<class 'pandas.core.frame.DataFrame'>\n",
      "RangeIndex: 1025 entries, 0 to 1024\n",
      "Data columns (total 16 columns):\n",
      "Company ID                  1023 non-null object\n",
      "Company Name                1022 non-null object\n",
      "Exchange                    1 non-null object\n",
      "Ticker                      1 non-null object\n",
      "Fiscal Period               122 non-null object\n",
      "Revenue                     113 non-null float64\n",
      "Gross Profit                7 non-null float64\n",
      "EBITDA                      19 non-null float64\n",
      "Net Income                  28 non-null float64\n",
      "Enterprise Value            2 non-null float64\n",
      "Ownership Status            1000 non-null object\n",
      "Company Financing Status    1000 non-null object\n",
      "Last Financing Date         869 non-null datetime64[ns]\n",
      "Last Financing Deal Type    994 non-null object\n",
      "Last Financing Size         695 non-null float64\n",
      "PitchBook Link              0 non-null float64\n",
      "dtypes: datetime64[ns](1), float64(7), object(8)\n",
      "memory usage: 128.2+ KB\n"
     ]
    }
   ],
   "source": [
    "vc_company_financials_df.info()"
   ]
  },
  {
   "cell_type": "code",
   "execution_count": 138,
   "metadata": {},
   "outputs": [
    {
     "data": {
      "text/html": [
       "<div>\n",
       "<style>\n",
       "    .dataframe thead tr:only-child th {\n",
       "        text-align: right;\n",
       "    }\n",
       "\n",
       "    .dataframe thead th {\n",
       "        text-align: left;\n",
       "    }\n",
       "\n",
       "    .dataframe tbody tr th {\n",
       "        vertical-align: top;\n",
       "    }\n",
       "</style>\n",
       "<table border=\"1\" class=\"dataframe\">\n",
       "  <thead>\n",
       "    <tr style=\"text-align: right;\">\n",
       "      <th></th>\n",
       "      <th>Company ID</th>\n",
       "      <th>Company Name</th>\n",
       "      <th>Growth Rate</th>\n",
       "      <th>Size Multiple</th>\n",
       "      <th>Compete Unique Visitors</th>\n",
       "      <th>Majestic Referring Domains</th>\n",
       "      <th>Facebook Likes</th>\n",
       "      <th>Twitter Followers</th>\n",
       "      <th>Employees</th>\n",
       "      <th>Total Raised</th>\n",
       "      <th>Primary Industry Code</th>\n",
       "      <th>Description</th>\n",
       "      <th>Active Investors</th>\n",
       "      <th>Company Financing Status</th>\n",
       "      <th>Ownership Status</th>\n",
       "      <th>HQ Location</th>\n",
       "      <th>Website</th>\n",
       "      <th>PitchBook Link</th>\n",
       "    </tr>\n",
       "  </thead>\n",
       "  <tbody>\n",
       "    <tr>\n",
       "      <th>0</th>\n",
       "      <td>61743-97</td>\n",
       "      <td>ZypMedia</td>\n",
       "      <td>0.000000</td>\n",
       "      <td>0.144068</td>\n",
       "      <td>NaN</td>\n",
       "      <td>NaN</td>\n",
       "      <td>NaN</td>\n",
       "      <td>51.0</td>\n",
       "      <td>12.0</td>\n",
       "      <td>6.82</td>\n",
       "      <td>Social/Platform Software</td>\n",
       "      <td>Developer of an online advertisement platform ...</td>\n",
       "      <td>Sinclair Broadcast Group, Sinclair Digital Ven...</td>\n",
       "      <td>Venture Capital-Backed</td>\n",
       "      <td>Privately Held (backing)</td>\n",
       "      <td>San Francisco, CA</td>\n",
       "      <td>www.zypmedia.com</td>\n",
       "      <td>NaN</td>\n",
       "    </tr>\n",
       "    <tr>\n",
       "      <th>1</th>\n",
       "      <td>103815-64</td>\n",
       "      <td>Zype</td>\n",
       "      <td>0.919952</td>\n",
       "      <td>9.045216</td>\n",
       "      <td>NaN</td>\n",
       "      <td>188.0</td>\n",
       "      <td>1904.0</td>\n",
       "      <td>8352.0</td>\n",
       "      <td>11.0</td>\n",
       "      <td>3.60</td>\n",
       "      <td>Social/Platform Software</td>\n",
       "      <td>Developer of a cloud platform for video publis...</td>\n",
       "      <td>Alpine Meridian, Berlin Ventures, Bill Dolan, ...</td>\n",
       "      <td>Venture Capital-Backed</td>\n",
       "      <td>Privately Held (backing)</td>\n",
       "      <td>New York, NY</td>\n",
       "      <td>www.zype.com</td>\n",
       "      <td>NaN</td>\n",
       "    </tr>\n",
       "  </tbody>\n",
       "</table>\n",
       "</div>"
      ],
      "text/plain": [
       "  Company ID Company Name  Growth Rate  Size Multiple  \\\n",
       "0   61743-97     ZypMedia     0.000000       0.144068   \n",
       "1  103815-64         Zype     0.919952       9.045216   \n",
       "\n",
       "   Compete Unique Visitors  Majestic Referring Domains  Facebook Likes  \\\n",
       "0                      NaN                         NaN             NaN   \n",
       "1                      NaN                       188.0          1904.0   \n",
       "\n",
       "   Twitter Followers  Employees  Total Raised     Primary Industry Code  \\\n",
       "0               51.0       12.0          6.82  Social/Platform Software   \n",
       "1             8352.0       11.0          3.60  Social/Platform Software   \n",
       "\n",
       "                                         Description  \\\n",
       "0  Developer of an online advertisement platform ...   \n",
       "1  Developer of a cloud platform for video publis...   \n",
       "\n",
       "                                    Active Investors Company Financing Status  \\\n",
       "0  Sinclair Broadcast Group, Sinclair Digital Ven...   Venture Capital-Backed   \n",
       "1  Alpine Meridian, Berlin Ventures, Bill Dolan, ...   Venture Capital-Backed   \n",
       "\n",
       "           Ownership Status        HQ Location           Website  \\\n",
       "0  Privately Held (backing)  San Francisco, CA  www.zypmedia.com   \n",
       "1  Privately Held (backing)       New York, NY      www.zype.com   \n",
       "\n",
       "   PitchBook Link  \n",
       "0             NaN  \n",
       "1             NaN  "
      ]
     },
     "execution_count": 138,
     "metadata": {},
     "output_type": "execute_result"
    }
   ],
   "source": [
    "vc_social_web_df =  pd.read_excel(\"../data/raw/CA_VC_PitchBook/Social_and_Web_Presence.xlsx\",header=6)\n",
    "vc_social_web_df.head(2)\n",
    "# interesting columns = company id (primary key), company name, growth rate, size multiple, majestic referring domains\n",
    "# facebook likes, Tiwtter followers, Employees, Total raised"
   ]
  },
  {
   "cell_type": "code",
   "execution_count": 137,
   "metadata": {},
   "outputs": [
    {
     "name": "stdout",
     "output_type": "stream",
     "text": [
      "<class 'pandas.core.frame.DataFrame'>\n",
      "RangeIndex: 1025 entries, 0 to 1024\n",
      "Data columns (total 18 columns):\n",
      "Company ID                    1023 non-null object\n",
      "Company Name                  1022 non-null object\n",
      "Growth Rate                   957 non-null float64\n",
      "Size Multiple                 957 non-null float64\n",
      "Compete Unique Visitors       0 non-null float64\n",
      "Majestic Referring Domains    881 non-null float64\n",
      "Facebook Likes                731 non-null float64\n",
      "Twitter Followers             806 non-null float64\n",
      "Employees                     839 non-null float64\n",
      "Total Raised                  818 non-null float64\n",
      "Primary Industry Code         1000 non-null object\n",
      "Description                   1000 non-null object\n",
      "Active Investors              966 non-null object\n",
      "Company Financing Status      1000 non-null object\n",
      "Ownership Status              1000 non-null object\n",
      "HQ Location                   998 non-null object\n",
      "Website                       983 non-null object\n",
      "PitchBook Link                0 non-null float64\n",
      "dtypes: float64(9), object(9)\n",
      "memory usage: 144.2+ KB\n"
     ]
    }
   ],
   "source": [
    "vc_social_web_df.info()"
   ]
  },
  {
   "cell_type": "markdown",
   "metadata": {},
   "source": [
    "# Join these four dataframes into one"
   ]
  },
  {
   "cell_type": "code",
   "execution_count": 318,
   "metadata": {
    "collapsed": true
   },
   "outputs": [],
   "source": [
    "vc_general_info_colDrop_df = vc_general_info_df[[\"Company ID\", \"Description\", \"Company Name\", \"HQ Post Code\", \"Primary Industry Code\",\n",
    "                                         \"Primary Contact\", \"Year Founded\"]]"
   ]
  },
  {
   "cell_type": "code",
   "execution_count": 319,
   "metadata": {},
   "outputs": [],
   "source": [
    "vc_last_financing_colDrop_df =vc_last_financing_df[[\"Company ID\",\"Company Name\", \"Growth Rate\", \"Size Multiple\",\n",
    "                                    \"Last Financing Date\",\"Last Financing Size\",\"Last Financing Valuation\",\n",
    "                                                   \"Last Financing Deal Type 2 \"]]"
   ]
  },
  {
   "cell_type": "code",
   "execution_count": 320,
   "metadata": {},
   "outputs": [],
   "source": [
    "vc_social_web_colDrop_df  =vc_social_web_df [[\"Company ID\", \"Company Name\", \"Growth Rate\", \n",
    "                                              \"Size Multiple\", \"Majestic Referring Domains\",\n",
    "        \"Facebook Likes\", \"Twitter Followers\", \"Employees\", \"Total Raised\"]]"
   ]
  },
  {
   "cell_type": "code",
   "execution_count": 321,
   "metadata": {},
   "outputs": [],
   "source": [
    "final_vc_df = vc_general_info_colDrop_df.merge(vc_last_financing_colDrop_df, on='Company ID').merge(vc_social_web_colDrop_df, \n",
    "                                                                                     on='Company ID')"
   ]
  },
  {
   "cell_type": "code",
   "execution_count": 322,
   "metadata": {},
   "outputs": [
    {
     "data": {
      "text/plain": [
       "Index(['Company ID', 'Description', 'Company Name_x', 'HQ Post Code',\n",
       "       'Primary Industry Code', 'Primary Contact', 'Year Founded',\n",
       "       'Company Name_y', 'Growth Rate_x', 'Size Multiple_x',\n",
       "       'Last Financing Date', 'Last Financing Size',\n",
       "       'Last Financing Valuation', 'Last Financing Deal Type 2 ',\n",
       "       'Company Name', 'Growth Rate_y', 'Size Multiple_y',\n",
       "       'Majestic Referring Domains', 'Facebook Likes', 'Twitter Followers',\n",
       "       'Employees', 'Total Raised'],\n",
       "      dtype='object')"
      ]
     },
     "execution_count": 322,
     "metadata": {},
     "output_type": "execute_result"
    }
   ],
   "source": [
    "final_vc_df .columns"
   ]
  },
  {
   "cell_type": "code",
   "execution_count": 323,
   "metadata": {},
   "outputs": [],
   "source": [
    "final_vc_df .drop(['Company Name_y',\n",
    "                  'Growth Rate_y','Size Multiple_y'],axis=1,inplace=True)"
   ]
  },
  {
   "cell_type": "code",
   "execution_count": 324,
   "metadata": {},
   "outputs": [],
   "source": [
    "final_vc_df.rename(columns={'Growth Rate_x':'Growth Rate',\"Size Multiple_x\":'Size Multiple',\n",
    "                           \"Company Name_x\":\"Company Name\"},inplace=True) # rename cols"
   ]
  },
  {
   "cell_type": "code",
   "execution_count": 325,
   "metadata": {},
   "outputs": [
    {
     "data": {
      "text/html": [
       "<div>\n",
       "<style>\n",
       "    .dataframe thead tr:only-child th {\n",
       "        text-align: right;\n",
       "    }\n",
       "\n",
       "    .dataframe thead th {\n",
       "        text-align: left;\n",
       "    }\n",
       "\n",
       "    .dataframe tbody tr th {\n",
       "        vertical-align: top;\n",
       "    }\n",
       "</style>\n",
       "<table border=\"1\" class=\"dataframe\">\n",
       "  <thead>\n",
       "    <tr style=\"text-align: right;\">\n",
       "      <th></th>\n",
       "      <th>Company ID</th>\n",
       "      <th>Description</th>\n",
       "      <th>Company Name</th>\n",
       "      <th>HQ Post Code</th>\n",
       "      <th>Primary Industry Code</th>\n",
       "      <th>Primary Contact</th>\n",
       "      <th>Year Founded</th>\n",
       "      <th>Growth Rate</th>\n",
       "      <th>Size Multiple</th>\n",
       "      <th>Last Financing Date</th>\n",
       "      <th>Last Financing Size</th>\n",
       "      <th>Last Financing Valuation</th>\n",
       "      <th>Last Financing Deal Type 2</th>\n",
       "      <th>Company Name</th>\n",
       "      <th>Majestic Referring Domains</th>\n",
       "      <th>Facebook Likes</th>\n",
       "      <th>Twitter Followers</th>\n",
       "      <th>Employees</th>\n",
       "      <th>Total Raised</th>\n",
       "    </tr>\n",
       "  </thead>\n",
       "  <tbody>\n",
       "    <tr>\n",
       "      <th>0</th>\n",
       "      <td>61743-97</td>\n",
       "      <td>Developer of an online advertisement platform ...</td>\n",
       "      <td>ZypMedia</td>\n",
       "      <td>94102</td>\n",
       "      <td>Social/Platform Software</td>\n",
       "      <td>Mark Goldman</td>\n",
       "      <td>2013.0</td>\n",
       "      <td>0.000000</td>\n",
       "      <td>0.144068</td>\n",
       "      <td>2015-04-24</td>\n",
       "      <td>4.42</td>\n",
       "      <td>9.47</td>\n",
       "      <td>Series B</td>\n",
       "      <td>ZypMedia</td>\n",
       "      <td>NaN</td>\n",
       "      <td>NaN</td>\n",
       "      <td>51.0</td>\n",
       "      <td>12.0</td>\n",
       "      <td>6.82</td>\n",
       "    </tr>\n",
       "    <tr>\n",
       "      <th>1</th>\n",
       "      <td>103815-64</td>\n",
       "      <td>Developer of a cloud platform for video publis...</td>\n",
       "      <td>Zype</td>\n",
       "      <td>10001</td>\n",
       "      <td>Social/Platform Software</td>\n",
       "      <td>Chris Bassolino</td>\n",
       "      <td>2013.0</td>\n",
       "      <td>0.919952</td>\n",
       "      <td>9.045216</td>\n",
       "      <td>2016-08-01</td>\n",
       "      <td>3.60</td>\n",
       "      <td>10.05</td>\n",
       "      <td>Seed</td>\n",
       "      <td>Zype</td>\n",
       "      <td>188.0</td>\n",
       "      <td>1904.0</td>\n",
       "      <td>8352.0</td>\n",
       "      <td>11.0</td>\n",
       "      <td>3.60</td>\n",
       "    </tr>\n",
       "  </tbody>\n",
       "</table>\n",
       "</div>"
      ],
      "text/plain": [
       "  Company ID                                        Description Company Name  \\\n",
       "0   61743-97  Developer of an online advertisement platform ...     ZypMedia   \n",
       "1  103815-64  Developer of a cloud platform for video publis...         Zype   \n",
       "\n",
       "  HQ Post Code     Primary Industry Code  Primary Contact  Year Founded  \\\n",
       "0        94102  Social/Platform Software     Mark Goldman        2013.0   \n",
       "1        10001  Social/Platform Software  Chris Bassolino        2013.0   \n",
       "\n",
       "   Growth Rate  Size Multiple Last Financing Date  Last Financing Size  \\\n",
       "0     0.000000       0.144068          2015-04-24                 4.42   \n",
       "1     0.919952       9.045216          2016-08-01                 3.60   \n",
       "\n",
       "   Last Financing Valuation Last Financing Deal Type 2  Company Name  \\\n",
       "0                      9.47                    Series B     ZypMedia   \n",
       "1                     10.05                        Seed         Zype   \n",
       "\n",
       "   Majestic Referring Domains  Facebook Likes  Twitter Followers  Employees  \\\n",
       "0                         NaN             NaN               51.0       12.0   \n",
       "1                       188.0          1904.0             8352.0       11.0   \n",
       "\n",
       "   Total Raised  \n",
       "0          6.82  \n",
       "1          3.60  "
      ]
     },
     "execution_count": 325,
     "metadata": {},
     "output_type": "execute_result"
    }
   ],
   "source": [
    "final_vc_df.head(2)"
   ]
  },
  {
   "cell_type": "markdown",
   "metadata": {},
   "source": [
    "### Filter out the seed rounds"
   ]
  },
  {
   "cell_type": "code",
   "execution_count": 326,
   "metadata": {},
   "outputs": [
    {
     "data": {
      "text/plain": [
       "array(['Series B', 'Seed', 'Series B2', nan, 'Series A', 'Series B1',\n",
       "       'Series D', 'Series C', 'Series A1', 'Series E', 'Series A2',\n",
       "       'Angel', 'Corporate', 'Senior Debt', 'Series 2', 'Series 1',\n",
       "       'Add-on', 'Loan', 'Series CC', 'Series F', 'Acquisition Financing',\n",
       "       'Series G', 'Revolving Credit Line', 'Series C3', 'Series 3',\n",
       "       'Series AA', 'Series B3', 'Subordinated Debt', 'Series C1'], dtype=object)"
      ]
     },
     "execution_count": 326,
     "metadata": {},
     "output_type": "execute_result"
    }
   ],
   "source": [
    "final_vc_df['Last Financing Deal Type 2 '].unique()"
   ]
  },
  {
   "cell_type": "code",
   "execution_count": 327,
   "metadata": {},
   "outputs": [],
   "source": [
    "final_vc_financeTypeFilter_df = final_vc_df.loc[(final_vc_df['Last Financing Deal Type 2 ']!='Seed') & \n",
    "                (final_vc_df['Last Financing Deal Type 2 ']!='Angel'),: ]"
   ]
  },
  {
   "cell_type": "code",
   "execution_count": 328,
   "metadata": {},
   "outputs": [
    {
     "name": "stdout",
     "output_type": "stream",
     "text": [
      "<class 'pandas.core.frame.DataFrame'>\n",
      "Int64Index: 844 entries, 0 to 1030\n",
      "Data columns (total 19 columns):\n",
      "Company ID                     836 non-null object\n",
      "Description                    813 non-null object\n",
      "Company Name                   835 non-null object\n",
      "HQ Post Code                   760 non-null object\n",
      "Primary Industry Code          813 non-null object\n",
      "Primary Contact                799 non-null object\n",
      "Year Founded                   792 non-null float64\n",
      "Growth Rate                    780 non-null float64\n",
      "Size Multiple                  780 non-null float64\n",
      "Last Financing Date            693 non-null datetime64[ns]\n",
      "Last Financing Size            558 non-null float64\n",
      "Last Financing Valuation       292 non-null float64\n",
      "Last Financing Deal Type 2     398 non-null object\n",
      "Company Name                   835 non-null object\n",
      "Majestic Referring Domains     723 non-null float64\n",
      "Facebook Likes                 601 non-null float64\n",
      "Twitter Followers              650 non-null float64\n",
      "Employees                      691 non-null float64\n",
      "Total Raised                   667 non-null float64\n",
      "dtypes: datetime64[ns](1), float64(10), object(8)\n",
      "memory usage: 131.9+ KB\n"
     ]
    }
   ],
   "source": [
    "final_vc_financeTypeFilter_df.info()"
   ]
  },
  {
   "cell_type": "code",
   "execution_count": 329,
   "metadata": {},
   "outputs": [
    {
     "data": {
      "text/html": [
       "<div>\n",
       "<style>\n",
       "    .dataframe thead tr:only-child th {\n",
       "        text-align: right;\n",
       "    }\n",
       "\n",
       "    .dataframe thead th {\n",
       "        text-align: left;\n",
       "    }\n",
       "\n",
       "    .dataframe tbody tr th {\n",
       "        vertical-align: top;\n",
       "    }\n",
       "</style>\n",
       "<table border=\"1\" class=\"dataframe\">\n",
       "  <thead>\n",
       "    <tr style=\"text-align: right;\">\n",
       "      <th></th>\n",
       "      <th>Company ID</th>\n",
       "      <th>Description</th>\n",
       "      <th>Company Name</th>\n",
       "      <th>HQ Post Code</th>\n",
       "      <th>Primary Industry Code</th>\n",
       "      <th>Primary Contact</th>\n",
       "      <th>Year Founded</th>\n",
       "      <th>Growth Rate</th>\n",
       "      <th>Size Multiple</th>\n",
       "      <th>Last Financing Date</th>\n",
       "      <th>Last Financing Size</th>\n",
       "      <th>Last Financing Valuation</th>\n",
       "      <th>Last Financing Deal Type 2</th>\n",
       "      <th>Company Name</th>\n",
       "      <th>Majestic Referring Domains</th>\n",
       "      <th>Facebook Likes</th>\n",
       "      <th>Twitter Followers</th>\n",
       "      <th>Employees</th>\n",
       "      <th>Total Raised</th>\n",
       "    </tr>\n",
       "  </thead>\n",
       "  <tbody>\n",
       "    <tr>\n",
       "      <th>0</th>\n",
       "      <td>61743-97</td>\n",
       "      <td>Developer of an online advertisement platform ...</td>\n",
       "      <td>ZypMedia</td>\n",
       "      <td>94102</td>\n",
       "      <td>Social/Platform Software</td>\n",
       "      <td>Mark Goldman</td>\n",
       "      <td>2013.0</td>\n",
       "      <td>0.0</td>\n",
       "      <td>0.144068</td>\n",
       "      <td>2015-04-24</td>\n",
       "      <td>4.42</td>\n",
       "      <td>9.47</td>\n",
       "      <td>Series B</td>\n",
       "      <td>ZypMedia</td>\n",
       "      <td>NaN</td>\n",
       "      <td>NaN</td>\n",
       "      <td>51.0</td>\n",
       "      <td>12.0</td>\n",
       "      <td>6.82</td>\n",
       "    </tr>\n",
       "    <tr>\n",
       "      <th>2</th>\n",
       "      <td>60184-09</td>\n",
       "      <td>Developer of non-invasive sensors for laborato...</td>\n",
       "      <td>Zyomed</td>\n",
       "      <td>91011</td>\n",
       "      <td>Diagnostic Equipment</td>\n",
       "      <td>Sandeep Gulati</td>\n",
       "      <td>2007.0</td>\n",
       "      <td>0.0</td>\n",
       "      <td>0.054054</td>\n",
       "      <td>2016-05-17</td>\n",
       "      <td>10.61</td>\n",
       "      <td>132.61</td>\n",
       "      <td>Series B2</td>\n",
       "      <td>Zyomed</td>\n",
       "      <td>2.0</td>\n",
       "      <td>NaN</td>\n",
       "      <td>NaN</td>\n",
       "      <td>NaN</td>\n",
       "      <td>23.11</td>\n",
       "    </tr>\n",
       "  </tbody>\n",
       "</table>\n",
       "</div>"
      ],
      "text/plain": [
       "  Company ID                                        Description Company Name  \\\n",
       "0   61743-97  Developer of an online advertisement platform ...     ZypMedia   \n",
       "2   60184-09  Developer of non-invasive sensors for laborato...       Zyomed   \n",
       "\n",
       "  HQ Post Code     Primary Industry Code Primary Contact  Year Founded  \\\n",
       "0        94102  Social/Platform Software    Mark Goldman        2013.0   \n",
       "2        91011      Diagnostic Equipment  Sandeep Gulati        2007.0   \n",
       "\n",
       "   Growth Rate  Size Multiple Last Financing Date  Last Financing Size  \\\n",
       "0          0.0       0.144068          2015-04-24                 4.42   \n",
       "2          0.0       0.054054          2016-05-17                10.61   \n",
       "\n",
       "   Last Financing Valuation Last Financing Deal Type 2  Company Name  \\\n",
       "0                      9.47                    Series B     ZypMedia   \n",
       "2                    132.61                   Series B2       Zyomed   \n",
       "\n",
       "   Majestic Referring Domains  Facebook Likes  Twitter Followers  Employees  \\\n",
       "0                         NaN             NaN               51.0       12.0   \n",
       "2                         2.0             NaN                NaN        NaN   \n",
       "\n",
       "   Total Raised  \n",
       "0          6.82  \n",
       "2         23.11  "
      ]
     },
     "execution_count": 329,
     "metadata": {},
     "output_type": "execute_result"
    }
   ],
   "source": [
    "final_vc_financeTypeFilter_df.head(2)"
   ]
  },
  {
   "cell_type": "markdown",
   "metadata": {},
   "source": [
    "# Drop companies missing the zip code, year founded, and primary contact\n",
    "- Can't impute this"
   ]
  },
  {
   "cell_type": "code",
   "execution_count": 330,
   "metadata": {},
   "outputs": [],
   "source": [
    "final_vc_dropFinanceZipYear_df = final_vc_financeTypeFilter_df.loc[\n",
    "    (final_vc_financeTypeFilter_df['HQ Post Code'].isnull()==False) &\n",
    "    (final_vc_financeTypeFilter_df['Year Founded'].isnull()==False) &\n",
    "    (final_vc_financeTypeFilter_df['Primary Contact'].isnull()==False),: ]"
   ]
  },
  {
   "cell_type": "code",
   "execution_count": 331,
   "metadata": {},
   "outputs": [
    {
     "name": "stdout",
     "output_type": "stream",
     "text": [
      "<class 'pandas.core.frame.DataFrame'>\n",
      "Int64Index: 733 entries, 0 to 1021\n",
      "Data columns (total 19 columns):\n",
      "Company ID                     733 non-null object\n",
      "Description                    733 non-null object\n",
      "Company Name                   733 non-null object\n",
      "HQ Post Code                   733 non-null object\n",
      "Primary Industry Code          733 non-null object\n",
      "Primary Contact                733 non-null object\n",
      "Year Founded                   733 non-null float64\n",
      "Growth Rate                    709 non-null float64\n",
      "Size Multiple                  709 non-null float64\n",
      "Last Financing Date            635 non-null datetime64[ns]\n",
      "Last Financing Size            518 non-null float64\n",
      "Last Financing Valuation       272 non-null float64\n",
      "Last Financing Deal Type 2     366 non-null object\n",
      "Company Name                   733 non-null object\n",
      "Majestic Referring Domains     656 non-null float64\n",
      "Facebook Likes                 555 non-null float64\n",
      "Twitter Followers              598 non-null float64\n",
      "Employees                      648 non-null float64\n",
      "Total Raised                   614 non-null float64\n",
      "dtypes: datetime64[ns](1), float64(10), object(8)\n",
      "memory usage: 114.5+ KB\n"
     ]
    }
   ],
   "source": [
    "final_vc_dropFinanceZipYear_df .info()"
   ]
  },
  {
   "cell_type": "code",
   "execution_count": 332,
   "metadata": {},
   "outputs": [
    {
     "data": {
      "text/html": [
       "<div>\n",
       "<style>\n",
       "    .dataframe thead tr:only-child th {\n",
       "        text-align: right;\n",
       "    }\n",
       "\n",
       "    .dataframe thead th {\n",
       "        text-align: left;\n",
       "    }\n",
       "\n",
       "    .dataframe tbody tr th {\n",
       "        vertical-align: top;\n",
       "    }\n",
       "</style>\n",
       "<table border=\"1\" class=\"dataframe\">\n",
       "  <thead>\n",
       "    <tr style=\"text-align: right;\">\n",
       "      <th></th>\n",
       "      <th>Year Founded</th>\n",
       "      <th>Growth Rate</th>\n",
       "      <th>Size Multiple</th>\n",
       "      <th>Last Financing Size</th>\n",
       "      <th>Last Financing Valuation</th>\n",
       "      <th>Majestic Referring Domains</th>\n",
       "      <th>Facebook Likes</th>\n",
       "      <th>Twitter Followers</th>\n",
       "      <th>Employees</th>\n",
       "      <th>Total Raised</th>\n",
       "    </tr>\n",
       "  </thead>\n",
       "  <tbody>\n",
       "    <tr>\n",
       "      <th>count</th>\n",
       "      <td>733.000000</td>\n",
       "      <td>709.000000</td>\n",
       "      <td>709.000000</td>\n",
       "      <td>518.000000</td>\n",
       "      <td>272.000000</td>\n",
       "      <td>656.000000</td>\n",
       "      <td>5.550000e+02</td>\n",
       "      <td>598.000000</td>\n",
       "      <td>648.000000</td>\n",
       "      <td>614.000000</td>\n",
       "    </tr>\n",
       "    <tr>\n",
       "      <th>mean</th>\n",
       "      <td>2009.028649</td>\n",
       "      <td>0.428218</td>\n",
       "      <td>80.120564</td>\n",
       "      <td>25.845000</td>\n",
       "      <td>237.640882</td>\n",
       "      <td>1941.554878</td>\n",
       "      <td>1.896565e+05</td>\n",
       "      <td>13760.147157</td>\n",
       "      <td>134.146605</td>\n",
       "      <td>62.852785</td>\n",
       "    </tr>\n",
       "    <tr>\n",
       "      <th>std</th>\n",
       "      <td>7.209625</td>\n",
       "      <td>1.262782</td>\n",
       "      <td>615.563496</td>\n",
       "      <td>121.737093</td>\n",
       "      <td>1179.235327</td>\n",
       "      <td>17991.973626</td>\n",
       "      <td>1.957759e+06</td>\n",
       "      <td>65343.708872</td>\n",
       "      <td>655.558765</td>\n",
       "      <td>602.658726</td>\n",
       "    </tr>\n",
       "    <tr>\n",
       "      <th>min</th>\n",
       "      <td>1903.000000</td>\n",
       "      <td>-6.928121</td>\n",
       "      <td>0.007453</td>\n",
       "      <td>0.010000</td>\n",
       "      <td>0.170000</td>\n",
       "      <td>1.000000</td>\n",
       "      <td>1.000000e+00</td>\n",
       "      <td>1.000000</td>\n",
       "      <td>1.000000</td>\n",
       "      <td>0.020000</td>\n",
       "    </tr>\n",
       "    <tr>\n",
       "      <th>25%</th>\n",
       "      <td>2007.000000</td>\n",
       "      <td>0.000000</td>\n",
       "      <td>0.873353</td>\n",
       "      <td>2.000000</td>\n",
       "      <td>16.057500</td>\n",
       "      <td>30.750000</td>\n",
       "      <td>2.150000e+02</td>\n",
       "      <td>216.500000</td>\n",
       "      <td>11.000000</td>\n",
       "      <td>3.440000</td>\n",
       "    </tr>\n",
       "    <tr>\n",
       "      <th>50%</th>\n",
       "      <td>2011.000000</td>\n",
       "      <td>0.042641</td>\n",
       "      <td>3.249337</td>\n",
       "      <td>6.000000</td>\n",
       "      <td>41.665000</td>\n",
       "      <td>115.500000</td>\n",
       "      <td>1.135000e+03</td>\n",
       "      <td>1098.000000</td>\n",
       "      <td>27.000000</td>\n",
       "      <td>11.185000</td>\n",
       "    </tr>\n",
       "    <tr>\n",
       "      <th>75%</th>\n",
       "      <td>2013.000000</td>\n",
       "      <td>0.511800</td>\n",
       "      <td>12.278546</td>\n",
       "      <td>16.000000</td>\n",
       "      <td>120.392500</td>\n",
       "      <td>424.500000</td>\n",
       "      <td>8.949500e+03</td>\n",
       "      <td>4656.250000</td>\n",
       "      <td>67.000000</td>\n",
       "      <td>36.325000</td>\n",
       "    </tr>\n",
       "    <tr>\n",
       "      <th>max</th>\n",
       "      <td>2016.000000</td>\n",
       "      <td>13.422807</td>\n",
       "      <td>13063.853941</td>\n",
       "      <td>2250.000000</td>\n",
       "      <td>18000.000000</td>\n",
       "      <td>440467.000000</td>\n",
       "      <td>4.187224e+07</td>\n",
       "      <td>769227.000000</td>\n",
       "      <td>12000.000000</td>\n",
       "      <td>14688.060000</td>\n",
       "    </tr>\n",
       "  </tbody>\n",
       "</table>\n",
       "</div>"
      ],
      "text/plain": [
       "       Year Founded  Growth Rate  Size Multiple  Last Financing Size  \\\n",
       "count    733.000000   709.000000     709.000000           518.000000   \n",
       "mean    2009.028649     0.428218      80.120564            25.845000   \n",
       "std        7.209625     1.262782     615.563496           121.737093   \n",
       "min     1903.000000    -6.928121       0.007453             0.010000   \n",
       "25%     2007.000000     0.000000       0.873353             2.000000   \n",
       "50%     2011.000000     0.042641       3.249337             6.000000   \n",
       "75%     2013.000000     0.511800      12.278546            16.000000   \n",
       "max     2016.000000    13.422807   13063.853941          2250.000000   \n",
       "\n",
       "       Last Financing Valuation  Majestic Referring Domains  Facebook Likes  \\\n",
       "count                272.000000                  656.000000    5.550000e+02   \n",
       "mean                 237.640882                 1941.554878    1.896565e+05   \n",
       "std                 1179.235327                17991.973626    1.957759e+06   \n",
       "min                    0.170000                    1.000000    1.000000e+00   \n",
       "25%                   16.057500                   30.750000    2.150000e+02   \n",
       "50%                   41.665000                  115.500000    1.135000e+03   \n",
       "75%                  120.392500                  424.500000    8.949500e+03   \n",
       "max                18000.000000               440467.000000    4.187224e+07   \n",
       "\n",
       "       Twitter Followers     Employees  Total Raised  \n",
       "count         598.000000    648.000000    614.000000  \n",
       "mean        13760.147157    134.146605     62.852785  \n",
       "std         65343.708872    655.558765    602.658726  \n",
       "min             1.000000      1.000000      0.020000  \n",
       "25%           216.500000     11.000000      3.440000  \n",
       "50%          1098.000000     27.000000     11.185000  \n",
       "75%          4656.250000     67.000000     36.325000  \n",
       "max        769227.000000  12000.000000  14688.060000  "
      ]
     },
     "execution_count": 332,
     "metadata": {},
     "output_type": "execute_result"
    }
   ],
   "source": [
    "final_vc_dropFinanceZipYear_df .describe()"
   ]
  },
  {
   "cell_type": "markdown",
   "metadata": {},
   "source": [
    "# Impute missing values\n",
    "- Growth Rate : impute median\n",
    "- Size Multiple: imput median\n",
    "- Last Financing Date : dont't really need this ( only need for angel companies)\n",
    "- Last Financing Size : impute median\n",
    "- Last Financing Valuation: Drop this ( too many nulls)\n",
    "- Majestic Referring Domains: Impute Median\n",
    "- Facebook Like: Impute median\n",
    "- Twitter followers: impute emdian\n",
    "- Employees: impute median\n",
    "- Total raised: impute median"
   ]
  },
  {
   "cell_type": "code",
   "execution_count": 333,
   "metadata": {},
   "outputs": [],
   "source": [
    "median_values={}\n",
    "for row in final_vc_dropFinanceZipYear_df.describe(): # get median values\n",
    "    median_values[row]=final_vc_dropFinanceZipYear_df.describe()[row][\"50%\"]"
   ]
  },
  {
   "cell_type": "code",
   "execution_count": 334,
   "metadata": {},
   "outputs": [
    {
     "data": {
      "text/plain": [
       "{'Employees': 27.0,\n",
       " 'Facebook Likes': 1135.0,\n",
       " 'Growth Rate': 0.042640929986614687,\n",
       " 'Last Financing Size': 6.0,\n",
       " 'Last Financing Valuation': 41.664999999999999,\n",
       " 'Majestic Referring Domains': 115.5,\n",
       " 'Size Multiple': 3.2493367722918203,\n",
       " 'Total Raised': 11.184999999999999,\n",
       " 'Twitter Followers': 1098.0,\n",
       " 'Year Founded': 2011.0}"
      ]
     },
     "execution_count": 334,
     "metadata": {},
     "output_type": "execute_result"
    }
   ],
   "source": [
    "median_values"
   ]
  },
  {
   "cell_type": "code",
   "execution_count": 347,
   "metadata": {},
   "outputs": [],
   "source": [
    "imputed_final_df = final_vc_dropFinanceZipYear_df.copy()\n",
    "for key in median_values: # update the nan values with the median\n",
    "    updated_col = final_vc_dropFinanceZipYear_df.loc[:,key].copy()\n",
    "    updated_col = updated_col.fillna(median_values[key])\n",
    "    imputed_final_df.loc[:,key] = updated_col\n"
   ]
  },
  {
   "cell_type": "code",
   "execution_count": 348,
   "metadata": {},
   "outputs": [
    {
     "data": {
      "text/html": [
       "<div>\n",
       "<style>\n",
       "    .dataframe thead tr:only-child th {\n",
       "        text-align: right;\n",
       "    }\n",
       "\n",
       "    .dataframe thead th {\n",
       "        text-align: left;\n",
       "    }\n",
       "\n",
       "    .dataframe tbody tr th {\n",
       "        vertical-align: top;\n",
       "    }\n",
       "</style>\n",
       "<table border=\"1\" class=\"dataframe\">\n",
       "  <thead>\n",
       "    <tr style=\"text-align: right;\">\n",
       "      <th></th>\n",
       "      <th>Company ID</th>\n",
       "      <th>Description</th>\n",
       "      <th>Company Name</th>\n",
       "      <th>HQ Post Code</th>\n",
       "      <th>Primary Industry Code</th>\n",
       "      <th>Primary Contact</th>\n",
       "      <th>Year Founded</th>\n",
       "      <th>Growth Rate</th>\n",
       "      <th>Size Multiple</th>\n",
       "      <th>Last Financing Date</th>\n",
       "      <th>Last Financing Size</th>\n",
       "      <th>Last Financing Valuation</th>\n",
       "      <th>Last Financing Deal Type 2</th>\n",
       "      <th>Company Name</th>\n",
       "      <th>Majestic Referring Domains</th>\n",
       "      <th>Facebook Likes</th>\n",
       "      <th>Twitter Followers</th>\n",
       "      <th>Employees</th>\n",
       "      <th>Total Raised</th>\n",
       "      <th>VC_invested</th>\n",
       "    </tr>\n",
       "  </thead>\n",
       "  <tbody>\n",
       "    <tr>\n",
       "      <th>0</th>\n",
       "      <td>61743-97</td>\n",
       "      <td>Developer of an online advertisement platform ...</td>\n",
       "      <td>ZypMedia</td>\n",
       "      <td>94102</td>\n",
       "      <td>Social/Platform Software</td>\n",
       "      <td>Mark Goldman</td>\n",
       "      <td>2013.0</td>\n",
       "      <td>0.0</td>\n",
       "      <td>0.144068</td>\n",
       "      <td>2015-04-24</td>\n",
       "      <td>4.42</td>\n",
       "      <td>9.47</td>\n",
       "      <td>Series B</td>\n",
       "      <td>ZypMedia</td>\n",
       "      <td>115.5</td>\n",
       "      <td>1135.0</td>\n",
       "      <td>51.0</td>\n",
       "      <td>12.0</td>\n",
       "      <td>6.82</td>\n",
       "      <td>1</td>\n",
       "    </tr>\n",
       "    <tr>\n",
       "      <th>2</th>\n",
       "      <td>60184-09</td>\n",
       "      <td>Developer of non-invasive sensors for laborato...</td>\n",
       "      <td>Zyomed</td>\n",
       "      <td>91011</td>\n",
       "      <td>Diagnostic Equipment</td>\n",
       "      <td>Sandeep Gulati</td>\n",
       "      <td>2007.0</td>\n",
       "      <td>0.0</td>\n",
       "      <td>0.054054</td>\n",
       "      <td>2016-05-17</td>\n",
       "      <td>10.61</td>\n",
       "      <td>132.61</td>\n",
       "      <td>Series B2</td>\n",
       "      <td>Zyomed</td>\n",
       "      <td>2.0</td>\n",
       "      <td>1135.0</td>\n",
       "      <td>1098.0</td>\n",
       "      <td>27.0</td>\n",
       "      <td>23.11</td>\n",
       "      <td>1</td>\n",
       "    </tr>\n",
       "  </tbody>\n",
       "</table>\n",
       "</div>"
      ],
      "text/plain": [
       "  Company ID                                        Description Company Name  \\\n",
       "0   61743-97  Developer of an online advertisement platform ...     ZypMedia   \n",
       "2   60184-09  Developer of non-invasive sensors for laborato...       Zyomed   \n",
       "\n",
       "  HQ Post Code     Primary Industry Code Primary Contact  Year Founded  \\\n",
       "0        94102  Social/Platform Software    Mark Goldman        2013.0   \n",
       "2        91011      Diagnostic Equipment  Sandeep Gulati        2007.0   \n",
       "\n",
       "   Growth Rate  Size Multiple Last Financing Date  Last Financing Size  \\\n",
       "0          0.0       0.144068          2015-04-24                 4.42   \n",
       "2          0.0       0.054054          2016-05-17                10.61   \n",
       "\n",
       "   Last Financing Valuation Last Financing Deal Type 2  Company Name  \\\n",
       "0                      9.47                    Series B     ZypMedia   \n",
       "2                    132.61                   Series B2       Zyomed   \n",
       "\n",
       "   Majestic Referring Domains  Facebook Likes  Twitter Followers  Employees  \\\n",
       "0                       115.5          1135.0               51.0       12.0   \n",
       "2                         2.0          1135.0             1098.0       27.0   \n",
       "\n",
       "   Total Raised  VC_invested  \n",
       "0          6.82            1  \n",
       "2         23.11            1  "
      ]
     },
     "execution_count": 348,
     "metadata": {},
     "output_type": "execute_result"
    }
   ],
   "source": [
    "imputed_final_df.head(2)"
   ]
  },
  {
   "cell_type": "markdown",
   "metadata": {},
   "source": [
    "### Add a 1 for the column VC_Invested"
   ]
  },
  {
   "cell_type": "code",
   "execution_count": 349,
   "metadata": {},
   "outputs": [],
   "source": [
    "imputed_final_df['VC_invested']=1"
   ]
  },
  {
   "cell_type": "code",
   "execution_count": 350,
   "metadata": {},
   "outputs": [
    {
     "data": {
      "text/html": [
       "<div>\n",
       "<style>\n",
       "    .dataframe thead tr:only-child th {\n",
       "        text-align: right;\n",
       "    }\n",
       "\n",
       "    .dataframe thead th {\n",
       "        text-align: left;\n",
       "    }\n",
       "\n",
       "    .dataframe tbody tr th {\n",
       "        vertical-align: top;\n",
       "    }\n",
       "</style>\n",
       "<table border=\"1\" class=\"dataframe\">\n",
       "  <thead>\n",
       "    <tr style=\"text-align: right;\">\n",
       "      <th></th>\n",
       "      <th>Company ID</th>\n",
       "      <th>Description</th>\n",
       "      <th>Company Name</th>\n",
       "      <th>HQ Post Code</th>\n",
       "      <th>Primary Industry Code</th>\n",
       "      <th>Primary Contact</th>\n",
       "      <th>Year Founded</th>\n",
       "      <th>Growth Rate</th>\n",
       "      <th>Size Multiple</th>\n",
       "      <th>Last Financing Date</th>\n",
       "      <th>Last Financing Size</th>\n",
       "      <th>Last Financing Valuation</th>\n",
       "      <th>Last Financing Deal Type 2</th>\n",
       "      <th>Company Name</th>\n",
       "      <th>Majestic Referring Domains</th>\n",
       "      <th>Facebook Likes</th>\n",
       "      <th>Twitter Followers</th>\n",
       "      <th>Employees</th>\n",
       "      <th>Total Raised</th>\n",
       "      <th>VC_invested</th>\n",
       "    </tr>\n",
       "  </thead>\n",
       "  <tbody>\n",
       "    <tr>\n",
       "      <th>0</th>\n",
       "      <td>61743-97</td>\n",
       "      <td>Developer of an online advertisement platform ...</td>\n",
       "      <td>ZypMedia</td>\n",
       "      <td>94102</td>\n",
       "      <td>Social/Platform Software</td>\n",
       "      <td>Mark Goldman</td>\n",
       "      <td>2013.0</td>\n",
       "      <td>0.0</td>\n",
       "      <td>0.144068</td>\n",
       "      <td>2015-04-24</td>\n",
       "      <td>4.42</td>\n",
       "      <td>9.47</td>\n",
       "      <td>Series B</td>\n",
       "      <td>ZypMedia</td>\n",
       "      <td>115.5</td>\n",
       "      <td>1135.0</td>\n",
       "      <td>51.0</td>\n",
       "      <td>12.0</td>\n",
       "      <td>6.82</td>\n",
       "      <td>1</td>\n",
       "    </tr>\n",
       "    <tr>\n",
       "      <th>2</th>\n",
       "      <td>60184-09</td>\n",
       "      <td>Developer of non-invasive sensors for laborato...</td>\n",
       "      <td>Zyomed</td>\n",
       "      <td>91011</td>\n",
       "      <td>Diagnostic Equipment</td>\n",
       "      <td>Sandeep Gulati</td>\n",
       "      <td>2007.0</td>\n",
       "      <td>0.0</td>\n",
       "      <td>0.054054</td>\n",
       "      <td>2016-05-17</td>\n",
       "      <td>10.61</td>\n",
       "      <td>132.61</td>\n",
       "      <td>Series B2</td>\n",
       "      <td>Zyomed</td>\n",
       "      <td>2.0</td>\n",
       "      <td>1135.0</td>\n",
       "      <td>1098.0</td>\n",
       "      <td>27.0</td>\n",
       "      <td>23.11</td>\n",
       "      <td>1</td>\n",
       "    </tr>\n",
       "  </tbody>\n",
       "</table>\n",
       "</div>"
      ],
      "text/plain": [
       "  Company ID                                        Description Company Name  \\\n",
       "0   61743-97  Developer of an online advertisement platform ...     ZypMedia   \n",
       "2   60184-09  Developer of non-invasive sensors for laborato...       Zyomed   \n",
       "\n",
       "  HQ Post Code     Primary Industry Code Primary Contact  Year Founded  \\\n",
       "0        94102  Social/Platform Software    Mark Goldman        2013.0   \n",
       "2        91011      Diagnostic Equipment  Sandeep Gulati        2007.0   \n",
       "\n",
       "   Growth Rate  Size Multiple Last Financing Date  Last Financing Size  \\\n",
       "0          0.0       0.144068          2015-04-24                 4.42   \n",
       "2          0.0       0.054054          2016-05-17                10.61   \n",
       "\n",
       "   Last Financing Valuation Last Financing Deal Type 2  Company Name  \\\n",
       "0                      9.47                    Series B     ZypMedia   \n",
       "2                    132.61                   Series B2       Zyomed   \n",
       "\n",
       "   Majestic Referring Domains  Facebook Likes  Twitter Followers  Employees  \\\n",
       "0                       115.5          1135.0               51.0       12.0   \n",
       "2                         2.0          1135.0             1098.0       27.0   \n",
       "\n",
       "   Total Raised  VC_invested  \n",
       "0          6.82            1  \n",
       "2         23.11            1  "
      ]
     },
     "execution_count": 350,
     "metadata": {},
     "output_type": "execute_result"
    }
   ],
   "source": [
    "imputed_final_df.head(2)"
   ]
  },
  {
   "cell_type": "code",
   "execution_count": 351,
   "metadata": {},
   "outputs": [
    {
     "name": "stdout",
     "output_type": "stream",
     "text": [
      "<class 'pandas.core.frame.DataFrame'>\n",
      "Int64Index: 733 entries, 0 to 1021\n",
      "Data columns (total 20 columns):\n",
      "Company ID                     733 non-null object\n",
      "Description                    733 non-null object\n",
      "Company Name                   733 non-null object\n",
      "HQ Post Code                   733 non-null object\n",
      "Primary Industry Code          733 non-null object\n",
      "Primary Contact                733 non-null object\n",
      "Year Founded                   733 non-null float64\n",
      "Growth Rate                    733 non-null float64\n",
      "Size Multiple                  733 non-null float64\n",
      "Last Financing Date            635 non-null datetime64[ns]\n",
      "Last Financing Size            733 non-null float64\n",
      "Last Financing Valuation       733 non-null float64\n",
      "Last Financing Deal Type 2     366 non-null object\n",
      "Company Name                   733 non-null object\n",
      "Majestic Referring Domains     733 non-null float64\n",
      "Facebook Likes                 733 non-null float64\n",
      "Twitter Followers              733 non-null float64\n",
      "Employees                      733 non-null float64\n",
      "Total Raised                   733 non-null float64\n",
      "VC_invested                    733 non-null int64\n",
      "dtypes: datetime64[ns](1), float64(10), int64(1), object(8)\n",
      "memory usage: 120.3+ KB\n"
     ]
    }
   ],
   "source": [
    "imputed_final_df.info()"
   ]
  },
  {
   "cell_type": "markdown",
   "metadata": {},
   "source": [
    "# Tweepy to find usernames of the people"
   ]
  },
  {
   "cell_type": "code",
   "execution_count": 380,
   "metadata": {
    "collapsed": true
   },
   "outputs": [],
   "source": [
    "def username_search(name):\n",
    "    \"\"\"Run a search on twitter for the given name. Returns the first username (should be the most relevant)\n",
    "\n",
    "    First try searching for the person's name + company. If that does not work, try just searching for the \n",
    "    person's name\"\"\"\n",
    "    credentials = yaml.load(open(os.path.expanduser('~/.ssh/api_credentials.yml')))\n",
    "    auth = tweepy.OAuthHandler(credentials['twitter']['consumer_key'], credentials['twitter']['consumer_secret'],)\n",
    "    auth.set_access_token(credentials['twitter']['token'], credentials['twitter']['token_secret'])\n",
    "    api = tweepy.API(auth,wait_on_rate_limit=True, wait_on_rate_limit_notify=True)\n",
    "    tweets = api.search_users(q=name)\n",
    "    try: # search the name and the company\n",
    "        return( tweets[0].screen_name)\n",
    "    except Exception as e: # try just the name\n",
    "        try:\n",
    "            first,last,company = name.split(\" \")\n",
    "            tweets = api.search_users(q=first+\" \"+last)\n",
    "            return( tweets[0].screen_name)\n",
    "        except Exception as e:\n",
    "            print(e)\n",
    "            return \"NaN\""
   ]
  },
  {
   "cell_type": "code",
   "execution_count": 381,
   "metadata": {},
   "outputs": [
    {
     "name": "stdout",
     "output_type": "stream",
     "text": [
      "Rate limit reached. Sleeping for: 408\n"
     ]
    },
    {
     "data": {
      "text/plain": [
       "'chandransank'"
      ]
     },
     "execution_count": 381,
     "metadata": {},
     "output_type": "execute_result"
    }
   ],
   "source": [
    "username_search(\"Chandran Sankaran\")"
   ]
  },
  {
   "cell_type": "markdown",
   "metadata": {},
   "source": [
    "### Test the accuracy of this api for finding usernames\n"
   ]
  },
  {
   "cell_type": "code",
   "execution_count": 382,
   "metadata": {},
   "outputs": [],
   "source": [
    "test_names = ['Jonathan Hilgart','Tim Cook Apple', \"Smita Bakshi Zyante\",\"Rob Fuggetta zuberance\",\n",
    "              \"Charles Hogan tranzlogic\", \n",
    "              \"Duke Chung travelbank\", \"Jake Fields treeline\",\"Eric Min Zwift\",\"Dominic Lewis Transifex\",\n",
    "             \"Dimitris Glezos Transifex\"]\n",
    "names_username = {\"Jonathan Hilgart\":\"topofthehil\",'Tim Cook':\"tim_cook\", \"Smita Bakshi\":\"sbaksh\",\n",
    "                 \"Rob Fuggetta\":\"robfuggetta\", \"Charles Hogan\":\"Tranzlogic\",\n",
    "                 \"Duke Chung\":\"Duke_Chung\", \"Jake Fields\":\"JakeFields\",\"Eric Min\":\"werkdodger\",\n",
    "                  \"Dominic Lewis\":\"domwlewis\", \" Dominic Lewis\":\"glezos\"}"
   ]
  },
  {
   "cell_type": "code",
   "execution_count": 383,
   "metadata": {},
   "outputs": [
    {
     "name": "stdout",
     "output_type": "stream",
     "text": [
      "topofthehil\n",
      "tim_cook\n",
      "sbaksh\n",
      "list index out of range\n",
      "NaN\n",
      "charliehogan\n",
      "Duke_Chung\n",
      "JakeFields\n",
      "werkdodger\n",
      "domwlewis\n",
      "glezos\n"
     ]
    }
   ],
   "source": [
    "test_search= {}\n",
    "for name in test_names:\n",
    "    result = username_search(name)\n",
    "    print(result)\n",
    "    test_search[name]=result"
   ]
  },
  {
   "cell_type": "code",
   "execution_count": 373,
   "metadata": {},
   "outputs": [],
   "source": [
    "username_intersection = set(test_search.values()).intersection(set(names_username.values()))"
   ]
  },
  {
   "cell_type": "code",
   "execution_count": 374,
   "metadata": {},
   "outputs": [
    {
     "data": {
      "text/plain": [
       "0.8"
      ]
     },
     "execution_count": 374,
     "metadata": {},
     "output_type": "execute_result"
    }
   ],
   "source": [
    "len(username_intersection)/len(names_username.keys())"
   ]
  },
  {
   "cell_type": "code",
   "execution_count": 375,
   "metadata": {},
   "outputs": [
    {
     "data": {
      "text/plain": [
       "{'Charles Hogan tranzlogic': 'charliehogan',\n",
       " 'Dimitris Glezos Transifex': 'glezos',\n",
       " 'Dominic Lewis Transifex': 'domwlewis',\n",
       " 'Duke Chung travelbank': 'Duke_Chung',\n",
       " 'Eric Min Zwift': 'werkdodger',\n",
       " 'Jake Fields treeline': 'JakeFields',\n",
       " 'Jonathan Hilgart': 'topofthehil',\n",
       " 'Rob Fuggetta zuberance': 'NaN',\n",
       " 'Smita Bakshi Zyante': 'sbaksh',\n",
       " 'Tim Cook Apple': 'tim_cook'}"
      ]
     },
     "execution_count": 375,
     "metadata": {},
     "output_type": "execute_result"
    }
   ],
   "source": [
    "test_search"
   ]
  },
  {
   "cell_type": "markdown",
   "metadata": {},
   "source": [
    "#### Pretty good! About 80% accuracy in finding twitter handles"
   ]
  },
  {
   "cell_type": "markdown",
   "metadata": {},
   "source": [
    "### Add the Twitter username to the pandas df"
   ]
  },
  {
   "cell_type": "code",
   "execution_count": 379,
   "metadata": {},
   "outputs": [
    {
     "name": "stdout",
     "output_type": "stream",
     "text": [
      "Finished 0\n",
      "not enough values to unpack (expected 3, got 2)\n",
      "not enough values to unpack (expected 3, got 2)\n",
      "not enough values to unpack (expected 3, got 2)\n",
      "not enough values to unpack (expected 3, got 2)\n",
      "not enough values to unpack (expected 3, got 2)\n",
      "not enough values to unpack (expected 3, got 2)\n",
      "not enough values to unpack (expected 3, got 2)\n",
      "not enough values to unpack (expected 3, got 2)\n",
      "list index out of range\n",
      "Finished 100\n",
      "not enough values to unpack (expected 3, got 2)\n",
      "not enough values to unpack (expected 3, got 2)\n",
      "not enough values to unpack (expected 3, got 2)\n",
      "not enough values to unpack (expected 3, got 2)\n",
      "not enough values to unpack (expected 3, got 2)\n",
      "not enough values to unpack (expected 3, got 2)\n",
      "not enough values to unpack (expected 3, got 2)\n",
      "not enough values to unpack (expected 3, got 2)\n",
      "not enough values to unpack (expected 3, got 2)\n",
      "not enough values to unpack (expected 3, got 2)\n",
      "Finished 200\n",
      "not enough values to unpack (expected 3, got 2)\n",
      "not enough values to unpack (expected 3, got 2)\n",
      "not enough values to unpack (expected 3, got 2)\n",
      "not enough values to unpack (expected 3, got 2)\n",
      "not enough values to unpack (expected 3, got 2)\n",
      "not enough values to unpack (expected 3, got 2)\n",
      "not enough values to unpack (expected 3, got 2)\n",
      "not enough values to unpack (expected 3, got 2)\n",
      "not enough values to unpack (expected 3, got 2)\n",
      "not enough values to unpack (expected 3, got 2)\n",
      "not enough values to unpack (expected 3, got 2)\n",
      "not enough values to unpack (expected 3, got 2)\n",
      "not enough values to unpack (expected 3, got 2)\n",
      "not enough values to unpack (expected 3, got 2)\n",
      "not enough values to unpack (expected 3, got 2)\n",
      "Finished 300\n",
      "not enough values to unpack (expected 3, got 2)\n",
      "not enough values to unpack (expected 3, got 2)\n",
      "not enough values to unpack (expected 3, got 2)\n",
      "not enough values to unpack (expected 3, got 2)\n",
      "not enough values to unpack (expected 3, got 2)\n",
      "not enough values to unpack (expected 3, got 2)\n",
      "not enough values to unpack (expected 3, got 2)\n",
      "not enough values to unpack (expected 3, got 2)\n",
      "not enough values to unpack (expected 3, got 2)\n",
      "not enough values to unpack (expected 3, got 2)\n",
      "not enough values to unpack (expected 3, got 2)\n",
      "Finished 400\n",
      "not enough values to unpack (expected 3, got 2)\n",
      "not enough values to unpack (expected 3, got 2)\n",
      "not enough values to unpack (expected 3, got 2)\n",
      "not enough values to unpack (expected 3, got 2)\n",
      "not enough values to unpack (expected 3, got 2)\n",
      "not enough values to unpack (expected 3, got 2)\n",
      "not enough values to unpack (expected 3, got 2)\n",
      "not enough values to unpack (expected 3, got 2)\n",
      "not enough values to unpack (expected 3, got 2)\n",
      "not enough values to unpack (expected 3, got 2)\n",
      "not enough values to unpack (expected 3, got 2)\n",
      "not enough values to unpack (expected 3, got 2)\n",
      "not enough values to unpack (expected 3, got 2)\n",
      "not enough values to unpack (expected 3, got 2)\n",
      "too many values to unpack (expected 3)\n",
      "too many values to unpack (expected 3)\n",
      "not enough values to unpack (expected 3, got 2)\n",
      "not enough values to unpack (expected 3, got 2)\n",
      "not enough values to unpack (expected 3, got 2)\n",
      "Finished 500\n",
      "not enough values to unpack (expected 3, got 2)\n",
      "not enough values to unpack (expected 3, got 2)\n",
      "not enough values to unpack (expected 3, got 2)\n",
      "not enough values to unpack (expected 3, got 2)\n",
      "not enough values to unpack (expected 3, got 2)\n"
     ]
    },
    {
     "ename": "RateLimitError",
     "evalue": "[{'message': 'Rate limit exceeded', 'code': 88}]",
     "output_type": "error",
     "traceback": [
      "\u001b[0;31m---------------------------------------------------------------------------\u001b[0m",
      "\u001b[0;31mRateLimitError\u001b[0m                            Traceback (most recent call last)",
      "\u001b[0;32m<ipython-input-379-e1b2ccc0dff0>\u001b[0m in \u001b[0;36m<module>\u001b[0;34m()\u001b[0m\n\u001b[1;32m      1\u001b[0m \u001b[0;32mfor\u001b[0m \u001b[0midx\u001b[0m\u001b[0;34m,\u001b[0m\u001b[0mrow\u001b[0m \u001b[0;32min\u001b[0m \u001b[0menumerate\u001b[0m\u001b[0;34m(\u001b[0m\u001b[0mimputed_final_df\u001b[0m\u001b[0;34m.\u001b[0m\u001b[0miterrows\u001b[0m\u001b[0;34m(\u001b[0m\u001b[0;34m)\u001b[0m\u001b[0;34m)\u001b[0m\u001b[0;34m:\u001b[0m\u001b[0;34m\u001b[0m\u001b[0m\n\u001b[0;32m----> 2\u001b[0;31m     \u001b[0mimputed_final_df\u001b[0m\u001b[0;34m[\u001b[0m\u001b[0;34m'Twitter_Username'\u001b[0m\u001b[0;34m]\u001b[0m\u001b[0;34m=\u001b[0m\u001b[0musername_search\u001b[0m\u001b[0;34m(\u001b[0m\u001b[0mrow\u001b[0m\u001b[0;34m[\u001b[0m\u001b[0;36m1\u001b[0m\u001b[0;34m]\u001b[0m\u001b[0;34m[\u001b[0m\u001b[0;34m'Primary Contact'\u001b[0m\u001b[0;34m]\u001b[0m\u001b[0;34m)\u001b[0m\u001b[0;34m\u001b[0m\u001b[0m\n\u001b[0m\u001b[1;32m      3\u001b[0m     \u001b[0;32mif\u001b[0m \u001b[0midx\u001b[0m\u001b[0;34m%\u001b[0m\u001b[0;36m100\u001b[0m \u001b[0;34m==\u001b[0m\u001b[0;36m0\u001b[0m\u001b[0;34m:\u001b[0m\u001b[0;34m\u001b[0m\u001b[0m\n\u001b[1;32m      4\u001b[0m         \u001b[0mprint\u001b[0m\u001b[0;34m(\u001b[0m\u001b[0;34mf\"Finished {idx}\"\u001b[0m\u001b[0;34m)\u001b[0m\u001b[0;34m\u001b[0m\u001b[0m\n",
      "\u001b[0;32m<ipython-input-365-d5cdfb420d6f>\u001b[0m in \u001b[0;36musername_search\u001b[0;34m(name)\u001b[0m\n\u001b[1;32m      8\u001b[0m     \u001b[0mauth\u001b[0m\u001b[0;34m.\u001b[0m\u001b[0mset_access_token\u001b[0m\u001b[0;34m(\u001b[0m\u001b[0mcredentials\u001b[0m\u001b[0;34m[\u001b[0m\u001b[0;34m'twitter'\u001b[0m\u001b[0;34m]\u001b[0m\u001b[0;34m[\u001b[0m\u001b[0;34m'token'\u001b[0m\u001b[0;34m]\u001b[0m\u001b[0;34m,\u001b[0m \u001b[0mcredentials\u001b[0m\u001b[0;34m[\u001b[0m\u001b[0;34m'twitter'\u001b[0m\u001b[0;34m]\u001b[0m\u001b[0;34m[\u001b[0m\u001b[0;34m'token_secret'\u001b[0m\u001b[0;34m]\u001b[0m\u001b[0;34m)\u001b[0m\u001b[0;34m\u001b[0m\u001b[0m\n\u001b[1;32m      9\u001b[0m     \u001b[0mapi\u001b[0m \u001b[0;34m=\u001b[0m \u001b[0mtweepy\u001b[0m\u001b[0;34m.\u001b[0m\u001b[0mAPI\u001b[0m\u001b[0;34m(\u001b[0m\u001b[0mauth\u001b[0m\u001b[0;34m)\u001b[0m\u001b[0;34m\u001b[0m\u001b[0m\n\u001b[0;32m---> 10\u001b[0;31m     \u001b[0mtweets\u001b[0m \u001b[0;34m=\u001b[0m \u001b[0mapi\u001b[0m\u001b[0;34m.\u001b[0m\u001b[0msearch_users\u001b[0m\u001b[0;34m(\u001b[0m\u001b[0mq\u001b[0m\u001b[0;34m=\u001b[0m\u001b[0mname\u001b[0m\u001b[0;34m)\u001b[0m\u001b[0;34m\u001b[0m\u001b[0m\n\u001b[0m\u001b[1;32m     11\u001b[0m     \u001b[0;32mtry\u001b[0m\u001b[0;34m:\u001b[0m \u001b[0;31m# search the name and the company\u001b[0m\u001b[0;34m\u001b[0m\u001b[0m\n\u001b[1;32m     12\u001b[0m         \u001b[0;32mreturn\u001b[0m\u001b[0;34m(\u001b[0m \u001b[0mtweets\u001b[0m\u001b[0;34m[\u001b[0m\u001b[0;36m0\u001b[0m\u001b[0;34m]\u001b[0m\u001b[0;34m.\u001b[0m\u001b[0mscreen_name\u001b[0m\u001b[0;34m)\u001b[0m\u001b[0;34m\u001b[0m\u001b[0m\n",
      "\u001b[0;32m/Users/jonathanhilgart/anaconda/envs/nlp_founder/lib/python3.6/site-packages/tweepy/binder.py\u001b[0m in \u001b[0;36m_call\u001b[0;34m(*args, **kwargs)\u001b[0m\n\u001b[1;32m    243\u001b[0m             \u001b[0;32mreturn\u001b[0m \u001b[0mmethod\u001b[0m\u001b[0;34m\u001b[0m\u001b[0m\n\u001b[1;32m    244\u001b[0m         \u001b[0;32melse\u001b[0m\u001b[0;34m:\u001b[0m\u001b[0;34m\u001b[0m\u001b[0m\n\u001b[0;32m--> 245\u001b[0;31m             \u001b[0;32mreturn\u001b[0m \u001b[0mmethod\u001b[0m\u001b[0;34m.\u001b[0m\u001b[0mexecute\u001b[0m\u001b[0;34m(\u001b[0m\u001b[0;34m)\u001b[0m\u001b[0;34m\u001b[0m\u001b[0m\n\u001b[0m\u001b[1;32m    246\u001b[0m \u001b[0;34m\u001b[0m\u001b[0m\n\u001b[1;32m    247\u001b[0m     \u001b[0;31m# Set pagination mode\u001b[0m\u001b[0;34m\u001b[0m\u001b[0;34m\u001b[0m\u001b[0m\n",
      "\u001b[0;32m/Users/jonathanhilgart/anaconda/envs/nlp_founder/lib/python3.6/site-packages/tweepy/binder.py\u001b[0m in \u001b[0;36mexecute\u001b[0;34m(self)\u001b[0m\n\u001b[1;32m    225\u001b[0m \u001b[0;34m\u001b[0m\u001b[0m\n\u001b[1;32m    226\u001b[0m                 \u001b[0;32mif\u001b[0m \u001b[0mis_rate_limit_error_message\u001b[0m\u001b[0;34m(\u001b[0m\u001b[0merror_msg\u001b[0m\u001b[0;34m)\u001b[0m\u001b[0;34m:\u001b[0m\u001b[0;34m\u001b[0m\u001b[0m\n\u001b[0;32m--> 227\u001b[0;31m                     \u001b[0;32mraise\u001b[0m \u001b[0mRateLimitError\u001b[0m\u001b[0;34m(\u001b[0m\u001b[0merror_msg\u001b[0m\u001b[0;34m,\u001b[0m \u001b[0mresp\u001b[0m\u001b[0;34m)\u001b[0m\u001b[0;34m\u001b[0m\u001b[0m\n\u001b[0m\u001b[1;32m    228\u001b[0m                 \u001b[0;32melse\u001b[0m\u001b[0;34m:\u001b[0m\u001b[0;34m\u001b[0m\u001b[0m\n\u001b[1;32m    229\u001b[0m                     \u001b[0;32mraise\u001b[0m \u001b[0mTweepError\u001b[0m\u001b[0;34m(\u001b[0m\u001b[0merror_msg\u001b[0m\u001b[0;34m,\u001b[0m \u001b[0mresp\u001b[0m\u001b[0;34m,\u001b[0m \u001b[0mapi_code\u001b[0m\u001b[0;34m=\u001b[0m\u001b[0mapi_error_code\u001b[0m\u001b[0;34m)\u001b[0m\u001b[0;34m\u001b[0m\u001b[0m\n",
      "\u001b[0;31mRateLimitError\u001b[0m: [{'message': 'Rate limit exceeded', 'code': 88}]"
     ]
    }
   ],
   "source": [
    "for idx,row in enumerate(imputed_final_df.iterrows()):\n",
    "    imputed_final_df['Twitter_Username']=username_search(row[1]['Primary Contact'])\n",
    "    if idx%100 ==0:\n",
    "        print(f\"Finished {idx}\")\n"
   ]
  },
  {
   "cell_type": "code",
   "execution_count": null,
   "metadata": {
    "collapsed": true
   },
   "outputs": [],
   "source": []
  }
 ],
 "metadata": {
  "kernelspec": {
   "display_name": "nlp_founder",
   "language": "python",
   "name": "nlp_founder"
  },
  "language_info": {
   "codemirror_mode": {
    "name": "ipython",
    "version": 3
   },
   "file_extension": ".py",
   "mimetype": "text/x-python",
   "name": "python",
   "nbconvert_exporter": "python",
   "pygments_lexer": "ipython3",
   "version": "3.6.1"
  }
 },
 "nbformat": 4,
 "nbformat_minor": 2
}
