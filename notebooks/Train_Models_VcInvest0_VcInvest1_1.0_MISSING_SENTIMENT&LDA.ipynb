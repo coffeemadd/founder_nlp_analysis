{
 "cells": [
  {
   "cell_type": "code",
   "execution_count": 78,
   "metadata": {},
   "outputs": [
    {
     "name": "stdout",
     "output_type": "stream",
     "text": [
      "Populating the interactive namespace from numpy and matplotlib\n"
     ]
    },
    {
     "name": "stderr",
     "output_type": "stream",
     "text": [
      "/Users/jonathanhilgart/anaconda/envs/nlp_founder/lib/python3.6/site-packages/IPython/core/magics/pylab.py:161: UserWarning: pylab import has clobbered these variables: ['f']\n",
      "`%matplotlib` prevents importing * from pylab and numpy\n",
      "  \"\\n`%matplotlib` prevents importing * from pylab and numpy\"\n"
     ]
    }
   ],
   "source": [
    "import pandas as pd\n",
    "from sklearn.model_selection import train_test_split\n",
    "from sklearn.ensemble import RandomForestClassifier\n",
    "from sklearn.metrics import precision_recall_curve\n",
    "import matplotlib.pyplot as plt\n",
    "from sklearn.metrics import roc_curve\n",
    "from sklearn.metrics import f1_score\n",
    "from sklearn.model_selection import cross_val_predict\n",
    "import seaborn as sns\n",
    "from sklearn.linear_model import LogisticRegressionCV\n",
    "from os.path import isfile, join\n",
    "from os import listdir\n",
    "import sklearn\n",
    "from sklearn.feature_extraction.text import TfidfVectorizer, CountVectorizer\n",
    "from sklearn.decomposition import NMF, LatentDirichletAllocation\n",
    "import numpy as np\n",
    "import textblob\n",
    "import pandas as pd\n",
    "import pickle\n",
    "\n",
    "%pylab inline"
   ]
  },
  {
   "cell_type": "code",
   "execution_count": 2,
   "metadata": {
    "collapsed": true
   },
   "outputs": [],
   "source": [
    "vc_invest1 = pd.read_csv(\"../data/processed/PitchBook_CA_VCInvest=1_NLP-features.csv\")"
   ]
  },
  {
   "cell_type": "code",
   "execution_count": 3,
   "metadata": {
    "collapsed": true
   },
   "outputs": [],
   "source": [
    "vc_invest0 = pd.read_csv(\"../data/processed/PitchBook_CA_VCInvest=0_NLP-features.csv\")"
   ]
  },
  {
   "cell_type": "code",
   "execution_count": 4,
   "metadata": {},
   "outputs": [
    {
     "name": "stdout",
     "output_type": "stream",
     "text": [
      "<class 'pandas.core.frame.DataFrame'>\n",
      "RangeIndex: 123 entries, 0 to 122\n",
      "Data columns (total 36 columns):\n",
      "Unnamed: 0                     123 non-null int64\n",
      "Unnamed: 0.1                   123 non-null int64\n",
      "Company ID                     123 non-null object\n",
      "Description                    123 non-null object\n",
      "Company Name                   123 non-null object\n",
      "HQ Post Code                   123 non-null object\n",
      "Primary Industry Code          123 non-null object\n",
      "Primary Contact                123 non-null object\n",
      "Year Founded                   123 non-null float64\n",
      "Active Investors               120 non-null object\n",
      "HQ Location                    123 non-null object\n",
      "Growth Rate                    123 non-null float64\n",
      "Size Multiple                  123 non-null float64\n",
      "Last Financing Date            108 non-null object\n",
      "Last Financing Size            123 non-null float64\n",
      "Last Financing Deal Type 2     39 non-null object\n",
      "Majestic Referring Domains     123 non-null float64\n",
      "Facebook Likes                 123 non-null float64\n",
      "Twitter Followers              123 non-null float64\n",
      "Employees                      123 non-null float64\n",
      "Total Raised                   123 non-null float64\n",
      "VC_invested                    123 non-null int64\n",
      "Twitter_Username               123 non-null object\n",
      "analytical                     123 non-null float64\n",
      "confident                      123 non-null float64\n",
      "tentative                      123 non-null float64\n",
      "anger                          123 non-null float64\n",
      "disgust                        123 non-null float64\n",
      "fear                           123 non-null float64\n",
      "joy                            123 non-null float64\n",
      "sadness                        123 non-null float64\n",
      "agreeableness_big5             123 non-null float64\n",
      "conscientiousness_big5         123 non-null float64\n",
      "emotional_range_big5           123 non-null float64\n",
      "extraversion_big5              123 non-null float64\n",
      "openness_big5                  123 non-null float64\n",
      "dtypes: float64(22), int64(3), object(11)\n",
      "memory usage: 34.7+ KB\n"
     ]
    }
   ],
   "source": [
    "vc_invest1.info()"
   ]
  },
  {
   "cell_type": "code",
   "execution_count": 6,
   "metadata": {
    "collapsed": true
   },
   "outputs": [],
   "source": [
    "vc_invest1['vc_invest'] = vc_invest1.VC_invested"
   ]
  },
  {
   "cell_type": "code",
   "execution_count": 7,
   "metadata": {
    "collapsed": true
   },
   "outputs": [],
   "source": [
    "vc_invest1.drop('VC_invested',axis=1, inplace=True) # make the columns match"
   ]
  },
  {
   "cell_type": "code",
   "execution_count": 8,
   "metadata": {},
   "outputs": [
    {
     "data": {
      "text/plain": [
       "0     0.15\n",
       "1     0.12\n",
       "2     0.10\n",
       "3     0.75\n",
       "4     0.99\n",
       "5     0.15\n",
       "6     0.09\n",
       "7     0.09\n",
       "8     2.00\n",
       "9     0.12\n",
       "10    0.10\n",
       "11    0.12\n",
       "12    0.30\n",
       "13    0.01\n",
       "14    0.02\n",
       "15    0.03\n",
       "16    0.40\n",
       "17    0.13\n",
       "18    0.02\n",
       "19    0.68\n",
       "20    0.01\n",
       "21    0.03\n",
       "22    0.01\n",
       "23    0.02\n",
       "24    0.02\n",
       "25    0.03\n",
       "26    0.20\n",
       "27    0.02\n",
       "28    0.50\n",
       "29    0.20\n",
       "      ... \n",
       "62    2.00\n",
       "63    0.03\n",
       "64    3.25\n",
       "65    3.20\n",
       "66    0.03\n",
       "67    0.15\n",
       "68    1.57\n",
       "69    0.25\n",
       "70    0.05\n",
       "71    0.40\n",
       "72    1.32\n",
       "73    0.88\n",
       "74    0.03\n",
       "75    0.75\n",
       "76    0.05\n",
       "77    0.30\n",
       "78    0.03\n",
       "79    0.04\n",
       "80    0.02\n",
       "81    0.02\n",
       "82    0.39\n",
       "83    0.01\n",
       "84    0.58\n",
       "85    0.01\n",
       "86    2.00\n",
       "87    0.10\n",
       "88    0.25\n",
       "89    0.12\n",
       "90    0.12\n",
       "91    0.38\n",
       "Name: Last Financing Size, Length: 92, dtype: float64"
      ]
     },
     "execution_count": 8,
     "metadata": {},
     "output_type": "execute_result"
    }
   ],
   "source": [
    "vc_invest0['Last Financing Size']  "
   ]
  },
  {
   "cell_type": "code",
   "execution_count": 9,
   "metadata": {},
   "outputs": [
    {
     "data": {
      "text/plain": [
       "0     0.370\n",
       "1     0.120\n",
       "2     0.100\n",
       "3     1.250\n",
       "4     0.465\n",
       "5     0.465\n",
       "6     0.090\n",
       "7     0.090\n",
       "8     6.640\n",
       "9     0.120\n",
       "10    0.100\n",
       "11    0.120\n",
       "12    0.300\n",
       "13    0.010\n",
       "14    0.020\n",
       "15    0.030\n",
       "16    0.650\n",
       "17    0.130\n",
       "18    0.070\n",
       "19    0.680\n",
       "20    1.150\n",
       "21    0.030\n",
       "22    0.465\n",
       "23    0.020\n",
       "24    0.020\n",
       "25    0.030\n",
       "26    0.200\n",
       "27    0.070\n",
       "28    0.930\n",
       "29    0.200\n",
       "      ...  \n",
       "62    2.000\n",
       "63    0.030\n",
       "64    7.250\n",
       "65    3.200\n",
       "66    0.040\n",
       "67    0.150\n",
       "68    1.570\n",
       "69    0.250\n",
       "70    0.050\n",
       "71    0.400\n",
       "72    1.820\n",
       "73    1.210\n",
       "74    0.030\n",
       "75    0.750\n",
       "76    0.050\n",
       "77    0.960\n",
       "78    1.900\n",
       "79    0.040\n",
       "80    0.120\n",
       "81    0.465\n",
       "82    0.390\n",
       "83    0.010\n",
       "84    0.670\n",
       "85    0.010\n",
       "86    3.600\n",
       "87    0.130\n",
       "88    0.250\n",
       "89    0.120\n",
       "90    0.270\n",
       "91    0.380\n",
       "Name: Total Raised, Length: 92, dtype: float64"
      ]
     },
     "execution_count": 9,
     "metadata": {},
     "output_type": "execute_result"
    }
   ],
   "source": [
    "vc_invest0 ['Total Raised']"
   ]
  },
  {
   "cell_type": "code",
   "execution_count": 10,
   "metadata": {},
   "outputs": [
    {
     "name": "stdout",
     "output_type": "stream",
     "text": [
      "<class 'pandas.core.frame.DataFrame'>\n",
      "RangeIndex: 92 entries, 0 to 91\n",
      "Data columns (total 38 columns):\n",
      "Unnamed: 0                     92 non-null int64\n",
      "Unnamed: 0.1                   92 non-null int64\n",
      "Company ID                     92 non-null object\n",
      "Description                    92 non-null object\n",
      "Company Name                   92 non-null object\n",
      "HQ Post Code                   92 non-null int64\n",
      "Primary Industry Code          92 non-null object\n",
      "Primary Contact                92 non-null object\n",
      "Year Founded                   92 non-null float64\n",
      "Active Investors               56 non-null object\n",
      "HQ Location                    92 non-null object\n",
      "Growth Rate                    92 non-null float64\n",
      "Size Multiple                  92 non-null float64\n",
      "Last Financing Date            92 non-null object\n",
      "Last Financing Size            92 non-null float64\n",
      "Last Financing Valuation       17 non-null float64\n",
      "Last Financing Deal Type 2     54 non-null object\n",
      "Majestic Referring Domains     92 non-null float64\n",
      "Facebook Likes                 92 non-null float64\n",
      "Twitter Followers              92 non-null float64\n",
      "Employees                      92 non-null float64\n",
      "Total Raised                   92 non-null float64\n",
      "days_since_offer               92 non-null int64\n",
      "vc_invest                      92 non-null int64\n",
      "Twitter_Username               92 non-null object\n",
      "analytical                     92 non-null float64\n",
      "confident                      92 non-null float64\n",
      "tentative                      92 non-null float64\n",
      "anger                          92 non-null float64\n",
      "disgust                        92 non-null float64\n",
      "fear                           92 non-null float64\n",
      "joy                            92 non-null float64\n",
      "sadness                        92 non-null float64\n",
      "agreeableness_big5             92 non-null float64\n",
      "conscientiousness_big5         92 non-null float64\n",
      "emotional_range_big5           92 non-null float64\n",
      "extraversion_big5              92 non-null float64\n",
      "openness_big5                  92 non-null float64\n",
      "dtypes: float64(23), int64(5), object(10)\n",
      "memory usage: 27.4+ KB\n"
     ]
    }
   ],
   "source": [
    "vc_invest0 .info()"
   ]
  },
  {
   "cell_type": "code",
   "execution_count": 11,
   "metadata": {},
   "outputs": [
    {
     "data": {
      "text/plain": [
       "array(['Network Management Software', 'Electronics (B2C)',\n",
       "       'Other Business Products and Services', 'Internet Retail',\n",
       "       'Therapeutic Devices', 'Social/Platform Software',\n",
       "       'Application Software', 'Social Content', 'Human Capital Services',\n",
       "       'Automotive', 'Movies, Music and Entertainment',\n",
       "       'Real Estate Services (B2C)', 'Other Healthcare Services',\n",
       "       'Other Healthcare Technology Systems', 'Other Commercial Services',\n",
       "       'Information Services (B2C)', 'Consulting Services (B2B)',\n",
       "       'Other Software', 'Other Consumer Products and Services',\n",
       "       'Business/Productivity Software', 'Other Financial Services',\n",
       "       'Entertainment Software', 'Other Energy Services',\n",
       "       'Other Consumer Durables', 'Aerospace and Defense',\n",
       "       'Broadcasting, Radio and Television', 'Leisure Facilities',\n",
       "       'Wireless Service Providers', 'Legal Services (B2C)',\n",
       "       'Educational and Training Services (B2C)',\n",
       "       'Media and Information Services (B2B)',\n",
       "       'Automation/Workflow Software', 'Beverages', 'Database Software',\n",
       "       'Logistics', 'Education and Training Services (B2B)'], dtype=object)"
      ]
     },
     "execution_count": 11,
     "metadata": {},
     "output_type": "execute_result"
    }
   ],
   "source": [
    "vc_invest0['Primary Industry Code'].unique() #  one hot encode this"
   ]
  },
  {
   "cell_type": "markdown",
   "metadata": {},
   "source": [
    "# Combine dataframes"
   ]
  },
  {
   "cell_type": "code",
   "execution_count": 12,
   "metadata": {
    "collapsed": true
   },
   "outputs": [],
   "source": [
    "combo_df = pd.concat(objs=[vc_invest0,vc_invest1])"
   ]
  },
  {
   "cell_type": "code",
   "execution_count": 13,
   "metadata": {},
   "outputs": [
    {
     "data": {
      "text/html": [
       "<div>\n",
       "<style>\n",
       "    .dataframe thead tr:only-child th {\n",
       "        text-align: right;\n",
       "    }\n",
       "\n",
       "    .dataframe thead th {\n",
       "        text-align: left;\n",
       "    }\n",
       "\n",
       "    .dataframe tbody tr th {\n",
       "        vertical-align: top;\n",
       "    }\n",
       "</style>\n",
       "<table border=\"1\" class=\"dataframe\">\n",
       "  <thead>\n",
       "    <tr style=\"text-align: right;\">\n",
       "      <th></th>\n",
       "      <th>Active Investors</th>\n",
       "      <th>Company ID</th>\n",
       "      <th>Company Name</th>\n",
       "      <th>Description</th>\n",
       "      <th>Employees</th>\n",
       "      <th>Facebook Likes</th>\n",
       "      <th>Growth Rate</th>\n",
       "      <th>HQ Location</th>\n",
       "      <th>HQ Post Code</th>\n",
       "      <th>Last Financing Date</th>\n",
       "      <th>...</th>\n",
       "      <th>days_since_offer</th>\n",
       "      <th>disgust</th>\n",
       "      <th>emotional_range_big5</th>\n",
       "      <th>extraversion_big5</th>\n",
       "      <th>fear</th>\n",
       "      <th>joy</th>\n",
       "      <th>openness_big5</th>\n",
       "      <th>sadness</th>\n",
       "      <th>tentative</th>\n",
       "      <th>vc_invest</th>\n",
       "    </tr>\n",
       "  </thead>\n",
       "  <tbody>\n",
       "    <tr>\n",
       "      <th>118</th>\n",
       "      <td>Anjan Mitra, Dorm Room Fund, Emily Mitra, Erik...</td>\n",
       "      <td>106663-87</td>\n",
       "      <td>Traveling Spoon</td>\n",
       "      <td>Developer of an online platform designed to bo...</td>\n",
       "      <td>2.0</td>\n",
       "      <td>19126.0</td>\n",
       "      <td>0.416151</td>\n",
       "      <td>San Francisco, CA</td>\n",
       "      <td>94110</td>\n",
       "      <td>2015-09-17</td>\n",
       "      <td>...</td>\n",
       "      <td>NaN</td>\n",
       "      <td>0.047489</td>\n",
       "      <td>0.703120</td>\n",
       "      <td>0.890312</td>\n",
       "      <td>0.044991</td>\n",
       "      <td>0.693290</td>\n",
       "      <td>0.630364</td>\n",
       "      <td>0.088702</td>\n",
       "      <td>0.460577</td>\n",
       "      <td>1</td>\n",
       "    </tr>\n",
       "    <tr>\n",
       "      <th>119</th>\n",
       "      <td>Accel, New Enterprise Associates</td>\n",
       "      <td>167364-55</td>\n",
       "      <td>TravelBank</td>\n",
       "      <td>Developer of travel and expense software for s...</td>\n",
       "      <td>11.0</td>\n",
       "      <td>916.0</td>\n",
       "      <td>4.039472</td>\n",
       "      <td>San Francisco, CA</td>\n",
       "      <td>94107</td>\n",
       "      <td>2016-10-20</td>\n",
       "      <td>...</td>\n",
       "      <td>NaN</td>\n",
       "      <td>0.057233</td>\n",
       "      <td>0.811919</td>\n",
       "      <td>0.889738</td>\n",
       "      <td>0.054336</td>\n",
       "      <td>0.606031</td>\n",
       "      <td>0.136577</td>\n",
       "      <td>0.099967</td>\n",
       "      <td>0.072408</td>\n",
       "      <td>1</td>\n",
       "    </tr>\n",
       "    <tr>\n",
       "      <th>120</th>\n",
       "      <td>NaN</td>\n",
       "      <td>58446-37</td>\n",
       "      <td>Translucent Medical</td>\n",
       "      <td>Provider of a navigation system for reducing X...</td>\n",
       "      <td>18.0</td>\n",
       "      <td>867.0</td>\n",
       "      <td>0.022076</td>\n",
       "      <td>Santa Cruz, CA</td>\n",
       "      <td>95060</td>\n",
       "      <td>NaN</td>\n",
       "      <td>...</td>\n",
       "      <td>NaN</td>\n",
       "      <td>0.083238</td>\n",
       "      <td>0.756500</td>\n",
       "      <td>0.655030</td>\n",
       "      <td>0.100901</td>\n",
       "      <td>0.528576</td>\n",
       "      <td>0.358868</td>\n",
       "      <td>0.457484</td>\n",
       "      <td>0.378413</td>\n",
       "      <td>1</td>\n",
       "    </tr>\n",
       "    <tr>\n",
       "      <th>121</th>\n",
       "      <td>Amplify.LA, Canyon Creek Capital, HillsVen Cap...</td>\n",
       "      <td>90366-58</td>\n",
       "      <td>Translation Exchange</td>\n",
       "      <td>Provider of a cloud-based platform for continu...</td>\n",
       "      <td>11.0</td>\n",
       "      <td>200.0</td>\n",
       "      <td>3.822225</td>\n",
       "      <td>San Francisco, CA</td>\n",
       "      <td>94105</td>\n",
       "      <td>2016-03-01</td>\n",
       "      <td>...</td>\n",
       "      <td>NaN</td>\n",
       "      <td>0.248178</td>\n",
       "      <td>0.750920</td>\n",
       "      <td>0.300239</td>\n",
       "      <td>0.127519</td>\n",
       "      <td>0.298173</td>\n",
       "      <td>0.264759</td>\n",
       "      <td>0.369778</td>\n",
       "      <td>0.689846</td>\n",
       "      <td>1</td>\n",
       "    </tr>\n",
       "    <tr>\n",
       "      <th>122</th>\n",
       "      <td>1776, Alex Bresler, BallstonBID LaunchPad, Bru...</td>\n",
       "      <td>95609-35</td>\n",
       "      <td>TransitScreen</td>\n",
       "      <td>Provider of a real-time transportation display...</td>\n",
       "      <td>18.0</td>\n",
       "      <td>774.0</td>\n",
       "      <td>0.135018</td>\n",
       "      <td>Washington, DC</td>\n",
       "      <td>20005</td>\n",
       "      <td>2017-02-24</td>\n",
       "      <td>...</td>\n",
       "      <td>NaN</td>\n",
       "      <td>0.090445</td>\n",
       "      <td>0.608507</td>\n",
       "      <td>0.564447</td>\n",
       "      <td>0.111090</td>\n",
       "      <td>0.441729</td>\n",
       "      <td>0.474643</td>\n",
       "      <td>0.409736</td>\n",
       "      <td>0.353829</td>\n",
       "      <td>1</td>\n",
       "    </tr>\n",
       "  </tbody>\n",
       "</table>\n",
       "<p>5 rows × 38 columns</p>\n",
       "</div>"
      ],
      "text/plain": [
       "                                      Active Investors Company ID  \\\n",
       "118  Anjan Mitra, Dorm Room Fund, Emily Mitra, Erik...  106663-87   \n",
       "119                   Accel, New Enterprise Associates  167364-55   \n",
       "120                                                NaN   58446-37   \n",
       "121  Amplify.LA, Canyon Creek Capital, HillsVen Cap...   90366-58   \n",
       "122  1776, Alex Bresler, BallstonBID LaunchPad, Bru...   95609-35   \n",
       "\n",
       "             Company Name                                        Description  \\\n",
       "118       Traveling Spoon  Developer of an online platform designed to bo...   \n",
       "119            TravelBank  Developer of travel and expense software for s...   \n",
       "120   Translucent Medical  Provider of a navigation system for reducing X...   \n",
       "121  Translation Exchange  Provider of a cloud-based platform for continu...   \n",
       "122         TransitScreen  Provider of a real-time transportation display...   \n",
       "\n",
       "     Employees  Facebook Likes  Growth Rate        HQ Location HQ Post Code  \\\n",
       "118        2.0         19126.0     0.416151  San Francisco, CA        94110   \n",
       "119       11.0           916.0     4.039472  San Francisco, CA        94107   \n",
       "120       18.0           867.0     0.022076     Santa Cruz, CA        95060   \n",
       "121       11.0           200.0     3.822225  San Francisco, CA        94105   \n",
       "122       18.0           774.0     0.135018     Washington, DC        20005   \n",
       "\n",
       "    Last Financing Date    ...    days_since_offer   disgust  \\\n",
       "118          2015-09-17    ...                 NaN  0.047489   \n",
       "119          2016-10-20    ...                 NaN  0.057233   \n",
       "120                 NaN    ...                 NaN  0.083238   \n",
       "121          2016-03-01    ...                 NaN  0.248178   \n",
       "122          2017-02-24    ...                 NaN  0.090445   \n",
       "\n",
       "     emotional_range_big5  extraversion_big5      fear       joy  \\\n",
       "118              0.703120           0.890312  0.044991  0.693290   \n",
       "119              0.811919           0.889738  0.054336  0.606031   \n",
       "120              0.756500           0.655030  0.100901  0.528576   \n",
       "121              0.750920           0.300239  0.127519  0.298173   \n",
       "122              0.608507           0.564447  0.111090  0.441729   \n",
       "\n",
       "     openness_big5   sadness  tentative vc_invest  \n",
       "118       0.630364  0.088702   0.460577         1  \n",
       "119       0.136577  0.099967   0.072408         1  \n",
       "120       0.358868  0.457484   0.378413         1  \n",
       "121       0.264759  0.369778   0.689846         1  \n",
       "122       0.474643  0.409736   0.353829         1  \n",
       "\n",
       "[5 rows x 38 columns]"
      ]
     },
     "execution_count": 13,
     "metadata": {},
     "output_type": "execute_result"
    }
   ],
   "source": [
    "combo_df.tail()"
   ]
  },
  {
   "cell_type": "code",
   "execution_count": 14,
   "metadata": {},
   "outputs": [
    {
     "data": {
      "text/html": [
       "<div>\n",
       "<style>\n",
       "    .dataframe thead tr:only-child th {\n",
       "        text-align: right;\n",
       "    }\n",
       "\n",
       "    .dataframe thead th {\n",
       "        text-align: left;\n",
       "    }\n",
       "\n",
       "    .dataframe tbody tr th {\n",
       "        vertical-align: top;\n",
       "    }\n",
       "</style>\n",
       "<table border=\"1\" class=\"dataframe\">\n",
       "  <thead>\n",
       "    <tr style=\"text-align: right;\">\n",
       "      <th></th>\n",
       "      <th>Active Investors</th>\n",
       "      <th>Company ID</th>\n",
       "      <th>Company Name</th>\n",
       "      <th>Description</th>\n",
       "      <th>Employees</th>\n",
       "      <th>Facebook Likes</th>\n",
       "      <th>Growth Rate</th>\n",
       "      <th>HQ Location</th>\n",
       "      <th>HQ Post Code</th>\n",
       "      <th>Last Financing Date</th>\n",
       "      <th>...</th>\n",
       "      <th>days_since_offer</th>\n",
       "      <th>disgust</th>\n",
       "      <th>emotional_range_big5</th>\n",
       "      <th>extraversion_big5</th>\n",
       "      <th>fear</th>\n",
       "      <th>joy</th>\n",
       "      <th>openness_big5</th>\n",
       "      <th>sadness</th>\n",
       "      <th>tentative</th>\n",
       "      <th>vc_invest</th>\n",
       "    </tr>\n",
       "  </thead>\n",
       "  <tbody>\n",
       "    <tr>\n",
       "      <th>0</th>\n",
       "      <td>500 Startups, Start Smart Labs</td>\n",
       "      <td>170123-59</td>\n",
       "      <td>Zyudly Labs</td>\n",
       "      <td>Provider of cyber-security analytics and intel...</td>\n",
       "      <td>7.0</td>\n",
       "      <td>103.0</td>\n",
       "      <td>0.118048</td>\n",
       "      <td>Palo Alto, CA</td>\n",
       "      <td>94306</td>\n",
       "      <td>2017-02-08</td>\n",
       "      <td>...</td>\n",
       "      <td>121.0</td>\n",
       "      <td>0.100205</td>\n",
       "      <td>0.733407</td>\n",
       "      <td>0.632116</td>\n",
       "      <td>0.377408</td>\n",
       "      <td>0.514982</td>\n",
       "      <td>0.410378</td>\n",
       "      <td>0.283647</td>\n",
       "      <td>0.274317</td>\n",
       "      <td>0</td>\n",
       "    </tr>\n",
       "    <tr>\n",
       "      <th>1</th>\n",
       "      <td>eLab Accelerator</td>\n",
       "      <td>123484-96</td>\n",
       "      <td>Zunn Labs</td>\n",
       "      <td>Developer of application controlled LED lights...</td>\n",
       "      <td>7.0</td>\n",
       "      <td>846.0</td>\n",
       "      <td>-0.021589</td>\n",
       "      <td>Los Angeles, CA</td>\n",
       "      <td>90025</td>\n",
       "      <td>2014-12-20</td>\n",
       "      <td>...</td>\n",
       "      <td>902.0</td>\n",
       "      <td>0.049665</td>\n",
       "      <td>0.779365</td>\n",
       "      <td>0.711512</td>\n",
       "      <td>0.145806</td>\n",
       "      <td>0.339845</td>\n",
       "      <td>0.164799</td>\n",
       "      <td>0.363050</td>\n",
       "      <td>0.319869</td>\n",
       "      <td>0</td>\n",
       "    </tr>\n",
       "    <tr>\n",
       "      <th>2</th>\n",
       "      <td>NaN</td>\n",
       "      <td>170046-01</td>\n",
       "      <td>Zuma 4 Productions</td>\n",
       "      <td>The company is currently operating in Stealth ...</td>\n",
       "      <td>7.0</td>\n",
       "      <td>816.0</td>\n",
       "      <td>0.000000</td>\n",
       "      <td>Malibu, CA</td>\n",
       "      <td>90265</td>\n",
       "      <td>2017-01-26</td>\n",
       "      <td>...</td>\n",
       "      <td>134.0</td>\n",
       "      <td>0.031524</td>\n",
       "      <td>0.464414</td>\n",
       "      <td>0.785069</td>\n",
       "      <td>0.054562</td>\n",
       "      <td>0.769597</td>\n",
       "      <td>0.305475</td>\n",
       "      <td>0.179980</td>\n",
       "      <td>0.364754</td>\n",
       "      <td>0</td>\n",
       "    </tr>\n",
       "    <tr>\n",
       "      <th>3</th>\n",
       "      <td>NaN</td>\n",
       "      <td>102923-56</td>\n",
       "      <td>Zulu</td>\n",
       "      <td>Provider of a community-based grocery shopping...</td>\n",
       "      <td>6.0</td>\n",
       "      <td>21.0</td>\n",
       "      <td>0.000000</td>\n",
       "      <td>Sunnyvale, CA</td>\n",
       "      <td>94085</td>\n",
       "      <td>2014-06-01</td>\n",
       "      <td>...</td>\n",
       "      <td>1104.0</td>\n",
       "      <td>0.059154</td>\n",
       "      <td>0.267228</td>\n",
       "      <td>0.304023</td>\n",
       "      <td>0.097972</td>\n",
       "      <td>0.203800</td>\n",
       "      <td>0.136727</td>\n",
       "      <td>0.127828</td>\n",
       "      <td>0.000000</td>\n",
       "      <td>0</td>\n",
       "    </tr>\n",
       "    <tr>\n",
       "      <th>4</th>\n",
       "      <td>California Institute for Quantitative Bioscien...</td>\n",
       "      <td>123222-43</td>\n",
       "      <td>ZoneOne Pharma</td>\n",
       "      <td>Developer of nano-scale therapeutics. The comp...</td>\n",
       "      <td>7.0</td>\n",
       "      <td>816.0</td>\n",
       "      <td>0.000000</td>\n",
       "      <td>San Francisco, CA</td>\n",
       "      <td>94158</td>\n",
       "      <td>2015-05-01</td>\n",
       "      <td>...</td>\n",
       "      <td>770.0</td>\n",
       "      <td>0.043056</td>\n",
       "      <td>0.532335</td>\n",
       "      <td>0.665466</td>\n",
       "      <td>0.052714</td>\n",
       "      <td>0.502585</td>\n",
       "      <td>0.713422</td>\n",
       "      <td>0.101492</td>\n",
       "      <td>0.448915</td>\n",
       "      <td>0</td>\n",
       "    </tr>\n",
       "  </tbody>\n",
       "</table>\n",
       "<p>5 rows × 38 columns</p>\n",
       "</div>"
      ],
      "text/plain": [
       "                                    Active Investors Company ID  \\\n",
       "0                     500 Startups, Start Smart Labs  170123-59   \n",
       "1                                   eLab Accelerator  123484-96   \n",
       "2                                                NaN  170046-01   \n",
       "3                                                NaN  102923-56   \n",
       "4  California Institute for Quantitative Bioscien...  123222-43   \n",
       "\n",
       "         Company Name                                        Description  \\\n",
       "0         Zyudly Labs  Provider of cyber-security analytics and intel...   \n",
       "1           Zunn Labs  Developer of application controlled LED lights...   \n",
       "2  Zuma 4 Productions  The company is currently operating in Stealth ...   \n",
       "3                Zulu  Provider of a community-based grocery shopping...   \n",
       "4      ZoneOne Pharma  Developer of nano-scale therapeutics. The comp...   \n",
       "\n",
       "   Employees  Facebook Likes  Growth Rate        HQ Location HQ Post Code  \\\n",
       "0        7.0           103.0     0.118048      Palo Alto, CA        94306   \n",
       "1        7.0           846.0    -0.021589    Los Angeles, CA        90025   \n",
       "2        7.0           816.0     0.000000         Malibu, CA        90265   \n",
       "3        6.0            21.0     0.000000      Sunnyvale, CA        94085   \n",
       "4        7.0           816.0     0.000000  San Francisco, CA        94158   \n",
       "\n",
       "  Last Financing Date    ...    days_since_offer   disgust  \\\n",
       "0          2017-02-08    ...               121.0  0.100205   \n",
       "1          2014-12-20    ...               902.0  0.049665   \n",
       "2          2017-01-26    ...               134.0  0.031524   \n",
       "3          2014-06-01    ...              1104.0  0.059154   \n",
       "4          2015-05-01    ...               770.0  0.043056   \n",
       "\n",
       "   emotional_range_big5  extraversion_big5      fear       joy  openness_big5  \\\n",
       "0              0.733407           0.632116  0.377408  0.514982       0.410378   \n",
       "1              0.779365           0.711512  0.145806  0.339845       0.164799   \n",
       "2              0.464414           0.785069  0.054562  0.769597       0.305475   \n",
       "3              0.267228           0.304023  0.097972  0.203800       0.136727   \n",
       "4              0.532335           0.665466  0.052714  0.502585       0.713422   \n",
       "\n",
       "    sadness  tentative vc_invest  \n",
       "0  0.283647   0.274317         0  \n",
       "1  0.363050   0.319869         0  \n",
       "2  0.179980   0.364754         0  \n",
       "3  0.127828   0.000000         0  \n",
       "4  0.101492   0.448915         0  \n",
       "\n",
       "[5 rows x 38 columns]"
      ]
     },
     "execution_count": 14,
     "metadata": {},
     "output_type": "execute_result"
    }
   ],
   "source": [
    "combo_df.head()"
   ]
  },
  {
   "cell_type": "code",
   "execution_count": 15,
   "metadata": {},
   "outputs": [
    {
     "name": "stdout",
     "output_type": "stream",
     "text": [
      "<class 'pandas.core.frame.DataFrame'>\n",
      "Int64Index: 215 entries, 0 to 122\n",
      "Data columns (total 38 columns):\n",
      "Active Investors               176 non-null object\n",
      "Company ID                     215 non-null object\n",
      "Company Name                   215 non-null object\n",
      "Description                    215 non-null object\n",
      "Employees                      215 non-null float64\n",
      "Facebook Likes                 215 non-null float64\n",
      "Growth Rate                    215 non-null float64\n",
      "HQ Location                    215 non-null object\n",
      "HQ Post Code                   215 non-null object\n",
      "Last Financing Date            200 non-null object\n",
      "Last Financing Deal Type 2     93 non-null object\n",
      "Last Financing Size            215 non-null float64\n",
      "Last Financing Valuation       17 non-null float64\n",
      "Majestic Referring Domains     215 non-null float64\n",
      "Primary Contact                215 non-null object\n",
      "Primary Industry Code          215 non-null object\n",
      "Size Multiple                  215 non-null float64\n",
      "Total Raised                   215 non-null float64\n",
      "Twitter Followers              215 non-null float64\n",
      "Twitter_Username               215 non-null object\n",
      "Unnamed: 0                     215 non-null int64\n",
      "Unnamed: 0.1                   215 non-null int64\n",
      "Year Founded                   215 non-null float64\n",
      "agreeableness_big5             215 non-null float64\n",
      "analytical                     215 non-null float64\n",
      "anger                          215 non-null float64\n",
      "confident                      215 non-null float64\n",
      "conscientiousness_big5         215 non-null float64\n",
      "days_since_offer               92 non-null float64\n",
      "disgust                        215 non-null float64\n",
      "emotional_range_big5           215 non-null float64\n",
      "extraversion_big5              215 non-null float64\n",
      "fear                           215 non-null float64\n",
      "joy                            215 non-null float64\n",
      "openness_big5                  215 non-null float64\n",
      "sadness                        215 non-null float64\n",
      "tentative                      215 non-null float64\n",
      "vc_invest                      215 non-null int64\n",
      "dtypes: float64(24), int64(3), object(11)\n",
      "memory usage: 65.5+ KB\n"
     ]
    }
   ],
   "source": [
    "combo_df.info()"
   ]
  },
  {
   "cell_type": "markdown",
   "metadata": {
    "collapsed": true
   },
   "source": [
    "# Add in LDA feaures across all founders"
   ]
  },
  {
   "cell_type": "code",
   "execution_count": 310,
   "metadata": {
    "collapsed": true
   },
   "outputs": [],
   "source": [
    "mypath_vc_zero  = \"../data/raw/founders_tweets/vc_invest=0/\"\n",
    "mypath_vc_one = \"../data/raw/founders_tweets/vc_invest=1/\"\n",
    "\n",
    "\n",
    "# Get all the text from VC invest one and vc invest zero\n",
    "vc_doc_list = []\n",
    "vc_founder_company_name_handle_list = [] # founder names index corresponds to their doc in the vc doc list\n",
    "\n",
    "# vc invest one\n",
    "for f in listdir(mypath_vc_zero):\n",
    "\n",
    "    if isfile(join(mypath_vc_zero, f)):\n",
    "        founder_text = \"\"\n",
    "        with open(join(mypath_vc_zero, f),'rb') as fp:\n",
    "            founder_tweet = pickle.load(fp)\n",
    "            joined_text = founder_text.join(founder_tweet )\n",
    "            vc_doc_list.append(joined_text)\n",
    "            vc_founder_company_name_handle_list.append(f)\n",
    "\n",
    "            \n",
    "# vc invest zero\n",
    "for f in listdir(mypath_vc_one):\n",
    "    if isfile(join(mypath_vc_one, f)):\n",
    "        founder_text = \"\"\n",
    "        with open(join(mypath_vc_one, f),'rb') as fp:\n",
    "            founder_tweet = pickle.load(fp)\n",
    "            joined_text = founder_text.join(founder_tweet )\n",
    "            vc_doc_list.append(joined_text)\n",
    "            vc_founder_company_name_handle_list.append(f)\n",
    "            \n",
    "    \n",
    "    \n",
    "# number of features for LDA\n",
    "no_features  = 10_000\n",
    "\n",
    "\n",
    "# LDA can only use raw term counts for LDA because it is a probabilistic graphical model\n",
    "tf_vectorizer = CountVectorizer(max_df=0.95, min_df=1, max_features=no_features, stop_words='english')\n",
    "tf = tf_vectorizer.fit_transform(vc_doc_list)\n",
    "tf_feature_names = tf_vectorizer.get_feature_names()\n",
    "\n",
    "\n",
    "\n",
    "\n",
    "n_topics = 5\n",
    "\n",
    "\n",
    "\n",
    "\n",
    "\n",
    "lda_model = LatentDirichletAllocation(n_topics=n_topics, max_iter=5, \n",
    "                                      learning_method='online', learning_offset=50.,random_state=0).fit(tf)\n",
    "\n",
    "\n",
    "\n",
    "\n",
    "lda_W = lda_model.transform(tf) # documents as the rows, topics as the columns\n",
    "lda_H = lda_model.components_ # topics as the rows, words as the columns"
   ]
  },
  {
   "cell_type": "code",
   "execution_count": null,
   "metadata": {
    "collapsed": true
   },
   "outputs": [],
   "source": []
  },
  {
   "cell_type": "code",
   "execution_count": 311,
   "metadata": {},
   "outputs": [
    {
     "data": {
      "text/plain": [
       "'Spectafy-Eric Watson-EricWattage'"
      ]
     },
     "execution_count": 311,
     "metadata": {},
     "output_type": "execute_result"
    }
   ],
   "source": [
    "vc_founder_company_name_handle_list [0]"
   ]
  },
  {
   "cell_type": "code",
   "execution_count": 312,
   "metadata": {},
   "outputs": [],
   "source": [
    "def return_percent_of_topic(input_df, lda_W, vc_founder_company_name_handle_list):\n",
    "    \"Return a dataframe that has the percent of each topic for the given number of topics in the LDA model.\\\n",
    "    input_df should be the combined VC invest zero vc invest one dataframes\\\n",
    "    lda_w is the W matrix from the LDA decomposition rows are documents columns are topics\\\n",
    "    vc_founder_... is a list that shows the index of the text from each founder in the lda_W matrix\"\n",
    "    c = 0\n",
    "    num_topics =lda_W.shape[1] # number of topics for LDA\n",
    "    # create a new DF to return\n",
    "    new_df = input_df.copy()\n",
    "    # get a list of the LDA features\n",
    "    lda_topics = []\n",
    "    for row in input_df.iterrows():\n",
    "        row = row[1]\n",
    "        # Look up the index within the LDA model\n",
    "        key_lookup = row['Company Name']+\"-\"+row[\"Primary Contact\"]+\"-\"+row[\"Twitter_Username\"]\n",
    "        # index of the founders text for the LDA_W matrix\n",
    "        founder_index = vc_founder_company_name_handle_list.index(key_lookup)\n",
    "        lda_topics.append(lda_W[founder_index,:])\n",
    "\n",
    "    # the new topics\n",
    "    lda_topics = np.array(lda_topics)\n",
    "    # Get columns names\n",
    "    col_names = ['topic_'+str(i+1)+'_percent' for i in range(num_topics)]\n",
    "    # Create new data from to join on \n",
    "    topic_df = pd.DataFrame(lda_topics,columns=col_names)\n",
    "    # merge the dataframes together\n",
    "    final_df = topic_df.join(new_df)\n",
    "    return final_df\n",
    "        \n",
    "    \n",
    "#     for topic_idx, topic in enumerate(lda_W):\n",
    "#         for topic_percent in range(len(topic)):\n",
    "#             #print(f\"\"\"Document {topic_idx} has the following percent of each topic  {topic_percent} = {topic[topic_percent]:.2%}\"\"\")\n",
    "#             c +=1\n",
    "#             if c ==10:\n",
    "#                 break"
   ]
  },
  {
   "cell_type": "code",
   "execution_count": 313,
   "metadata": {},
   "outputs": [],
   "source": [
    "final_combo_df = return_percent_of_topic(combo_df,lda_W, vc_founder_company_name_handle_list)"
   ]
  },
  {
   "cell_type": "code",
   "execution_count": 314,
   "metadata": {},
   "outputs": [
    {
     "data": {
      "text/html": [
       "<div>\n",
       "<style>\n",
       "    .dataframe thead tr:only-child th {\n",
       "        text-align: right;\n",
       "    }\n",
       "\n",
       "    .dataframe thead th {\n",
       "        text-align: left;\n",
       "    }\n",
       "\n",
       "    .dataframe tbody tr th {\n",
       "        vertical-align: top;\n",
       "    }\n",
       "</style>\n",
       "<table border=\"1\" class=\"dataframe\">\n",
       "  <thead>\n",
       "    <tr style=\"text-align: right;\">\n",
       "      <th></th>\n",
       "      <th>topic_1_percent</th>\n",
       "      <th>topic_2_percent</th>\n",
       "      <th>topic_3_percent</th>\n",
       "      <th>topic_4_percent</th>\n",
       "      <th>topic_5_percent</th>\n",
       "      <th>Active Investors</th>\n",
       "      <th>Company ID</th>\n",
       "      <th>Company Name</th>\n",
       "      <th>Description</th>\n",
       "      <th>Employees</th>\n",
       "      <th>...</th>\n",
       "      <th>days_since_offer</th>\n",
       "      <th>disgust</th>\n",
       "      <th>emotional_range_big5</th>\n",
       "      <th>extraversion_big5</th>\n",
       "      <th>fear</th>\n",
       "      <th>joy</th>\n",
       "      <th>openness_big5</th>\n",
       "      <th>sadness</th>\n",
       "      <th>tentative</th>\n",
       "      <th>vc_invest</th>\n",
       "    </tr>\n",
       "  </thead>\n",
       "  <tbody>\n",
       "    <tr>\n",
       "      <th>0</th>\n",
       "      <td>0.000600</td>\n",
       "      <td>0.000611</td>\n",
       "      <td>0.000606</td>\n",
       "      <td>0.000606</td>\n",
       "      <td>0.997577</td>\n",
       "      <td>500 Startups, Start Smart Labs</td>\n",
       "      <td>170123-59</td>\n",
       "      <td>Zyudly Labs</td>\n",
       "      <td>Provider of cyber-security analytics and intel...</td>\n",
       "      <td>7.0</td>\n",
       "      <td>...</td>\n",
       "      <td>121.0</td>\n",
       "      <td>0.100205</td>\n",
       "      <td>0.733407</td>\n",
       "      <td>0.632116</td>\n",
       "      <td>0.377408</td>\n",
       "      <td>0.514982</td>\n",
       "      <td>0.410378</td>\n",
       "      <td>0.283647</td>\n",
       "      <td>0.274317</td>\n",
       "      <td>0.0</td>\n",
       "    </tr>\n",
       "    <tr>\n",
       "      <th>0</th>\n",
       "      <td>0.000600</td>\n",
       "      <td>0.000611</td>\n",
       "      <td>0.000606</td>\n",
       "      <td>0.000606</td>\n",
       "      <td>0.997577</td>\n",
       "      <td>Bialla Venture Partners, National Science Foun...</td>\n",
       "      <td>62229-34</td>\n",
       "      <td>Zyante</td>\n",
       "      <td>Developer of animated, interactive learning ma...</td>\n",
       "      <td>32.0</td>\n",
       "      <td>...</td>\n",
       "      <td>NaN</td>\n",
       "      <td>0.045468</td>\n",
       "      <td>0.447831</td>\n",
       "      <td>0.567102</td>\n",
       "      <td>0.053601</td>\n",
       "      <td>0.532597</td>\n",
       "      <td>0.228463</td>\n",
       "      <td>0.353646</td>\n",
       "      <td>0.231589</td>\n",
       "      <td>1.0</td>\n",
       "    </tr>\n",
       "    <tr>\n",
       "      <th>1</th>\n",
       "      <td>0.000944</td>\n",
       "      <td>0.321392</td>\n",
       "      <td>0.000959</td>\n",
       "      <td>0.000952</td>\n",
       "      <td>0.675753</td>\n",
       "      <td>eLab Accelerator</td>\n",
       "      <td>123484-96</td>\n",
       "      <td>Zunn Labs</td>\n",
       "      <td>Developer of application controlled LED lights...</td>\n",
       "      <td>7.0</td>\n",
       "      <td>...</td>\n",
       "      <td>902.0</td>\n",
       "      <td>0.049665</td>\n",
       "      <td>0.779365</td>\n",
       "      <td>0.711512</td>\n",
       "      <td>0.145806</td>\n",
       "      <td>0.339845</td>\n",
       "      <td>0.164799</td>\n",
       "      <td>0.363050</td>\n",
       "      <td>0.319869</td>\n",
       "      <td>0.0</td>\n",
       "    </tr>\n",
       "    <tr>\n",
       "      <th>1</th>\n",
       "      <td>0.000944</td>\n",
       "      <td>0.321392</td>\n",
       "      <td>0.000959</td>\n",
       "      <td>0.000952</td>\n",
       "      <td>0.675753</td>\n",
       "      <td>COLOPL, Max Levchin, Novator Partners, Samchul...</td>\n",
       "      <td>117491-32</td>\n",
       "      <td>Zwift</td>\n",
       "      <td>Provider of interactive fitness entertainment ...</td>\n",
       "      <td>70.0</td>\n",
       "      <td>...</td>\n",
       "      <td>NaN</td>\n",
       "      <td>0.265767</td>\n",
       "      <td>0.373390</td>\n",
       "      <td>0.395457</td>\n",
       "      <td>0.112630</td>\n",
       "      <td>0.262345</td>\n",
       "      <td>0.427759</td>\n",
       "      <td>0.307834</td>\n",
       "      <td>0.858374</td>\n",
       "      <td>1.0</td>\n",
       "    </tr>\n",
       "    <tr>\n",
       "      <th>2</th>\n",
       "      <td>0.718866</td>\n",
       "      <td>0.280629</td>\n",
       "      <td>0.000169</td>\n",
       "      <td>0.000167</td>\n",
       "      <td>0.000168</td>\n",
       "      <td>NaN</td>\n",
       "      <td>170046-01</td>\n",
       "      <td>Zuma 4 Productions</td>\n",
       "      <td>The company is currently operating in Stealth ...</td>\n",
       "      <td>7.0</td>\n",
       "      <td>...</td>\n",
       "      <td>134.0</td>\n",
       "      <td>0.031524</td>\n",
       "      <td>0.464414</td>\n",
       "      <td>0.785069</td>\n",
       "      <td>0.054562</td>\n",
       "      <td>0.769597</td>\n",
       "      <td>0.305475</td>\n",
       "      <td>0.179980</td>\n",
       "      <td>0.364754</td>\n",
       "      <td>0.0</td>\n",
       "    </tr>\n",
       "  </tbody>\n",
       "</table>\n",
       "<p>5 rows × 43 columns</p>\n",
       "</div>"
      ],
      "text/plain": [
       "   topic_1_percent  topic_2_percent  topic_3_percent  topic_4_percent  \\\n",
       "0         0.000600         0.000611         0.000606         0.000606   \n",
       "0         0.000600         0.000611         0.000606         0.000606   \n",
       "1         0.000944         0.321392         0.000959         0.000952   \n",
       "1         0.000944         0.321392         0.000959         0.000952   \n",
       "2         0.718866         0.280629         0.000169         0.000167   \n",
       "\n",
       "   topic_5_percent                                   Active Investors  \\\n",
       "0         0.997577                     500 Startups, Start Smart Labs   \n",
       "0         0.997577  Bialla Venture Partners, National Science Foun...   \n",
       "1         0.675753                                   eLab Accelerator   \n",
       "1         0.675753  COLOPL, Max Levchin, Novator Partners, Samchul...   \n",
       "2         0.000168                                                NaN   \n",
       "\n",
       "  Company ID        Company Name  \\\n",
       "0  170123-59         Zyudly Labs   \n",
       "0   62229-34              Zyante   \n",
       "1  123484-96           Zunn Labs   \n",
       "1  117491-32               Zwift   \n",
       "2  170046-01  Zuma 4 Productions   \n",
       "\n",
       "                                         Description  Employees    ...     \\\n",
       "0  Provider of cyber-security analytics and intel...        7.0    ...      \n",
       "0  Developer of animated, interactive learning ma...       32.0    ...      \n",
       "1  Developer of application controlled LED lights...        7.0    ...      \n",
       "1  Provider of interactive fitness entertainment ...       70.0    ...      \n",
       "2  The company is currently operating in Stealth ...        7.0    ...      \n",
       "\n",
       "   days_since_offer   disgust emotional_range_big5 extraversion_big5  \\\n",
       "0             121.0  0.100205             0.733407          0.632116   \n",
       "0               NaN  0.045468             0.447831          0.567102   \n",
       "1             902.0  0.049665             0.779365          0.711512   \n",
       "1               NaN  0.265767             0.373390          0.395457   \n",
       "2             134.0  0.031524             0.464414          0.785069   \n",
       "\n",
       "       fear       joy  openness_big5   sadness  tentative vc_invest  \n",
       "0  0.377408  0.514982       0.410378  0.283647   0.274317       0.0  \n",
       "0  0.053601  0.532597       0.228463  0.353646   0.231589       1.0  \n",
       "1  0.145806  0.339845       0.164799  0.363050   0.319869       0.0  \n",
       "1  0.112630  0.262345       0.427759  0.307834   0.858374       1.0  \n",
       "2  0.054562  0.769597       0.305475  0.179980   0.364754       0.0  \n",
       "\n",
       "[5 rows x 43 columns]"
      ]
     },
     "execution_count": 314,
     "metadata": {},
     "output_type": "execute_result"
    }
   ],
   "source": [
    "final_combo_df.head()"
   ]
  },
  {
   "cell_type": "code",
   "execution_count": 315,
   "metadata": {},
   "outputs": [
    {
     "data": {
      "text/plain": [
       "Index(['topic_1_percent', 'topic_2_percent', 'topic_3_percent',\n",
       "       'topic_4_percent', 'topic_5_percent', 'Active Investors', 'Company ID',\n",
       "       'Company Name', 'Description', 'Employees', 'Facebook Likes',\n",
       "       'Growth Rate', 'HQ Location', 'HQ Post Code', 'Last Financing Date',\n",
       "       'Last Financing Deal Type 2 ', 'Last Financing Size',\n",
       "       'Last Financing Valuation', 'Majestic Referring Domains',\n",
       "       'Primary Contact', 'Primary Industry Code', 'Size Multiple',\n",
       "       'Total Raised', 'Twitter Followers', 'Twitter_Username', 'Unnamed: 0',\n",
       "       'Unnamed: 0.1', 'Year Founded', 'agreeableness_big5', 'analytical',\n",
       "       'anger', 'confident', 'conscientiousness_big5', 'days_since_offer',\n",
       "       'disgust', 'emotional_range_big5', 'extraversion_big5', 'fear', 'joy',\n",
       "       'openness_big5', 'sadness', 'tentative', 'vc_invest'],\n",
       "      dtype='object')"
      ]
     },
     "execution_count": 315,
     "metadata": {},
     "output_type": "execute_result"
    }
   ],
   "source": [
    "final_combo_df.columns"
   ]
  },
  {
   "cell_type": "markdown",
   "metadata": {},
   "source": [
    "# Select columns for the data model\n",
    "- Company ID  (primary key)\n",
    "- Employees\n",
    "- Facebook Likes\n",
    "- Growth Rate\n",
    "- HQ Post Code\n",
    "- Last Financing Size\n",
    "- Majestic Referring Domains\n",
    "- Primary Industry Code( use PD get dummies to use in model)\n",
    "- Size Multiple\n",
    "- Total Raised\n",
    "- Twitter Followers\n",
    "- Year Founded\n",
    "- agreeableness_big5\n",
    "- analytical\n",
    "- anger\n",
    "- confident\n",
    "- conscientiousness_big5\n",
    "- disgust\n",
    "- emotional_range_big5\n",
    "- extraversion_big5\n",
    "- fear\n",
    "- joy \n",
    "- openness_big5\n",
    "- sadness\n",
    "- tentative\n",
    "- vc_invest (columns to predict)\n",
    "- topics 1-15"
   ]
  },
  {
   "cell_type": "code",
   "execution_count": 316,
   "metadata": {
    "collapsed": true
   },
   "outputs": [],
   "source": [
    "training_df = final_combo_df[['Company ID', 'Employees','Facebook Likes','Growth Rate','HQ Post Code','Last Financing Size',\n",
    "         'Majestic Referring Domains','Primary Industry Code','Size Multiple','Total Raised','Twitter Followers',\n",
    "         'Year Founded','agreeableness_big5','analytical','anger','confident','conscientiousness_big5',\n",
    "         'disgust','emotional_range_big5','extraversion_big5','fear','joy','openness_big5','sadness','tentative',\n",
    "         'vc_invest','topic_1_percent', 'topic_2_percent', 'topic_3_percent',\n",
    "       'topic_4_percent', 'topic_5_percent']]"
   ]
  },
  {
   "cell_type": "markdown",
   "metadata": {},
   "source": [
    "### Turn HQ Post Code into an int"
   ]
  },
  {
   "cell_type": "code",
   "execution_count": 317,
   "metadata": {
    "collapsed": true
   },
   "outputs": [],
   "source": [
    "hq_post_code = []\n",
    "cleaned_final_df = training_df .copy()\n",
    "for row in training_df['HQ Post Code']:\n",
    "    try:\n",
    "        hq_post_code.append(int(row))\n",
    "    except:\n",
    "        hq_post_code.append(\"NaN\")"
   ]
  },
  {
   "cell_type": "code",
   "execution_count": 318,
   "metadata": {
    "collapsed": true
   },
   "outputs": [],
   "source": [
    "cleaned_final_df ['HQ_post_code'] = hq_post_code"
   ]
  },
  {
   "cell_type": "code",
   "execution_count": 319,
   "metadata": {
    "collapsed": true
   },
   "outputs": [],
   "source": [
    "cleaned_final_df .drop(['HQ Post Code'],axis=1,inplace=True)"
   ]
  },
  {
   "cell_type": "code",
   "execution_count": 320,
   "metadata": {
    "collapsed": true
   },
   "outputs": [],
   "source": [
    "cleaned_final_df = cleaned_final_df[cleaned_final_df['HQ_post_code']!='NaN']"
   ]
  },
  {
   "cell_type": "code",
   "execution_count": 321,
   "metadata": {
    "collapsed": true
   },
   "outputs": [],
   "source": [
    " cleaned_final_df.HQ_post_code = cleaned_final_df.HQ_post_code.astype('int64')"
   ]
  },
  {
   "cell_type": "code",
   "execution_count": 322,
   "metadata": {},
   "outputs": [
    {
     "name": "stdout",
     "output_type": "stream",
     "text": [
      "<class 'pandas.core.frame.DataFrame'>\n",
      "Int64Index: 210 entries, 0 to 122\n",
      "Data columns (total 31 columns):\n",
      "Company ID                    210 non-null object\n",
      "Employees                     210 non-null float64\n",
      "Facebook Likes                210 non-null float64\n",
      "Growth Rate                   210 non-null float64\n",
      "Last Financing Size           210 non-null float64\n",
      "Majestic Referring Domains    210 non-null float64\n",
      "Primary Industry Code         210 non-null object\n",
      "Size Multiple                 210 non-null float64\n",
      "Total Raised                  210 non-null float64\n",
      "Twitter Followers             210 non-null float64\n",
      "Year Founded                  210 non-null float64\n",
      "agreeableness_big5            210 non-null float64\n",
      "analytical                    210 non-null float64\n",
      "anger                         210 non-null float64\n",
      "confident                     210 non-null float64\n",
      "conscientiousness_big5        210 non-null float64\n",
      "disgust                       210 non-null float64\n",
      "emotional_range_big5          210 non-null float64\n",
      "extraversion_big5             210 non-null float64\n",
      "fear                          210 non-null float64\n",
      "joy                           210 non-null float64\n",
      "openness_big5                 210 non-null float64\n",
      "sadness                       210 non-null float64\n",
      "tentative                     210 non-null float64\n",
      "vc_invest                     210 non-null float64\n",
      "topic_1_percent               210 non-null float64\n",
      "topic_2_percent               210 non-null float64\n",
      "topic_3_percent               210 non-null float64\n",
      "topic_4_percent               210 non-null float64\n",
      "topic_5_percent               210 non-null float64\n",
      "HQ_post_code                  210 non-null int64\n",
      "dtypes: float64(28), int64(1), object(2)\n",
      "memory usage: 52.5+ KB\n"
     ]
    }
   ],
   "source": [
    " cleaned_final_df.info()"
   ]
  },
  {
   "cell_type": "markdown",
   "metadata": {},
   "source": [
    "# Turn company ID into an int"
   ]
  },
  {
   "cell_type": "code",
   "execution_count": 323,
   "metadata": {
    "collapsed": true
   },
   "outputs": [],
   "source": [
    "int_company_id = []\n",
    "for row in cleaned_final_df['Company ID']:\n",
    "    new_id = \"\"\n",
    "    first,second = row.split(\"-\")\n",
    "    new_id+=first\n",
    "    new_id+=second\n",
    "    int_company_id.append(int(new_id))"
   ]
  },
  {
   "cell_type": "code",
   "execution_count": 324,
   "metadata": {
    "collapsed": true
   },
   "outputs": [],
   "source": [
    " cleaned_final_df['company_id'] = int_company_id"
   ]
  },
  {
   "cell_type": "code",
   "execution_count": 325,
   "metadata": {
    "collapsed": true
   },
   "outputs": [],
   "source": [
    "# drop the old company id\n",
    "cleaned_final_df.drop(['Company ID'],axis=1,inplace=True)"
   ]
  },
  {
   "cell_type": "markdown",
   "metadata": {},
   "source": [
    "## Add a one hot encoding for the primary industry"
   ]
  },
  {
   "cell_type": "code",
   "execution_count": 326,
   "metadata": {
    "collapsed": true
   },
   "outputs": [],
   "source": [
    "final_training_df = pd.get_dummies(cleaned_final_df['Primary Industry Code'])"
   ]
  },
  {
   "cell_type": "code",
   "execution_count": 327,
   "metadata": {},
   "outputs": [
    {
     "data": {
      "text/plain": [
       "Index(['Aerospace and Defense', 'Alternative Energy Equipment',\n",
       "       'Application Software', 'Application Specific Semiconductors',\n",
       "       'Automation/Workflow Software', 'Automotive', 'Beverages',\n",
       "       'Broadcasting, Radio and Television', 'Business/Productivity Software',\n",
       "       'Communication Software', 'Consulting Services (B2B)',\n",
       "       'Consumer Finance', 'Database Software', 'Drug Discovery',\n",
       "       'Education and Training Services (B2B)',\n",
       "       'Educational and Training Services (B2C)', 'Electrical Equipment',\n",
       "       'Electronic Components', 'Electronics (B2C)', 'Energy Exploration',\n",
       "       'Energy Production', 'Enterprise Systems (Healthcare)',\n",
       "       'Entertainment Software', 'Environmental Services (B2B)',\n",
       "       'Food Products', 'General Purpose Semiconductors', 'Hotels and Resorts',\n",
       "       'Human Capital Services', 'Information Services (B2C)',\n",
       "       'Internet Retail', 'Legal Services (B2C)', 'Leisure Facilities',\n",
       "       'Logistics', 'Media and Information Services (B2B)',\n",
       "       'Movies, Music and Entertainment', 'Network Management Software',\n",
       "       'Other Business Products and Services', 'Other Commercial Products',\n",
       "       'Other Commercial Services', 'Other Consumer Durables',\n",
       "       'Other Consumer Products and Services', 'Other Devices and Supplies',\n",
       "       'Other Energy Services', 'Other Financial Services',\n",
       "       'Other Healthcare Services', 'Other Healthcare Technology Systems',\n",
       "       'Other Restaurants, Hotels and Leisure', 'Other Software',\n",
       "       'Private Equity', 'Publishing', 'Real Estate Services (B2C)',\n",
       "       'Security Services (B2B)', 'Social Content', 'Social/Platform Software',\n",
       "       'Specialty Retail', 'Surgical Devices', 'Therapeutic Devices',\n",
       "       'Water Utilities', 'Wireless Service Providers'],\n",
       "      dtype='object')"
      ]
     },
     "execution_count": 327,
     "metadata": {},
     "output_type": "execute_result"
    }
   ],
   "source": [
    "final_training_df.columns"
   ]
  },
  {
   "cell_type": "code",
   "execution_count": 328,
   "metadata": {
    "collapsed": true
   },
   "outputs": [],
   "source": [
    "training_df = pd.concat(objs=[cleaned_final_df,final_training_df],axis=1)"
   ]
  },
  {
   "cell_type": "code",
   "execution_count": 329,
   "metadata": {
    "collapsed": true
   },
   "outputs": [],
   "source": [
    "cols = training_df.columns"
   ]
  },
  {
   "cell_type": "code",
   "execution_count": 363,
   "metadata": {},
   "outputs": [],
   "source": [
    "# move vc_invest to the first columns\n",
    "# removed Last fundraiing size and total raise\n",
    "# removed 'company_id',\n",
    "training_df = training_df[['vc_invest', 'Employees', 'Facebook Likes', 'Growth Rate',\n",
    "        'Majestic Referring Domains',\n",
    "        'Size Multiple', \n",
    "       'Twitter Followers', 'Year Founded', 'agreeableness_big5', 'analytical',\n",
    "       'anger', 'confident', 'conscientiousness_big5', 'disgust',\n",
    "       'emotional_range_big5', 'extraversion_big5', 'fear', 'joy',\n",
    "       'openness_big5', 'sadness', 'tentative', 'HQ_post_code',\n",
    "        'topic_1_percent', 'topic_2_percent', 'topic_3_percent',\n",
    "       'topic_4_percent', 'topic_5_percent',\n",
    "       \n",
    "                           \n",
    "       'Aerospace and Defense', 'Alternative Energy Equipment',\n",
    "       'Application Software', 'Application Specific Semiconductors',\n",
    "       'Automation/Workflow Software', 'Automotive', 'Beverages',\n",
    "       'Broadcasting, Radio and Television', 'Business/Productivity Software',\n",
    "       'Communication Software', 'Consulting Services (B2B)',\n",
    "       'Consumer Finance', 'Database Software', 'Drug Discovery',\n",
    "       'Education and Training Services (B2B)',\n",
    "       'Educational and Training Services (B2C)', 'Electrical Equipment',\n",
    "       'Electronic Components', 'Electronics (B2C)', 'Energy Exploration',\n",
    "       'Energy Production', 'Enterprise Systems (Healthcare)',\n",
    "       'Entertainment Software', 'Environmental Services (B2B)',\n",
    "       'Food Products', 'General Purpose Semiconductors', 'Hotels and Resorts',\n",
    "       'Human Capital Services', 'Information Services (B2C)',\n",
    "       'Internet Retail', 'Legal Services (B2C)', 'Leisure Facilities',\n",
    "       'Logistics', 'Media and Information Services (B2B)',\n",
    "       'Movies, Music and Entertainment', 'Network Management Software',\n",
    "       'Other Business Products and Services', 'Other Commercial Products',\n",
    "       'Other Commercial Services', 'Other Consumer Durables',\n",
    "       'Other Consumer Products and Services', 'Other Devices and Supplies',\n",
    "       'Other Energy Services', 'Other Financial Services',\n",
    "       'Other Healthcare Services', 'Other Healthcare Technology Systems',\n",
    "       'Other Restaurants, Hotels and Leisure', 'Other Software',\n",
    "       'Private Equity', 'Publishing', 'Real Estate Services (B2C)',\n",
    "       'Security Services (B2B)', 'Social Content', 'Social/Platform Software',\n",
    "       'Specialty Retail', 'Surgical Devices', 'Therapeutic Devices',\n",
    "       'Water Utilities', 'Wireless Service Providers']]"
   ]
  },
  {
   "cell_type": "markdown",
   "metadata": {},
   "source": []
  },
  {
   "cell_type": "code",
   "execution_count": null,
   "metadata": {
    "collapsed": true
   },
   "outputs": [],
   "source": []
  },
  {
   "cell_type": "code",
   "execution_count": null,
   "metadata": {
    "collapsed": true
   },
   "outputs": [],
   "source": []
  },
  {
   "cell_type": "markdown",
   "metadata": {},
   "source": [
    "# EDA"
   ]
  },
  {
   "cell_type": "code",
   "execution_count": 364,
   "metadata": {},
   "outputs": [
    {
     "data": {
      "image/png": "[encoded data removed]",
      "text/plain": [
       "<matplotlib.figure.Figure at 0x11b1bc5f8>"
      ]
     },
     "metadata": {},
     "output_type": "display_data"
    }
   ],
   "source": [
    "plt.figure(figsize=(15,12))\n",
    "sns.heatmap(training_df.iloc[:,:50].corr());"
   ]
  },
  {
   "cell_type": "markdown",
   "metadata": {},
   "source": [
    "## Last financing size by vc invest type\n",
    "- People with VC funding are raising significantly more more"
   ]
  },
  {
   "cell_type": "code",
   "execution_count": 643,
   "metadata": {
    "collapsed": true
   },
   "outputs": [],
   "source": [
    "vc_invest_0 = training_df[training_df.vc_invest==0]['Last Financing Size']*1_000_000"
   ]
  },
  {
   "cell_type": "code",
   "execution_count": 644,
   "metadata": {
    "collapsed": true
   },
   "outputs": [],
   "source": [
    "vc_invest_1 = training_df[training_df.vc_invest==1]['Last Financing Size']*1_000_000"
   ]
  },
  {
   "cell_type": "code",
   "execution_count": 645,
   "metadata": {},
   "outputs": [
    {
     "data": {
      "text/plain": [
       "33.333333333333336"
      ]
     },
     "execution_count": 645,
     "metadata": {},
     "output_type": "execute_result"
    }
   ],
   "source": [
    "vc_invest_1 .describe()['50%']/ vc_invest_0 .describe()['50%']"
   ]
  },
  {
   "cell_type": "code",
   "execution_count": 646,
   "metadata": {},
   "outputs": [
    {
     "data": {
      "text/plain": [
       "11176440.677966101"
      ]
     },
     "execution_count": 646,
     "metadata": {},
     "output_type": "execute_result"
    }
   ],
   "source": [
    "vc_invest_1 .describe()['mean']"
   ]
  },
  {
   "cell_type": "code",
   "execution_count": 647,
   "metadata": {},
   "outputs": [
    {
     "data": {
      "text/plain": [
       "<matplotlib.axes._subplots.AxesSubplot at 0x12020d860>"
      ]
     },
     "execution_count": 647,
     "metadata": {},
     "output_type": "execute_result"
    },
    {
     "data": {
      "image/png": "[encoded data removed]",
      "text/plain": [
       "<matplotlib.figure.Figure at 0x120614668>"
      ]
     },
     "metadata": {},
     "output_type": "display_data"
    }
   ],
   "source": [
    "vc_invest_0.plot(kind='kde')\n"
   ]
  },
  {
   "cell_type": "code",
   "execution_count": 648,
   "metadata": {},
   "outputs": [
    {
     "data": {
      "text/plain": [
       "<matplotlib.axes._subplots.AxesSubplot at 0x11fdbea90>"
      ]
     },
     "execution_count": 648,
     "metadata": {},
     "output_type": "execute_result"
    },
    {
     "data": {
      "image/png": "[encoded data removed]",
      "text/plain": [
       "<matplotlib.figure.Figure at 0x11f85b390>"
      ]
     },
     "metadata": {},
     "output_type": "display_data"
    }
   ],
   "source": [
    "vc_invest_1 .plot(kind='kde')"
   ]
  },
  {
   "cell_type": "markdown",
   "metadata": {},
   "source": [
    "# Look at the number of employees between VCinvest 1 VCinvest 0"
   ]
  },
  {
   "cell_type": "code",
   "execution_count": 649,
   "metadata": {},
   "outputs": [
    {
     "data": {
      "text/plain": [
       "<matplotlib.axes._subplots.AxesSubplot at 0x120198b70>"
      ]
     },
     "execution_count": 649,
     "metadata": {},
     "output_type": "execute_result"
    },
    {
     "data": {
      "image/png": "[encoded data removed]",
      "text/plain": [
       "<matplotlib.figure.Figure at 0x11fd08668>"
      ]
     },
     "metadata": {},
     "output_type": "display_data"
    }
   ],
   "source": [
    "training_df[training_df.vc_invest==0]['Employees'].plot(kind='kde')\n"
   ]
  },
  {
   "cell_type": "code",
   "execution_count": 650,
   "metadata": {},
   "outputs": [
    {
     "data": {
      "text/plain": [
       "<matplotlib.axes._subplots.AxesSubplot at 0x11e4e2860>"
      ]
     },
     "execution_count": 650,
     "metadata": {},
     "output_type": "execute_result"
    },
    {
     "data": {
      "image/png": "[encoded data removed]",
      "text/plain": [
       "<matplotlib.figure.Figure at 0x11e3ddd68>"
      ]
     },
     "metadata": {},
     "output_type": "display_data"
    }
   ],
   "source": [
    "training_df[training_df.vc_invest==1]['Employees'].plot(kind='kde')"
   ]
  },
  {
   "cell_type": "code",
   "execution_count": 651,
   "metadata": {},
   "outputs": [
    {
     "data": {
      "text/plain": [
       "count      118.000000\n",
       "mean       140.338983\n",
       "std       1102.688263\n",
       "min          2.000000\n",
       "25%         11.000000\n",
       "50%         18.000000\n",
       "75%         40.750000\n",
       "max      12000.000000\n",
       "Name: Employees, dtype: float64"
      ]
     },
     "execution_count": 651,
     "metadata": {},
     "output_type": "execute_result"
    }
   ],
   "source": [
    "training_df[training_df.vc_invest==1]['Employees'].describe()"
   ]
  },
  {
   "cell_type": "code",
   "execution_count": 652,
   "metadata": {},
   "outputs": [
    {
     "data": {
      "text/plain": [
       "count    92.000000\n",
       "mean      8.228261\n",
       "std       6.975787\n",
       "min       1.000000\n",
       "25%       7.000000\n",
       "50%       7.000000\n",
       "75%       7.000000\n",
       "max      65.000000\n",
       "Name: Employees, dtype: float64"
      ]
     },
     "execution_count": 652,
     "metadata": {},
     "output_type": "execute_result"
    }
   ],
   "source": [
    "training_df[training_df.vc_invest==0]['Employees'].describe()"
   ]
  },
  {
   "cell_type": "code",
   "execution_count": null,
   "metadata": {
    "collapsed": true
   },
   "outputs": [],
   "source": []
  },
  {
   "cell_type": "code",
   "execution_count": null,
   "metadata": {
    "collapsed": true
   },
   "outputs": [],
   "source": []
  },
  {
   "cell_type": "code",
   "execution_count": null,
   "metadata": {
    "collapsed": true
   },
   "outputs": [],
   "source": []
  },
  {
   "cell_type": "code",
   "execution_count": null,
   "metadata": {
    "collapsed": true
   },
   "outputs": [],
   "source": []
  },
  {
   "cell_type": "code",
   "execution_count": null,
   "metadata": {
    "collapsed": true
   },
   "outputs": [],
   "source": []
  },
  {
   "cell_type": "markdown",
   "metadata": {},
   "source": [
    "# train test split"
   ]
  },
  {
   "cell_type": "code",
   "execution_count": 365,
   "metadata": {
    "collapsed": true
   },
   "outputs": [],
   "source": [
    "x_all, y_all = training_df.iloc[:,1:], training_df.iloc[:,0]"
   ]
  },
  {
   "cell_type": "code",
   "execution_count": 366,
   "metadata": {},
   "outputs": [
    {
     "data": {
      "text/plain": [
       "Index(['Employees', 'Facebook Likes', 'Growth Rate',\n",
       "       'Majestic Referring Domains', 'Size Multiple', 'Twitter Followers',\n",
       "       'Year Founded', 'agreeableness_big5', 'analytical', 'anger',\n",
       "       'confident', 'conscientiousness_big5', 'disgust',\n",
       "       'emotional_range_big5', 'extraversion_big5', 'fear', 'joy',\n",
       "       'openness_big5', 'sadness', 'tentative', 'HQ_post_code',\n",
       "       'topic_1_percent', 'topic_2_percent', 'topic_3_percent',\n",
       "       'topic_4_percent', 'topic_5_percent', 'Aerospace and Defense',\n",
       "       'Alternative Energy Equipment', 'Application Software',\n",
       "       'Application Specific Semiconductors', 'Automation/Workflow Software',\n",
       "       'Automotive', 'Beverages', 'Broadcasting, Radio and Television',\n",
       "       'Business/Productivity Software', 'Communication Software',\n",
       "       'Consulting Services (B2B)', 'Consumer Finance', 'Database Software',\n",
       "       'Drug Discovery', 'Education and Training Services (B2B)',\n",
       "       'Educational and Training Services (B2C)', 'Electrical Equipment',\n",
       "       'Electronic Components', 'Electronics (B2C)', 'Energy Exploration',\n",
       "       'Energy Production', 'Enterprise Systems (Healthcare)',\n",
       "       'Entertainment Software', 'Environmental Services (B2B)',\n",
       "       'Food Products', 'General Purpose Semiconductors', 'Hotels and Resorts',\n",
       "       'Human Capital Services', 'Information Services (B2C)',\n",
       "       'Internet Retail', 'Legal Services (B2C)', 'Leisure Facilities',\n",
       "       'Logistics', 'Media and Information Services (B2B)',\n",
       "       'Movies, Music and Entertainment', 'Network Management Software',\n",
       "       'Other Business Products and Services', 'Other Commercial Products',\n",
       "       'Other Commercial Services', 'Other Consumer Durables',\n",
       "       'Other Consumer Products and Services', 'Other Devices and Supplies',\n",
       "       'Other Energy Services', 'Other Financial Services',\n",
       "       'Other Healthcare Services', 'Other Healthcare Technology Systems',\n",
       "       'Other Restaurants, Hotels and Leisure', 'Other Software',\n",
       "       'Private Equity', 'Publishing', 'Real Estate Services (B2C)',\n",
       "       'Security Services (B2B)', 'Social Content', 'Social/Platform Software',\n",
       "       'Specialty Retail', 'Surgical Devices', 'Therapeutic Devices',\n",
       "       'Water Utilities', 'Wireless Service Providers'],\n",
       "      dtype='object')"
      ]
     },
     "execution_count": 366,
     "metadata": {},
     "output_type": "execute_result"
    }
   ],
   "source": [
    "x_all.columns"
   ]
  },
  {
   "cell_type": "code",
   "execution_count": 367,
   "metadata": {
    "collapsed": true
   },
   "outputs": [],
   "source": [
    "X_train, X_val, y_train, y_val  = train_test_split(x_all,y_all,test_size=.25) # test is the final holdout set"
   ]
  },
  {
   "cell_type": "code",
   "execution_count": 368,
   "metadata": {
    "collapsed": true
   },
   "outputs": [],
   "source": [
    "X_train_, X_test, y_train_, y_test  = train_test_split(X_train,y_train,test_size=.20) "
   ]
  },
  {
   "cell_type": "code",
   "execution_count": 369,
   "metadata": {},
   "outputs": [
    {
     "data": {
      "text/plain": [
       "(125, 85)"
      ]
     },
     "execution_count": 369,
     "metadata": {},
     "output_type": "execute_result"
    }
   ],
   "source": [
    "X_train_.shape #  training examples"
   ]
  },
  {
   "cell_type": "code",
   "execution_count": 370,
   "metadata": {},
   "outputs": [
    {
     "data": {
      "text/plain": [
       "(157, 1)"
      ]
     },
     "execution_count": 370,
     "metadata": {},
     "output_type": "execute_result"
    }
   ],
   "source": [
    "y_train.values.reshape(-1,1).shape"
   ]
  },
  {
   "cell_type": "code",
   "execution_count": 371,
   "metadata": {},
   "outputs": [
    {
     "data": {
      "text/plain": [
       "(32,)"
      ]
     },
     "execution_count": 371,
     "metadata": {},
     "output_type": "execute_result"
    }
   ],
   "source": [
    "y_test.shape"
   ]
  },
  {
   "cell_type": "markdown",
   "metadata": {},
   "source": [
    "# train random forest + Logistic Regression"
   ]
  },
  {
   "cell_type": "code",
   "execution_count": 372,
   "metadata": {
    "collapsed": true
   },
   "outputs": [],
   "source": [
    "rf_classify = RandomForestClassifier(n_estimators=300)\n",
    "log_regression = LogisticRegressionCV(cv = 3)"
   ]
  },
  {
   "cell_type": "code",
   "execution_count": 373,
   "metadata": {},
   "outputs": [
    {
     "name": "stderr",
     "output_type": "stream",
     "text": [
      "/Users/jonathanhilgart/anaconda/envs/nlp_founder/lib/python3.6/site-packages/ipykernel_launcher.py:1: DataConversionWarning: A column-vector y was passed when a 1d array was expected. Please change the shape of y to (n_samples,), for example using ravel().\n",
      "  \"\"\"Entry point for launching an IPython kernel.\n"
     ]
    },
    {
     "data": {
      "text/plain": [
       "RandomForestClassifier(bootstrap=True, class_weight=None, criterion='gini',\n",
       "            max_depth=None, max_features='auto', max_leaf_nodes=None,\n",
       "            min_impurity_split=1e-07, min_samples_leaf=1,\n",
       "            min_samples_split=2, min_weight_fraction_leaf=0.0,\n",
       "            n_estimators=300, n_jobs=1, oob_score=False, random_state=None,\n",
       "            verbose=0, warm_start=False)"
      ]
     },
     "execution_count": 373,
     "metadata": {},
     "output_type": "execute_result"
    }
   ],
   "source": [
    "rf_classify.fit(X_train_.values,y_train_.values.reshape(-1,1))"
   ]
  },
  {
   "cell_type": "code",
   "execution_count": 374,
   "metadata": {},
   "outputs": [
    {
     "name": "stderr",
     "output_type": "stream",
     "text": [
      "/Users/jonathanhilgart/anaconda/envs/nlp_founder/lib/python3.6/site-packages/sklearn/utils/validation.py:526: DataConversionWarning: A column-vector y was passed when a 1d array was expected. Please change the shape of y to (n_samples, ), for example using ravel().\n",
      "  y = column_or_1d(y, warn=True)\n"
     ]
    },
    {
     "data": {
      "text/plain": [
       "LogisticRegressionCV(Cs=10, class_weight=None, cv=3, dual=False,\n",
       "           fit_intercept=True, intercept_scaling=1.0, max_iter=100,\n",
       "           multi_class='ovr', n_jobs=1, penalty='l2', random_state=None,\n",
       "           refit=True, scoring=None, solver='lbfgs', tol=0.0001, verbose=0)"
      ]
     },
     "execution_count": 374,
     "metadata": {},
     "output_type": "execute_result"
    }
   ],
   "source": [
    "log_regression.fit(X_train_.values,y_train_.values.reshape(-1,1))"
   ]
  },
  {
   "cell_type": "code",
   "execution_count": 375,
   "metadata": {
    "collapsed": true
   },
   "outputs": [],
   "source": [
    "positive_prob_rf = rf_classify.predict_proba(X_test)[:,1] # 0 , 1 "
   ]
  },
  {
   "cell_type": "code",
   "execution_count": 376,
   "metadata": {
    "collapsed": true
   },
   "outputs": [],
   "source": [
    "positive_prob_log = log_regression.predict_proba(X_test)[:,1]"
   ]
  },
  {
   "cell_type": "code",
   "execution_count": 377,
   "metadata": {
    "collapsed": true
   },
   "outputs": [],
   "source": [
    "positive_binary_rf = rf_classify.predict(X_test)"
   ]
  },
  {
   "cell_type": "code",
   "execution_count": 378,
   "metadata": {
    "collapsed": true
   },
   "outputs": [],
   "source": [
    "positive_binary_log = log_regression.predict(X_test)"
   ]
  },
  {
   "cell_type": "code",
   "execution_count": 379,
   "metadata": {},
   "outputs": [
    {
     "name": "stdout",
     "output_type": "stream",
     "text": [
      "Accuracy is 81.25% with Random Forest\n"
     ]
    }
   ],
   "source": [
    "print(f\"Accuracy is {1-sum(positive_binary_rf != y_test)/len(y_test):.2%} with Random Forest\" )"
   ]
  },
  {
   "cell_type": "code",
   "execution_count": 380,
   "metadata": {},
   "outputs": [
    {
     "name": "stdout",
     "output_type": "stream",
     "text": [
      "Accuracy is 75.00% with Logistic Regression\n"
     ]
    }
   ],
   "source": [
    "print(f\"Accuracy is {1-sum(positive_binary_log!= y_test)/len(y_test):.2%} with Logistic Regression\" )"
   ]
  },
  {
   "cell_type": "markdown",
   "metadata": {},
   "source": [
    "### Precision and Recall - Cross Validation"
   ]
  },
  {
   "cell_type": "code",
   "execution_count": 381,
   "metadata": {
    "collapsed": true
   },
   "outputs": [],
   "source": [
    "precision_rf, recall_rf, thresholds_rf = precision_recall_curve(y_test , positive_prob_rf )\n",
    "precision_log, recall_log, thresholds_log = precision_recall_curve(y_test , positive_prob_log )\n"
   ]
  },
  {
   "cell_type": "code",
   "execution_count": 382,
   "metadata": {},
   "outputs": [],
   "source": [
    "recall"
   ]
  },
  {
   "cell_type": "code",
   "execution_count": 244,
   "metadata": {},
   "outputs": [
    {
     "data": {
      "text/plain": [
       "LogisticRegressionCV(Cs=10, class_weight=None, cv=3, dual=False,\n",
       "           fit_intercept=True, intercept_scaling=1.0, max_iter=100,\n",
       "           multi_class='ovr', n_jobs=1, penalty='l2', random_state=None,\n",
       "           refit=True, scoring=None, solver='lbfgs', tol=0.0001, verbose=0)"
      ]
     },
     "execution_count": 244,
     "metadata": {},
     "output_type": "execute_result"
    }
   ],
   "source": [
    "LogisticRegressionCV(Cs=10, class_weight=None, cv=3, dual=False,\n",
    "           fit_intercept=True, intercept_scaling=1.0, max_iter=100,\n",
    "           multi_class='ovr', n_jobs=1, penalty='l2', random_state=None,\n",
    "           refit=True, scoring=None, solver='lbfgs', tol=0.0001, verbose=0)"
   ]
  },
  {
   "cell_type": "code",
   "execution_count": 245,
   "metadata": {},
   "outputs": [
    {
     "data": {
      "text/plain": [
       "'%r'"
      ]
     },
     "execution_count": 245,
     "metadata": {},
     "output_type": "execute_result"
    }
   ],
   "source": [
    "precision"
   ]
  },
  {
   "cell_type": "code",
   "execution_count": 246,
   "metadata": {},
   "outputs": [
    {
     "ename": "NameError",
     "evalue": "name 'thresholds' is not defined",
     "output_type": "error",
     "traceback": [
      "\u001b[0;31m---------------------------------------------------------------------------\u001b[0m",
      "\u001b[0;31mNameError\u001b[0m                                 Traceback (most recent call last)",
      "\u001b[0;32m<ipython-input-246-3881831868a1>\u001b[0m in \u001b[0;36m<module>\u001b[0;34m()\u001b[0m\n\u001b[0;32m----> 1\u001b[0;31m \u001b[0mthresholds\u001b[0m\u001b[0;34m\u001b[0m\u001b[0m\n\u001b[0m",
      "\u001b[0;31mNameError\u001b[0m: name 'thresholds' is not defined"
     ]
    }
   ],
   "source": [
    "thresholds"
   ]
  },
  {
   "cell_type": "code",
   "execution_count": null,
   "metadata": {
    "collapsed": true
   },
   "outputs": [],
   "source": []
  },
  {
   "cell_type": "code",
   "execution_count": 384,
   "metadata": {
    "collapsed": true
   },
   "outputs": [],
   "source": [
    "fpr_rf, tpr_rf, thresholds_rf =roc_curve(y_test,positive_prob_rf)\n",
    "fpr_log, tpr_log, thresholds_log =roc_curve(y_test,positive_prob_log)"
   ]
  },
  {
   "cell_type": "code",
   "execution_count": 385,
   "metadata": {},
   "outputs": [
    {
     "data": {
      "image/png": "[encoded data removed]",
      "text/plain": [
       "<matplotlib.figure.Figure at 0x11a60f748>"
      ]
     },
     "metadata": {},
     "output_type": "display_data"
    }
   ],
   "source": [
    "plt.figure(figsize=(10,8))\n",
    "plt.plot(fpr_rf, tpr_rf,label = 'Random Forest')\n",
    "plt.plot(fpr_log, tpr_log,label = 'Logistic')\n",
    "plt.title('ROC Curve ')\n",
    "plt.xlabel('FPR')\n",
    "plt.ylabel('TPR')\n",
    "plt.legend();"
   ]
  },
  {
   "cell_type": "code",
   "execution_count": 386,
   "metadata": {},
   "outputs": [
    {
     "name": "stdout",
     "output_type": "stream",
     "text": [
      "F1 score is 85.00% with Random Forest\n"
     ]
    }
   ],
   "source": [
    "print(f\"F1 score is {f1_score(y_test,positive_binary_rf):.2%} with Random Forest\")"
   ]
  },
  {
   "cell_type": "code",
   "execution_count": 387,
   "metadata": {
    "collapsed": true
   },
   "outputs": [],
   "source": [
    "cv_predictions = cross_val_predict(rf_classify, X_train_, y_train_, cv = 3)"
   ]
  },
  {
   "cell_type": "code",
   "execution_count": 388,
   "metadata": {},
   "outputs": [
    {
     "name": "stdout",
     "output_type": "stream",
     "text": [
      "CV accuracy with Random Forest = 74.40%\n"
     ]
    }
   ],
   "source": [
    "print(f\"CV accuracy with Random Forest = {1-sum(cv_predictions != y_train_)/ len(y_train_):.2%}\")"
   ]
  },
  {
   "cell_type": "markdown",
   "metadata": {},
   "source": [
    "# Feature Importance"
   ]
  },
  {
   "cell_type": "code",
   "execution_count": 389,
   "metadata": {
    "collapsed": true
   },
   "outputs": [],
   "source": [
    "cols = np.array(x_all.columns)"
   ]
  },
  {
   "cell_type": "code",
   "execution_count": 390,
   "metadata": {
    "collapsed": true
   },
   "outputs": [],
   "source": [
    "sorted_feature_importances  = np.argsort(rf_classify.feature_importances_)[::-1]"
   ]
  },
  {
   "cell_type": "code",
   "execution_count": 391,
   "metadata": {
    "collapsed": true
   },
   "outputs": [],
   "source": [
    "ranked_feature_importances = rf_classify.feature_importances_[sorted_feature_importances]"
   ]
  },
  {
   "cell_type": "code",
   "execution_count": 400,
   "metadata": {},
   "outputs": [
    {
     "data": {
      "image/png": "[encoded data removed]",
      "text/plain": [
       "<matplotlib.figure.Figure at 0x11b45f0b8>"
      ]
     },
     "metadata": {},
     "output_type": "display_data"
    }
   ],
   "source": [
    "plt.figure(figsize=(25,10))\n",
    "sns.barplot(cols[np.argsort(sorted_feature_importances)][:15],ranked_feature_importances[:15] )\n",
    "plt.title(\"Feature Importances\");"
   ]
  },
  {
   "cell_type": "code",
   "execution_count": 396,
   "metadata": {},
   "outputs": [
    {
     "data": {
      "text/plain": [
       "array(['Employees', 'Size Multiple', 'Majestic Referring Domains',\n",
       "       'Facebook Likes', 'Growth Rate', 'analytical', 'Year Founded',\n",
       "       'openness_big5', 'confident', 'emotional_range_big5',\n",
       "       'topic_5_percent', 'disgust', 'joy', 'Twitter Followers',\n",
       "       'HQ_post_code', 'agreeableness_big5', 'topic_1_percent',\n",
       "       'extraversion_big5', 'conscientiousness_big5', 'anger', 'sadness',\n",
       "       'topic_2_percent', 'fear', 'topic_4_percent', 'tentative',\n",
       "       'topic_3_percent', 'Broadcasting, Radio and Television',\n",
       "       'Other Healthcare Technology Systems', 'Application Software',\n",
       "       'Other Commercial Services', 'Food Products',\n",
       "       'Human Capital Services', 'Social/Platform Software',\n",
       "       'Water Utilities', 'Beverages', 'Other Financial Services',\n",
       "       'Other Devices and Supplies', 'Other Energy Services',\n",
       "       'Application Specific Semiconductors',\n",
       "       'Network Management Software', 'Energy Production',\n",
       "       'Consumer Finance', 'Other Consumer Products and Services',\n",
       "       'General Purpose Semiconductors', 'Database Software',\n",
       "       'Surgical Devices', 'Specialty Retail', 'Security Services (B2B)',\n",
       "       'Legal Services (B2C)', 'Energy Exploration',\n",
       "       'Movies, Music and Entertainment',\n",
       "       'Media and Information Services (B2B)', 'Other Consumer Durables',\n",
       "       'Social Content', 'Automotive',\n",
       "       'Educational and Training Services (B2C)',\n",
       "       'Other Business Products and Services', 'Entertainment Software',\n",
       "       'Other Restaurants, Hotels and Leisure',\n",
       "       'Environmental Services (B2B)', 'Alternative Energy Equipment',\n",
       "       'Education and Training Services (B2B)',\n",
       "       'Business/Productivity Software', 'Leisure Facilities',\n",
       "       'Drug Discovery', 'Other Commercial Products',\n",
       "       'Real Estate Services (B2C)', 'Publishing', 'Hotels and Resorts',\n",
       "       'Consulting Services (B2B)', 'Information Services (B2C)',\n",
       "       'Enterprise Systems (Healthcare)', 'Internet Retail',\n",
       "       'Electronics (B2C)', 'Electronic Components',\n",
       "       'Electrical Equipment', 'Private Equity',\n",
       "       'Other Healthcare Services', 'Communication Software',\n",
       "       'Automation/Workflow Software', 'Logistics', 'Other Software',\n",
       "       'Aerospace and Defense', 'Therapeutic Devices',\n",
       "       'Wireless Service Providers'], dtype=object)"
      ]
     },
     "execution_count": 396,
     "metadata": {},
     "output_type": "execute_result"
    }
   ],
   "source": [
    "cols[np.argsort(sorted_feature_importances)] # ranked cols"
   ]
  },
  {
   "cell_type": "code",
   "execution_count": 398,
   "metadata": {},
   "outputs": [
    {
     "data": {
      "text/plain": [
       "array([  1.61653996e-01,   7.57907910e-02,   5.16359965e-02,\n",
       "         4.81451462e-02,   4.23591349e-02,   3.90856666e-02,\n",
       "         3.60197850e-02,   3.59018056e-02,   3.44752344e-02,\n",
       "         3.42414777e-02,   3.16047435e-02,   3.07261295e-02,\n",
       "         2.83090723e-02,   2.81065924e-02,   2.70490038e-02,\n",
       "         2.69014843e-02,   2.67288687e-02,   2.56227597e-02,\n",
       "         2.51228861e-02,   2.48630506e-02,   2.48420808e-02,\n",
       "         2.41624165e-02,   2.41256527e-02,   2.11327719e-02,\n",
       "         2.06980645e-02,   8.48961232e-03,   4.69492825e-03,\n",
       "         2.85840652e-03,   2.79056440e-03,   2.67130833e-03,\n",
       "         2.60449110e-03,   2.15149969e-03,   2.04666649e-03,\n",
       "         1.79880246e-03,   1.54377718e-03,   1.48263958e-03,\n",
       "         1.26397988e-03,   1.21529811e-03,   1.09996259e-03,\n",
       "         9.74023366e-04,   9.38101041e-04,   8.98317625e-04,\n",
       "         8.90518033e-04,   8.83930617e-04,   8.14600829e-04,\n",
       "         8.01356332e-04,   7.93795400e-04,   7.31313785e-04,\n",
       "         7.01860431e-04,   6.28284873e-04,   5.55425993e-04,\n",
       "         5.36171954e-04,   5.08013535e-04,   5.03955166e-04,\n",
       "         4.62667125e-04,   3.61963964e-04,   3.07437155e-04,\n",
       "         2.88332637e-04,   1.94099379e-04,   1.85943869e-04,\n",
       "         1.72045023e-04,   1.46103896e-04,   1.40930719e-04,\n",
       "         1.40619603e-04,   9.58646230e-05,   9.56885547e-05,\n",
       "         8.25338375e-05,   6.24128833e-05,   4.05731214e-05,\n",
       "         4.03564812e-05,   6.21010011e-06,   0.00000000e+00,\n",
       "         0.00000000e+00,   0.00000000e+00,   0.00000000e+00,\n",
       "         0.00000000e+00,   0.00000000e+00,   0.00000000e+00,\n",
       "         0.00000000e+00,   0.00000000e+00,   0.00000000e+00,\n",
       "         0.00000000e+00,   0.00000000e+00,   0.00000000e+00,\n",
       "         0.00000000e+00])"
      ]
     },
     "execution_count": 398,
     "metadata": {},
     "output_type": "execute_result"
    }
   ],
   "source": [
    "ranked_feature_importances"
   ]
  },
  {
   "cell_type": "markdown",
   "metadata": {},
   "source": [
    "# Auto SKLEARN to find the best model"
   ]
  },
  {
   "cell_type": "code",
   "execution_count": null,
   "metadata": {
    "collapsed": true
   },
   "outputs": [],
   "source": []
  }
 ],
 "metadata": {
  "kernelspec": {
   "display_name": "nlp_founder",
   "language": "python",
   "name": "nlp_founder"
  },
  "language_info": {
   "codemirror_mode": {
    "name": "ipython",
    "version": 3
   },
   "file_extension": ".py",
   "mimetype": "text/x-python",
   "name": "python",
   "nbconvert_exporter": "python",
   "pygments_lexer": "ipython3",
   "version": "3.6.1"
  }
 },
 "nbformat": 4,
 "nbformat_minor": 2
}
