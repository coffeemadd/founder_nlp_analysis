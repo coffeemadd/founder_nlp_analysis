{
 "cells": [
  {
   "cell_type": "code",
   "execution_count": 25,
   "metadata": {
    "collapsed": false
   },
   "outputs": [],
   "source": [
    "import sklearn\n",
    "from sklearn.feature_extraction.text import TfidfVectorizer, CountVectorizer\n",
    "from sklearn.decomposition import NMF, LatentDirichletAllocation\n",
    "import numpy as np\n",
    "import textblob\n",
    "import pandas as pd\n",
    "from sklearn.ensemble import RandomForestRegressor"
   ]
  },
  {
   "cell_type": "code",
   "execution_count": 2,
   "metadata": {
    "collapsed": true
   },
   "outputs": [],
   "source": [
    "doc_a = \"Brocolli is good to eat. My brother likes to eat good brocolli, but not my mother. It helps you with heart problems.\"\n",
    "doc_b = \"My mother spends a lot of time driving my brother around to baseball practice. Baseball if one of my brothers favorite activities\"\n",
    "doc_c = \"Some health experts suggest that driving may cause increased tension and blood pressure. Also, driving may cause skin cancer.\"\n",
    "doc_d = \"I often feel pressure to perform well at school, but my mother never seems to drive my brother to do better.\"\n",
    "doc_e = \"Health professionals say that brocolli is good for your health. It can also counter the negatives of stress.\"\n",
    "\n",
    "# compile sample documents into a list\n",
    "doc_set = [doc_a, doc_b, doc_c, doc_d, doc_e]"
   ]
  },
  {
   "cell_type": "code",
   "execution_count": 3,
   "metadata": {
    "collapsed": false
   },
   "outputs": [],
   "source": [
    "blob  = textblob.blob.TextBlob(\"\".join(doc_set)) # tokenize the blob"
   ]
  },
  {
   "cell_type": "code",
   "execution_count": 4,
   "metadata": {
    "collapsed": false
   },
   "outputs": [
    {
     "data": {
      "text/plain": [
       "WordList(['Brocolli', 'is', 'good', 'to', 'eat', '.', 'My', 'brother', 'likes', 'to', 'eat', 'good', 'brocolli', ',', 'but', 'not', 'my', 'mother', '.', 'It', 'helps', 'you', 'with', 'heart', 'problems.My', 'mother', 'spends', 'a', 'lot', 'of', 'time', 'driving', 'my', 'brother', 'around', 'to', 'baseball', 'practice', '.', 'Baseball', 'if', 'one', 'of', 'my', 'brothers', 'favorite', 'activitiesSome', 'health', 'experts', 'suggest', 'that', 'driving', 'may', 'cause', 'increased', 'tension', 'and', 'blood', 'pressure', '.', 'Also', ',', 'driving', 'may', 'cause', 'skin', 'cancer.I', 'often', 'feel', 'pressure', 'to', 'perform', 'well', 'at', 'school', ',', 'but', 'my', 'mother', 'never', 'seems', 'to', 'drive', 'my', 'brother', 'to', 'do', 'better.Health', 'professionals', 'say', 'that', 'brocolli', 'is', 'good', 'for', 'your', 'health', '.', 'It', 'can', 'also', 'counter', 'the', 'negatives', 'of', 'stress', '.'])"
      ]
     },
     "execution_count": 4,
     "metadata": {},
     "output_type": "execute_result"
    }
   ],
   "source": [
    "blob.tokenize()"
   ]
  },
  {
   "cell_type": "code",
   "execution_count": 5,
   "metadata": {
    "collapsed": true
   },
   "outputs": [],
   "source": [
    "no_features=1000"
   ]
  },
  {
   "cell_type": "code",
   "execution_count": 6,
   "metadata": {
    "collapsed": false
   },
   "outputs": [],
   "source": [
    "# LDA can only use raw term counts for LDA because it is a probabilistic graphical model\n",
    "tf_vectorizer = CountVectorizer(max_df=0.95, min_df=1, max_features=no_features, stop_words='english')\n",
    "tf = tf_vectorizer.fit_transform(doc_set)\n",
    "tf_feature_names = tf_vectorizer.get_feature_names()"
   ]
  },
  {
   "cell_type": "code",
   "execution_count": 7,
   "metadata": {
    "collapsed": false
   },
   "outputs": [
    {
     "data": {
      "text/plain": [
       "<5x38 sparse matrix of type '<class 'numpy.int64'>'\n",
       "\twith 47 stored elements in Compressed Sparse Row format>"
      ]
     },
     "execution_count": 7,
     "metadata": {},
     "output_type": "execute_result"
    }
   ],
   "source": [
    "tf"
   ]
  },
  {
   "cell_type": "code",
   "execution_count": 8,
   "metadata": {
    "collapsed": false
   },
   "outputs": [
    {
     "data": {
      "text/plain": [
       "['activities',\n",
       " 'baseball',\n",
       " 'better',\n",
       " 'blood',\n",
       " 'brocolli',\n",
       " 'brother',\n",
       " 'brothers',\n",
       " 'cancer',\n",
       " 'cause',\n",
       " 'counter',\n",
       " 'drive',\n",
       " 'driving',\n",
       " 'eat',\n",
       " 'experts',\n",
       " 'favorite',\n",
       " 'feel',\n",
       " 'good',\n",
       " 'health',\n",
       " 'heart',\n",
       " 'helps',\n",
       " 'increased',\n",
       " 'likes',\n",
       " 'lot',\n",
       " 'mother',\n",
       " 'negatives',\n",
       " 'perform',\n",
       " 'practice',\n",
       " 'pressure',\n",
       " 'problems',\n",
       " 'professionals',\n",
       " 'say',\n",
       " 'school',\n",
       " 'skin',\n",
       " 'spends',\n",
       " 'stress',\n",
       " 'suggest',\n",
       " 'tension',\n",
       " 'time']"
      ]
     },
     "execution_count": 8,
     "metadata": {},
     "output_type": "execute_result"
    }
   ],
   "source": [
    "tf_feature_names"
   ]
  },
  {
   "cell_type": "code",
   "execution_count": 9,
   "metadata": {
    "collapsed": false
   },
   "outputs": [],
   "source": [
    "lda_model = LatentDirichletAllocation(n_topics=3, max_iter=5, learning_method='online', learning_offset=50.,random_state=0).fit(tf)\n"
   ]
  },
  {
   "cell_type": "code",
   "execution_count": 10,
   "metadata": {
    "collapsed": true
   },
   "outputs": [],
   "source": [
    "lda_W = lda_model.transform(tf) # documents as the rows, topics as the columns\n",
    "lda_H = lda_model.components_ # topics as the rows, words as the columns"
   ]
  },
  {
   "cell_type": "code",
   "execution_count": 11,
   "metadata": {
    "collapsed": false
   },
   "outputs": [
    {
     "data": {
      "text/plain": [
       "array([[ 0.02908081,  0.94264018,  0.02827901],\n",
       "       [ 0.02893521,  0.94213988,  0.02892491],\n",
       "       [ 0.02695629,  0.02646135,  0.94658236],\n",
       "       [ 0.0416116 ,  0.91698643,  0.04140197],\n",
       "       [ 0.92633112,  0.03686845,  0.03680043]])"
      ]
     },
     "execution_count": 11,
     "metadata": {},
     "output_type": "execute_result"
    }
   ],
   "source": [
    "lda_W"
   ]
  },
  {
   "cell_type": "code",
   "execution_count": 12,
   "metadata": {
    "collapsed": false
   },
   "outputs": [
    {
     "data": {
      "text/plain": [
       "array([ 0.95211094,  0.84706215,  0.96155505,  0.74732936,  1.08121608,\n",
       "        0.8494759 ,  0.8734277 ,  0.82473556,  0.85012361,  1.11074376,\n",
       "        0.93095234,  0.80411069,  0.64691762,  0.86434555,  0.99410168,\n",
       "        0.71602261,  1.20676853,  1.4730662 ,  0.75393777,  0.68147528,\n",
       "        0.9095761 ,  0.90751579,  0.74243208,  0.71969034,  1.04923259,\n",
       "        0.78538113,  0.70509772,  0.80305647,  0.753064  ,  1.11442345,\n",
       "        1.08382812,  0.84827887,  0.77094035,  0.78994215,  1.02729989,\n",
       "        0.69760789,  0.70406667,  0.85035124])"
      ]
     },
     "execution_count": 12,
     "metadata": {},
     "output_type": "execute_result"
    }
   ],
   "source": [
    "lda_H[0]"
   ]
  },
  {
   "cell_type": "code",
   "execution_count": 13,
   "metadata": {
    "collapsed": false
   },
   "outputs": [],
   "source": [
    "\n",
    "def display_topics(model, feature_names, no_top_words):\n",
    "    for topic_idx, topic in enumerate(model.components_):\n",
    "        print (\"Topic %d:\" % (topic_idx))\n",
    "        print (\" \".join([feature_names[i]\n",
    "                        for i in topic.argsort()[:-no_top_words - 1:-1]]))"
   ]
  },
  {
   "cell_type": "code",
   "execution_count": 14,
   "metadata": {
    "collapsed": false
   },
   "outputs": [
    {
     "name": "stdout",
     "output_type": "stream",
     "text": [
      "Topic 0:\n",
      "health good professionals counter say brocolli negatives stress favorite better\n",
      "Topic 1:\n",
      "mother brother good baseball brocolli eat lot spends school pressure\n",
      "Topic 2:\n",
      "cause driving experts cancer suggest blood skin tension increased stress\n"
     ]
    }
   ],
   "source": [
    "no_top_words = 10\n",
    "\n",
    "display_topics(lda_model, tf_feature_names, no_top_words)"
   ]
  },
  {
   "cell_type": "code",
   "execution_count": 15,
   "metadata": {
    "collapsed": false
   },
   "outputs": [],
   "source": [
    "def display_topics(H, W, feature_names, documents, no_top_words, no_top_documents):\n",
    "    for topic_idx, topic in enumerate(H):\n",
    "        print (\"Topic %d:\" % (topic_idx))\n",
    "        print (\" \".join([feature_names[i]\n",
    "                        for i in topic.argsort()[:-no_top_words - 1:-1]]))\n",
    "        top_doc_indices = np.argsort( W[:,topic_idx] )[::-1][0:no_top_documents]\n",
    "        for doc_index in top_doc_indices:\n",
    "            print (f'DOC {doc_index}:',documents[doc_index])"
   ]
  },
  {
   "cell_type": "code",
   "execution_count": 16,
   "metadata": {
    "collapsed": false
   },
   "outputs": [
    {
     "name": "stdout",
     "output_type": "stream",
     "text": [
      "Topic 0:\n",
      "health good professionals counter say\n",
      "DOC 4: Health professionals say that brocolli is good for your health. It can also counter the negatives of stress.\n",
      "DOC 3: I often feel pressure to perform well at school, but my mother never seems to drive my brother to do better.\n",
      "Topic 1:\n",
      "mother brother good baseball brocolli\n",
      "DOC 0: Brocolli is good to eat. My brother likes to eat good brocolli, but not my mother. It helps you with heart problems.\n",
      "DOC 1: My mother spends a lot of time driving my brother around to baseball practice. Baseball if one of my brothers favorite activities\n",
      "Topic 2:\n",
      "cause driving experts cancer suggest\n",
      "DOC 2: Some health experts suggest that driving may cause increased tension and blood pressure. Also, driving may cause skin cancer.\n",
      "DOC 3: I often feel pressure to perform well at school, but my mother never seems to drive my brother to do better.\n"
     ]
    }
   ],
   "source": [
    "no_top_words = 5\n",
    "no_top_documents = 2\n",
    "display_topics(lda_H, lda_W, tf_feature_names, doc_set, no_top_words, no_top_documents)\n"
   ]
  },
  {
   "cell_type": "code",
   "execution_count": 17,
   "metadata": {
    "collapsed": false
   },
   "outputs": [],
   "source": [
    "def display_percent_of_each_topci(lda_W, model, feature_names, no_top_words):\n",
    "    \"\"\"Print out the percent of each topic, along with the top five words from each topic\"\"\"\n",
    "    for topic_idx, topic in enumerate(lda_W):\n",
    "        print(f\"\"\"Document {topic_idx} has the following percent of each topic 1 =  {topic[0]:.2%},\\\n",
    "        topic 2 = {topic[1]:.2%}, topic 3 = {topic[2]:.2%}\"\"\")\n",
    "        \n",
    "    print()\n",
    "    print('Topics')\n",
    "    for topic_idx, topic in enumerate(model.components_):\n",
    "        print (\"Topic %d:\" % (topic_idx))\n",
    "        print (\" \".join([feature_names[i]\n",
    "                        for i in topic.argsort()[:-no_top_words - 1:-1]]))\n",
    "    "
   ]
  },
  {
   "cell_type": "code",
   "execution_count": 18,
   "metadata": {
    "collapsed": false
   },
   "outputs": [
    {
     "name": "stdout",
     "output_type": "stream",
     "text": [
      "Document 0 has the following percent of each topic 1 =  2.91%,        topic 2 = 94.26%, topic 3 = 2.83%\n",
      "Document 1 has the following percent of each topic 1 =  2.89%,        topic 2 = 94.21%, topic 3 = 2.89%\n",
      "Document 2 has the following percent of each topic 1 =  2.70%,        topic 2 = 2.65%, topic 3 = 94.66%\n",
      "Document 3 has the following percent of each topic 1 =  4.16%,        topic 2 = 91.70%, topic 3 = 4.14%\n",
      "Document 4 has the following percent of each topic 1 =  92.63%,        topic 2 = 3.69%, topic 3 = 3.68%\n",
      "\n",
      "Topics\n",
      "Topic 0:\n",
      "health good professionals counter say brocolli negatives stress favorite better\n",
      "Topic 1:\n",
      "mother brother good baseball brocolli eat lot spends school pressure\n",
      "Topic 2:\n",
      "cause driving experts cancer suggest blood skin tension increased stress\n"
     ]
    }
   ],
   "source": [
    "display_percent_of_each_topci(lda_W,lda_model,tf_feature_names, 10)"
   ]
  },
  {
   "cell_type": "code",
   "execution_count": 19,
   "metadata": {
    "collapsed": false
   },
   "outputs": [
    {
     "data": {
      "text/plain": [
       "['Brocolli is good to eat. My brother likes to eat good brocolli, but not my mother. It helps you with heart problems.',\n",
       " 'My mother spends a lot of time driving my brother around to baseball practice. Baseball if one of my brothers favorite activities',\n",
       " 'Some health experts suggest that driving may cause increased tension and blood pressure. Also, driving may cause skin cancer.',\n",
       " 'I often feel pressure to perform well at school, but my mother never seems to drive my brother to do better.',\n",
       " 'Health professionals say that brocolli is good for your health. It can also counter the negatives of stress.']"
      ]
     },
     "execution_count": 19,
     "metadata": {},
     "output_type": "execute_result"
    }
   ],
   "source": [
    "doc_set"
   ]
  },
  {
   "cell_type": "code",
   "execution_count": null,
   "metadata": {
    "collapsed": true
   },
   "outputs": [],
   "source": []
  },
  {
   "cell_type": "code",
   "execution_count": null,
   "metadata": {
    "collapsed": true
   },
   "outputs": [],
   "source": []
  },
  {
   "cell_type": "code",
   "execution_count": 65,
   "metadata": {
    "collapsed": true
   },
   "outputs": [],
   "source": [
    "# Test random forest with text - need to conver to categorical representation"
   ]
  },
  {
   "cell_type": "code",
   "execution_count": 37,
   "metadata": {
    "collapsed": false
   },
   "outputs": [],
   "source": [
    "df_train = pd.DataFrame({'niche':['software','hardware','software','software'],\n",
    "                  'employees':[1,4,3,4],'service_level':['gold','silver','gold','bronze'],\n",
    "                        'revenue':[123,321,14,234],})"
   ]
  },
  {
   "cell_type": "code",
   "execution_count": 59,
   "metadata": {
    "collapsed": false
   },
   "outputs": [],
   "source": [
    "df_train = pd.get_dummies( df_train,drop_first=True)"
   ]
  },
  {
   "cell_type": "code",
   "execution_count": 60,
   "metadata": {
    "collapsed": false
   },
   "outputs": [
    {
     "data": {
      "text/html": [
       "<div>\n",
       "<style>\n",
       "    .dataframe thead tr:only-child th {\n",
       "        text-align: right;\n",
       "    }\n",
       "\n",
       "    .dataframe thead th {\n",
       "        text-align: left;\n",
       "    }\n",
       "\n",
       "    .dataframe tbody tr th {\n",
       "        vertical-align: top;\n",
       "    }\n",
       "</style>\n",
       "<table border=\"1\" class=\"dataframe\">\n",
       "  <thead>\n",
       "    <tr style=\"text-align: right;\">\n",
       "      <th></th>\n",
       "      <th>employees</th>\n",
       "      <th>revenue</th>\n",
       "      <th>niche_hardware</th>\n",
       "      <th>niche_software</th>\n",
       "      <th>service_level_bronze</th>\n",
       "      <th>service_level_gold</th>\n",
       "      <th>service_level_silver</th>\n",
       "    </tr>\n",
       "  </thead>\n",
       "  <tbody>\n",
       "    <tr>\n",
       "      <th>0</th>\n",
       "      <td>1</td>\n",
       "      <td>123</td>\n",
       "      <td>0</td>\n",
       "      <td>1</td>\n",
       "      <td>0</td>\n",
       "      <td>1</td>\n",
       "      <td>0</td>\n",
       "    </tr>\n",
       "    <tr>\n",
       "      <th>1</th>\n",
       "      <td>4</td>\n",
       "      <td>321</td>\n",
       "      <td>1</td>\n",
       "      <td>0</td>\n",
       "      <td>0</td>\n",
       "      <td>0</td>\n",
       "      <td>1</td>\n",
       "    </tr>\n",
       "    <tr>\n",
       "      <th>2</th>\n",
       "      <td>3</td>\n",
       "      <td>14</td>\n",
       "      <td>0</td>\n",
       "      <td>1</td>\n",
       "      <td>0</td>\n",
       "      <td>1</td>\n",
       "      <td>0</td>\n",
       "    </tr>\n",
       "    <tr>\n",
       "      <th>3</th>\n",
       "      <td>4</td>\n",
       "      <td>234</td>\n",
       "      <td>0</td>\n",
       "      <td>1</td>\n",
       "      <td>1</td>\n",
       "      <td>0</td>\n",
       "      <td>0</td>\n",
       "    </tr>\n",
       "  </tbody>\n",
       "</table>\n",
       "</div>"
      ],
      "text/plain": [
       "   employees  revenue  niche_hardware  niche_software  service_level_bronze  \\\n",
       "0          1      123               0               1                     0   \n",
       "1          4      321               1               0                     0   \n",
       "2          3       14               0               1                     0   \n",
       "3          4      234               0               1                     1   \n",
       "\n",
       "   service_level_gold  service_level_silver  \n",
       "0                   1                     0  \n",
       "1                   0                     1  \n",
       "2                   1                     0  \n",
       "3                   0                     0  "
      ]
     },
     "execution_count": 60,
     "metadata": {},
     "output_type": "execute_result"
    }
   ],
   "source": [
    "df_train"
   ]
  },
  {
   "cell_type": "code",
   "execution_count": 56,
   "metadata": {
    "collapsed": false
   },
   "outputs": [],
   "source": [
    "rf=  RandomForestRegressor(n_estimators=100)"
   ]
  },
  {
   "cell_type": "code",
   "execution_count": 62,
   "metadata": {
    "collapsed": false
   },
   "outputs": [
    {
     "data": {
      "text/plain": [
       "RandomForestRegressor(bootstrap=True, criterion='mse', max_depth=None,\n",
       "           max_features='auto', max_leaf_nodes=None,\n",
       "           min_impurity_split=1e-07, min_samples_leaf=1,\n",
       "           min_samples_split=2, min_weight_fraction_leaf=0.0,\n",
       "           n_estimators=100, n_jobs=1, oob_score=False, random_state=None,\n",
       "           verbose=0, warm_start=False)"
      ]
     },
     "execution_count": 62,
     "metadata": {},
     "output_type": "execute_result"
    }
   ],
   "source": [
    "rf.fit(X = df_train.loc[:,('employees', 'niche_hardware','niche_software','service_level_bronze',\n",
    "                          'service_level_gold','service_level_silver')], y= df_train.revenue)"
   ]
  },
  {
   "cell_type": "code",
   "execution_count": 64,
   "metadata": {
    "collapsed": false
   },
   "outputs": [
    {
     "data": {
      "text/plain": [
       "array([ 206.58])"
      ]
     },
     "execution_count": 64,
     "metadata": {},
     "output_type": "execute_result"
    }
   ],
   "source": [
    "rf.predict(np.array([[1,10,1,0,0,1]]))"
   ]
  },
  {
   "cell_type": "code",
   "execution_count": null,
   "metadata": {
    "collapsed": true
   },
   "outputs": [],
   "source": []
  }
 ],
 "metadata": {
  "kernelspec": {
   "display_name": "nlp_founder",
   "language": "python",
   "name": "nlp_founder"
  },
  "language_info": {
   "codemirror_mode": {
    "name": "ipython",
    "version": 3
   },
   "file_extension": ".py",
   "mimetype": "text/x-python",
   "name": "python",
   "nbconvert_exporter": "python",
   "pygments_lexer": "ipython3",
   "version": "3.6.1"
  }
 },
 "nbformat": 4,
 "nbformat_minor": 2
}
