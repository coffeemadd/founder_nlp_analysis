{
 "cells": [
  {
   "cell_type": "code",
   "execution_count": 205,
   "metadata": {
    "collapsed": true
   },
   "outputs": [],
   "source": [
    "import pandas as pd\n",
    "import datetime\n",
    "import yaml\n",
    "import os\n",
    "import tweepy"
   ]
  },
  {
   "cell_type": "markdown",
   "metadata": {},
   "source": [
    "# Read in Data"
   ]
  },
  {
   "cell_type": "code",
   "execution_count": 12,
   "metadata": {},
   "outputs": [
    {
     "data": {
      "text/html": [
       "<div>\n",
       "<style>\n",
       "    .dataframe thead tr:only-child th {\n",
       "        text-align: right;\n",
       "    }\n",
       "\n",
       "    .dataframe thead th {\n",
       "        text-align: left;\n",
       "    }\n",
       "\n",
       "    .dataframe tbody tr th {\n",
       "        vertical-align: top;\n",
       "    }\n",
       "</style>\n",
       "<table border=\"1\" class=\"dataframe\">\n",
       "  <thead>\n",
       "    <tr style=\"text-align: right;\">\n",
       "      <th></th>\n",
       "      <th>Company ID</th>\n",
       "      <th>Company Name</th>\n",
       "      <th>HQ Post Code</th>\n",
       "      <th>Description</th>\n",
       "      <th>Primary Industry Code</th>\n",
       "      <th>HQ Location</th>\n",
       "      <th>Ownership Status</th>\n",
       "      <th>Company Financing Status</th>\n",
       "      <th>Active Investors</th>\n",
       "      <th>Website</th>\n",
       "      <th>HQ Email</th>\n",
       "      <th>HQ Phone</th>\n",
       "      <th>Primary Contact</th>\n",
       "      <th>Primary Contact Title</th>\n",
       "      <th>Primary Contact Email</th>\n",
       "      <th>Primary Contact Phone</th>\n",
       "      <th>Year Founded</th>\n",
       "      <th>PitchBook Link</th>\n",
       "    </tr>\n",
       "  </thead>\n",
       "  <tbody>\n",
       "    <tr>\n",
       "      <th>0</th>\n",
       "      <td>170123-59</td>\n",
       "      <td>Zyudly Labs</td>\n",
       "      <td>94306</td>\n",
       "      <td>Provider of cyber-security analytics and intel...</td>\n",
       "      <td>Network Management Software</td>\n",
       "      <td>Palo Alto, CA</td>\n",
       "      <td>Privately Held (backing)</td>\n",
       "      <td>Accelerator/Incubator Backed</td>\n",
       "      <td>500 Startups, Start Smart Labs</td>\n",
       "      <td>www.zyudlylabs.com</td>\n",
       "      <td>info@zyudlylabs.com</td>\n",
       "      <td>NaN</td>\n",
       "      <td>Vivek Ganesan</td>\n",
       "      <td>Co-Founder, Chief Executive Officer &amp; Board Me...</td>\n",
       "      <td>vivek@zyudlylabs.com</td>\n",
       "      <td>NaN</td>\n",
       "      <td>2016.0</td>\n",
       "      <td>NaN</td>\n",
       "    </tr>\n",
       "    <tr>\n",
       "      <th>1</th>\n",
       "      <td>103815-46</td>\n",
       "      <td>Zymr</td>\n",
       "      <td>NaN</td>\n",
       "      <td>NaN</td>\n",
       "      <td>NaN</td>\n",
       "      <td>NaN</td>\n",
       "      <td>NaN</td>\n",
       "      <td>NaN</td>\n",
       "      <td>NaN</td>\n",
       "      <td>NaN</td>\n",
       "      <td>NaN</td>\n",
       "      <td>NaN</td>\n",
       "      <td>NaN</td>\n",
       "      <td>NaN</td>\n",
       "      <td>NaN</td>\n",
       "      <td>NaN</td>\n",
       "      <td>NaN</td>\n",
       "      <td>NaN</td>\n",
       "    </tr>\n",
       "  </tbody>\n",
       "</table>\n",
       "</div>"
      ],
      "text/plain": [
       "  Company ID Company Name HQ Post Code  \\\n",
       "0  170123-59  Zyudly Labs        94306   \n",
       "1  103815-46         Zymr          NaN   \n",
       "\n",
       "                                         Description  \\\n",
       "0  Provider of cyber-security analytics and intel...   \n",
       "1                                                NaN   \n",
       "\n",
       "         Primary Industry Code    HQ Location          Ownership Status  \\\n",
       "0  Network Management Software  Palo Alto, CA  Privately Held (backing)   \n",
       "1                          NaN            NaN                       NaN   \n",
       "\n",
       "       Company Financing Status                Active Investors  \\\n",
       "0  Accelerator/Incubator Backed  500 Startups, Start Smart Labs   \n",
       "1                           NaN                             NaN   \n",
       "\n",
       "              Website             HQ Email HQ Phone Primary Contact  \\\n",
       "0  www.zyudlylabs.com  info@zyudlylabs.com      NaN   Vivek Ganesan   \n",
       "1                 NaN                  NaN      NaN             NaN   \n",
       "\n",
       "                               Primary Contact Title Primary Contact Email  \\\n",
       "0  Co-Founder, Chief Executive Officer & Board Me...  vivek@zyudlylabs.com   \n",
       "1                                                NaN                   NaN   \n",
       "\n",
       "  Primary Contact Phone  Year Founded  PitchBook Link  \n",
       "0                   NaN        2016.0             NaN  \n",
       "1                   NaN           NaN             NaN  "
      ]
     },
     "execution_count": 12,
     "metadata": {},
     "output_type": "execute_result"
    }
   ],
   "source": [
    "acc_incub_general_info_df = pd.read_excel(\"../data/raw/CA_Accel-Incub-Seed_PitchBook/Company_General_Information.xlsx\",header=6)\n",
    "acc_incub_general_info_df.head(2)\n",
    "# interesting columns= Company ID (primary key), Description, Company Name, HQ Post Code, \n",
    "#Primary Industry Code, Primary Contact, Year Founded, Active Investors"
   ]
  },
  {
   "cell_type": "code",
   "execution_count": 13,
   "metadata": {},
   "outputs": [
    {
     "data": {
      "text/html": [
       "<div>\n",
       "<style>\n",
       "    .dataframe thead tr:only-child th {\n",
       "        text-align: right;\n",
       "    }\n",
       "\n",
       "    .dataframe thead th {\n",
       "        text-align: left;\n",
       "    }\n",
       "\n",
       "    .dataframe tbody tr th {\n",
       "        vertical-align: top;\n",
       "    }\n",
       "</style>\n",
       "<table border=\"1\" class=\"dataframe\">\n",
       "  <thead>\n",
       "    <tr style=\"text-align: right;\">\n",
       "      <th></th>\n",
       "      <th>Company ID</th>\n",
       "      <th>Company Name</th>\n",
       "      <th>Revenue</th>\n",
       "      <th>Growth Rate</th>\n",
       "      <th>Size Multiple</th>\n",
       "      <th>Last Financing Date</th>\n",
       "      <th>Last Financing Deal Type</th>\n",
       "      <th>Last Financing Deal Type 2</th>\n",
       "      <th>Last Financing Size</th>\n",
       "      <th>Last Financing Valuation</th>\n",
       "      <th>...</th>\n",
       "      <th>Ownership Status</th>\n",
       "      <th>Company Financing Status</th>\n",
       "      <th>Financing Status Note</th>\n",
       "      <th>Active Investors</th>\n",
       "      <th>Acquirers</th>\n",
       "      <th>Primary Industry Code</th>\n",
       "      <th>Description</th>\n",
       "      <th>HQ Location</th>\n",
       "      <th>Website</th>\n",
       "      <th>PitchBook Link</th>\n",
       "    </tr>\n",
       "  </thead>\n",
       "  <tbody>\n",
       "    <tr>\n",
       "      <th>0</th>\n",
       "      <td>170123-59</td>\n",
       "      <td>Zyudly Labs</td>\n",
       "      <td>NaN</td>\n",
       "      <td>0.118048</td>\n",
       "      <td>0.469278</td>\n",
       "      <td>2017-02-08</td>\n",
       "      <td>Accelerator/Incubator</td>\n",
       "      <td>NaN</td>\n",
       "      <td>0.15</td>\n",
       "      <td>2.5</td>\n",
       "      <td>...</td>\n",
       "      <td>Privately Held (backing)</td>\n",
       "      <td>Accelerator/Incubator Backed</td>\n",
       "      <td>The company joined 500 Startups as a part of i...</td>\n",
       "      <td>500 Startups, Start Smart Labs</td>\n",
       "      <td>NaN</td>\n",
       "      <td>Network Management Software</td>\n",
       "      <td>Provider of cyber-security analytics and intel...</td>\n",
       "      <td>Palo Alto, CA</td>\n",
       "      <td>www.zyudlylabs.com</td>\n",
       "      <td>NaN</td>\n",
       "    </tr>\n",
       "    <tr>\n",
       "      <th>1</th>\n",
       "      <td>103815-46</td>\n",
       "      <td>Zymr</td>\n",
       "      <td>NaN</td>\n",
       "      <td>NaN</td>\n",
       "      <td>NaN</td>\n",
       "      <td>NaT</td>\n",
       "      <td>NaN</td>\n",
       "      <td>NaN</td>\n",
       "      <td>NaN</td>\n",
       "      <td>NaN</td>\n",
       "      <td>...</td>\n",
       "      <td>NaN</td>\n",
       "      <td>NaN</td>\n",
       "      <td>NaN</td>\n",
       "      <td>NaN</td>\n",
       "      <td>NaN</td>\n",
       "      <td>NaN</td>\n",
       "      <td>NaN</td>\n",
       "      <td>NaN</td>\n",
       "      <td>NaN</td>\n",
       "      <td>NaN</td>\n",
       "    </tr>\n",
       "  </tbody>\n",
       "</table>\n",
       "<p>2 rows × 21 columns</p>\n",
       "</div>"
      ],
      "text/plain": [
       "  Company ID Company Name  Revenue  Growth Rate  Size Multiple  \\\n",
       "0  170123-59  Zyudly Labs      NaN     0.118048       0.469278   \n",
       "1  103815-46         Zymr      NaN          NaN            NaN   \n",
       "\n",
       "  Last Financing Date Last Financing Deal Type Last Financing Deal Type 2   \\\n",
       "0          2017-02-08    Accelerator/Incubator                         NaN   \n",
       "1                 NaT                      NaN                         NaN   \n",
       "\n",
       "   Last Financing Size  Last Financing Valuation      ...        \\\n",
       "0                 0.15                       2.5      ...         \n",
       "1                  NaN                       NaN      ...         \n",
       "\n",
       "           Ownership Status      Company Financing Status  \\\n",
       "0  Privately Held (backing)  Accelerator/Incubator Backed   \n",
       "1                       NaN                           NaN   \n",
       "\n",
       "                               Financing Status Note  \\\n",
       "0  The company joined 500 Startups as a part of i...   \n",
       "1                                                NaN   \n",
       "\n",
       "                 Active Investors Acquirers        Primary Industry Code  \\\n",
       "0  500 Startups, Start Smart Labs       NaN  Network Management Software   \n",
       "1                             NaN       NaN                          NaN   \n",
       "\n",
       "                                         Description    HQ Location  \\\n",
       "0  Provider of cyber-security analytics and intel...  Palo Alto, CA   \n",
       "1                                                NaN            NaN   \n",
       "\n",
       "              Website PitchBook Link  \n",
       "0  www.zyudlylabs.com            NaN  \n",
       "1                 NaN            NaN  \n",
       "\n",
       "[2 rows x 21 columns]"
      ]
     },
     "execution_count": 13,
     "metadata": {},
     "output_type": "execute_result"
    }
   ],
   "source": [
    "acc_incub_last_financing_df = pd.read_excel(\"../data/raw/CA_Accel-Incub-Seed_PitchBook/Last_Financing_Details.xlsx\",header=6)\n",
    "acc_incub_last_financing_df .head(2)\n",
    "# interesting columns = Company ID ( primary key), Company Name, Growth Rate, Size Multiple, last financing date,\n",
    "# last financing Size, Last financing valuation, Last Financing Deal Type 2\n",
    "\n",
    "# Note : Only want series A or later, filter OUT the seed rounds"
   ]
  },
  {
   "cell_type": "code",
   "execution_count": 10,
   "metadata": {},
   "outputs": [
    {
     "data": {
      "text/html": [
       "<div>\n",
       "<style>\n",
       "    .dataframe thead tr:only-child th {\n",
       "        text-align: right;\n",
       "    }\n",
       "\n",
       "    .dataframe thead th {\n",
       "        text-align: left;\n",
       "    }\n",
       "\n",
       "    .dataframe tbody tr th {\n",
       "        vertical-align: top;\n",
       "    }\n",
       "</style>\n",
       "<table border=\"1\" class=\"dataframe\">\n",
       "  <thead>\n",
       "    <tr style=\"text-align: right;\">\n",
       "      <th></th>\n",
       "      <th>Company ID</th>\n",
       "      <th>Company Name</th>\n",
       "      <th>Exchange</th>\n",
       "      <th>Ticker</th>\n",
       "      <th>Fiscal Period</th>\n",
       "      <th>Revenue</th>\n",
       "      <th>Gross Profit</th>\n",
       "      <th>EBITDA</th>\n",
       "      <th>Net Income</th>\n",
       "      <th>Enterprise Value</th>\n",
       "      <th>Ownership Status</th>\n",
       "      <th>Company Financing Status</th>\n",
       "      <th>Last Financing Date</th>\n",
       "      <th>Last Financing Deal Type</th>\n",
       "      <th>Last Financing Size</th>\n",
       "      <th>PitchBook Link</th>\n",
       "    </tr>\n",
       "  </thead>\n",
       "  <tbody>\n",
       "    <tr>\n",
       "      <th>0</th>\n",
       "      <td>170123-59</td>\n",
       "      <td>Zyudly Labs</td>\n",
       "      <td>NaN</td>\n",
       "      <td>NaN</td>\n",
       "      <td>NaN</td>\n",
       "      <td>NaN</td>\n",
       "      <td>NaN</td>\n",
       "      <td>NaN</td>\n",
       "      <td>NaN</td>\n",
       "      <td>NaN</td>\n",
       "      <td>Privately Held (backing)</td>\n",
       "      <td>Accelerator/Incubator Backed</td>\n",
       "      <td>2017-02-08</td>\n",
       "      <td>Accelerator/Incubator</td>\n",
       "      <td>0.15</td>\n",
       "      <td>NaN</td>\n",
       "    </tr>\n",
       "    <tr>\n",
       "      <th>1</th>\n",
       "      <td>103815-46</td>\n",
       "      <td>Zymr</td>\n",
       "      <td>NaN</td>\n",
       "      <td>NaN</td>\n",
       "      <td>NaN</td>\n",
       "      <td>NaN</td>\n",
       "      <td>NaN</td>\n",
       "      <td>NaN</td>\n",
       "      <td>NaN</td>\n",
       "      <td>NaN</td>\n",
       "      <td>NaN</td>\n",
       "      <td>NaN</td>\n",
       "      <td>NaT</td>\n",
       "      <td>NaN</td>\n",
       "      <td>NaN</td>\n",
       "      <td>NaN</td>\n",
       "    </tr>\n",
       "  </tbody>\n",
       "</table>\n",
       "</div>"
      ],
      "text/plain": [
       "  Company ID Company Name  Exchange  Ticker Fiscal Period  Revenue  \\\n",
       "0  170123-59  Zyudly Labs       NaN     NaN           NaN      NaN   \n",
       "1  103815-46         Zymr       NaN     NaN           NaN      NaN   \n",
       "\n",
       "   Gross Profit  EBITDA  Net Income  Enterprise Value  \\\n",
       "0           NaN     NaN         NaN               NaN   \n",
       "1           NaN     NaN         NaN               NaN   \n",
       "\n",
       "           Ownership Status      Company Financing Status Last Financing Date  \\\n",
       "0  Privately Held (backing)  Accelerator/Incubator Backed          2017-02-08   \n",
       "1                       NaN                           NaN                 NaT   \n",
       "\n",
       "  Last Financing Deal Type  Last Financing Size  PitchBook Link  \n",
       "0    Accelerator/Incubator                 0.15             NaN  \n",
       "1                      NaN                  NaN             NaN  "
      ]
     },
     "execution_count": 10,
     "metadata": {},
     "output_type": "execute_result"
    }
   ],
   "source": [
    "acc_incub_company_financials_df = pd.read_excel(\"../data/raw/CA_Accel-Incub-Seed_PitchBook/Public_Company_Financials.xlsx\",header=6)\n",
    "acc_incub_company_financials_df.head(2)\n",
    "# Interesting columns are NOTHING"
   ]
  },
  {
   "cell_type": "code",
   "execution_count": 11,
   "metadata": {},
   "outputs": [
    {
     "data": {
      "text/html": [
       "<div>\n",
       "<style>\n",
       "    .dataframe thead tr:only-child th {\n",
       "        text-align: right;\n",
       "    }\n",
       "\n",
       "    .dataframe thead th {\n",
       "        text-align: left;\n",
       "    }\n",
       "\n",
       "    .dataframe tbody tr th {\n",
       "        vertical-align: top;\n",
       "    }\n",
       "</style>\n",
       "<table border=\"1\" class=\"dataframe\">\n",
       "  <thead>\n",
       "    <tr style=\"text-align: right;\">\n",
       "      <th></th>\n",
       "      <th>Company ID</th>\n",
       "      <th>Company Name</th>\n",
       "      <th>Growth Rate</th>\n",
       "      <th>Size Multiple</th>\n",
       "      <th>Compete Unique Visitors</th>\n",
       "      <th>Majestic Referring Domains</th>\n",
       "      <th>Facebook Likes</th>\n",
       "      <th>Twitter Followers</th>\n",
       "      <th>Employees</th>\n",
       "      <th>Total Raised</th>\n",
       "      <th>Primary Industry Code</th>\n",
       "      <th>Description</th>\n",
       "      <th>Active Investors</th>\n",
       "      <th>Company Financing Status</th>\n",
       "      <th>Ownership Status</th>\n",
       "      <th>HQ Location</th>\n",
       "      <th>Website</th>\n",
       "      <th>PitchBook Link</th>\n",
       "    </tr>\n",
       "  </thead>\n",
       "  <tbody>\n",
       "    <tr>\n",
       "      <th>0</th>\n",
       "      <td>170123-59</td>\n",
       "      <td>Zyudly Labs</td>\n",
       "      <td>0.118048</td>\n",
       "      <td>0.469278</td>\n",
       "      <td>NaN</td>\n",
       "      <td>29.0</td>\n",
       "      <td>103.0</td>\n",
       "      <td>6.0</td>\n",
       "      <td>NaN</td>\n",
       "      <td>0.37</td>\n",
       "      <td>Network Management Software</td>\n",
       "      <td>Provider of cyber-security analytics and intel...</td>\n",
       "      <td>500 Startups, Start Smart Labs</td>\n",
       "      <td>Accelerator/Incubator Backed</td>\n",
       "      <td>Privately Held (backing)</td>\n",
       "      <td>Palo Alto, CA</td>\n",
       "      <td>www.zyudlylabs.com</td>\n",
       "      <td>NaN</td>\n",
       "    </tr>\n",
       "    <tr>\n",
       "      <th>1</th>\n",
       "      <td>103815-46</td>\n",
       "      <td>Zymr</td>\n",
       "      <td>NaN</td>\n",
       "      <td>NaN</td>\n",
       "      <td>NaN</td>\n",
       "      <td>NaN</td>\n",
       "      <td>NaN</td>\n",
       "      <td>NaN</td>\n",
       "      <td>NaN</td>\n",
       "      <td>NaN</td>\n",
       "      <td>NaN</td>\n",
       "      <td>NaN</td>\n",
       "      <td>NaN</td>\n",
       "      <td>NaN</td>\n",
       "      <td>NaN</td>\n",
       "      <td>NaN</td>\n",
       "      <td>NaN</td>\n",
       "      <td>NaN</td>\n",
       "    </tr>\n",
       "  </tbody>\n",
       "</table>\n",
       "</div>"
      ],
      "text/plain": [
       "  Company ID Company Name  Growth Rate  Size Multiple  \\\n",
       "0  170123-59  Zyudly Labs     0.118048       0.469278   \n",
       "1  103815-46         Zymr          NaN            NaN   \n",
       "\n",
       "   Compete Unique Visitors  Majestic Referring Domains  Facebook Likes  \\\n",
       "0                      NaN                        29.0           103.0   \n",
       "1                      NaN                         NaN             NaN   \n",
       "\n",
       "   Twitter Followers  Employees  Total Raised        Primary Industry Code  \\\n",
       "0                6.0        NaN          0.37  Network Management Software   \n",
       "1                NaN        NaN           NaN                          NaN   \n",
       "\n",
       "                                         Description  \\\n",
       "0  Provider of cyber-security analytics and intel...   \n",
       "1                                                NaN   \n",
       "\n",
       "                 Active Investors      Company Financing Status  \\\n",
       "0  500 Startups, Start Smart Labs  Accelerator/Incubator Backed   \n",
       "1                             NaN                           NaN   \n",
       "\n",
       "           Ownership Status    HQ Location             Website  PitchBook Link  \n",
       "0  Privately Held (backing)  Palo Alto, CA  www.zyudlylabs.com             NaN  \n",
       "1                       NaN            NaN                 NaN             NaN  "
      ]
     },
     "execution_count": 11,
     "metadata": {},
     "output_type": "execute_result"
    }
   ],
   "source": [
    "acc_incub_social_web_df =  pd.read_excel(\"../data/raw/CA_Accel-Incub-Seed_PitchBook/Social_and_Web_Presence.xlsx\",header=6)\n",
    "acc_incub_social_web_df.head(2)\n",
    "# interesting columns = company id (primary key), company name, growth rate, size multiple, majestic referring domains\n",
    "# facebook likes, Tiwtter followers, Employees, Total raised"
   ]
  },
  {
   "cell_type": "markdown",
   "metadata": {},
   "source": [
    "# Join Dataframes together"
   ]
  },
  {
   "cell_type": "code",
   "execution_count": 14,
   "metadata": {
    "collapsed": true
   },
   "outputs": [],
   "source": [
    "acc_incub_general_info_colDrop_df = vc_general_info_df[[\"Company ID\", \"Description\", \"Company Name\", \"HQ Post Code\", \"Primary Industry Code\",\n",
    "                                         \"Primary Contact\", \"Year Founded\", \"Active Investors\",\"HQ Location\"]]\n",
    "acc_incub_last_financing_colDrop_df =vc_last_financing_df[[\"Company ID\", \"Growth Rate\", \"Size Multiple\",\n",
    "                                    \"Last Financing Date\",\"Last Financing Size\",\"Last Financing Valuation\",\n",
    "                                                   \"Last Financing Deal Type 2 \"]]\n",
    "acc_incub_social_web_colDrop_df  =vc_social_web_df [[\"Company ID\",  \"Growth Rate\", \n",
    "                                              \"Size Multiple\", \"Majestic Referring Domains\",\n",
    "        \"Facebook Likes\", \"Twitter Followers\", \"Employees\", \"Total Raised\"]]\n",
    "final_acc_incub_df = acc_incub_general_info_colDrop_df.merge(acc_incub_last_financing_colDrop_df, on='Company ID').merge(acc_incub_social_web_colDrop_df, \n",
    "                                                                                     on='Company ID')"
   ]
  },
  {
   "cell_type": "code",
   "execution_count": 15,
   "metadata": {},
   "outputs": [
    {
     "name": "stdout",
     "output_type": "stream",
     "text": [
      "<class 'pandas.core.frame.DataFrame'>\n",
      "Int64Index: 1195 entries, 0 to 1194\n",
      "Data columns (total 22 columns):\n",
      "Company ID                     1187 non-null object\n",
      "Description                    1000 non-null object\n",
      "Company Name                   1186 non-null object\n",
      "HQ Post Code                   804 non-null object\n",
      "Primary Industry Code          1000 non-null object\n",
      "Primary Contact                956 non-null object\n",
      "Year Founded                   935 non-null float64\n",
      "Active Investors               681 non-null object\n",
      "HQ Location                    1000 non-null object\n",
      "Growth Rate_x                  897 non-null float64\n",
      "Size Multiple_x                897 non-null float64\n",
      "Last Financing Date            874 non-null datetime64[ns]\n",
      "Last Financing Size            655 non-null float64\n",
      "Last Financing Valuation       119 non-null float64\n",
      "Last Financing Deal Type 2     547 non-null object\n",
      "Growth Rate_y                  897 non-null float64\n",
      "Size Multiple_y                897 non-null float64\n",
      "Majestic Referring Domains     828 non-null float64\n",
      "Facebook Likes                 596 non-null float64\n",
      "Twitter Followers              678 non-null float64\n",
      "Employees                      418 non-null float64\n",
      "Total Raised                   683 non-null float64\n",
      "dtypes: datetime64[ns](1), float64(12), object(9)\n",
      "memory usage: 214.7+ KB\n"
     ]
    }
   ],
   "source": [
    "final_acc_incub_df.info()"
   ]
  },
  {
   "cell_type": "markdown",
   "metadata": {},
   "source": [
    "## Drop Excess Columns"
   ]
  },
  {
   "cell_type": "code",
   "execution_count": 16,
   "metadata": {
    "collapsed": true
   },
   "outputs": [],
   "source": [
    "final_acc_incub_df .drop([\n",
    "                  'Growth Rate_y','Size Multiple_y'],axis=1,inplace=True)\n",
    "final_acc_incub_df.rename(columns={'Growth Rate_x':'Growth Rate',\"Size Multiple_x\":'Size Multiple',\n",
    "                           \"Company Name_x\":\"Company Name\"},inplace=True) # rename cols"
   ]
  },
  {
   "cell_type": "code",
   "execution_count": null,
   "metadata": {
    "collapsed": true
   },
   "outputs": [],
   "source": []
  },
  {
   "cell_type": "markdown",
   "metadata": {},
   "source": [
    "# Filter out Series A-F Rounds"
   ]
  },
  {
   "cell_type": "code",
   "execution_count": 17,
   "metadata": {},
   "outputs": [
    {
     "data": {
      "text/plain": [
       "array([nan, 'Angel', 'Seed', 'Series A', 'Series AA', 'Series B',\n",
       "       'Series A1', 'Series 2', 'Series A2', 'Series B1', 'Series C',\n",
       "       'Acquisition Financing', 'Corporate', 'Series A3'], dtype=object)"
      ]
     },
     "execution_count": 17,
     "metadata": {},
     "output_type": "execute_result"
    }
   ],
   "source": [
    "final_acc_incub_df['Last Financing Deal Type 2 '].unique()"
   ]
  },
  {
   "cell_type": "code",
   "execution_count": 26,
   "metadata": {},
   "outputs": [],
   "source": [
    "final_acc_incub_filter_df= final_acc_incub_df.loc[(final_acc_incub_df['Last Financing Deal Type 2 ']!='Series A') & \n",
    "                (final_acc_incub_df['Last Financing Deal Type 2 ']!='Series AA') &\n",
    "                   (final_acc_incub_df['Last Financing Deal Type 2 ']!='Series B') &\n",
    "            (final_acc_incub_df['Last Financing Deal Type 2 ']!='Series A1') &\n",
    "             (final_acc_incub_df['Last Financing Deal Type 2 ']!='Series 2') &\n",
    "            (final_acc_incub_df['Last Financing Deal Type 2 ']!='Series A2') &\n",
    "            (final_acc_incub_df['Last Financing Deal Type 2 ']!='Series B1') &\n",
    "            (final_acc_incub_df['Last Financing Deal Type 2 ']!='Series C') &\n",
    "            (final_acc_incub_df['Last Financing Deal Type 2 ']!='Series A3'),: ]"
   ]
  },
  {
   "cell_type": "code",
   "execution_count": 27,
   "metadata": {},
   "outputs": [
    {
     "name": "stdout",
     "output_type": "stream",
     "text": [
      "<class 'pandas.core.frame.DataFrame'>\n",
      "Int64Index: 1137 entries, 0 to 1194\n",
      "Data columns (total 20 columns):\n",
      "Company ID                     1129 non-null object\n",
      "Description                    942 non-null object\n",
      "Company Name                   1128 non-null object\n",
      "HQ Post Code                   749 non-null object\n",
      "Primary Industry Code          942 non-null object\n",
      "Primary Contact                898 non-null object\n",
      "Year Founded                   881 non-null float64\n",
      "Active Investors               647 non-null object\n",
      "HQ Location                    942 non-null object\n",
      "Growth Rate                    844 non-null float64\n",
      "Size Multiple                  844 non-null float64\n",
      "Last Financing Date            819 non-null datetime64[ns]\n",
      "Last Financing Size            606 non-null float64\n",
      "Last Financing Valuation       89 non-null float64\n",
      "Last Financing Deal Type 2     489 non-null object\n",
      "Majestic Referring Domains     777 non-null float64\n",
      "Facebook Likes                 564 non-null float64\n",
      "Twitter Followers              638 non-null float64\n",
      "Employees                      386 non-null float64\n",
      "Total Raised                   628 non-null float64\n",
      "dtypes: datetime64[ns](1), float64(10), object(9)\n",
      "memory usage: 186.5+ KB\n"
     ]
    }
   ],
   "source": [
    "final_acc_incub_filter_df.info()"
   ]
  },
  {
   "cell_type": "markdown",
   "metadata": {},
   "source": [
    "# Drop companies missing the zip code, year founded, and primary contact\n",
    "- ALso drop if we don't have the last financing date. Need this to determine the 'runway' for each company\n",
    "- Also drop if don't have the last financing size. Need this to calculate 'runway\"\n",
    "- Can't impute this"
   ]
  },
  {
   "cell_type": "code",
   "execution_count": 32,
   "metadata": {},
   "outputs": [],
   "source": [
    "final_acc_incub_filter_df = final_acc_incub_filter_df.loc[\n",
    "    (final_acc_incub_filter_df['HQ Post Code'].isnull()==False) &\n",
    "    (final_acc_incub_filter_df['Year Founded'].isnull()==False) &\n",
    "    (final_acc_incub_filter_df['Primary Contact'].isnull()==False) &\n",
    "    (final_acc_incub_filter_df['Last Financing Date'].isnull()==False)  &\n",
    "    (final_acc_incub_filter_df['Last Financing Size'].isnull()==False),: ]"
   ]
  },
  {
   "cell_type": "code",
   "execution_count": 33,
   "metadata": {},
   "outputs": [
    {
     "name": "stdout",
     "output_type": "stream",
     "text": [
      "<class 'pandas.core.frame.DataFrame'>\n",
      "Int64Index: 463 entries, 0 to 1179\n",
      "Data columns (total 20 columns):\n",
      "Company ID                     463 non-null object\n",
      "Description                    463 non-null object\n",
      "Company Name                   463 non-null object\n",
      "HQ Post Code                   463 non-null object\n",
      "Primary Industry Code          463 non-null object\n",
      "Primary Contact                463 non-null object\n",
      "Year Founded                   463 non-null float64\n",
      "Active Investors               248 non-null object\n",
      "HQ Location                    463 non-null object\n",
      "Growth Rate                    409 non-null float64\n",
      "Size Multiple                  409 non-null float64\n",
      "Last Financing Date            463 non-null datetime64[ns]\n",
      "Last Financing Size            463 non-null float64\n",
      "Last Financing Valuation       59 non-null float64\n",
      "Last Financing Deal Type 2     301 non-null object\n",
      "Majestic Referring Domains     380 non-null float64\n",
      "Facebook Likes                 277 non-null float64\n",
      "Twitter Followers              318 non-null float64\n",
      "Employees                      202 non-null float64\n",
      "Total Raised                   428 non-null float64\n",
      "dtypes: datetime64[ns](1), float64(10), object(9)\n",
      "memory usage: 76.0+ KB\n"
     ]
    }
   ],
   "source": [
    "final_acc_incub_filter_df.info()"
   ]
  },
  {
   "cell_type": "markdown",
   "metadata": {},
   "source": [
    "# Impute missing values\n",
    "- Growth Rate : impute median\n",
    "- Size Multiple: imput median\n",
    "- Last Financing Size : impute median\n",
    "- Last Financing Valuation: Drop this ( too many nulls)\n",
    "- Majestic Referring Domains: Impute Median\n",
    "- Facebook Like: Impute median\n",
    "- Twitter followers: impute emdian\n",
    "- Employees: impute median (even though we will use this to calculate VC invest = 0, 7 employees is conservative)\n",
    "- Total raised: impute median"
   ]
  },
  {
   "cell_type": "code",
   "execution_count": 36,
   "metadata": {},
   "outputs": [
    {
     "data": {
      "text/html": [
       "<div>\n",
       "<style>\n",
       "    .dataframe thead tr:only-child th {\n",
       "        text-align: right;\n",
       "    }\n",
       "\n",
       "    .dataframe thead th {\n",
       "        text-align: left;\n",
       "    }\n",
       "\n",
       "    .dataframe tbody tr th {\n",
       "        vertical-align: top;\n",
       "    }\n",
       "</style>\n",
       "<table border=\"1\" class=\"dataframe\">\n",
       "  <thead>\n",
       "    <tr style=\"text-align: right;\">\n",
       "      <th></th>\n",
       "      <th>Year Founded</th>\n",
       "      <th>Growth Rate</th>\n",
       "      <th>Size Multiple</th>\n",
       "      <th>Last Financing Size</th>\n",
       "      <th>Last Financing Valuation</th>\n",
       "      <th>Majestic Referring Domains</th>\n",
       "      <th>Facebook Likes</th>\n",
       "      <th>Twitter Followers</th>\n",
       "      <th>Employees</th>\n",
       "      <th>Total Raised</th>\n",
       "    </tr>\n",
       "  </thead>\n",
       "  <tbody>\n",
       "    <tr>\n",
       "      <th>count</th>\n",
       "      <td>463.000000</td>\n",
       "      <td>409.000000</td>\n",
       "      <td>409.000000</td>\n",
       "      <td>463.000000</td>\n",
       "      <td>59.000000</td>\n",
       "      <td>380.000000</td>\n",
       "      <td>2.770000e+02</td>\n",
       "      <td>318.000000</td>\n",
       "      <td>202.000000</td>\n",
       "      <td>428.000000</td>\n",
       "    </tr>\n",
       "    <tr>\n",
       "      <th>mean</th>\n",
       "      <td>2011.384449</td>\n",
       "      <td>0.114040</td>\n",
       "      <td>13.366262</td>\n",
       "      <td>0.992743</td>\n",
       "      <td>3.487458</td>\n",
       "      <td>255.634211</td>\n",
       "      <td>3.139754e+04</td>\n",
       "      <td>6192.440252</td>\n",
       "      <td>12.836634</td>\n",
       "      <td>1.604042</td>\n",
       "    </tr>\n",
       "    <tr>\n",
       "      <th>std</th>\n",
       "      <td>6.530907</td>\n",
       "      <td>0.736849</td>\n",
       "      <td>89.906664</td>\n",
       "      <td>2.354893</td>\n",
       "      <td>3.587065</td>\n",
       "      <td>2134.617182</td>\n",
       "      <td>1.977533e+05</td>\n",
       "      <td>29273.074244</td>\n",
       "      <td>22.182823</td>\n",
       "      <td>3.746791</td>\n",
       "    </tr>\n",
       "    <tr>\n",
       "      <th>min</th>\n",
       "      <td>1906.000000</td>\n",
       "      <td>-4.113173</td>\n",
       "      <td>0.002825</td>\n",
       "      <td>0.010000</td>\n",
       "      <td>0.250000</td>\n",
       "      <td>1.000000</td>\n",
       "      <td>1.000000e+00</td>\n",
       "      <td>1.000000</td>\n",
       "      <td>1.000000</td>\n",
       "      <td>0.010000</td>\n",
       "    </tr>\n",
       "    <tr>\n",
       "      <th>25%</th>\n",
       "      <td>2011.000000</td>\n",
       "      <td>-0.008218</td>\n",
       "      <td>0.270270</td>\n",
       "      <td>0.090000</td>\n",
       "      <td>1.710000</td>\n",
       "      <td>8.000000</td>\n",
       "      <td>1.560000e+02</td>\n",
       "      <td>85.500000</td>\n",
       "      <td>3.250000</td>\n",
       "      <td>0.120000</td>\n",
       "    </tr>\n",
       "    <tr>\n",
       "      <th>50%</th>\n",
       "      <td>2013.000000</td>\n",
       "      <td>0.000000</td>\n",
       "      <td>0.906016</td>\n",
       "      <td>0.300000</td>\n",
       "      <td>2.500000</td>\n",
       "      <td>25.000000</td>\n",
       "      <td>8.160000e+02</td>\n",
       "      <td>425.500000</td>\n",
       "      <td>7.000000</td>\n",
       "      <td>0.465000</td>\n",
       "    </tr>\n",
       "    <tr>\n",
       "      <th>75%</th>\n",
       "      <td>2014.000000</td>\n",
       "      <td>0.077603</td>\n",
       "      <td>3.731261</td>\n",
       "      <td>1.000000</td>\n",
       "      <td>4.260000</td>\n",
       "      <td>68.000000</td>\n",
       "      <td>4.185000e+03</td>\n",
       "      <td>1789.500000</td>\n",
       "      <td>11.000000</td>\n",
       "      <td>1.500000</td>\n",
       "    </tr>\n",
       "    <tr>\n",
       "      <th>max</th>\n",
       "      <td>2017.000000</td>\n",
       "      <td>6.007684</td>\n",
       "      <td>1498.019287</td>\n",
       "      <td>28.590000</td>\n",
       "      <td>20.320000</td>\n",
       "      <td>38824.000000</td>\n",
       "      <td>2.502721e+06</td>\n",
       "      <td>304832.000000</td>\n",
       "      <td>227.000000</td>\n",
       "      <td>45.960000</td>\n",
       "    </tr>\n",
       "  </tbody>\n",
       "</table>\n",
       "</div>"
      ],
      "text/plain": [
       "       Year Founded  Growth Rate  Size Multiple  Last Financing Size  \\\n",
       "count    463.000000   409.000000     409.000000           463.000000   \n",
       "mean    2011.384449     0.114040      13.366262             0.992743   \n",
       "std        6.530907     0.736849      89.906664             2.354893   \n",
       "min     1906.000000    -4.113173       0.002825             0.010000   \n",
       "25%     2011.000000    -0.008218       0.270270             0.090000   \n",
       "50%     2013.000000     0.000000       0.906016             0.300000   \n",
       "75%     2014.000000     0.077603       3.731261             1.000000   \n",
       "max     2017.000000     6.007684    1498.019287            28.590000   \n",
       "\n",
       "       Last Financing Valuation  Majestic Referring Domains  Facebook Likes  \\\n",
       "count                 59.000000                  380.000000    2.770000e+02   \n",
       "mean                   3.487458                  255.634211    3.139754e+04   \n",
       "std                    3.587065                 2134.617182    1.977533e+05   \n",
       "min                    0.250000                    1.000000    1.000000e+00   \n",
       "25%                    1.710000                    8.000000    1.560000e+02   \n",
       "50%                    2.500000                   25.000000    8.160000e+02   \n",
       "75%                    4.260000                   68.000000    4.185000e+03   \n",
       "max                   20.320000                38824.000000    2.502721e+06   \n",
       "\n",
       "       Twitter Followers   Employees  Total Raised  \n",
       "count         318.000000  202.000000    428.000000  \n",
       "mean         6192.440252   12.836634      1.604042  \n",
       "std         29273.074244   22.182823      3.746791  \n",
       "min             1.000000    1.000000      0.010000  \n",
       "25%            85.500000    3.250000      0.120000  \n",
       "50%           425.500000    7.000000      0.465000  \n",
       "75%          1789.500000   11.000000      1.500000  \n",
       "max        304832.000000  227.000000     45.960000  "
      ]
     },
     "execution_count": 36,
     "metadata": {},
     "output_type": "execute_result"
    }
   ],
   "source": [
    "final_acc_incub_filter_df.describe()"
   ]
  },
  {
   "cell_type": "code",
   "execution_count": 34,
   "metadata": {
    "collapsed": true
   },
   "outputs": [],
   "source": [
    "median_values={}\n",
    "for row in final_acc_incub_filter_df.describe(): # get median values\n",
    "    if row =='Last Financing Valuation': # don't have enough data for this\n",
    "        pass\n",
    "    else:\n",
    "        median_values[row]=final_acc_incub_filter_df.describe()[row][\"50%\"]"
   ]
  },
  {
   "cell_type": "code",
   "execution_count": 35,
   "metadata": {},
   "outputs": [
    {
     "data": {
      "text/plain": [
       "{'Employees': 7.0,\n",
       " 'Facebook Likes': 816.0,\n",
       " 'Growth Rate': 0.0,\n",
       " 'Last Financing Size': 0.29999999999999999,\n",
       " 'Majestic Referring Domains': 25.0,\n",
       " 'Size Multiple': 0.90601639907093101,\n",
       " 'Total Raised': 0.46499999999999997,\n",
       " 'Twitter Followers': 425.5,\n",
       " 'Year Founded': 2013.0}"
      ]
     },
     "execution_count": 35,
     "metadata": {},
     "output_type": "execute_result"
    }
   ],
   "source": [
    "median_values"
   ]
  },
  {
   "cell_type": "code",
   "execution_count": 37,
   "metadata": {
    "collapsed": true
   },
   "outputs": [],
   "source": [
    "imputed_final_df = final_acc_incub_filter_df.copy()\n",
    "for key in median_values: # update the nan values with the median\n",
    "    updated_col = final_acc_incub_filter_df.loc[:,key].copy()\n",
    "    updated_col = updated_col.fillna(median_values[key])\n",
    "    imputed_final_df.loc[:,key] = updated_col\n"
   ]
  },
  {
   "cell_type": "code",
   "execution_count": 40,
   "metadata": {},
   "outputs": [
    {
     "name": "stdout",
     "output_type": "stream",
     "text": [
      "<class 'pandas.core.frame.DataFrame'>\n",
      "Int64Index: 463 entries, 0 to 1179\n",
      "Data columns (total 20 columns):\n",
      "Company ID                     463 non-null object\n",
      "Description                    463 non-null object\n",
      "Company Name                   463 non-null object\n",
      "HQ Post Code                   463 non-null object\n",
      "Primary Industry Code          463 non-null object\n",
      "Primary Contact                463 non-null object\n",
      "Year Founded                   463 non-null float64\n",
      "Active Investors               248 non-null object\n",
      "HQ Location                    463 non-null object\n",
      "Growth Rate                    463 non-null float64\n",
      "Size Multiple                  463 non-null float64\n",
      "Last Financing Date            463 non-null datetime64[ns]\n",
      "Last Financing Size            463 non-null float64\n",
      "Last Financing Valuation       59 non-null float64\n",
      "Last Financing Deal Type 2     301 non-null object\n",
      "Majestic Referring Domains     463 non-null float64\n",
      "Facebook Likes                 463 non-null float64\n",
      "Twitter Followers              463 non-null float64\n",
      "Employees                      463 non-null float64\n",
      "Total Raised                   463 non-null float64\n",
      "dtypes: datetime64[ns](1), float64(10), object(9)\n",
      "memory usage: 76.0+ KB\n"
     ]
    }
   ],
   "source": [
    "imputed_final_df.info()"
   ]
  },
  {
   "cell_type": "markdown",
   "metadata": {},
   "source": [
    "# Determine How many companies are past their 'runway'\n",
    "- Read in the median family income for all CA counties\n",
    "- Last Financing Size is based on millions of dollars\n",
    "- i.e. have spend more then their funding for the past number of months for the number of employees"
   ]
  },
  {
   "cell_type": "markdown",
   "metadata": {},
   "source": [
    "### Load in median income for palces in california"
   ]
  },
  {
   "cell_type": "code",
   "execution_count": 55,
   "metadata": {
    "collapsed": true
   },
   "outputs": [],
   "source": [
    "ca_income = pd.read_csv(\"../data/raw/median_income_tables/ca_income_by_county.csv\")"
   ]
  },
  {
   "cell_type": "code",
   "execution_count": 56,
   "metadata": {},
   "outputs": [
    {
     "data": {
      "text/plain": [
       "count        1442\n",
       "unique       1385\n",
       "top       $42,500\n",
       "freq            4\n",
       "Name: median_household_income, dtype: object"
      ]
     },
     "execution_count": 56,
     "metadata": {},
     "output_type": "execute_result"
    }
   ],
   "source": [
    "ca_income.median_household_income[ca_income.median_household_income!=\"[7\"].describe()"
   ]
  },
  {
   "cell_type": "code",
   "execution_count": 102,
   "metadata": {
    "collapsed": true
   },
   "outputs": [],
   "source": [
    "# For places without median income information, fill in with the median of CA"
   ]
  },
  {
   "cell_type": "code",
   "execution_count": 57,
   "metadata": {},
   "outputs": [],
   "source": [
    "ca_income.median_household_income = ca_income.median_household_income.replace(\"[7\",\"$42,500\")"
   ]
  },
  {
   "cell_type": "code",
   "execution_count": 69,
   "metadata": {},
   "outputs": [],
   "source": [
    "ca_income.median_household_income = \\\n",
    "    ca_income.median_household_income.apply( lambda x: int(x.strip(\"$\").replace(\",\",\"\"))) # conver to numbers"
   ]
  },
  {
   "cell_type": "code",
   "execution_count": 70,
   "metadata": {},
   "outputs": [
    {
     "data": {
      "text/plain": [
       "count      1516.000000\n",
       "mean      59873.567282\n",
       "std       31285.114145\n",
       "min        4853.000000\n",
       "25%       39736.000000\n",
       "50%       52148.000000\n",
       "75%       74222.250000\n",
       "max      245694.000000\n",
       "Name: median_household_income, dtype: float64"
      ]
     },
     "execution_count": 70,
     "metadata": {},
     "output_type": "execute_result"
    }
   ],
   "source": [
    "ca_income.median_household_income.describe()"
   ]
  },
  {
   "cell_type": "markdown",
   "metadata": {},
   "source": [
    "#### Find the number of days since the offer\n",
    "- Use the date the data was pulledd"
   ]
  },
  {
   "cell_type": "code",
   "execution_count": 159,
   "metadata": {
    "collapsed": true
   },
   "outputs": [],
   "source": [
    "date_pulled = datetime.datetime(2017,6,9)"
   ]
  },
  {
   "cell_type": "code",
   "execution_count": 160,
   "metadata": {},
   "outputs": [],
   "source": [
    "imputed_final_df[\"days_since_offer\"]=  imputed_final_df[\"Last Financing Date\"].apply(\n",
    "    lambda x: (date_pulled - x).days)\n"
   ]
  },
  {
   "cell_type": "code",
   "execution_count": 161,
   "metadata": {},
   "outputs": [
    {
     "data": {
      "text/plain": [
       "0    121\n",
       "2    240\n",
       "3    750\n",
       "5    902\n",
       "8    134\n",
       "Name: days_since_offer, dtype: int64"
      ]
     },
     "execution_count": 161,
     "metadata": {},
     "output_type": "execute_result"
    }
   ],
   "source": [
    "imputed_final_df[\"days_since_offer\"].head()"
   ]
  },
  {
   "cell_type": "markdown",
   "metadata": {},
   "source": [
    "### Determine the number of days of 'runway' that the last financing size gives the company\n",
    "- Based on the number of employees and median income of location"
   ]
  },
  {
   "cell_type": "code",
   "execution_count": 155,
   "metadata": {},
   "outputs": [
    {
     "name": "stdout",
     "output_type": "stream",
     "text": [
      "<class 'pandas.core.frame.DataFrame'>\n",
      "Int64Index: 463 entries, 0 to 1179\n",
      "Data columns (total 21 columns):\n",
      "Company ID                     463 non-null object\n",
      "Description                    463 non-null object\n",
      "Company Name                   463 non-null object\n",
      "HQ Post Code                   463 non-null object\n",
      "Primary Industry Code          463 non-null object\n",
      "Primary Contact                463 non-null object\n",
      "Year Founded                   463 non-null float64\n",
      "Active Investors               248 non-null object\n",
      "HQ Location                    463 non-null object\n",
      "Growth Rate                    463 non-null float64\n",
      "Size Multiple                  463 non-null float64\n",
      "Last Financing Date            463 non-null datetime64[ns]\n",
      "Last Financing Size            463 non-null float64\n",
      "Last Financing Valuation       59 non-null float64\n",
      "Last Financing Deal Type 2     301 non-null object\n",
      "Majestic Referring Domains     463 non-null float64\n",
      "Facebook Likes                 463 non-null float64\n",
      "Twitter Followers              463 non-null float64\n",
      "Employees                      463 non-null float64\n",
      "Total Raised                   463 non-null float64\n",
      "days_since_offer               463 non-null int64\n",
      "dtypes: datetime64[ns](1), float64(10), int64(1), object(9)\n",
      "memory usage: 99.6+ KB\n"
     ]
    }
   ],
   "source": [
    "imputed_final_df.info()"
   ]
  },
  {
   "cell_type": "code",
   "execution_count": 146,
   "metadata": {},
   "outputs": [],
   "source": [
    "t = ca_income[ca_income.Place==\"Mountain View\"]['median_household_income'].values"
   ]
  },
  {
   "cell_type": "code",
   "execution_count": 194,
   "metadata": {},
   "outputs": [],
   "source": [
    "vc_invest = []\n",
    "for row in imputed_final_df.iterrows():\n",
    "    row = row[1]\n",
    "    place = row['HQ Location'].split(\",\")[0]\n",
    "    state = row['HQ Location'].split(\",\")[1]\n",
    "    try:\n",
    "        median_yr_income = int(ca_income[ca_income.Place==place]['median_household_income'].values) # median year income\n",
    "        daily_income = median_yr_income/365\n",
    "   \n",
    "\n",
    "        daily_income_for_company = row['Employees'] * daily_income\n",
    "\n",
    "        required_funding_daily = daily_income_for_company * (row['days_since_offer'])\n",
    "        funding_so_far = row['Last Financing Size']*1_000_000\n",
    "        if required_funding_daily > funding_so_far:\n",
    "            vc_invest.append(0)\n",
    "        else:\n",
    "            vc_invest.append('NaN')\n",
    "    except Exception as e:\n",
    "        if state == \"CA\":\n",
    "            median_yr_income = int(ca_income[ca_income.Place==place]['median_household_income'].values[1]) # median year income\n",
    "            daily_income = median_yr_income/365\n",
    "            daily_income_for_company = row['Employees'] * daily_income\n",
    "            required_funding_daily = daily_income_for_company *row['days_since_offer']\n",
    "            funding_so_far = row['Last Financing Size']*1_000_000\n",
    "            if required_funding_daily < funding_so_far:\n",
    "                vc_invest.append(0)\n",
    "            else:\n",
    "                vc_invest.append('NaN')\n",
    "        else:\n",
    "            vc_invest.append('NaN')\n"
   ]
  },
  {
   "cell_type": "code",
   "execution_count": 195,
   "metadata": {},
   "outputs": [],
   "source": [
    "imputed_final_df['vc_invest']=vc_invest"
   ]
  },
  {
   "cell_type": "code",
   "execution_count": 196,
   "metadata": {},
   "outputs": [],
   "source": [
    "imputed_final_df= imputed_final_df[imputed_final_df['vc_invest']!='NaN']"
   ]
  },
  {
   "cell_type": "code",
   "execution_count": 198,
   "metadata": {},
   "outputs": [
    {
     "name": "stdout",
     "output_type": "stream",
     "text": [
      "<class 'pandas.core.frame.DataFrame'>\n",
      "Int64Index: 327 entries, 0 to 1177\n",
      "Data columns (total 22 columns):\n",
      "Company ID                     327 non-null object\n",
      "Description                    327 non-null object\n",
      "Company Name                   327 non-null object\n",
      "HQ Post Code                   327 non-null object\n",
      "Primary Industry Code          327 non-null object\n",
      "Primary Contact                327 non-null object\n",
      "Year Founded                   327 non-null float64\n",
      "Active Investors               189 non-null object\n",
      "HQ Location                    327 non-null object\n",
      "Growth Rate                    327 non-null float64\n",
      "Size Multiple                  327 non-null float64\n",
      "Last Financing Date            327 non-null datetime64[ns]\n",
      "Last Financing Size            327 non-null float64\n",
      "Last Financing Valuation       47 non-null float64\n",
      "Last Financing Deal Type 2     194 non-null object\n",
      "Majestic Referring Domains     327 non-null float64\n",
      "Facebook Likes                 327 non-null float64\n",
      "Twitter Followers              327 non-null float64\n",
      "Employees                      327 non-null float64\n",
      "Total Raised                   327 non-null float64\n",
      "days_since_offer               327 non-null int64\n",
      "vc_invest                      327 non-null object\n",
      "dtypes: datetime64[ns](1), float64(10), int64(1), object(10)\n",
      "memory usage: 58.8+ KB\n"
     ]
    }
   ],
   "source": [
    "imputed_final_df.info()"
   ]
  },
  {
   "cell_type": "markdown",
   "metadata": {},
   "source": [
    "# Use Tweepy to find the usernames of founders"
   ]
  },
  {
   "cell_type": "code",
   "execution_count": 199,
   "metadata": {
    "collapsed": true
   },
   "outputs": [],
   "source": [
    "def username_search(name, company, state, c = 20):\n",
    "    \"\"\"Run a search on twitter for the given name. Returns the first username (should be the most relevant).\n",
    "    Looks to match a state location with the state locatio nof the company\n",
    "\n",
    "    First try searching for the person's name + company. If that does not work, try just searching for the \n",
    "    person's name.\n",
    "    \n",
    "    Count is for the number of results to return. Default to twenty. If not in the first twenty results, probably not\n",
    "    the correct user\"\"\"\n",
    "    state = state.lower()\n",
    "    \n",
    "    credentials = yaml.load(open(os.path.expanduser('~/.ssh/api_credentials.yml')))\n",
    "    auth = tweepy.OAuthHandler(credentials['twitter']['consumer_key'], credentials['twitter']['consumer_secret'],)\n",
    "    auth.set_access_token(credentials['twitter']['token'], credentials['twitter']['token_secret'])\n",
    "    api = tweepy.API(auth,wait_on_rate_limit=True, wait_on_rate_limit_notify=True)\n",
    "    tweets = api.search_users(q=str(name)+\" \"+str(company), count=c)\n",
    "    \n",
    "\n",
    "    try: # search the name and the company\n",
    "        test = result[0].screen_name\n",
    "        screen_n = None\n",
    "        \n",
    "        for result in tweets:\n",
    "            location = result.location.lower().split(\" \") # see if the location is in the companies state\n",
    "            if state in location:\n",
    "                return result.screen_name\n",
    "\n",
    "        if screen_n == None:\n",
    "            return 'NaN'\n",
    "        else:\n",
    "            return screen_n\n",
    "            \n",
    "    except Exception as e: # try just the name\n",
    "        try:\n",
    "\n",
    "            tweets = api.search_users(q=name, count = c)\n",
    "            \n",
    "            screen_n = None\n",
    "            for result in tweets:\n",
    "                if state in result.location.lower().split(\" \"):\n",
    "\n",
    "                    return result.screen_name\n",
    "            if screen_n == None:\n",
    "                return \"NaN\"\n",
    "            else:\n",
    "                return screen_n\n",
    "            \n",
    "\n",
    "        except Exception as e:\n",
    "            return \"NaN\""
   ]
  },
  {
   "cell_type": "code",
   "execution_count": 206,
   "metadata": {},
   "outputs": [
    {
     "name": "stdout",
     "output_type": "stream",
     "text": [
      "Finished 0\n",
      "Finished 100\n",
      "Finished 200\n",
      "Finished 300\n"
     ]
    }
   ],
   "source": [
    "twitter_usernames_accel_incub_df = []\n",
    "for idx,row in enumerate(imputed_final_df.iterrows()):\n",
    "    location = row[1]['HQ Location'].split(\",\")[1].strip(\" \")\n",
    "    company = row[1]['Company Name']\n",
    "    founder = row[1]['Primary Contact']\n",
    "\n",
    "    twitter_usernames_accel_incub_df.append(username_search(founder,company, location ))\n",
    "    if idx%100 ==0:\n",
    "        print(f\"Finished {idx}\")\n"
   ]
  },
  {
   "cell_type": "code",
   "execution_count": 207,
   "metadata": {
    "collapsed": true
   },
   "outputs": [],
   "source": [
    "imputed_final_df['Twitter_Username'] = twitter_usernames_accel_incub_df"
   ]
  },
  {
   "cell_type": "markdown",
   "metadata": {},
   "source": [
    "# Drop NaN Usernames"
   ]
  },
  {
   "cell_type": "code",
   "execution_count": 208,
   "metadata": {
    "collapsed": true
   },
   "outputs": [],
   "source": [
    "finished_acc_incub_df =  imputed_final_df[\n",
    "        (imputed_final_df.Twitter_Username!='NaN') ]"
   ]
  },
  {
   "cell_type": "code",
   "execution_count": 209,
   "metadata": {},
   "outputs": [
    {
     "name": "stdout",
     "output_type": "stream",
     "text": [
      "<class 'pandas.core.frame.DataFrame'>\n",
      "Int64Index: 98 entries, 0 to 1171\n",
      "Data columns (total 23 columns):\n",
      "Company ID                     98 non-null object\n",
      "Description                    98 non-null object\n",
      "Company Name                   98 non-null object\n",
      "HQ Post Code                   98 non-null object\n",
      "Primary Industry Code          98 non-null object\n",
      "Primary Contact                98 non-null object\n",
      "Year Founded                   98 non-null float64\n",
      "Active Investors               59 non-null object\n",
      "HQ Location                    98 non-null object\n",
      "Growth Rate                    98 non-null float64\n",
      "Size Multiple                  98 non-null float64\n",
      "Last Financing Date            98 non-null datetime64[ns]\n",
      "Last Financing Size            98 non-null float64\n",
      "Last Financing Valuation       17 non-null float64\n",
      "Last Financing Deal Type 2     57 non-null object\n",
      "Majestic Referring Domains     98 non-null float64\n",
      "Facebook Likes                 98 non-null float64\n",
      "Twitter Followers              98 non-null float64\n",
      "Employees                      98 non-null float64\n",
      "Total Raised                   98 non-null float64\n",
      "days_since_offer               98 non-null int64\n",
      "vc_invest                      98 non-null object\n",
      "Twitter_Username               98 non-null object\n",
      "dtypes: datetime64[ns](1), float64(10), int64(1), object(11)\n",
      "memory usage: 18.4+ KB\n"
     ]
    }
   ],
   "source": [
    "finished_acc_incub_df .info()"
   ]
  },
  {
   "cell_type": "code",
   "execution_count": 210,
   "metadata": {
    "collapsed": true
   },
   "outputs": [],
   "source": [
    "finished_acc_incub_df.to_csv(\"../data/processed/PitchBook_CA_VCInvest=0.csv\")"
   ]
  },
  {
   "cell_type": "code",
   "execution_count": null,
   "metadata": {
    "collapsed": true
   },
   "outputs": [],
   "source": []
  }
 ],
 "metadata": {
  "kernelspec": {
   "display_name": "nlp_founder",
   "language": "python",
   "name": "nlp_founder"
  },
  "language_info": {
   "codemirror_mode": {
    "name": "ipython",
    "version": 3
   },
   "file_extension": ".py",
   "mimetype": "text/x-python",
   "name": "python",
   "nbconvert_exporter": "python",
   "pygments_lexer": "ipython3",
   "version": "3.6.1"
  }
 },
 "nbformat": 4,
 "nbformat_minor": 2
}
