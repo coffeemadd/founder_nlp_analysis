{
 "cells": [
  {
   "cell_type": "code",
   "execution_count": 4,
   "metadata": {
    "collapsed": true
   },
   "outputs": [],
   "source": [
    "from bs4 import BeautifulSoup\n",
    "import requests"
   ]
  },
  {
   "cell_type": "code",
   "execution_count": null,
   "metadata": {
    "collapsed": true
   },
   "outputs": [],
   "source": [
    "BeautifulSoup()"
   ]
  },
  {
   "cell_type": "code",
   "execution_count": 12,
   "metadata": {
    "collapsed": true
   },
   "outputs": [],
   "source": [
    "r  = requests.get(\"http://bookriot.com/2015/11/11/myers-briggs-types-101-famous-authors/\")\n",
    "mbti_data = r.content"
   ]
  },
  {
   "cell_type": "code",
   "execution_count": 15,
   "metadata": {
    "collapsed": false
   },
   "outputs": [],
   "source": [
    "# create the soup!\n",
    "mbti_soup = BeautifulSoup(mbti_data, 'html.parser')"
   ]
  },
  {
   "cell_type": "code",
   "execution_count": 20,
   "metadata": {
    "collapsed": true
   },
   "outputs": [],
   "source": [
    "#http://bookriot.com/2015/11/11/myers-briggs-types-101-famous-authors/\n",
    "estj = \"\"\"Amy Chua, E.L. James, Dr. Phil McGraw, \n",
    "Tom Clancy, Ann Coulter, Michelle Malkin, Bill O’Reilly, Billy Graham,  Sonia Sotomayor. \"\"\"\n",
    "esfj = \"\"\"Barbara Walters, Chris Wallace\"\"\"\n",
    "isfj = 'Mother Teresa'\n",
    "istj = \"\"\"Thomas Hobbes, Sigmund Freud, Martin Heidegger, Xenophon,  Ayaan Hirsi Ali\"\"\"\n",
    "estp = \"\"\"Sir Arthur Conan Doyle, Glenn Beck, Bret Easton Ellis, the Marquis de Sade, \n",
    "Ernest Hemingway, John Grisham, Dale Carnegie, Stephen R. Covey, Epicurus,\"\"\"\n",
    "esfp = \"\"\"Tony Robbins, Wayne Dyer, Deepak Chopra, Bill Clinton, Paulo Coelho\"\"\"\n",
    "isfp = \"\"\"Thich Nhat Hanh\"\"\"\n",
    "istp = \"\"\"Miyamoto Musashi, Dalai Lama\"\"\"\n",
    "enfp = \"\"\" Oscar Wilde, Aldous Huxley, Umberto Eco, Salman Rushdie,\n",
    "Anne Frank, Kurt Vonnegut, Anaïs Nin, Dr. Seuss, Hunter S. Thompson\"\"\"\n",
    "enfj = \"\"\"Johann von Goethe, Matthieu Ricard, Erasmus of Rotterdam,  Erich Fromm\"\"\"\n",
    "infj = \"\"\"Plato, Mary Wollstonecraft, Nathaniel Hawthorne, Dante Alighieri, Fyodor Dostoevsky,\n",
    "Agatha Christie, Charlotte Brontë, J.K. Rowling, Carl Jung\"\"\"\n",
    "infp = \"\"\"Jean-Jacques Rousseau, Albert Camus, George Orwell, J.R.R. Tolkien, Virginia Woolf, Antoine de Saint-Exupery, A.A. Milne, Franz Kafka,\n",
    "Edgar Allan Poe, John Milton, William Blake, Hans Christian Anderson, William Shakespeare, Homer\"\"\"\n",
    "entj = \"\"\"Robert James Waller , Sheryl Sandberg\"\"\"\n",
    "entp = \"\"\"Socrates, Niccolo Machiavelli, George Bernard Shaw, \n",
    "Chuck Palahniuk, Benjamin Franklin, Voltaire, and Mark Twain\"\"\"\n",
    "intp = \"\"\"Richard Dawkins, Immanuel Kant, Charles Darwin, Hannah Arendt,\n",
    "John Locke, Thomas Aquinas, Rene Descartes, John le Carre\"\"\"\n",
    "intj = \"\"\"Jane Austen, C.S. Lewis, Emily Brontë, Ayn Rand, Lewis Carroll, Friedrich Nietzsche,\n",
    "Stephen Hawking, Isaac Asimov, Christopher Hitchens\"\"\""
   ]
  },
  {
   "cell_type": "code",
   "execution_count": null,
   "metadata": {
    "collapsed": true
   },
   "outputs": [],
   "source": [
    "# project gutenberg\n",
    "intf = 'Jane Austen'\n",
    "infp = 'Charlotte Perkins Gilman, Franz Kafka, Herman Melville, Walt Whitman, Homer'\n",
    "infj = 'Mary Wollstonecraft Shelley,  Leo Tolstoy, Hermann Hesse, Robert Louis Stevenson, Fyodor Dostoyevsky'\n",
    "intj = 'Friedrich Wilhelm Nietzsche, Emily Bronte, Jonathan Swift'\n",
    "intp = 'H. G. Wells'\n",
    "\n",
    "istj = 'Alexandre Dumas, Thomas Hobbes'\n",
    "isfj = Rudyard Kipling\n",
    "\n",
    "enfp = 'Mark Twain, Charles Dickens, Oscar Wilde, Victor Hugo'\n",
    "entp = 'Lewis Carroll, Niccolo Machiavelli'\n",
    "entj = 'Frederick Douglass'\n",
    "\n",
    "estp = \"Arthur Conan Doyle\"\n"
   ]
  },
  {
   "cell_type": "code",
   "execution_count": 1,
   "metadata": {
    "collapsed": true
   },
   "outputs": [],
   "source": [
    "author_mbti = {'Agatha_Cristie':'INFJ', 'A._A._Milne':'INFP', 'Aimé Césaire':'INFP', 'Albert Camus':''\n",
    "    \n",
    "}"
   ]
  },
  {
   "cell_type": "code",
   "execution_count": null,
   "metadata": {
    "collapsed": true
   },
   "outputs": [],
   "source": []
  }
 ],
 "metadata": {
  "kernelspec": {
   "display_name": "mbti_classification",
   "language": "python",
   "name": "mbti_classification"
  },
  "language_info": {
   "codemirror_mode": {
    "name": "ipython",
    "version": 3
   },
   "file_extension": ".py",
   "mimetype": "text/x-python",
   "name": "python",
   "nbconvert_exporter": "python",
   "pygments_lexer": "ipython3",
   "version": "3.6.1"
  }
 },
 "nbformat": 4,
 "nbformat_minor": 2
}
