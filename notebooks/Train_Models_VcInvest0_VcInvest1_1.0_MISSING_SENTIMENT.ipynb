{
 "cells": [
  {
   "cell_type": "code",
   "execution_count": 288,
   "metadata": {},
   "outputs": [
    {
     "name": "stdout",
     "output_type": "stream",
     "text": [
      "Populating the interactive namespace from numpy and matplotlib\n"
     ]
    },
    {
     "name": "stderr",
     "output_type": "stream",
     "text": [
      "/Users/jonathanhilgart/anaconda/envs/nlp_founder/lib/python3.6/site-packages/IPython/html.py:14: ShimWarning: The `IPython.html` package has been deprecated since IPython 4.0. You should import from `notebook` instead. `IPython.html.widgets` has moved to `ipywidgets`.\n",
      "  \"`IPython.html.widgets` has moved to `ipywidgets`.\", ShimWarning)\n"
     ]
    }
   ],
   "source": [
    "import pandas as pd\n",
    "from sklearn.model_selection import train_test_split\n",
    "from sklearn.ensemble import RandomForestClassifier\n",
    "from sklearn.metrics import precision_recall_curve\n",
    "import matplotlib.pyplot as plt\n",
    "from sklearn.metrics import roc_curve\n",
    "from sklearn.metrics import f1_score\n",
    "from sklearn.model_selection import cross_val_predict\n",
    "import seaborn as sns\n",
    "%pylab inline"
   ]
  },
  {
   "cell_type": "code",
   "execution_count": 23,
   "metadata": {
    "collapsed": true
   },
   "outputs": [],
   "source": [
    "vc_invest1 = pd.read_csv(\"../data/processed/PitchBook_CA_VCInvest=1_NLP-features.csv\")"
   ]
  },
  {
   "cell_type": "code",
   "execution_count": 24,
   "metadata": {
    "collapsed": true
   },
   "outputs": [],
   "source": [
    "vc_invest0 = pd.read_csv(\"../data/processed/PitchBook_CA_VCInvest=0_NLP-features.csv\")"
   ]
  },
  {
   "cell_type": "code",
   "execution_count": 25,
   "metadata": {},
   "outputs": [
    {
     "data": {
      "text/html": [
       "<div>\n",
       "<style>\n",
       "    .dataframe thead tr:only-child th {\n",
       "        text-align: right;\n",
       "    }\n",
       "\n",
       "    .dataframe thead th {\n",
       "        text-align: left;\n",
       "    }\n",
       "\n",
       "    .dataframe tbody tr th {\n",
       "        vertical-align: top;\n",
       "    }\n",
       "</style>\n",
       "<table border=\"1\" class=\"dataframe\">\n",
       "  <thead>\n",
       "    <tr style=\"text-align: right;\">\n",
       "      <th></th>\n",
       "      <th>Unnamed: 0</th>\n",
       "      <th>Unnamed: 0.1</th>\n",
       "      <th>Company ID</th>\n",
       "      <th>Description</th>\n",
       "      <th>Company Name</th>\n",
       "      <th>HQ Post Code</th>\n",
       "      <th>Primary Industry Code</th>\n",
       "      <th>Primary Contact</th>\n",
       "      <th>Year Founded</th>\n",
       "      <th>Active Investors</th>\n",
       "      <th>...</th>\n",
       "      <th>anger</th>\n",
       "      <th>disgust</th>\n",
       "      <th>fear</th>\n",
       "      <th>joy</th>\n",
       "      <th>sadness</th>\n",
       "      <th>agreeableness_big5</th>\n",
       "      <th>conscientiousness_big5</th>\n",
       "      <th>emotional_range_big5</th>\n",
       "      <th>extraversion_big5</th>\n",
       "      <th>openness_big5</th>\n",
       "    </tr>\n",
       "  </thead>\n",
       "  <tbody>\n",
       "    <tr>\n",
       "      <th>0</th>\n",
       "      <td>0</td>\n",
       "      <td>0</td>\n",
       "      <td>61743-97</td>\n",
       "      <td>Developer of an online advertisement platform ...</td>\n",
       "      <td>ZypMedia</td>\n",
       "      <td>94102</td>\n",
       "      <td>Social/Platform Software</td>\n",
       "      <td>Mark Goldman</td>\n",
       "      <td>2013.0</td>\n",
       "      <td>Sinclair Broadcast Group, Sinclair Digital Ven...</td>\n",
       "      <td>...</td>\n",
       "      <td>0.037795</td>\n",
       "      <td>0.056217</td>\n",
       "      <td>0.033382</td>\n",
       "      <td>0.331294</td>\n",
       "      <td>0.248749</td>\n",
       "      <td>0.770552</td>\n",
       "      <td>0.554384</td>\n",
       "      <td>0.463544</td>\n",
       "      <td>0.771254</td>\n",
       "      <td>0.440335</td>\n",
       "    </tr>\n",
       "    <tr>\n",
       "      <th>1</th>\n",
       "      <td>1</td>\n",
       "      <td>6</td>\n",
       "      <td>62229-34</td>\n",
       "      <td>Developer of animated, interactive learning ma...</td>\n",
       "      <td>Zyante</td>\n",
       "      <td>95031</td>\n",
       "      <td>Publishing</td>\n",
       "      <td>Smita Bakshi</td>\n",
       "      <td>2012.0</td>\n",
       "      <td>Bialla Venture Partners, National Science Foun...</td>\n",
       "      <td>...</td>\n",
       "      <td>0.076046</td>\n",
       "      <td>0.045468</td>\n",
       "      <td>0.053601</td>\n",
       "      <td>0.532597</td>\n",
       "      <td>0.353646</td>\n",
       "      <td>0.608447</td>\n",
       "      <td>0.346789</td>\n",
       "      <td>0.447831</td>\n",
       "      <td>0.567102</td>\n",
       "      <td>0.228463</td>\n",
       "    </tr>\n",
       "  </tbody>\n",
       "</table>\n",
       "<p>2 rows × 36 columns</p>\n",
       "</div>"
      ],
      "text/plain": [
       "   Unnamed: 0  Unnamed: 0.1 Company ID  \\\n",
       "0           0             0   61743-97   \n",
       "1           1             6   62229-34   \n",
       "\n",
       "                                         Description Company Name  \\\n",
       "0  Developer of an online advertisement platform ...     ZypMedia   \n",
       "1  Developer of animated, interactive learning ma...       Zyante   \n",
       "\n",
       "  HQ Post Code     Primary Industry Code Primary Contact  Year Founded  \\\n",
       "0        94102  Social/Platform Software    Mark Goldman        2013.0   \n",
       "1        95031                Publishing    Smita Bakshi        2012.0   \n",
       "\n",
       "                                    Active Investors      ...           anger  \\\n",
       "0  Sinclair Broadcast Group, Sinclair Digital Ven...      ...        0.037795   \n",
       "1  Bialla Venture Partners, National Science Foun...      ...        0.076046   \n",
       "\n",
       "    disgust      fear       joy   sadness agreeableness_big5  \\\n",
       "0  0.056217  0.033382  0.331294  0.248749           0.770552   \n",
       "1  0.045468  0.053601  0.532597  0.353646           0.608447   \n",
       "\n",
       "   conscientiousness_big5  emotional_range_big5  extraversion_big5  \\\n",
       "0                0.554384              0.463544           0.771254   \n",
       "1                0.346789              0.447831           0.567102   \n",
       "\n",
       "   openness_big5  \n",
       "0       0.440335  \n",
       "1       0.228463  \n",
       "\n",
       "[2 rows x 36 columns]"
      ]
     },
     "execution_count": 25,
     "metadata": {},
     "output_type": "execute_result"
    }
   ],
   "source": [
    "vc_invest1.head(2)"
   ]
  },
  {
   "cell_type": "code",
   "execution_count": 26,
   "metadata": {},
   "outputs": [],
   "source": [
    "vc_invest1['vc_invest'] = vc_invest1.VC_invested"
   ]
  },
  {
   "cell_type": "code",
   "execution_count": 27,
   "metadata": {},
   "outputs": [],
   "source": [
    "vc_invest1.drop('VC_invested',axis=1, inplace=True) # make the columns match"
   ]
  },
  {
   "cell_type": "code",
   "execution_count": 394,
   "metadata": {},
   "outputs": [
    {
     "data": {
      "text/plain": [
       "0     0.15\n",
       "1     0.12\n",
       "2     0.10\n",
       "3     0.75\n",
       "4     0.99\n",
       "5     0.15\n",
       "6     0.09\n",
       "7     0.09\n",
       "8     2.00\n",
       "9     0.12\n",
       "10    0.10\n",
       "11    0.12\n",
       "12    0.30\n",
       "13    0.01\n",
       "14    0.02\n",
       "15    0.03\n",
       "16    0.40\n",
       "17    0.13\n",
       "18    0.02\n",
       "19    0.68\n",
       "20    0.01\n",
       "21    0.03\n",
       "22    0.01\n",
       "23    0.02\n",
       "24    0.02\n",
       "25    0.03\n",
       "26    0.20\n",
       "27    0.02\n",
       "28    0.50\n",
       "29    0.20\n",
       "      ... \n",
       "62    2.00\n",
       "63    0.03\n",
       "64    3.25\n",
       "65    3.20\n",
       "66    0.03\n",
       "67    0.15\n",
       "68    1.57\n",
       "69    0.25\n",
       "70    0.05\n",
       "71    0.40\n",
       "72    1.32\n",
       "73    0.88\n",
       "74    0.03\n",
       "75    0.75\n",
       "76    0.05\n",
       "77    0.30\n",
       "78    0.03\n",
       "79    0.04\n",
       "80    0.02\n",
       "81    0.02\n",
       "82    0.39\n",
       "83    0.01\n",
       "84    0.58\n",
       "85    0.01\n",
       "86    2.00\n",
       "87    0.10\n",
       "88    0.25\n",
       "89    0.12\n",
       "90    0.12\n",
       "91    0.38\n",
       "Name: Last Financing Size, Length: 92, dtype: float64"
      ]
     },
     "execution_count": 394,
     "metadata": {},
     "output_type": "execute_result"
    }
   ],
   "source": [
    "vc_invest0['Last Financing Size']  "
   ]
  },
  {
   "cell_type": "code",
   "execution_count": 384,
   "metadata": {},
   "outputs": [
    {
     "data": {
      "text/plain": [
       "0     0.370\n",
       "1     0.120\n",
       "2     0.100\n",
       "3     1.250\n",
       "4     0.465\n",
       "5     0.465\n",
       "6     0.090\n",
       "7     0.090\n",
       "8     6.640\n",
       "9     0.120\n",
       "10    0.100\n",
       "11    0.120\n",
       "12    0.300\n",
       "13    0.010\n",
       "14    0.020\n",
       "15    0.030\n",
       "16    0.650\n",
       "17    0.130\n",
       "18    0.070\n",
       "19    0.680\n",
       "20    1.150\n",
       "21    0.030\n",
       "22    0.465\n",
       "23    0.020\n",
       "24    0.020\n",
       "25    0.030\n",
       "26    0.200\n",
       "27    0.070\n",
       "28    0.930\n",
       "29    0.200\n",
       "      ...  \n",
       "62    2.000\n",
       "63    0.030\n",
       "64    7.250\n",
       "65    3.200\n",
       "66    0.040\n",
       "67    0.150\n",
       "68    1.570\n",
       "69    0.250\n",
       "70    0.050\n",
       "71    0.400\n",
       "72    1.820\n",
       "73    1.210\n",
       "74    0.030\n",
       "75    0.750\n",
       "76    0.050\n",
       "77    0.960\n",
       "78    1.900\n",
       "79    0.040\n",
       "80    0.120\n",
       "81    0.465\n",
       "82    0.390\n",
       "83    0.010\n",
       "84    0.670\n",
       "85    0.010\n",
       "86    3.600\n",
       "87    0.130\n",
       "88    0.250\n",
       "89    0.120\n",
       "90    0.270\n",
       "91    0.380\n",
       "Name: Total Raised, Length: 92, dtype: float64"
      ]
     },
     "execution_count": 384,
     "metadata": {},
     "output_type": "execute_result"
    }
   ],
   "source": [
    "vc_invest0 ['Total Raised']"
   ]
  },
  {
   "cell_type": "code",
   "execution_count": 28,
   "metadata": {},
   "outputs": [
    {
     "name": "stdout",
     "output_type": "stream",
     "text": [
      "<class 'pandas.core.frame.DataFrame'>\n",
      "RangeIndex: 92 entries, 0 to 91\n",
      "Data columns (total 38 columns):\n",
      "Unnamed: 0                     92 non-null int64\n",
      "Unnamed: 0.1                   92 non-null int64\n",
      "Company ID                     92 non-null object\n",
      "Description                    92 non-null object\n",
      "Company Name                   92 non-null object\n",
      "HQ Post Code                   92 non-null int64\n",
      "Primary Industry Code          92 non-null object\n",
      "Primary Contact                92 non-null object\n",
      "Year Founded                   92 non-null float64\n",
      "Active Investors               56 non-null object\n",
      "HQ Location                    92 non-null object\n",
      "Growth Rate                    92 non-null float64\n",
      "Size Multiple                  92 non-null float64\n",
      "Last Financing Date            92 non-null object\n",
      "Last Financing Size            92 non-null float64\n",
      "Last Financing Valuation       17 non-null float64\n",
      "Last Financing Deal Type 2     54 non-null object\n",
      "Majestic Referring Domains     92 non-null float64\n",
      "Facebook Likes                 92 non-null float64\n",
      "Twitter Followers              92 non-null float64\n",
      "Employees                      92 non-null float64\n",
      "Total Raised                   92 non-null float64\n",
      "days_since_offer               92 non-null int64\n",
      "vc_invest                      92 non-null int64\n",
      "Twitter_Username               92 non-null object\n",
      "analytical                     92 non-null float64\n",
      "confident                      92 non-null float64\n",
      "tentative                      92 non-null float64\n",
      "anger                          92 non-null float64\n",
      "disgust                        92 non-null float64\n",
      "fear                           92 non-null float64\n",
      "joy                            92 non-null float64\n",
      "sadness                        92 non-null float64\n",
      "agreeableness_big5             92 non-null float64\n",
      "conscientiousness_big5         92 non-null float64\n",
      "emotional_range_big5           92 non-null float64\n",
      "extraversion_big5              92 non-null float64\n",
      "openness_big5                  92 non-null float64\n",
      "dtypes: float64(23), int64(5), object(10)\n",
      "memory usage: 27.4+ KB\n"
     ]
    }
   ],
   "source": [
    "vc_invest0 .info()"
   ]
  },
  {
   "cell_type": "code",
   "execution_count": 29,
   "metadata": {},
   "outputs": [
    {
     "data": {
      "text/plain": [
       "array(['Network Management Software', 'Electronics (B2C)',\n",
       "       'Other Business Products and Services', 'Internet Retail',\n",
       "       'Therapeutic Devices', 'Social/Platform Software',\n",
       "       'Application Software', 'Social Content', 'Human Capital Services',\n",
       "       'Automotive', 'Movies, Music and Entertainment',\n",
       "       'Real Estate Services (B2C)', 'Other Healthcare Services',\n",
       "       'Other Healthcare Technology Systems', 'Other Commercial Services',\n",
       "       'Information Services (B2C)', 'Consulting Services (B2B)',\n",
       "       'Other Software', 'Other Consumer Products and Services',\n",
       "       'Business/Productivity Software', 'Other Financial Services',\n",
       "       'Entertainment Software', 'Other Energy Services',\n",
       "       'Other Consumer Durables', 'Aerospace and Defense',\n",
       "       'Broadcasting, Radio and Television', 'Leisure Facilities',\n",
       "       'Wireless Service Providers', 'Legal Services (B2C)',\n",
       "       'Educational and Training Services (B2C)',\n",
       "       'Media and Information Services (B2B)',\n",
       "       'Automation/Workflow Software', 'Beverages', 'Database Software',\n",
       "       'Logistics', 'Education and Training Services (B2B)'], dtype=object)"
      ]
     },
     "execution_count": 29,
     "metadata": {},
     "output_type": "execute_result"
    }
   ],
   "source": [
    "vc_invest0['Primary Industry Code'].unique() #  one hot encode this"
   ]
  },
  {
   "cell_type": "markdown",
   "metadata": {},
   "source": [
    "# Combine dataframes"
   ]
  },
  {
   "cell_type": "code",
   "execution_count": 30,
   "metadata": {},
   "outputs": [],
   "source": [
    "combo_df = pd.concat(objs=[vc_invest0,vc_invest1])"
   ]
  },
  {
   "cell_type": "code",
   "execution_count": 31,
   "metadata": {},
   "outputs": [
    {
     "data": {
      "text/html": [
       "<div>\n",
       "<style>\n",
       "    .dataframe thead tr:only-child th {\n",
       "        text-align: right;\n",
       "    }\n",
       "\n",
       "    .dataframe thead th {\n",
       "        text-align: left;\n",
       "    }\n",
       "\n",
       "    .dataframe tbody tr th {\n",
       "        vertical-align: top;\n",
       "    }\n",
       "</style>\n",
       "<table border=\"1\" class=\"dataframe\">\n",
       "  <thead>\n",
       "    <tr style=\"text-align: right;\">\n",
       "      <th></th>\n",
       "      <th>Active Investors</th>\n",
       "      <th>Company ID</th>\n",
       "      <th>Company Name</th>\n",
       "      <th>Description</th>\n",
       "      <th>Employees</th>\n",
       "      <th>Facebook Likes</th>\n",
       "      <th>Growth Rate</th>\n",
       "      <th>HQ Location</th>\n",
       "      <th>HQ Post Code</th>\n",
       "      <th>Last Financing Date</th>\n",
       "      <th>...</th>\n",
       "      <th>days_since_offer</th>\n",
       "      <th>disgust</th>\n",
       "      <th>emotional_range_big5</th>\n",
       "      <th>extraversion_big5</th>\n",
       "      <th>fear</th>\n",
       "      <th>joy</th>\n",
       "      <th>openness_big5</th>\n",
       "      <th>sadness</th>\n",
       "      <th>tentative</th>\n",
       "      <th>vc_invest</th>\n",
       "    </tr>\n",
       "  </thead>\n",
       "  <tbody>\n",
       "    <tr>\n",
       "      <th>161</th>\n",
       "      <td>Anjan Mitra, Dorm Room Fund, Emily Mitra, Erik...</td>\n",
       "      <td>106663-87</td>\n",
       "      <td>Traveling Spoon</td>\n",
       "      <td>Developer of an online platform designed to bo...</td>\n",
       "      <td>2.0</td>\n",
       "      <td>19126.0</td>\n",
       "      <td>0.416151</td>\n",
       "      <td>San Francisco, CA</td>\n",
       "      <td>94110</td>\n",
       "      <td>2015-09-17</td>\n",
       "      <td>...</td>\n",
       "      <td>NaN</td>\n",
       "      <td>0.047489</td>\n",
       "      <td>0.703120</td>\n",
       "      <td>0.890312</td>\n",
       "      <td>0.044991</td>\n",
       "      <td>0.693290</td>\n",
       "      <td>0.630364</td>\n",
       "      <td>0.088702</td>\n",
       "      <td>0.460577</td>\n",
       "      <td>1</td>\n",
       "    </tr>\n",
       "    <tr>\n",
       "      <th>162</th>\n",
       "      <td>Accel, New Enterprise Associates</td>\n",
       "      <td>167364-55</td>\n",
       "      <td>TravelBank</td>\n",
       "      <td>Developer of travel and expense software for s...</td>\n",
       "      <td>11.0</td>\n",
       "      <td>916.0</td>\n",
       "      <td>4.039472</td>\n",
       "      <td>San Francisco, CA</td>\n",
       "      <td>94107</td>\n",
       "      <td>2016-10-20</td>\n",
       "      <td>...</td>\n",
       "      <td>NaN</td>\n",
       "      <td>0.057233</td>\n",
       "      <td>0.811919</td>\n",
       "      <td>0.889738</td>\n",
       "      <td>0.054336</td>\n",
       "      <td>0.606031</td>\n",
       "      <td>0.136577</td>\n",
       "      <td>0.099967</td>\n",
       "      <td>0.072408</td>\n",
       "      <td>1</td>\n",
       "    </tr>\n",
       "    <tr>\n",
       "      <th>163</th>\n",
       "      <td>NaN</td>\n",
       "      <td>58446-37</td>\n",
       "      <td>Translucent Medical</td>\n",
       "      <td>Provider of a navigation system for reducing X...</td>\n",
       "      <td>27.0</td>\n",
       "      <td>1135.0</td>\n",
       "      <td>0.042641</td>\n",
       "      <td>Santa Cruz, CA</td>\n",
       "      <td>95060</td>\n",
       "      <td>NaN</td>\n",
       "      <td>...</td>\n",
       "      <td>NaN</td>\n",
       "      <td>0.084686</td>\n",
       "      <td>0.765961</td>\n",
       "      <td>0.665861</td>\n",
       "      <td>0.105098</td>\n",
       "      <td>0.581602</td>\n",
       "      <td>0.399683</td>\n",
       "      <td>0.464961</td>\n",
       "      <td>0.380504</td>\n",
       "      <td>1</td>\n",
       "    </tr>\n",
       "    <tr>\n",
       "      <th>164</th>\n",
       "      <td>Amplify.LA, Canyon Creek Capital, HillsVen Cap...</td>\n",
       "      <td>90366-58</td>\n",
       "      <td>Translation Exchange</td>\n",
       "      <td>Provider of a cloud-based platform for continu...</td>\n",
       "      <td>11.0</td>\n",
       "      <td>200.0</td>\n",
       "      <td>3.822225</td>\n",
       "      <td>San Francisco, CA</td>\n",
       "      <td>94105</td>\n",
       "      <td>2016-03-01</td>\n",
       "      <td>...</td>\n",
       "      <td>NaN</td>\n",
       "      <td>0.248178</td>\n",
       "      <td>0.750920</td>\n",
       "      <td>0.300239</td>\n",
       "      <td>0.127519</td>\n",
       "      <td>0.298173</td>\n",
       "      <td>0.264759</td>\n",
       "      <td>0.369778</td>\n",
       "      <td>0.689846</td>\n",
       "      <td>1</td>\n",
       "    </tr>\n",
       "    <tr>\n",
       "      <th>165</th>\n",
       "      <td>1776, Alex Bresler, BallstonBID LaunchPad, Bru...</td>\n",
       "      <td>95609-35</td>\n",
       "      <td>TransitScreen</td>\n",
       "      <td>Provider of a real-time transportation display...</td>\n",
       "      <td>18.0</td>\n",
       "      <td>774.0</td>\n",
       "      <td>0.135018</td>\n",
       "      <td>Washington, DC</td>\n",
       "      <td>20005</td>\n",
       "      <td>2017-02-24</td>\n",
       "      <td>...</td>\n",
       "      <td>NaN</td>\n",
       "      <td>0.082909</td>\n",
       "      <td>0.575228</td>\n",
       "      <td>0.623034</td>\n",
       "      <td>0.094825</td>\n",
       "      <td>0.481402</td>\n",
       "      <td>0.468479</td>\n",
       "      <td>0.445690</td>\n",
       "      <td>0.346413</td>\n",
       "      <td>1</td>\n",
       "    </tr>\n",
       "  </tbody>\n",
       "</table>\n",
       "<p>5 rows × 38 columns</p>\n",
       "</div>"
      ],
      "text/plain": [
       "                                      Active Investors Company ID  \\\n",
       "161  Anjan Mitra, Dorm Room Fund, Emily Mitra, Erik...  106663-87   \n",
       "162                   Accel, New Enterprise Associates  167364-55   \n",
       "163                                                NaN   58446-37   \n",
       "164  Amplify.LA, Canyon Creek Capital, HillsVen Cap...   90366-58   \n",
       "165  1776, Alex Bresler, BallstonBID LaunchPad, Bru...   95609-35   \n",
       "\n",
       "             Company Name                                        Description  \\\n",
       "161       Traveling Spoon  Developer of an online platform designed to bo...   \n",
       "162            TravelBank  Developer of travel and expense software for s...   \n",
       "163   Translucent Medical  Provider of a navigation system for reducing X...   \n",
       "164  Translation Exchange  Provider of a cloud-based platform for continu...   \n",
       "165         TransitScreen  Provider of a real-time transportation display...   \n",
       "\n",
       "     Employees  Facebook Likes  Growth Rate        HQ Location HQ Post Code  \\\n",
       "161        2.0         19126.0     0.416151  San Francisco, CA        94110   \n",
       "162       11.0           916.0     4.039472  San Francisco, CA        94107   \n",
       "163       27.0          1135.0     0.042641     Santa Cruz, CA        95060   \n",
       "164       11.0           200.0     3.822225  San Francisco, CA        94105   \n",
       "165       18.0           774.0     0.135018     Washington, DC        20005   \n",
       "\n",
       "    Last Financing Date    ...    days_since_offer   disgust  \\\n",
       "161          2015-09-17    ...                 NaN  0.047489   \n",
       "162          2016-10-20    ...                 NaN  0.057233   \n",
       "163                 NaN    ...                 NaN  0.084686   \n",
       "164          2016-03-01    ...                 NaN  0.248178   \n",
       "165          2017-02-24    ...                 NaN  0.082909   \n",
       "\n",
       "     emotional_range_big5  extraversion_big5      fear       joy  \\\n",
       "161              0.703120           0.890312  0.044991  0.693290   \n",
       "162              0.811919           0.889738  0.054336  0.606031   \n",
       "163              0.765961           0.665861  0.105098  0.581602   \n",
       "164              0.750920           0.300239  0.127519  0.298173   \n",
       "165              0.575228           0.623034  0.094825  0.481402   \n",
       "\n",
       "     openness_big5   sadness  tentative vc_invest  \n",
       "161       0.630364  0.088702   0.460577         1  \n",
       "162       0.136577  0.099967   0.072408         1  \n",
       "163       0.399683  0.464961   0.380504         1  \n",
       "164       0.264759  0.369778   0.689846         1  \n",
       "165       0.468479  0.445690   0.346413         1  \n",
       "\n",
       "[5 rows x 38 columns]"
      ]
     },
     "execution_count": 31,
     "metadata": {},
     "output_type": "execute_result"
    }
   ],
   "source": [
    "combo_df.tail()"
   ]
  },
  {
   "cell_type": "code",
   "execution_count": 32,
   "metadata": {},
   "outputs": [
    {
     "data": {
      "text/html": [
       "<div>\n",
       "<style>\n",
       "    .dataframe thead tr:only-child th {\n",
       "        text-align: right;\n",
       "    }\n",
       "\n",
       "    .dataframe thead th {\n",
       "        text-align: left;\n",
       "    }\n",
       "\n",
       "    .dataframe tbody tr th {\n",
       "        vertical-align: top;\n",
       "    }\n",
       "</style>\n",
       "<table border=\"1\" class=\"dataframe\">\n",
       "  <thead>\n",
       "    <tr style=\"text-align: right;\">\n",
       "      <th></th>\n",
       "      <th>Active Investors</th>\n",
       "      <th>Company ID</th>\n",
       "      <th>Company Name</th>\n",
       "      <th>Description</th>\n",
       "      <th>Employees</th>\n",
       "      <th>Facebook Likes</th>\n",
       "      <th>Growth Rate</th>\n",
       "      <th>HQ Location</th>\n",
       "      <th>HQ Post Code</th>\n",
       "      <th>Last Financing Date</th>\n",
       "      <th>...</th>\n",
       "      <th>days_since_offer</th>\n",
       "      <th>disgust</th>\n",
       "      <th>emotional_range_big5</th>\n",
       "      <th>extraversion_big5</th>\n",
       "      <th>fear</th>\n",
       "      <th>joy</th>\n",
       "      <th>openness_big5</th>\n",
       "      <th>sadness</th>\n",
       "      <th>tentative</th>\n",
       "      <th>vc_invest</th>\n",
       "    </tr>\n",
       "  </thead>\n",
       "  <tbody>\n",
       "    <tr>\n",
       "      <th>0</th>\n",
       "      <td>500 Startups, Start Smart Labs</td>\n",
       "      <td>170123-59</td>\n",
       "      <td>Zyudly Labs</td>\n",
       "      <td>Provider of cyber-security analytics and intel...</td>\n",
       "      <td>7.0</td>\n",
       "      <td>103.0</td>\n",
       "      <td>0.118048</td>\n",
       "      <td>Palo Alto, CA</td>\n",
       "      <td>94306</td>\n",
       "      <td>2017-02-08</td>\n",
       "      <td>...</td>\n",
       "      <td>121.0</td>\n",
       "      <td>0.100205</td>\n",
       "      <td>0.733407</td>\n",
       "      <td>0.632116</td>\n",
       "      <td>0.377408</td>\n",
       "      <td>0.514982</td>\n",
       "      <td>0.410378</td>\n",
       "      <td>0.283647</td>\n",
       "      <td>0.274317</td>\n",
       "      <td>0</td>\n",
       "    </tr>\n",
       "    <tr>\n",
       "      <th>1</th>\n",
       "      <td>eLab Accelerator</td>\n",
       "      <td>123484-96</td>\n",
       "      <td>Zunn Labs</td>\n",
       "      <td>Developer of application controlled LED lights...</td>\n",
       "      <td>7.0</td>\n",
       "      <td>846.0</td>\n",
       "      <td>-0.021589</td>\n",
       "      <td>Los Angeles, CA</td>\n",
       "      <td>90025</td>\n",
       "      <td>2014-12-20</td>\n",
       "      <td>...</td>\n",
       "      <td>902.0</td>\n",
       "      <td>0.049665</td>\n",
       "      <td>0.779365</td>\n",
       "      <td>0.711512</td>\n",
       "      <td>0.145806</td>\n",
       "      <td>0.339845</td>\n",
       "      <td>0.164799</td>\n",
       "      <td>0.363050</td>\n",
       "      <td>0.319869</td>\n",
       "      <td>0</td>\n",
       "    </tr>\n",
       "    <tr>\n",
       "      <th>2</th>\n",
       "      <td>NaN</td>\n",
       "      <td>170046-01</td>\n",
       "      <td>Zuma 4 Productions</td>\n",
       "      <td>The company is currently operating in Stealth ...</td>\n",
       "      <td>7.0</td>\n",
       "      <td>816.0</td>\n",
       "      <td>0.000000</td>\n",
       "      <td>Malibu, CA</td>\n",
       "      <td>90265</td>\n",
       "      <td>2017-01-26</td>\n",
       "      <td>...</td>\n",
       "      <td>134.0</td>\n",
       "      <td>0.031524</td>\n",
       "      <td>0.464414</td>\n",
       "      <td>0.785069</td>\n",
       "      <td>0.054562</td>\n",
       "      <td>0.769597</td>\n",
       "      <td>0.305475</td>\n",
       "      <td>0.179980</td>\n",
       "      <td>0.364754</td>\n",
       "      <td>0</td>\n",
       "    </tr>\n",
       "    <tr>\n",
       "      <th>3</th>\n",
       "      <td>NaN</td>\n",
       "      <td>102923-56</td>\n",
       "      <td>Zulu</td>\n",
       "      <td>Provider of a community-based grocery shopping...</td>\n",
       "      <td>6.0</td>\n",
       "      <td>21.0</td>\n",
       "      <td>0.000000</td>\n",
       "      <td>Sunnyvale, CA</td>\n",
       "      <td>94085</td>\n",
       "      <td>2014-06-01</td>\n",
       "      <td>...</td>\n",
       "      <td>1104.0</td>\n",
       "      <td>0.059154</td>\n",
       "      <td>0.267228</td>\n",
       "      <td>0.304023</td>\n",
       "      <td>0.097972</td>\n",
       "      <td>0.203800</td>\n",
       "      <td>0.136727</td>\n",
       "      <td>0.127828</td>\n",
       "      <td>0.000000</td>\n",
       "      <td>0</td>\n",
       "    </tr>\n",
       "    <tr>\n",
       "      <th>4</th>\n",
       "      <td>California Institute for Quantitative Bioscien...</td>\n",
       "      <td>123222-43</td>\n",
       "      <td>ZoneOne Pharma</td>\n",
       "      <td>Developer of nano-scale therapeutics. The comp...</td>\n",
       "      <td>7.0</td>\n",
       "      <td>816.0</td>\n",
       "      <td>0.000000</td>\n",
       "      <td>San Francisco, CA</td>\n",
       "      <td>94158</td>\n",
       "      <td>2015-05-01</td>\n",
       "      <td>...</td>\n",
       "      <td>770.0</td>\n",
       "      <td>0.043056</td>\n",
       "      <td>0.532335</td>\n",
       "      <td>0.665466</td>\n",
       "      <td>0.052714</td>\n",
       "      <td>0.502585</td>\n",
       "      <td>0.713422</td>\n",
       "      <td>0.101492</td>\n",
       "      <td>0.448915</td>\n",
       "      <td>0</td>\n",
       "    </tr>\n",
       "  </tbody>\n",
       "</table>\n",
       "<p>5 rows × 38 columns</p>\n",
       "</div>"
      ],
      "text/plain": [
       "                                    Active Investors Company ID  \\\n",
       "0                     500 Startups, Start Smart Labs  170123-59   \n",
       "1                                   eLab Accelerator  123484-96   \n",
       "2                                                NaN  170046-01   \n",
       "3                                                NaN  102923-56   \n",
       "4  California Institute for Quantitative Bioscien...  123222-43   \n",
       "\n",
       "         Company Name                                        Description  \\\n",
       "0         Zyudly Labs  Provider of cyber-security analytics and intel...   \n",
       "1           Zunn Labs  Developer of application controlled LED lights...   \n",
       "2  Zuma 4 Productions  The company is currently operating in Stealth ...   \n",
       "3                Zulu  Provider of a community-based grocery shopping...   \n",
       "4      ZoneOne Pharma  Developer of nano-scale therapeutics. The comp...   \n",
       "\n",
       "   Employees  Facebook Likes  Growth Rate        HQ Location HQ Post Code  \\\n",
       "0        7.0           103.0     0.118048      Palo Alto, CA        94306   \n",
       "1        7.0           846.0    -0.021589    Los Angeles, CA        90025   \n",
       "2        7.0           816.0     0.000000         Malibu, CA        90265   \n",
       "3        6.0            21.0     0.000000      Sunnyvale, CA        94085   \n",
       "4        7.0           816.0     0.000000  San Francisco, CA        94158   \n",
       "\n",
       "  Last Financing Date    ...    days_since_offer   disgust  \\\n",
       "0          2017-02-08    ...               121.0  0.100205   \n",
       "1          2014-12-20    ...               902.0  0.049665   \n",
       "2          2017-01-26    ...               134.0  0.031524   \n",
       "3          2014-06-01    ...              1104.0  0.059154   \n",
       "4          2015-05-01    ...               770.0  0.043056   \n",
       "\n",
       "   emotional_range_big5  extraversion_big5      fear       joy  openness_big5  \\\n",
       "0              0.733407           0.632116  0.377408  0.514982       0.410378   \n",
       "1              0.779365           0.711512  0.145806  0.339845       0.164799   \n",
       "2              0.464414           0.785069  0.054562  0.769597       0.305475   \n",
       "3              0.267228           0.304023  0.097972  0.203800       0.136727   \n",
       "4              0.532335           0.665466  0.052714  0.502585       0.713422   \n",
       "\n",
       "    sadness  tentative vc_invest  \n",
       "0  0.283647   0.274317         0  \n",
       "1  0.363050   0.319869         0  \n",
       "2  0.179980   0.364754         0  \n",
       "3  0.127828   0.000000         0  \n",
       "4  0.101492   0.448915         0  \n",
       "\n",
       "[5 rows x 38 columns]"
      ]
     },
     "execution_count": 32,
     "metadata": {},
     "output_type": "execute_result"
    }
   ],
   "source": [
    "combo_df.head()"
   ]
  },
  {
   "cell_type": "code",
   "execution_count": 38,
   "metadata": {},
   "outputs": [
    {
     "name": "stdout",
     "output_type": "stream",
     "text": [
      "<class 'pandas.core.frame.DataFrame'>\n",
      "Int64Index: 258 entries, 0 to 165\n",
      "Data columns (total 38 columns):\n",
      "Active Investors               219 non-null object\n",
      "Company ID                     258 non-null object\n",
      "Company Name                   258 non-null object\n",
      "Description                    258 non-null object\n",
      "Employees                      258 non-null float64\n",
      "Facebook Likes                 258 non-null float64\n",
      "Growth Rate                    258 non-null float64\n",
      "HQ Location                    258 non-null object\n",
      "HQ Post Code                   258 non-null object\n",
      "Last Financing Date            243 non-null object\n",
      "Last Financing Deal Type 2     140 non-null object\n",
      "Last Financing Size            258 non-null float64\n",
      "Last Financing Valuation       17 non-null float64\n",
      "Majestic Referring Domains     258 non-null float64\n",
      "Primary Contact                258 non-null object\n",
      "Primary Industry Code          258 non-null object\n",
      "Size Multiple                  258 non-null float64\n",
      "Total Raised                   258 non-null float64\n",
      "Twitter Followers              258 non-null float64\n",
      "Twitter_Username               258 non-null object\n",
      "Unnamed: 0                     258 non-null int64\n",
      "Unnamed: 0.1                   258 non-null int64\n",
      "Year Founded                   258 non-null float64\n",
      "agreeableness_big5             258 non-null float64\n",
      "analytical                     258 non-null float64\n",
      "anger                          258 non-null float64\n",
      "confident                      258 non-null float64\n",
      "conscientiousness_big5         258 non-null float64\n",
      "days_since_offer               92 non-null float64\n",
      "disgust                        258 non-null float64\n",
      "emotional_range_big5           258 non-null float64\n",
      "extraversion_big5              258 non-null float64\n",
      "fear                           258 non-null float64\n",
      "joy                            258 non-null float64\n",
      "openness_big5                  258 non-null float64\n",
      "sadness                        258 non-null float64\n",
      "tentative                      258 non-null float64\n",
      "vc_invest                      258 non-null int64\n",
      "dtypes: float64(24), int64(3), object(11)\n",
      "memory usage: 78.6+ KB\n"
     ]
    }
   ],
   "source": [
    "combo_df.info()"
   ]
  },
  {
   "cell_type": "code",
   "execution_count": null,
   "metadata": {
    "collapsed": true
   },
   "outputs": [],
   "source": []
  },
  {
   "cell_type": "markdown",
   "metadata": {},
   "source": [
    "# Select columns for the data model\n",
    "- Company ID  (primary key)\n",
    "- Employees\n",
    "- Facebook Likes\n",
    "- Growth Rate\n",
    "- HQ Post Code\n",
    "- Last Financing Size\n",
    "- Majestic Referring Domains\n",
    "- Primary Industry Code( use PD get dummies to use in model)\n",
    "- Size Multiple\n",
    "- Total Raised\n",
    "- Twitter Followers\n",
    "- Year Founded\n",
    "- agreeableness_big5\n",
    "- analytical\n",
    "- anger\n",
    "- confident\n",
    "- conscientiousness_big5\n",
    "- disgust\n",
    "- emotional_range_big5\n",
    "- extraversion_big5\n",
    "- fear\n",
    "- joy \n",
    "- openness_big5\n",
    "- sadness\n",
    "- tentative\n",
    "- vc_invest (columns to predict)"
   ]
  },
  {
   "cell_type": "code",
   "execution_count": 68,
   "metadata": {},
   "outputs": [],
   "source": [
    "training_df = combo_df[['Company ID', 'Employees','Facebook Likes','Growth Rate','HQ Post Code','Last Financing Size',\n",
    "         'Majestic Referring Domains','Primary Industry Code','Size Multiple','Total Raised','Twitter Followers',\n",
    "         'Year Founded','agreeableness_big5','analytical','anger','confident','conscientiousness_big5',\n",
    "         'disgust','emotional_range_big5','extraversion_big5','fear','joy','openness_big5','sadness','tentative',\n",
    "         'vc_invest']]"
   ]
  },
  {
   "cell_type": "markdown",
   "metadata": {},
   "source": [
    "### Turn HQ Post Code into an int"
   ]
  },
  {
   "cell_type": "code",
   "execution_count": 69,
   "metadata": {},
   "outputs": [],
   "source": [
    "hq_post_code = []\n",
    "cleaned_final_df = training_df .copy()\n",
    "for row in training_df['HQ Post Code']:\n",
    "    try:\n",
    "        hq_post_code.append(int(row))\n",
    "    except:\n",
    "        hq_post_code.append(\"NaN\")"
   ]
  },
  {
   "cell_type": "code",
   "execution_count": 70,
   "metadata": {},
   "outputs": [],
   "source": [
    "cleaned_final_df ['HQ_post_code'] = hq_post_code"
   ]
  },
  {
   "cell_type": "code",
   "execution_count": 71,
   "metadata": {
    "collapsed": true
   },
   "outputs": [],
   "source": [
    "cleaned_final_df .drop(['HQ Post Code'],axis=1,inplace=True)"
   ]
  },
  {
   "cell_type": "code",
   "execution_count": 72,
   "metadata": {},
   "outputs": [],
   "source": [
    "cleaned_final_df = cleaned_final_df[cleaned_final_df['HQ_post_code']!='NaN']"
   ]
  },
  {
   "cell_type": "code",
   "execution_count": 77,
   "metadata": {},
   "outputs": [],
   "source": [
    " cleaned_final_df.HQ_post_code = cleaned_final_df.HQ_post_code.astype('int64')"
   ]
  },
  {
   "cell_type": "code",
   "execution_count": 85,
   "metadata": {},
   "outputs": [
    {
     "name": "stdout",
     "output_type": "stream",
     "text": [
      "<class 'pandas.core.frame.DataFrame'>\n",
      "Int64Index: 252 entries, 0 to 165\n",
      "Data columns (total 26 columns):\n",
      "Company ID                    252 non-null object\n",
      "Employees                     252 non-null float64\n",
      "Facebook Likes                252 non-null float64\n",
      "Growth Rate                   252 non-null float64\n",
      "Last Financing Size           252 non-null float64\n",
      "Majestic Referring Domains    252 non-null float64\n",
      "Primary Industry Code         252 non-null object\n",
      "Size Multiple                 252 non-null float64\n",
      "Total Raised                  252 non-null float64\n",
      "Twitter Followers             252 non-null float64\n",
      "Year Founded                  252 non-null float64\n",
      "agreeableness_big5            252 non-null float64\n",
      "analytical                    252 non-null float64\n",
      "anger                         252 non-null float64\n",
      "confident                     252 non-null float64\n",
      "conscientiousness_big5        252 non-null float64\n",
      "disgust                       252 non-null float64\n",
      "emotional_range_big5          252 non-null float64\n",
      "extraversion_big5             252 non-null float64\n",
      "fear                          252 non-null float64\n",
      "joy                           252 non-null float64\n",
      "openness_big5                 252 non-null float64\n",
      "sadness                       252 non-null float64\n",
      "tentative                     252 non-null float64\n",
      "vc_invest                     252 non-null int64\n",
      "HQ_post_code                  252 non-null int64\n",
      "dtypes: float64(22), int64(2), object(2)\n",
      "memory usage: 58.2+ KB\n"
     ]
    }
   ],
   "source": [
    " cleaned_final_df.info()"
   ]
  },
  {
   "cell_type": "markdown",
   "metadata": {},
   "source": [
    "# Turn company ID into an int"
   ]
  },
  {
   "cell_type": "code",
   "execution_count": 154,
   "metadata": {},
   "outputs": [],
   "source": [
    "int_company_id = []\n",
    "for row in cleaned_final_df['Company ID']:\n",
    "    new_id = \"\"\n",
    "    first,second = row.split(\"-\")\n",
    "    new_id+=first\n",
    "    new_id+=second\n",
    "    int_company_id.append(int(new_id))"
   ]
  },
  {
   "cell_type": "code",
   "execution_count": 155,
   "metadata": {},
   "outputs": [
    {
     "data": {
      "text/plain": [
       "[17012359,\n",
       " 12348496,\n",
       " 17004601,\n",
       " 10292356,\n",
       " 12322243,\n",
       " 11548801,\n",
       " 17115031,\n",
       " 15775048,\n",
       " 5542282,\n",
       " 17086915,\n",
       " 10346275,\n",
       " 17843932,\n",
       " 10282285,\n",
       " 10382572,\n",
       " 10450702,\n",
       " 16932961,\n",
       " 10363015,\n",
       " 15920398,\n",
       " 9906571,\n",
       " 15156847,\n",
       " 15496966,\n",
       " 10372096,\n",
       " 10428526,\n",
       " 16027750,\n",
       " 8946892,\n",
       " 12381553,\n",
       " 10267246,\n",
       " 12031579,\n",
       " 10477891,\n",
       " 10352044,\n",
       " 17985277,\n",
       " 5925403,\n",
       " 12758302,\n",
       " 11823994,\n",
       " 16333939,\n",
       " 15210325,\n",
       " 10476154,\n",
       " 10257085,\n",
       " 10289539,\n",
       " 12098647,\n",
       " 6555637,\n",
       " 16435513,\n",
       " 14865742,\n",
       " 10443970,\n",
       " 16868062,\n",
       " 16307722,\n",
       " 10326331,\n",
       " 9534061,\n",
       " 14807683,\n",
       " 15824593,\n",
       " 9550009,\n",
       " 5704903,\n",
       " 10275121,\n",
       " 16636915,\n",
       " 13309786,\n",
       " 6516244,\n",
       " 15692563,\n",
       " 15741685,\n",
       " 9295444,\n",
       " 8477947,\n",
       " 15227812,\n",
       " 15515632,\n",
       " 9090928,\n",
       " 16616098,\n",
       " 6242491,\n",
       " 16626754,\n",
       " 9422659,\n",
       " 17039674,\n",
       " 5366134,\n",
       " 9000991,\n",
       " 12423133,\n",
       " 10324477,\n",
       " 11396773,\n",
       " 9904861,\n",
       " 9418636,\n",
       " 9418456,\n",
       " 16606297,\n",
       " 9390466,\n",
       " 15565447,\n",
       " 16988185,\n",
       " 11836261,\n",
       " 10882936,\n",
       " 11254852,\n",
       " 9367120,\n",
       " 6359635,\n",
       " 11087542,\n",
       " 5735773,\n",
       " 16012666,\n",
       " 16156351,\n",
       " 6603778,\n",
       " 15595102,\n",
       " 9387361,\n",
       " 6174397,\n",
       " 6222934,\n",
       " 11749132,\n",
       " 10359334,\n",
       " 5533669,\n",
       " 1275805,\n",
       " 5470111,\n",
       " 5545198,\n",
       " 17832898,\n",
       " 5770270,\n",
       " 12148732,\n",
       " 5554909,\n",
       " 6136318,\n",
       " 10322731,\n",
       " 12509965,\n",
       " 17388865,\n",
       " 5550931,\n",
       " 17307451,\n",
       " 5438854,\n",
       " 5543650,\n",
       " 5154724,\n",
       " 11735758,\n",
       " 5614633,\n",
       " 6057685,\n",
       " 5596651,\n",
       " 5370292,\n",
       " 9850249,\n",
       " 5567671,\n",
       " 5710366,\n",
       " 6137110,\n",
       " 5878117,\n",
       " 5275873,\n",
       " 5111956,\n",
       " 5588083,\n",
       " 5463388,\n",
       " 5614588,\n",
       " 6026626,\n",
       " 10362322,\n",
       " 5293909,\n",
       " 6561478,\n",
       " 5636143,\n",
       " 16865254,\n",
       " 11819359,\n",
       " 5530996,\n",
       " 5844700,\n",
       " 5134159,\n",
       " 6091957,\n",
       " 5651137,\n",
       " 10300807,\n",
       " 5643469,\n",
       " 11997757,\n",
       " 10319302,\n",
       " 9734068,\n",
       " 15622183,\n",
       " 15229540,\n",
       " 5224222,\n",
       " 5594707,\n",
       " 12107638,\n",
       " 6112441,\n",
       " 6020767,\n",
       " 5423761,\n",
       " 6274108,\n",
       " 11732878,\n",
       " 6287878,\n",
       " 15625189,\n",
       " 5758399,\n",
       " 9957385,\n",
       " 10023715,\n",
       " 5537512,\n",
       " 5541508,\n",
       " 5708566,\n",
       " 5692267,\n",
       " 5088925,\n",
       " 5099626,\n",
       " 15750532,\n",
       " 5743144,\n",
       " 6126049,\n",
       " 4855060,\n",
       " 5392072,\n",
       " 9726868,\n",
       " 16668802,\n",
       " 10037350,\n",
       " 5291569,\n",
       " 5157703,\n",
       " 5103757,\n",
       " 9911989,\n",
       " 5475106,\n",
       " 11760175,\n",
       " 5869639,\n",
       " 5134699,\n",
       " 9958339,\n",
       " 10338373,\n",
       " 5353768,\n",
       " 5839138,\n",
       " 9727021,\n",
       " 1322668,\n",
       " 10337329,\n",
       " 5357116,\n",
       " 5369518,\n",
       " 5839111,\n",
       " 5594203,\n",
       " 6613660,\n",
       " 5513662,\n",
       " 5773204,\n",
       " 15379372,\n",
       " 5708179,\n",
       " 11377036,\n",
       " 1131859,\n",
       " 5369554,\n",
       " 6432049,\n",
       " 5221396,\n",
       " 5919859,\n",
       " 9564526,\n",
       " 5214358,\n",
       " 12068146,\n",
       " 6635341,\n",
       " 10813366,\n",
       " 10856998,\n",
       " 5330206,\n",
       " 5460661,\n",
       " 5413249,\n",
       " 6147478,\n",
       " 5113675,\n",
       " 5412268,\n",
       " 5732272,\n",
       " 10759222,\n",
       " 5612446,\n",
       " 11283562,\n",
       " 5796379,\n",
       " 16057909,\n",
       " 5434903,\n",
       " 6268915,\n",
       " 10013653,\n",
       " 11125432,\n",
       " 5705569,\n",
       " 6272119,\n",
       " 5367655,\n",
       " 9428158,\n",
       " 17057890,\n",
       " 5281660,\n",
       " 11388196,\n",
       " 6058333,\n",
       " 6173164,\n",
       " 15587821,\n",
       " 5821840,\n",
       " 6443749,\n",
       " 9123382,\n",
       " 4308103,\n",
       " 5284918,\n",
       " 5757094,\n",
       " 5536999,\n",
       " 15394681,\n",
       " 8923168,\n",
       " 10414378,\n",
       " 5470075,\n",
       " 10666387,\n",
       " 16736455,\n",
       " 5844637,\n",
       " 9036658,\n",
       " 9560935]"
      ]
     },
     "execution_count": 155,
     "metadata": {},
     "output_type": "execute_result"
    }
   ],
   "source": [
    "int_company_id"
   ]
  },
  {
   "cell_type": "code",
   "execution_count": 156,
   "metadata": {
    "collapsed": true
   },
   "outputs": [],
   "source": [
    " cleaned_final_df['company_id'] = int_company_id"
   ]
  },
  {
   "cell_type": "code",
   "execution_count": 158,
   "metadata": {},
   "outputs": [],
   "source": [
    "# drop the old company id\n",
    "cleaned_final_df.drop(['Company ID'],axis=1,inplace=True)"
   ]
  },
  {
   "cell_type": "markdown",
   "metadata": {},
   "source": [
    "## Add a one hot encoding for the primary industry"
   ]
  },
  {
   "cell_type": "code",
   "execution_count": 468,
   "metadata": {},
   "outputs": [],
   "source": [
    "final_training_df = pd.get_dummies(cleaned_final_df['Primary Industry Code'])"
   ]
  },
  {
   "cell_type": "code",
   "execution_count": 469,
   "metadata": {},
   "outputs": [],
   "source": [
    "training_df = pd.concat(objs=[cleaned_final_df,final_training_df],axis=1)"
   ]
  },
  {
   "cell_type": "code",
   "execution_count": 470,
   "metadata": {},
   "outputs": [],
   "source": [
    "cols = training_df.columns"
   ]
  },
  {
   "cell_type": "code",
   "execution_count": 471,
   "metadata": {},
   "outputs": [],
   "source": [
    "# move vc_invest to the first columns\n",
    "# remove Primary Industry Code, \n",
    "training_df = training_df[['vc_invest','company_id', 'Employees', 'Facebook Likes', 'Growth Rate',\n",
    "       'Last Financing Size', 'Majestic Referring Domains',\n",
    "        'Size Multiple', 'Total Raised',\n",
    "       'Twitter Followers', 'Year Founded', 'agreeableness_big5', 'analytical',\n",
    "       'anger', 'confident', 'conscientiousness_big5', 'disgust',\n",
    "       'emotional_range_big5', 'extraversion_big5', 'fear', 'joy',\n",
    "       'openness_big5', 'sadness', 'tentative', 'HQ_post_code',\n",
    "       'Aerospace and Defense', 'Alternative Energy Equipment',\n",
    "       'Application Software', 'Application Specific Semiconductors',\n",
    "       'Automation/Workflow Software', 'Automotive', 'Beverages',\n",
    "       'Biotechnology', 'Broadcasting, Radio and Television',\n",
    "       'Business/Productivity Software', 'Communication Software',\n",
    "       'Consulting Services (B2B)', 'Consumer Finance', 'Database Software',\n",
    "       'Diagnostic Equipment', 'Drug Discovery',\n",
    "       'Education and Training Services (B2B)',\n",
    "       'Educational and Training Services (B2C)', 'Electrical Equipment',\n",
    "       'Electronic Components', 'Electronics (B2C)', 'Energy Exploration',\n",
    "       'Energy Production', 'Enterprise Systems (Healthcare)',\n",
    "       'Entertainment Software', 'Environmental Services (B2B)',\n",
    "       'Financial Software', 'Food Products', 'General Purpose Semiconductors',\n",
    "       'Hotels and Resorts', 'Human Capital Services',\n",
    "       'Information Services (B2C)', 'Internet Retail', 'Legal Services (B2C)',\n",
    "       'Leisure Facilities', 'Logistics',\n",
    "       'Media and Information Services (B2B)',\n",
    "       'Movies, Music and Entertainment', 'Multimedia and Design Software',\n",
    "       'Network Management Software', 'Other Business Products and Services',\n",
    "       'Other Commercial Products', 'Other Commercial Services',\n",
    "       'Other Consumer Durables', 'Other Consumer Products and Services',\n",
    "       'Other Devices and Supplies', 'Other Energy Services',\n",
    "       'Other Financial Services', 'Other Healthcare Services',\n",
    "       'Other Healthcare Technology Systems', 'Other IT Services',\n",
    "       'Other Information Technology', 'Other Restaurants, Hotels and Leisure',\n",
    "       'Other Services (B2C Non-Financial)', 'Other Software',\n",
    "       'Other Transportation', 'Personal Products', 'Private Equity',\n",
    "       'Publishing', 'Real Estate Services (B2C)', 'Recreational Goods',\n",
    "       'Restaurants and Bars', 'Security Services (B2B)', 'Social Content',\n",
    "       'Social/Platform Software', 'Specialty Retail', 'Surgical Devices',\n",
    "       'Therapeutic Devices', 'Vertical Market Software', 'Water Utilities',\n",
    "       'Wireless Service Providers']]"
   ]
  },
  {
   "cell_type": "markdown",
   "metadata": {},
   "source": [
    "# EDA"
   ]
  },
  {
   "cell_type": "code",
   "execution_count": 334,
   "metadata": {},
   "outputs": [
    {
     "data": {
      "image/png": "[encoded data removed]",
      "text/plain": [
       "<matplotlib.figure.Figure at 0x11edce278>"
      ]
     },
     "metadata": {},
     "output_type": "display_data"
    }
   ],
   "source": [
    "plt.figure(figsize=(15,12))\n",
    "sns.heatmap(training_df.iloc[:,:30].corr());"
   ]
  },
  {
   "cell_type": "markdown",
   "metadata": {},
   "source": [
    "## Last financing size by vc invest type\n",
    "- People with VC funding are raising significantly more more"
   ]
  },
  {
   "cell_type": "code",
   "execution_count": 349,
   "metadata": {},
   "outputs": [],
   "source": [
    "vc_invest_0 = training_df[training_df.vc_invest==0]['Last Financing Size']*1_000_000"
   ]
  },
  {
   "cell_type": "code",
   "execution_count": 350,
   "metadata": {
    "collapsed": true
   },
   "outputs": [],
   "source": [
    "vc_invest_1 = training_df[training_df.vc_invest==1]['Last Financing Size']*1_000_000"
   ]
  },
  {
   "cell_type": "code",
   "execution_count": 392,
   "metadata": {},
   "outputs": [
    {
     "data": {
      "text/plain": [
       "50.0"
      ]
     },
     "execution_count": 392,
     "metadata": {},
     "output_type": "execute_result"
    }
   ],
   "source": [
    "vc_invest_1 .describe()['50%']/ vc_invest_0 .describe()['50%']"
   ]
  },
  {
   "cell_type": "code",
   "execution_count": 389,
   "metadata": {},
   "outputs": [
    {
     "data": {
      "text/plain": [
       "13636250.0"
      ]
     },
     "execution_count": 389,
     "metadata": {},
     "output_type": "execute_result"
    }
   ],
   "source": [
    "vc_invest_1 .describe()['mean']"
   ]
  },
  {
   "cell_type": "code",
   "execution_count": 353,
   "metadata": {},
   "outputs": [
    {
     "data": {
      "text/plain": [
       "<matplotlib.axes._subplots.AxesSubplot at 0x11f2520f0>"
      ]
     },
     "execution_count": 353,
     "metadata": {},
     "output_type": "execute_result"
    },
    {
     "data": {
      "image/png": "[encoded data removed]",
      "text/plain": [
       "<matplotlib.figure.Figure at 0x11eea7a20>"
      ]
     },
     "metadata": {},
     "output_type": "display_data"
    }
   ],
   "source": [
    "vc_invest_0.plot(kind='kde')\n"
   ]
  },
  {
   "cell_type": "code",
   "execution_count": 354,
   "metadata": {},
   "outputs": [
    {
     "data": {
      "text/plain": [
       "<matplotlib.axes._subplots.AxesSubplot at 0x11edd8550>"
      ]
     },
     "execution_count": 354,
     "metadata": {},
     "output_type": "execute_result"
    },
    {
     "data": {
      "image/png": "[encoded data removed]",
      "text/plain": [
       "<matplotlib.figure.Figure at 0x11f22d6a0>"
      ]
     },
     "metadata": {},
     "output_type": "display_data"
    }
   ],
   "source": [
    "vc_invest_1 .plot(kind='kde')"
   ]
  },
  {
   "cell_type": "code",
   "execution_count": null,
   "metadata": {
    "collapsed": true
   },
   "outputs": [],
   "source": []
  },
  {
   "cell_type": "code",
   "execution_count": null,
   "metadata": {
    "collapsed": true
   },
   "outputs": [],
   "source": []
  },
  {
   "cell_type": "code",
   "execution_count": null,
   "metadata": {
    "collapsed": true
   },
   "outputs": [],
   "source": []
  },
  {
   "cell_type": "code",
   "execution_count": null,
   "metadata": {
    "collapsed": true
   },
   "outputs": [],
   "source": []
  },
  {
   "cell_type": "code",
   "execution_count": null,
   "metadata": {
    "collapsed": true
   },
   "outputs": [],
   "source": []
  },
  {
   "cell_type": "code",
   "execution_count": null,
   "metadata": {
    "collapsed": true
   },
   "outputs": [],
   "source": []
  },
  {
   "cell_type": "code",
   "execution_count": null,
   "metadata": {
    "collapsed": true
   },
   "outputs": [],
   "source": []
  },
  {
   "cell_type": "code",
   "execution_count": null,
   "metadata": {
    "collapsed": true
   },
   "outputs": [],
   "source": []
  },
  {
   "cell_type": "code",
   "execution_count": null,
   "metadata": {
    "collapsed": true
   },
   "outputs": [],
   "source": []
  },
  {
   "cell_type": "code",
   "execution_count": null,
   "metadata": {
    "collapsed": true
   },
   "outputs": [],
   "source": []
  },
  {
   "cell_type": "markdown",
   "metadata": {},
   "source": [
    "# train test split"
   ]
  },
  {
   "cell_type": "code",
   "execution_count": 440,
   "metadata": {
    "collapsed": true
   },
   "outputs": [],
   "source": [
    "x_all, y_all = training_df.iloc[:,1:], training_df.iloc[:,0]"
   ]
  },
  {
   "cell_type": "code",
   "execution_count": 441,
   "metadata": {},
   "outputs": [
    {
     "data": {
      "text/plain": [
       "Index(['Employees', 'Facebook Likes', 'Growth Rate',\n",
       "       'Majestic Referring Domains', 'Size Multiple', 'Twitter Followers',\n",
       "       'Year Founded', 'agreeableness_big5', 'analytical', 'anger',\n",
       "       'confident', 'conscientiousness_big5', 'disgust',\n",
       "       'emotional_range_big5', 'extraversion_big5', 'fear', 'joy',\n",
       "       'openness_big5', 'sadness', 'tentative', 'HQ_post_code',\n",
       "       'Aerospace and Defense', 'Alternative Energy Equipment',\n",
       "       'Application Software', 'Application Specific Semiconductors',\n",
       "       'Automation/Workflow Software', 'Automotive', 'Beverages',\n",
       "       'Biotechnology', 'Broadcasting, Radio and Television',\n",
       "       'Business/Productivity Software', 'Communication Software',\n",
       "       'Consulting Services (B2B)', 'Consumer Finance', 'Database Software',\n",
       "       'Diagnostic Equipment', 'Drug Discovery',\n",
       "       'Education and Training Services (B2B)',\n",
       "       'Educational and Training Services (B2C)', 'Electrical Equipment',\n",
       "       'Electronic Components', 'Electronics (B2C)', 'Energy Exploration',\n",
       "       'Energy Production', 'Enterprise Systems (Healthcare)',\n",
       "       'Entertainment Software', 'Environmental Services (B2B)',\n",
       "       'Financial Software', 'Food Products', 'General Purpose Semiconductors',\n",
       "       'Hotels and Resorts', 'Human Capital Services',\n",
       "       'Information Services (B2C)', 'Internet Retail', 'Legal Services (B2C)',\n",
       "       'Leisure Facilities', 'Logistics',\n",
       "       'Media and Information Services (B2B)',\n",
       "       'Movies, Music and Entertainment', 'Multimedia and Design Software',\n",
       "       'Network Management Software', 'Other Business Products and Services',\n",
       "       'Other Commercial Products', 'Other Commercial Services',\n",
       "       'Other Consumer Durables', 'Other Consumer Products and Services',\n",
       "       'Other Devices and Supplies', 'Other Energy Services',\n",
       "       'Other Financial Services', 'Other Healthcare Services',\n",
       "       'Other Healthcare Technology Systems', 'Other IT Services',\n",
       "       'Other Information Technology', 'Other Restaurants, Hotels and Leisure',\n",
       "       'Other Services (B2C Non-Financial)', 'Other Software',\n",
       "       'Other Transportation', 'Personal Products', 'Private Equity',\n",
       "       'Publishing', 'Real Estate Services (B2C)', 'Recreational Goods',\n",
       "       'Restaurants and Bars', 'Security Services (B2B)', 'Social Content',\n",
       "       'Social/Platform Software', 'Specialty Retail', 'Surgical Devices',\n",
       "       'Therapeutic Devices', 'Vertical Market Software', 'Water Utilities',\n",
       "       'Wireless Service Providers'],\n",
       "      dtype='object')"
      ]
     },
     "execution_count": 441,
     "metadata": {},
     "output_type": "execute_result"
    }
   ],
   "source": [
    "x_all.columns"
   ]
  },
  {
   "cell_type": "code",
   "execution_count": 442,
   "metadata": {},
   "outputs": [],
   "source": [
    "X_train, X_val, y_train, y_val  = train_test_split(x_all,y_all,test_size=.25) # test is the final holdout set"
   ]
  },
  {
   "cell_type": "code",
   "execution_count": 443,
   "metadata": {
    "collapsed": true
   },
   "outputs": [],
   "source": [
    "X_train_, X_test, y_train_, y_test  = train_test_split(X_train,y_train,test_size=.20) "
   ]
  },
  {
   "cell_type": "code",
   "execution_count": 444,
   "metadata": {},
   "outputs": [
    {
     "data": {
      "text/plain": [
       "(151, 92)"
      ]
     },
     "execution_count": 444,
     "metadata": {},
     "output_type": "execute_result"
    }
   ],
   "source": [
    "X_train_.shape #  training examples"
   ]
  },
  {
   "cell_type": "code",
   "execution_count": 445,
   "metadata": {},
   "outputs": [
    {
     "data": {
      "text/plain": [
       "(189, 1)"
      ]
     },
     "execution_count": 445,
     "metadata": {},
     "output_type": "execute_result"
    }
   ],
   "source": [
    "y_train.values.reshape(-1,1).shape"
   ]
  },
  {
   "cell_type": "code",
   "execution_count": 446,
   "metadata": {},
   "outputs": [
    {
     "data": {
      "text/plain": [
       "(38,)"
      ]
     },
     "execution_count": 446,
     "metadata": {},
     "output_type": "execute_result"
    }
   ],
   "source": [
    "y_test.shape"
   ]
  },
  {
   "cell_type": "markdown",
   "metadata": {},
   "source": [
    "# train random forest + Logistic Regression"
   ]
  },
  {
   "cell_type": "code",
   "execution_count": 447,
   "metadata": {
    "collapsed": true
   },
   "outputs": [],
   "source": [
    "rf_classify = RandomForestClassifier(n_estimators=300)"
   ]
  },
  {
   "cell_type": "code",
   "execution_count": 448,
   "metadata": {},
   "outputs": [
    {
     "name": "stderr",
     "output_type": "stream",
     "text": [
      "/Users/jonathanhilgart/anaconda/envs/nlp_founder/lib/python3.6/site-packages/ipykernel_launcher.py:1: DataConversionWarning: A column-vector y was passed when a 1d array was expected. Please change the shape of y to (n_samples,), for example using ravel().\n",
      "  \"\"\"Entry point for launching an IPython kernel.\n"
     ]
    },
    {
     "data": {
      "text/plain": [
       "RandomForestClassifier(bootstrap=True, class_weight=None, criterion='gini',\n",
       "            max_depth=None, max_features='auto', max_leaf_nodes=None,\n",
       "            min_impurity_split=1e-07, min_samples_leaf=1,\n",
       "            min_samples_split=2, min_weight_fraction_leaf=0.0,\n",
       "            n_estimators=300, n_jobs=1, oob_score=False, random_state=None,\n",
       "            verbose=0, warm_start=False)"
      ]
     },
     "execution_count": 448,
     "metadata": {},
     "output_type": "execute_result"
    }
   ],
   "source": [
    "rf_classify.fit(X_train_.values,y_train_.values.reshape(-1,1))"
   ]
  },
  {
   "cell_type": "code",
   "execution_count": 449,
   "metadata": {},
   "outputs": [],
   "source": [
    "positive_prob = rf_classify.predict_proba(X_test)[:,1] # 0 , 1 "
   ]
  },
  {
   "cell_type": "code",
   "execution_count": 450,
   "metadata": {
    "collapsed": true
   },
   "outputs": [],
   "source": [
    "positive_binary = rf_classify.predict(X_test)"
   ]
  },
  {
   "cell_type": "code",
   "execution_count": 451,
   "metadata": {},
   "outputs": [
    {
     "name": "stdout",
     "output_type": "stream",
     "text": [
      "Accuracy is 86.84% with Random Forest\n"
     ]
    }
   ],
   "source": [
    "print(f\"Accuracy is {1-sum(rf_classify.predict(X_test) != y_test)/len(y_test):.2%} with Random Forest\" )"
   ]
  },
  {
   "cell_type": "code",
   "execution_count": 452,
   "metadata": {},
   "outputs": [
    {
     "data": {
      "text/plain": [
       "array([0, 1, 0, 1, 1, 1, 1, 1, 1, 1, 1, 1, 0, 1, 0, 1, 1, 1, 1, 0, 0, 0, 1,\n",
       "       1, 1, 0, 1, 1, 0, 1, 1, 0, 0, 0, 0, 0, 1, 1])"
      ]
     },
     "execution_count": 452,
     "metadata": {},
     "output_type": "execute_result"
    }
   ],
   "source": [
    "rf_classify.predict(X_test)"
   ]
  },
  {
   "cell_type": "markdown",
   "metadata": {},
   "source": [
    "### Precision and Recall - Cross Validation"
   ]
  },
  {
   "cell_type": "code",
   "execution_count": 453,
   "metadata": {},
   "outputs": [],
   "source": [
    "precision, recall, thresholds = precision_recall_curve(y_test , positive_prob )"
   ]
  },
  {
   "cell_type": "code",
   "execution_count": 454,
   "metadata": {},
   "outputs": [
    {
     "data": {
      "text/plain": [
       "array([ 1.  ,  0.96,  0.96,  0.96,  0.92,  0.92,  0.92,  0.88,  0.84,\n",
       "        0.8 ,  0.8 ,  0.76,  0.72,  0.72,  0.68,  0.64,  0.6 ,  0.56,\n",
       "        0.52,  0.48,  0.44,  0.4 ,  0.36,  0.32,  0.28,  0.24,  0.2 ,\n",
       "        0.16,  0.12,  0.08,  0.04,  0.  ])"
      ]
     },
     "execution_count": 454,
     "metadata": {},
     "output_type": "execute_result"
    }
   ],
   "source": [
    "recall"
   ]
  },
  {
   "cell_type": "code",
   "execution_count": 455,
   "metadata": {},
   "outputs": [
    {
     "data": {
      "text/plain": [
       "array([ 0.75757576,  0.75      ,  0.77419355,  0.82758621,  0.85185185,\n",
       "        0.88461538,  0.92      ,  0.91666667,  0.91304348,  0.90909091,\n",
       "        0.95238095,  0.95      ,  0.94736842,  1.        ,  1.        ,\n",
       "        1.        ,  1.        ,  1.        ,  1.        ,  1.        ,\n",
       "        1.        ,  1.        ,  1.        ,  1.        ,  1.        ,\n",
       "        1.        ,  1.        ,  1.        ,  1.        ,  1.        ,\n",
       "        1.        ,  1.        ])"
      ]
     },
     "execution_count": 455,
     "metadata": {},
     "output_type": "execute_result"
    }
   ],
   "source": [
    "precision"
   ]
  },
  {
   "cell_type": "code",
   "execution_count": 456,
   "metadata": {},
   "outputs": [
    {
     "data": {
      "text/plain": [
       "array([ 0.26333333,  0.27      ,  0.33      ,  0.38      ,  0.44666667,\n",
       "        0.47      ,  0.5       ,  0.53666667,  0.55      ,  0.55333333,\n",
       "        0.64      ,  0.68      ,  0.69666667,  0.71333333,  0.73333333,\n",
       "        0.75333333,  0.76666667,  0.81333333,  0.84      ,  0.85666667,\n",
       "        0.86      ,  0.86333333,  0.88333333,  0.88666667,  0.9       ,\n",
       "        0.90333333,  0.91      ,  0.92333333,  0.92666667,  0.93666667,\n",
       "        0.96666667])"
      ]
     },
     "execution_count": 456,
     "metadata": {},
     "output_type": "execute_result"
    }
   ],
   "source": [
    "thresholds"
   ]
  },
  {
   "cell_type": "code",
   "execution_count": null,
   "metadata": {
    "collapsed": true
   },
   "outputs": [],
   "source": []
  },
  {
   "cell_type": "code",
   "execution_count": 457,
   "metadata": {},
   "outputs": [],
   "source": [
    "fpr, tpr, thresholds =roc_curve(y_test,positive_prob)"
   ]
  },
  {
   "cell_type": "code",
   "execution_count": 458,
   "metadata": {},
   "outputs": [
    {
     "data": {
      "text/plain": [
       "<matplotlib.text.Text at 0x11fe84400>"
      ]
     },
     "execution_count": 458,
     "metadata": {},
     "output_type": "execute_result"
    },
    {
     "data": {
      "image/png": "[encoded data removed]",
      "text/plain": [
       "<matplotlib.figure.Figure at 0x11e40a4a8>"
      ]
     },
     "metadata": {},
     "output_type": "display_data"
    }
   ],
   "source": [
    "plt.plot(fpr, tpr)\n",
    "plt.title('ROC Curve')\n",
    "plt.xlabel('FPR')\n",
    "plt.ylabel('TPR')"
   ]
  },
  {
   "cell_type": "code",
   "execution_count": 459,
   "metadata": {},
   "outputs": [
    {
     "name": "stdout",
     "output_type": "stream",
     "text": [
      "F1 score is 89.80%\n"
     ]
    }
   ],
   "source": [
    "print(f\"F1 score is {f1_score(y_test,positive_binary):.2%}\")"
   ]
  },
  {
   "cell_type": "code",
   "execution_count": 460,
   "metadata": {},
   "outputs": [],
   "source": [
    "cv_prdictions = cross_val_predict(rf_classify, X_train_, y_train_, cv = 5)"
   ]
  },
  {
   "cell_type": "code",
   "execution_count": 461,
   "metadata": {},
   "outputs": [
    {
     "name": "stdout",
     "output_type": "stream",
     "text": [
      "CV accuracy = 79.47%\n"
     ]
    }
   ],
   "source": [
    "print(f\"CV accuracy = {1-sum(cv_prdictions != y_train_)/ len(y_train_):.2%}\")"
   ]
  },
  {
   "cell_type": "markdown",
   "metadata": {},
   "source": [
    "# Feature Importance"
   ]
  },
  {
   "cell_type": "code",
   "execution_count": 462,
   "metadata": {},
   "outputs": [],
   "source": [
    "cols = np.array(x_all.columns)"
   ]
  },
  {
   "cell_type": "code",
   "execution_count": 463,
   "metadata": {},
   "outputs": [],
   "source": [
    "sorted_feature_importances  = np.argsort(rf_classify.feature_importances_)[::-1]"
   ]
  },
  {
   "cell_type": "code",
   "execution_count": 464,
   "metadata": {},
   "outputs": [],
   "source": [
    "ranked_feature_importances = rf_classify.feature_importances_[sorted_feature_importances]"
   ]
  },
  {
   "cell_type": "code",
   "execution_count": 465,
   "metadata": {},
   "outputs": [
    {
     "data": {
      "text/plain": [
       "array(['Employees', 'Majestic Referring Domains', 'Size Multiple',\n",
       "       'Twitter Followers', 'Facebook Likes', 'Growth Rate', 'joy',\n",
       "       'Year Founded', 'emotional_range_big5', 'agreeableness_big5',\n",
       "       'tentative', 'sadness', 'extraversion_big5', 'HQ_post_code',\n",
       "       'analytical', 'openness_big5', 'anger', 'fear', 'disgust',\n",
       "       'conscientiousness_big5', 'confident', 'Real Estate Services (B2C)',\n",
       "       'Database Software', 'Movies, Music and Entertainment',\n",
       "       'Application Software', 'Other Commercial Services',\n",
       "       'Business/Productivity Software', 'Social/Platform Software',\n",
       "       'Human Capital Services', 'Internet Retail', 'Therapeutic Devices',\n",
       "       'Information Services (B2C)', 'Other Financial Services',\n",
       "       'Communication Software', 'Other Services (B2C Non-Financial)',\n",
       "       'Other Business Products and Services', 'Surgical Devices',\n",
       "       'Network Management Software', 'Alternative Energy Equipment',\n",
       "       'Automation/Workflow Software', 'Electronic Components',\n",
       "       'Other Software', 'Other Healthcare Technology Systems',\n",
       "       'Wireless Service Providers', 'Energy Production',\n",
       "       'Aerospace and Defense', 'Security Services (B2B)',\n",
       "       'Electronics (B2C)', 'Social Content', 'Legal Services (B2C)',\n",
       "       'Other Healthcare Services', 'Consulting Services (B2B)',\n",
       "       'Education and Training Services (B2B)',\n",
       "       'Broadcasting, Radio and Television', 'Other Commercial Products',\n",
       "       'Media and Information Services (B2B)', 'Logistics',\n",
       "       'Application Specific Semiconductors', 'Personal Products',\n",
       "       'Electrical Equipment', 'Publishing', 'Other Energy Services',\n",
       "       'Consumer Finance', 'Diagnostic Equipment',\n",
       "       'General Purpose Semiconductors', 'Other Devices and Supplies',\n",
       "       'Other Consumer Durables', 'Entertainment Software',\n",
       "       'Hotels and Resorts', 'Financial Software',\n",
       "       'Educational and Training Services (B2C)', 'Automotive',\n",
       "       'Multimedia and Design Software', 'Recreational Goods',\n",
       "       'Restaurants and Bars', 'Food Products', 'Vertical Market Software',\n",
       "       'Specialty Retail', 'Water Utilities',\n",
       "       'Enterprise Systems (Healthcare)', 'Energy Exploration',\n",
       "       'Private Equity', 'Environmental Services (B2B)',\n",
       "       'Other Transportation', 'Leisure Facilities',\n",
       "       'Other Information Technology', 'Other IT Services',\n",
       "       'Drug Discovery', 'Other Consumer Products and Services',\n",
       "       'Biotechnology', 'Beverages',\n",
       "       'Other Restaurants, Hotels and Leisure'], dtype=object)"
      ]
     },
     "execution_count": 465,
     "metadata": {},
     "output_type": "execute_result"
    }
   ],
   "source": [
    "cols[sorted_feature_importances]"
   ]
  },
  {
   "cell_type": "code",
   "execution_count": 466,
   "metadata": {},
   "outputs": [
    {
     "data": {
      "image/png": "[encoded data removed]",
      "text/plain": [
       "<matplotlib.figure.Figure at 0x11fca5c88>"
      ]
     },
     "metadata": {},
     "output_type": "display_data"
    }
   ],
   "source": [
    "plt.figure(figsize=(20,10))\n",
    "sns.barplot(cols[np.argsort(sorted_feature_importances)][:10],ranked_feature_importances[:10] )\n",
    "plt.title(\"Feature Importances\");"
   ]
  },
  {
   "cell_type": "code",
   "execution_count": null,
   "metadata": {
    "collapsed": true
   },
   "outputs": [],
   "source": []
  },
  {
   "cell_type": "code",
   "execution_count": null,
   "metadata": {
    "collapsed": true
   },
   "outputs": [],
   "source": []
  },
  {
   "cell_type": "markdown",
   "metadata": {},
   "source": [
    "# Auto SKLEARN to find the best model"
   ]
  },
  {
   "cell_type": "code",
   "execution_count": null,
   "metadata": {
    "collapsed": true
   },
   "outputs": [],
   "source": []
  }
 ],
 "metadata": {
  "kernelspec": {
   "display_name": "nlp_founder",
   "language": "python",
   "name": "nlp_founder"
  },
  "language_info": {
   "codemirror_mode": {
    "name": "ipython",
    "version": 3
   },
   "file_extension": ".py",
   "mimetype": "text/x-python",
   "name": "python",
   "nbconvert_exporter": "python",
   "pygments_lexer": "ipython3",
   "version": "3.6.1"
  }
 },
 "nbformat": 4,
 "nbformat_minor": 2
}
