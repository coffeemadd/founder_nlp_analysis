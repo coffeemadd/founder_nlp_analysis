{
 "cells": [
  {
   "cell_type": "code",
   "execution_count": 114,
   "metadata": {
    "collapsed": true
   },
   "outputs": [],
   "source": [
    "import pandas as pd\n",
    "from sklearn.model_selection import train_test_split\n",
    "from sklearn.ensemble import RandomForestClassifier"
   ]
  },
  {
   "cell_type": "code",
   "execution_count": 23,
   "metadata": {
    "collapsed": true
   },
   "outputs": [],
   "source": [
    "vc_invest1 = pd.read_csv(\"../data/processed/PitchBook_CA_VCInvest=1_NLP-features.csv\")"
   ]
  },
  {
   "cell_type": "code",
   "execution_count": 24,
   "metadata": {
    "collapsed": true
   },
   "outputs": [],
   "source": [
    "vc_invest0 = pd.read_csv(\"../data/processed/PitchBook_CA_VCInvest=0_NLP-features.csv\")"
   ]
  },
  {
   "cell_type": "code",
   "execution_count": 25,
   "metadata": {},
   "outputs": [
    {
     "data": {
      "text/html": [
       "<div>\n",
       "<style>\n",
       "    .dataframe thead tr:only-child th {\n",
       "        text-align: right;\n",
       "    }\n",
       "\n",
       "    .dataframe thead th {\n",
       "        text-align: left;\n",
       "    }\n",
       "\n",
       "    .dataframe tbody tr th {\n",
       "        vertical-align: top;\n",
       "    }\n",
       "</style>\n",
       "<table border=\"1\" class=\"dataframe\">\n",
       "  <thead>\n",
       "    <tr style=\"text-align: right;\">\n",
       "      <th></th>\n",
       "      <th>Unnamed: 0</th>\n",
       "      <th>Unnamed: 0.1</th>\n",
       "      <th>Company ID</th>\n",
       "      <th>Description</th>\n",
       "      <th>Company Name</th>\n",
       "      <th>HQ Post Code</th>\n",
       "      <th>Primary Industry Code</th>\n",
       "      <th>Primary Contact</th>\n",
       "      <th>Year Founded</th>\n",
       "      <th>Active Investors</th>\n",
       "      <th>...</th>\n",
       "      <th>anger</th>\n",
       "      <th>disgust</th>\n",
       "      <th>fear</th>\n",
       "      <th>joy</th>\n",
       "      <th>sadness</th>\n",
       "      <th>agreeableness_big5</th>\n",
       "      <th>conscientiousness_big5</th>\n",
       "      <th>emotional_range_big5</th>\n",
       "      <th>extraversion_big5</th>\n",
       "      <th>openness_big5</th>\n",
       "    </tr>\n",
       "  </thead>\n",
       "  <tbody>\n",
       "    <tr>\n",
       "      <th>0</th>\n",
       "      <td>0</td>\n",
       "      <td>0</td>\n",
       "      <td>61743-97</td>\n",
       "      <td>Developer of an online advertisement platform ...</td>\n",
       "      <td>ZypMedia</td>\n",
       "      <td>94102</td>\n",
       "      <td>Social/Platform Software</td>\n",
       "      <td>Mark Goldman</td>\n",
       "      <td>2013.0</td>\n",
       "      <td>Sinclair Broadcast Group, Sinclair Digital Ven...</td>\n",
       "      <td>...</td>\n",
       "      <td>0.037795</td>\n",
       "      <td>0.056217</td>\n",
       "      <td>0.033382</td>\n",
       "      <td>0.331294</td>\n",
       "      <td>0.248749</td>\n",
       "      <td>0.770552</td>\n",
       "      <td>0.554384</td>\n",
       "      <td>0.463544</td>\n",
       "      <td>0.771254</td>\n",
       "      <td>0.440335</td>\n",
       "    </tr>\n",
       "    <tr>\n",
       "      <th>1</th>\n",
       "      <td>1</td>\n",
       "      <td>6</td>\n",
       "      <td>62229-34</td>\n",
       "      <td>Developer of animated, interactive learning ma...</td>\n",
       "      <td>Zyante</td>\n",
       "      <td>95031</td>\n",
       "      <td>Publishing</td>\n",
       "      <td>Smita Bakshi</td>\n",
       "      <td>2012.0</td>\n",
       "      <td>Bialla Venture Partners, National Science Foun...</td>\n",
       "      <td>...</td>\n",
       "      <td>0.076046</td>\n",
       "      <td>0.045468</td>\n",
       "      <td>0.053601</td>\n",
       "      <td>0.532597</td>\n",
       "      <td>0.353646</td>\n",
       "      <td>0.608447</td>\n",
       "      <td>0.346789</td>\n",
       "      <td>0.447831</td>\n",
       "      <td>0.567102</td>\n",
       "      <td>0.228463</td>\n",
       "    </tr>\n",
       "  </tbody>\n",
       "</table>\n",
       "<p>2 rows × 36 columns</p>\n",
       "</div>"
      ],
      "text/plain": [
       "   Unnamed: 0  Unnamed: 0.1 Company ID  \\\n",
       "0           0             0   61743-97   \n",
       "1           1             6   62229-34   \n",
       "\n",
       "                                         Description Company Name  \\\n",
       "0  Developer of an online advertisement platform ...     ZypMedia   \n",
       "1  Developer of animated, interactive learning ma...       Zyante   \n",
       "\n",
       "  HQ Post Code     Primary Industry Code Primary Contact  Year Founded  \\\n",
       "0        94102  Social/Platform Software    Mark Goldman        2013.0   \n",
       "1        95031                Publishing    Smita Bakshi        2012.0   \n",
       "\n",
       "                                    Active Investors      ...           anger  \\\n",
       "0  Sinclair Broadcast Group, Sinclair Digital Ven...      ...        0.037795   \n",
       "1  Bialla Venture Partners, National Science Foun...      ...        0.076046   \n",
       "\n",
       "    disgust      fear       joy   sadness agreeableness_big5  \\\n",
       "0  0.056217  0.033382  0.331294  0.248749           0.770552   \n",
       "1  0.045468  0.053601  0.532597  0.353646           0.608447   \n",
       "\n",
       "   conscientiousness_big5  emotional_range_big5  extraversion_big5  \\\n",
       "0                0.554384              0.463544           0.771254   \n",
       "1                0.346789              0.447831           0.567102   \n",
       "\n",
       "   openness_big5  \n",
       "0       0.440335  \n",
       "1       0.228463  \n",
       "\n",
       "[2 rows x 36 columns]"
      ]
     },
     "execution_count": 25,
     "metadata": {},
     "output_type": "execute_result"
    }
   ],
   "source": [
    "vc_invest1.head(2)"
   ]
  },
  {
   "cell_type": "code",
   "execution_count": 26,
   "metadata": {},
   "outputs": [],
   "source": [
    "vc_invest1['vc_invest'] = vc_invest1.VC_invested"
   ]
  },
  {
   "cell_type": "code",
   "execution_count": 27,
   "metadata": {},
   "outputs": [],
   "source": [
    "vc_invest1.drop('VC_invested',axis=1, inplace=True) # make the columns match"
   ]
  },
  {
   "cell_type": "code",
   "execution_count": 28,
   "metadata": {},
   "outputs": [
    {
     "name": "stdout",
     "output_type": "stream",
     "text": [
      "<class 'pandas.core.frame.DataFrame'>\n",
      "RangeIndex: 92 entries, 0 to 91\n",
      "Data columns (total 38 columns):\n",
      "Unnamed: 0                     92 non-null int64\n",
      "Unnamed: 0.1                   92 non-null int64\n",
      "Company ID                     92 non-null object\n",
      "Description                    92 non-null object\n",
      "Company Name                   92 non-null object\n",
      "HQ Post Code                   92 non-null int64\n",
      "Primary Industry Code          92 non-null object\n",
      "Primary Contact                92 non-null object\n",
      "Year Founded                   92 non-null float64\n",
      "Active Investors               56 non-null object\n",
      "HQ Location                    92 non-null object\n",
      "Growth Rate                    92 non-null float64\n",
      "Size Multiple                  92 non-null float64\n",
      "Last Financing Date            92 non-null object\n",
      "Last Financing Size            92 non-null float64\n",
      "Last Financing Valuation       17 non-null float64\n",
      "Last Financing Deal Type 2     54 non-null object\n",
      "Majestic Referring Domains     92 non-null float64\n",
      "Facebook Likes                 92 non-null float64\n",
      "Twitter Followers              92 non-null float64\n",
      "Employees                      92 non-null float64\n",
      "Total Raised                   92 non-null float64\n",
      "days_since_offer               92 non-null int64\n",
      "vc_invest                      92 non-null int64\n",
      "Twitter_Username               92 non-null object\n",
      "analytical                     92 non-null float64\n",
      "confident                      92 non-null float64\n",
      "tentative                      92 non-null float64\n",
      "anger                          92 non-null float64\n",
      "disgust                        92 non-null float64\n",
      "fear                           92 non-null float64\n",
      "joy                            92 non-null float64\n",
      "sadness                        92 non-null float64\n",
      "agreeableness_big5             92 non-null float64\n",
      "conscientiousness_big5         92 non-null float64\n",
      "emotional_range_big5           92 non-null float64\n",
      "extraversion_big5              92 non-null float64\n",
      "openness_big5                  92 non-null float64\n",
      "dtypes: float64(23), int64(5), object(10)\n",
      "memory usage: 27.4+ KB\n"
     ]
    }
   ],
   "source": [
    "vc_invest0 .info()"
   ]
  },
  {
   "cell_type": "code",
   "execution_count": 29,
   "metadata": {},
   "outputs": [
    {
     "data": {
      "text/plain": [
       "array(['Network Management Software', 'Electronics (B2C)',\n",
       "       'Other Business Products and Services', 'Internet Retail',\n",
       "       'Therapeutic Devices', 'Social/Platform Software',\n",
       "       'Application Software', 'Social Content', 'Human Capital Services',\n",
       "       'Automotive', 'Movies, Music and Entertainment',\n",
       "       'Real Estate Services (B2C)', 'Other Healthcare Services',\n",
       "       'Other Healthcare Technology Systems', 'Other Commercial Services',\n",
       "       'Information Services (B2C)', 'Consulting Services (B2B)',\n",
       "       'Other Software', 'Other Consumer Products and Services',\n",
       "       'Business/Productivity Software', 'Other Financial Services',\n",
       "       'Entertainment Software', 'Other Energy Services',\n",
       "       'Other Consumer Durables', 'Aerospace and Defense',\n",
       "       'Broadcasting, Radio and Television', 'Leisure Facilities',\n",
       "       'Wireless Service Providers', 'Legal Services (B2C)',\n",
       "       'Educational and Training Services (B2C)',\n",
       "       'Media and Information Services (B2B)',\n",
       "       'Automation/Workflow Software', 'Beverages', 'Database Software',\n",
       "       'Logistics', 'Education and Training Services (B2B)'], dtype=object)"
      ]
     },
     "execution_count": 29,
     "metadata": {},
     "output_type": "execute_result"
    }
   ],
   "source": [
    "vc_invest0['Primary Industry Code'].unique() #  one hot encode this"
   ]
  },
  {
   "cell_type": "markdown",
   "metadata": {},
   "source": [
    "# Combine dataframes"
   ]
  },
  {
   "cell_type": "code",
   "execution_count": 30,
   "metadata": {},
   "outputs": [],
   "source": [
    "combo_df = pd.concat(objs=[vc_invest0,vc_invest1])"
   ]
  },
  {
   "cell_type": "code",
   "execution_count": 31,
   "metadata": {},
   "outputs": [
    {
     "data": {
      "text/html": [
       "<div>\n",
       "<style>\n",
       "    .dataframe thead tr:only-child th {\n",
       "        text-align: right;\n",
       "    }\n",
       "\n",
       "    .dataframe thead th {\n",
       "        text-align: left;\n",
       "    }\n",
       "\n",
       "    .dataframe tbody tr th {\n",
       "        vertical-align: top;\n",
       "    }\n",
       "</style>\n",
       "<table border=\"1\" class=\"dataframe\">\n",
       "  <thead>\n",
       "    <tr style=\"text-align: right;\">\n",
       "      <th></th>\n",
       "      <th>Active Investors</th>\n",
       "      <th>Company ID</th>\n",
       "      <th>Company Name</th>\n",
       "      <th>Description</th>\n",
       "      <th>Employees</th>\n",
       "      <th>Facebook Likes</th>\n",
       "      <th>Growth Rate</th>\n",
       "      <th>HQ Location</th>\n",
       "      <th>HQ Post Code</th>\n",
       "      <th>Last Financing Date</th>\n",
       "      <th>...</th>\n",
       "      <th>days_since_offer</th>\n",
       "      <th>disgust</th>\n",
       "      <th>emotional_range_big5</th>\n",
       "      <th>extraversion_big5</th>\n",
       "      <th>fear</th>\n",
       "      <th>joy</th>\n",
       "      <th>openness_big5</th>\n",
       "      <th>sadness</th>\n",
       "      <th>tentative</th>\n",
       "      <th>vc_invest</th>\n",
       "    </tr>\n",
       "  </thead>\n",
       "  <tbody>\n",
       "    <tr>\n",
       "      <th>161</th>\n",
       "      <td>Anjan Mitra, Dorm Room Fund, Emily Mitra, Erik...</td>\n",
       "      <td>106663-87</td>\n",
       "      <td>Traveling Spoon</td>\n",
       "      <td>Developer of an online platform designed to bo...</td>\n",
       "      <td>2.0</td>\n",
       "      <td>19126.0</td>\n",
       "      <td>0.416151</td>\n",
       "      <td>San Francisco, CA</td>\n",
       "      <td>94110</td>\n",
       "      <td>2015-09-17</td>\n",
       "      <td>...</td>\n",
       "      <td>NaN</td>\n",
       "      <td>0.047489</td>\n",
       "      <td>0.703120</td>\n",
       "      <td>0.890312</td>\n",
       "      <td>0.044991</td>\n",
       "      <td>0.693290</td>\n",
       "      <td>0.630364</td>\n",
       "      <td>0.088702</td>\n",
       "      <td>0.460577</td>\n",
       "      <td>1</td>\n",
       "    </tr>\n",
       "    <tr>\n",
       "      <th>162</th>\n",
       "      <td>Accel, New Enterprise Associates</td>\n",
       "      <td>167364-55</td>\n",
       "      <td>TravelBank</td>\n",
       "      <td>Developer of travel and expense software for s...</td>\n",
       "      <td>11.0</td>\n",
       "      <td>916.0</td>\n",
       "      <td>4.039472</td>\n",
       "      <td>San Francisco, CA</td>\n",
       "      <td>94107</td>\n",
       "      <td>2016-10-20</td>\n",
       "      <td>...</td>\n",
       "      <td>NaN</td>\n",
       "      <td>0.057233</td>\n",
       "      <td>0.811919</td>\n",
       "      <td>0.889738</td>\n",
       "      <td>0.054336</td>\n",
       "      <td>0.606031</td>\n",
       "      <td>0.136577</td>\n",
       "      <td>0.099967</td>\n",
       "      <td>0.072408</td>\n",
       "      <td>1</td>\n",
       "    </tr>\n",
       "    <tr>\n",
       "      <th>163</th>\n",
       "      <td>NaN</td>\n",
       "      <td>58446-37</td>\n",
       "      <td>Translucent Medical</td>\n",
       "      <td>Provider of a navigation system for reducing X...</td>\n",
       "      <td>27.0</td>\n",
       "      <td>1135.0</td>\n",
       "      <td>0.042641</td>\n",
       "      <td>Santa Cruz, CA</td>\n",
       "      <td>95060</td>\n",
       "      <td>NaN</td>\n",
       "      <td>...</td>\n",
       "      <td>NaN</td>\n",
       "      <td>0.084686</td>\n",
       "      <td>0.765961</td>\n",
       "      <td>0.665861</td>\n",
       "      <td>0.105098</td>\n",
       "      <td>0.581602</td>\n",
       "      <td>0.399683</td>\n",
       "      <td>0.464961</td>\n",
       "      <td>0.380504</td>\n",
       "      <td>1</td>\n",
       "    </tr>\n",
       "    <tr>\n",
       "      <th>164</th>\n",
       "      <td>Amplify.LA, Canyon Creek Capital, HillsVen Cap...</td>\n",
       "      <td>90366-58</td>\n",
       "      <td>Translation Exchange</td>\n",
       "      <td>Provider of a cloud-based platform for continu...</td>\n",
       "      <td>11.0</td>\n",
       "      <td>200.0</td>\n",
       "      <td>3.822225</td>\n",
       "      <td>San Francisco, CA</td>\n",
       "      <td>94105</td>\n",
       "      <td>2016-03-01</td>\n",
       "      <td>...</td>\n",
       "      <td>NaN</td>\n",
       "      <td>0.248178</td>\n",
       "      <td>0.750920</td>\n",
       "      <td>0.300239</td>\n",
       "      <td>0.127519</td>\n",
       "      <td>0.298173</td>\n",
       "      <td>0.264759</td>\n",
       "      <td>0.369778</td>\n",
       "      <td>0.689846</td>\n",
       "      <td>1</td>\n",
       "    </tr>\n",
       "    <tr>\n",
       "      <th>165</th>\n",
       "      <td>1776, Alex Bresler, BallstonBID LaunchPad, Bru...</td>\n",
       "      <td>95609-35</td>\n",
       "      <td>TransitScreen</td>\n",
       "      <td>Provider of a real-time transportation display...</td>\n",
       "      <td>18.0</td>\n",
       "      <td>774.0</td>\n",
       "      <td>0.135018</td>\n",
       "      <td>Washington, DC</td>\n",
       "      <td>20005</td>\n",
       "      <td>2017-02-24</td>\n",
       "      <td>...</td>\n",
       "      <td>NaN</td>\n",
       "      <td>0.082909</td>\n",
       "      <td>0.575228</td>\n",
       "      <td>0.623034</td>\n",
       "      <td>0.094825</td>\n",
       "      <td>0.481402</td>\n",
       "      <td>0.468479</td>\n",
       "      <td>0.445690</td>\n",
       "      <td>0.346413</td>\n",
       "      <td>1</td>\n",
       "    </tr>\n",
       "  </tbody>\n",
       "</table>\n",
       "<p>5 rows × 38 columns</p>\n",
       "</div>"
      ],
      "text/plain": [
       "                                      Active Investors Company ID  \\\n",
       "161  Anjan Mitra, Dorm Room Fund, Emily Mitra, Erik...  106663-87   \n",
       "162                   Accel, New Enterprise Associates  167364-55   \n",
       "163                                                NaN   58446-37   \n",
       "164  Amplify.LA, Canyon Creek Capital, HillsVen Cap...   90366-58   \n",
       "165  1776, Alex Bresler, BallstonBID LaunchPad, Bru...   95609-35   \n",
       "\n",
       "             Company Name                                        Description  \\\n",
       "161       Traveling Spoon  Developer of an online platform designed to bo...   \n",
       "162            TravelBank  Developer of travel and expense software for s...   \n",
       "163   Translucent Medical  Provider of a navigation system for reducing X...   \n",
       "164  Translation Exchange  Provider of a cloud-based platform for continu...   \n",
       "165         TransitScreen  Provider of a real-time transportation display...   \n",
       "\n",
       "     Employees  Facebook Likes  Growth Rate        HQ Location HQ Post Code  \\\n",
       "161        2.0         19126.0     0.416151  San Francisco, CA        94110   \n",
       "162       11.0           916.0     4.039472  San Francisco, CA        94107   \n",
       "163       27.0          1135.0     0.042641     Santa Cruz, CA        95060   \n",
       "164       11.0           200.0     3.822225  San Francisco, CA        94105   \n",
       "165       18.0           774.0     0.135018     Washington, DC        20005   \n",
       "\n",
       "    Last Financing Date    ...    days_since_offer   disgust  \\\n",
       "161          2015-09-17    ...                 NaN  0.047489   \n",
       "162          2016-10-20    ...                 NaN  0.057233   \n",
       "163                 NaN    ...                 NaN  0.084686   \n",
       "164          2016-03-01    ...                 NaN  0.248178   \n",
       "165          2017-02-24    ...                 NaN  0.082909   \n",
       "\n",
       "     emotional_range_big5  extraversion_big5      fear       joy  \\\n",
       "161              0.703120           0.890312  0.044991  0.693290   \n",
       "162              0.811919           0.889738  0.054336  0.606031   \n",
       "163              0.765961           0.665861  0.105098  0.581602   \n",
       "164              0.750920           0.300239  0.127519  0.298173   \n",
       "165              0.575228           0.623034  0.094825  0.481402   \n",
       "\n",
       "     openness_big5   sadness  tentative vc_invest  \n",
       "161       0.630364  0.088702   0.460577         1  \n",
       "162       0.136577  0.099967   0.072408         1  \n",
       "163       0.399683  0.464961   0.380504         1  \n",
       "164       0.264759  0.369778   0.689846         1  \n",
       "165       0.468479  0.445690   0.346413         1  \n",
       "\n",
       "[5 rows x 38 columns]"
      ]
     },
     "execution_count": 31,
     "metadata": {},
     "output_type": "execute_result"
    }
   ],
   "source": [
    "combo_df.tail()"
   ]
  },
  {
   "cell_type": "code",
   "execution_count": 32,
   "metadata": {},
   "outputs": [
    {
     "data": {
      "text/html": [
       "<div>\n",
       "<style>\n",
       "    .dataframe thead tr:only-child th {\n",
       "        text-align: right;\n",
       "    }\n",
       "\n",
       "    .dataframe thead th {\n",
       "        text-align: left;\n",
       "    }\n",
       "\n",
       "    .dataframe tbody tr th {\n",
       "        vertical-align: top;\n",
       "    }\n",
       "</style>\n",
       "<table border=\"1\" class=\"dataframe\">\n",
       "  <thead>\n",
       "    <tr style=\"text-align: right;\">\n",
       "      <th></th>\n",
       "      <th>Active Investors</th>\n",
       "      <th>Company ID</th>\n",
       "      <th>Company Name</th>\n",
       "      <th>Description</th>\n",
       "      <th>Employees</th>\n",
       "      <th>Facebook Likes</th>\n",
       "      <th>Growth Rate</th>\n",
       "      <th>HQ Location</th>\n",
       "      <th>HQ Post Code</th>\n",
       "      <th>Last Financing Date</th>\n",
       "      <th>...</th>\n",
       "      <th>days_since_offer</th>\n",
       "      <th>disgust</th>\n",
       "      <th>emotional_range_big5</th>\n",
       "      <th>extraversion_big5</th>\n",
       "      <th>fear</th>\n",
       "      <th>joy</th>\n",
       "      <th>openness_big5</th>\n",
       "      <th>sadness</th>\n",
       "      <th>tentative</th>\n",
       "      <th>vc_invest</th>\n",
       "    </tr>\n",
       "  </thead>\n",
       "  <tbody>\n",
       "    <tr>\n",
       "      <th>0</th>\n",
       "      <td>500 Startups, Start Smart Labs</td>\n",
       "      <td>170123-59</td>\n",
       "      <td>Zyudly Labs</td>\n",
       "      <td>Provider of cyber-security analytics and intel...</td>\n",
       "      <td>7.0</td>\n",
       "      <td>103.0</td>\n",
       "      <td>0.118048</td>\n",
       "      <td>Palo Alto, CA</td>\n",
       "      <td>94306</td>\n",
       "      <td>2017-02-08</td>\n",
       "      <td>...</td>\n",
       "      <td>121.0</td>\n",
       "      <td>0.100205</td>\n",
       "      <td>0.733407</td>\n",
       "      <td>0.632116</td>\n",
       "      <td>0.377408</td>\n",
       "      <td>0.514982</td>\n",
       "      <td>0.410378</td>\n",
       "      <td>0.283647</td>\n",
       "      <td>0.274317</td>\n",
       "      <td>0</td>\n",
       "    </tr>\n",
       "    <tr>\n",
       "      <th>1</th>\n",
       "      <td>eLab Accelerator</td>\n",
       "      <td>123484-96</td>\n",
       "      <td>Zunn Labs</td>\n",
       "      <td>Developer of application controlled LED lights...</td>\n",
       "      <td>7.0</td>\n",
       "      <td>846.0</td>\n",
       "      <td>-0.021589</td>\n",
       "      <td>Los Angeles, CA</td>\n",
       "      <td>90025</td>\n",
       "      <td>2014-12-20</td>\n",
       "      <td>...</td>\n",
       "      <td>902.0</td>\n",
       "      <td>0.049665</td>\n",
       "      <td>0.779365</td>\n",
       "      <td>0.711512</td>\n",
       "      <td>0.145806</td>\n",
       "      <td>0.339845</td>\n",
       "      <td>0.164799</td>\n",
       "      <td>0.363050</td>\n",
       "      <td>0.319869</td>\n",
       "      <td>0</td>\n",
       "    </tr>\n",
       "    <tr>\n",
       "      <th>2</th>\n",
       "      <td>NaN</td>\n",
       "      <td>170046-01</td>\n",
       "      <td>Zuma 4 Productions</td>\n",
       "      <td>The company is currently operating in Stealth ...</td>\n",
       "      <td>7.0</td>\n",
       "      <td>816.0</td>\n",
       "      <td>0.000000</td>\n",
       "      <td>Malibu, CA</td>\n",
       "      <td>90265</td>\n",
       "      <td>2017-01-26</td>\n",
       "      <td>...</td>\n",
       "      <td>134.0</td>\n",
       "      <td>0.031524</td>\n",
       "      <td>0.464414</td>\n",
       "      <td>0.785069</td>\n",
       "      <td>0.054562</td>\n",
       "      <td>0.769597</td>\n",
       "      <td>0.305475</td>\n",
       "      <td>0.179980</td>\n",
       "      <td>0.364754</td>\n",
       "      <td>0</td>\n",
       "    </tr>\n",
       "    <tr>\n",
       "      <th>3</th>\n",
       "      <td>NaN</td>\n",
       "      <td>102923-56</td>\n",
       "      <td>Zulu</td>\n",
       "      <td>Provider of a community-based grocery shopping...</td>\n",
       "      <td>6.0</td>\n",
       "      <td>21.0</td>\n",
       "      <td>0.000000</td>\n",
       "      <td>Sunnyvale, CA</td>\n",
       "      <td>94085</td>\n",
       "      <td>2014-06-01</td>\n",
       "      <td>...</td>\n",
       "      <td>1104.0</td>\n",
       "      <td>0.059154</td>\n",
       "      <td>0.267228</td>\n",
       "      <td>0.304023</td>\n",
       "      <td>0.097972</td>\n",
       "      <td>0.203800</td>\n",
       "      <td>0.136727</td>\n",
       "      <td>0.127828</td>\n",
       "      <td>0.000000</td>\n",
       "      <td>0</td>\n",
       "    </tr>\n",
       "    <tr>\n",
       "      <th>4</th>\n",
       "      <td>California Institute for Quantitative Bioscien...</td>\n",
       "      <td>123222-43</td>\n",
       "      <td>ZoneOne Pharma</td>\n",
       "      <td>Developer of nano-scale therapeutics. The comp...</td>\n",
       "      <td>7.0</td>\n",
       "      <td>816.0</td>\n",
       "      <td>0.000000</td>\n",
       "      <td>San Francisco, CA</td>\n",
       "      <td>94158</td>\n",
       "      <td>2015-05-01</td>\n",
       "      <td>...</td>\n",
       "      <td>770.0</td>\n",
       "      <td>0.043056</td>\n",
       "      <td>0.532335</td>\n",
       "      <td>0.665466</td>\n",
       "      <td>0.052714</td>\n",
       "      <td>0.502585</td>\n",
       "      <td>0.713422</td>\n",
       "      <td>0.101492</td>\n",
       "      <td>0.448915</td>\n",
       "      <td>0</td>\n",
       "    </tr>\n",
       "  </tbody>\n",
       "</table>\n",
       "<p>5 rows × 38 columns</p>\n",
       "</div>"
      ],
      "text/plain": [
       "                                    Active Investors Company ID  \\\n",
       "0                     500 Startups, Start Smart Labs  170123-59   \n",
       "1                                   eLab Accelerator  123484-96   \n",
       "2                                                NaN  170046-01   \n",
       "3                                                NaN  102923-56   \n",
       "4  California Institute for Quantitative Bioscien...  123222-43   \n",
       "\n",
       "         Company Name                                        Description  \\\n",
       "0         Zyudly Labs  Provider of cyber-security analytics and intel...   \n",
       "1           Zunn Labs  Developer of application controlled LED lights...   \n",
       "2  Zuma 4 Productions  The company is currently operating in Stealth ...   \n",
       "3                Zulu  Provider of a community-based grocery shopping...   \n",
       "4      ZoneOne Pharma  Developer of nano-scale therapeutics. The comp...   \n",
       "\n",
       "   Employees  Facebook Likes  Growth Rate        HQ Location HQ Post Code  \\\n",
       "0        7.0           103.0     0.118048      Palo Alto, CA        94306   \n",
       "1        7.0           846.0    -0.021589    Los Angeles, CA        90025   \n",
       "2        7.0           816.0     0.000000         Malibu, CA        90265   \n",
       "3        6.0            21.0     0.000000      Sunnyvale, CA        94085   \n",
       "4        7.0           816.0     0.000000  San Francisco, CA        94158   \n",
       "\n",
       "  Last Financing Date    ...    days_since_offer   disgust  \\\n",
       "0          2017-02-08    ...               121.0  0.100205   \n",
       "1          2014-12-20    ...               902.0  0.049665   \n",
       "2          2017-01-26    ...               134.0  0.031524   \n",
       "3          2014-06-01    ...              1104.0  0.059154   \n",
       "4          2015-05-01    ...               770.0  0.043056   \n",
       "\n",
       "   emotional_range_big5  extraversion_big5      fear       joy  openness_big5  \\\n",
       "0              0.733407           0.632116  0.377408  0.514982       0.410378   \n",
       "1              0.779365           0.711512  0.145806  0.339845       0.164799   \n",
       "2              0.464414           0.785069  0.054562  0.769597       0.305475   \n",
       "3              0.267228           0.304023  0.097972  0.203800       0.136727   \n",
       "4              0.532335           0.665466  0.052714  0.502585       0.713422   \n",
       "\n",
       "    sadness  tentative vc_invest  \n",
       "0  0.283647   0.274317         0  \n",
       "1  0.363050   0.319869         0  \n",
       "2  0.179980   0.364754         0  \n",
       "3  0.127828   0.000000         0  \n",
       "4  0.101492   0.448915         0  \n",
       "\n",
       "[5 rows x 38 columns]"
      ]
     },
     "execution_count": 32,
     "metadata": {},
     "output_type": "execute_result"
    }
   ],
   "source": [
    "combo_df.head()"
   ]
  },
  {
   "cell_type": "code",
   "execution_count": 38,
   "metadata": {},
   "outputs": [
    {
     "name": "stdout",
     "output_type": "stream",
     "text": [
      "<class 'pandas.core.frame.DataFrame'>\n",
      "Int64Index: 258 entries, 0 to 165\n",
      "Data columns (total 38 columns):\n",
      "Active Investors               219 non-null object\n",
      "Company ID                     258 non-null object\n",
      "Company Name                   258 non-null object\n",
      "Description                    258 non-null object\n",
      "Employees                      258 non-null float64\n",
      "Facebook Likes                 258 non-null float64\n",
      "Growth Rate                    258 non-null float64\n",
      "HQ Location                    258 non-null object\n",
      "HQ Post Code                   258 non-null object\n",
      "Last Financing Date            243 non-null object\n",
      "Last Financing Deal Type 2     140 non-null object\n",
      "Last Financing Size            258 non-null float64\n",
      "Last Financing Valuation       17 non-null float64\n",
      "Majestic Referring Domains     258 non-null float64\n",
      "Primary Contact                258 non-null object\n",
      "Primary Industry Code          258 non-null object\n",
      "Size Multiple                  258 non-null float64\n",
      "Total Raised                   258 non-null float64\n",
      "Twitter Followers              258 non-null float64\n",
      "Twitter_Username               258 non-null object\n",
      "Unnamed: 0                     258 non-null int64\n",
      "Unnamed: 0.1                   258 non-null int64\n",
      "Year Founded                   258 non-null float64\n",
      "agreeableness_big5             258 non-null float64\n",
      "analytical                     258 non-null float64\n",
      "anger                          258 non-null float64\n",
      "confident                      258 non-null float64\n",
      "conscientiousness_big5         258 non-null float64\n",
      "days_since_offer               92 non-null float64\n",
      "disgust                        258 non-null float64\n",
      "emotional_range_big5           258 non-null float64\n",
      "extraversion_big5              258 non-null float64\n",
      "fear                           258 non-null float64\n",
      "joy                            258 non-null float64\n",
      "openness_big5                  258 non-null float64\n",
      "sadness                        258 non-null float64\n",
      "tentative                      258 non-null float64\n",
      "vc_invest                      258 non-null int64\n",
      "dtypes: float64(24), int64(3), object(11)\n",
      "memory usage: 78.6+ KB\n"
     ]
    }
   ],
   "source": [
    "combo_df.info()"
   ]
  },
  {
   "cell_type": "code",
   "execution_count": null,
   "metadata": {
    "collapsed": true
   },
   "outputs": [],
   "source": []
  },
  {
   "cell_type": "markdown",
   "metadata": {},
   "source": [
    "# Select columns for the data model\n",
    "- Company ID  (primary key)\n",
    "- Employees\n",
    "- Facebook Likes\n",
    "- Growth Rate\n",
    "- HQ Post Code\n",
    "- Last Financing Size\n",
    "- Majestic Referring Domains\n",
    "- Primary Industry Code( use PD get dummies to use in model)\n",
    "- Size Multiple\n",
    "- Total Raised\n",
    "- Twitter Followers\n",
    "- Year Founded\n",
    "- agreeableness_big5\n",
    "- analytical\n",
    "- anger\n",
    "- confident\n",
    "- conscientiousness_big5\n",
    "- disgust\n",
    "- emotional_range_big5\n",
    "- extraversion_big5\n",
    "- fear\n",
    "- joy \n",
    "- openness_big5\n",
    "- sadness\n",
    "- tentative\n",
    "- vc_invest (columns to predict)"
   ]
  },
  {
   "cell_type": "code",
   "execution_count": 68,
   "metadata": {},
   "outputs": [],
   "source": [
    "training_df = combo_df[['Company ID', 'Employees','Facebook Likes','Growth Rate','HQ Post Code','Last Financing Size',\n",
    "         'Majestic Referring Domains','Primary Industry Code','Size Multiple','Total Raised','Twitter Followers',\n",
    "         'Year Founded','agreeableness_big5','analytical','anger','confident','conscientiousness_big5',\n",
    "         'disgust','emotional_range_big5','extraversion_big5','fear','joy','openness_big5','sadness','tentative',\n",
    "         'vc_invest']]"
   ]
  },
  {
   "cell_type": "markdown",
   "metadata": {},
   "source": [
    "### Turn HQ Post Code into an int"
   ]
  },
  {
   "cell_type": "code",
   "execution_count": 69,
   "metadata": {},
   "outputs": [],
   "source": [
    "hq_post_code = []\n",
    "cleaned_final_df = training_df .copy()\n",
    "for row in training_df['HQ Post Code']:\n",
    "    try:\n",
    "        hq_post_code.append(int(row))\n",
    "    except:\n",
    "        hq_post_code.append(\"NaN\")"
   ]
  },
  {
   "cell_type": "code",
   "execution_count": 70,
   "metadata": {},
   "outputs": [],
   "source": [
    "cleaned_final_df ['HQ_post_code'] = hq_post_code"
   ]
  },
  {
   "cell_type": "code",
   "execution_count": 71,
   "metadata": {
    "collapsed": true
   },
   "outputs": [],
   "source": [
    "cleaned_final_df .drop(['HQ Post Code'],axis=1,inplace=True)"
   ]
  },
  {
   "cell_type": "code",
   "execution_count": 72,
   "metadata": {},
   "outputs": [],
   "source": [
    "cleaned_final_df = cleaned_final_df[cleaned_final_df['HQ_post_code']!='NaN']"
   ]
  },
  {
   "cell_type": "code",
   "execution_count": 77,
   "metadata": {},
   "outputs": [],
   "source": [
    " cleaned_final_df.HQ_post_code = cleaned_final_df.HQ_post_code.astype('int64')"
   ]
  },
  {
   "cell_type": "code",
   "execution_count": 85,
   "metadata": {},
   "outputs": [
    {
     "name": "stdout",
     "output_type": "stream",
     "text": [
      "<class 'pandas.core.frame.DataFrame'>\n",
      "Int64Index: 252 entries, 0 to 165\n",
      "Data columns (total 26 columns):\n",
      "Company ID                    252 non-null object\n",
      "Employees                     252 non-null float64\n",
      "Facebook Likes                252 non-null float64\n",
      "Growth Rate                   252 non-null float64\n",
      "Last Financing Size           252 non-null float64\n",
      "Majestic Referring Domains    252 non-null float64\n",
      "Primary Industry Code         252 non-null object\n",
      "Size Multiple                 252 non-null float64\n",
      "Total Raised                  252 non-null float64\n",
      "Twitter Followers             252 non-null float64\n",
      "Year Founded                  252 non-null float64\n",
      "agreeableness_big5            252 non-null float64\n",
      "analytical                    252 non-null float64\n",
      "anger                         252 non-null float64\n",
      "confident                     252 non-null float64\n",
      "conscientiousness_big5        252 non-null float64\n",
      "disgust                       252 non-null float64\n",
      "emotional_range_big5          252 non-null float64\n",
      "extraversion_big5             252 non-null float64\n",
      "fear                          252 non-null float64\n",
      "joy                           252 non-null float64\n",
      "openness_big5                 252 non-null float64\n",
      "sadness                       252 non-null float64\n",
      "tentative                     252 non-null float64\n",
      "vc_invest                     252 non-null int64\n",
      "HQ_post_code                  252 non-null int64\n",
      "dtypes: float64(22), int64(2), object(2)\n",
      "memory usage: 58.2+ KB\n"
     ]
    }
   ],
   "source": [
    " cleaned_final_df.info()"
   ]
  },
  {
   "cell_type": "markdown",
   "metadata": {},
   "source": [
    "## Add a one hot encoding for the primary industry"
   ]
  },
  {
   "cell_type": "code",
   "execution_count": 86,
   "metadata": {},
   "outputs": [],
   "source": [
    "final_training_df = pd.get_dummies(cleaned_final_df['Primary Industry Code'])"
   ]
  },
  {
   "cell_type": "code",
   "execution_count": 95,
   "metadata": {},
   "outputs": [],
   "source": [
    "training_df = pd.concat(objs=[cleaned_final_df,final_training_df],axis=1)"
   ]
  },
  {
   "cell_type": "code",
   "execution_count": 98,
   "metadata": {},
   "outputs": [],
   "source": [
    "cols = training_df.columns"
   ]
  },
  {
   "cell_type": "code",
   "execution_count": 103,
   "metadata": {},
   "outputs": [],
   "source": [
    "# move vc_invest to the first columns\n",
    "training_df = training_df[['vc_invest','Company ID', 'Employees', 'Facebook Likes', 'Growth Rate',\n",
    "       'Last Financing Size', 'Majestic Referring Domains',\n",
    "       'Primary Industry Code', 'Size Multiple', 'Total Raised',\n",
    "       'Twitter Followers', 'Year Founded', 'agreeableness_big5', 'analytical',\n",
    "       'anger', 'confident', 'conscientiousness_big5', 'disgust',\n",
    "       'emotional_range_big5', 'extraversion_big5', 'fear', 'joy',\n",
    "       'openness_big5', 'sadness', 'tentative', 'HQ_post_code',\n",
    "       'Aerospace and Defense', 'Alternative Energy Equipment',\n",
    "       'Application Software', 'Application Specific Semiconductors',\n",
    "       'Automation/Workflow Software', 'Automotive', 'Beverages',\n",
    "       'Biotechnology', 'Broadcasting, Radio and Television',\n",
    "       'Business/Productivity Software', 'Communication Software',\n",
    "       'Consulting Services (B2B)', 'Consumer Finance', 'Database Software',\n",
    "       'Diagnostic Equipment', 'Drug Discovery',\n",
    "       'Education and Training Services (B2B)',\n",
    "       'Educational and Training Services (B2C)', 'Electrical Equipment',\n",
    "       'Electronic Components', 'Electronics (B2C)', 'Energy Exploration',\n",
    "       'Energy Production', 'Enterprise Systems (Healthcare)',\n",
    "       'Entertainment Software', 'Environmental Services (B2B)',\n",
    "       'Financial Software', 'Food Products', 'General Purpose Semiconductors',\n",
    "       'Hotels and Resorts', 'Human Capital Services',\n",
    "       'Information Services (B2C)', 'Internet Retail', 'Legal Services (B2C)',\n",
    "       'Leisure Facilities', 'Logistics',\n",
    "       'Media and Information Services (B2B)',\n",
    "       'Movies, Music and Entertainment', 'Multimedia and Design Software',\n",
    "       'Network Management Software', 'Other Business Products and Services',\n",
    "       'Other Commercial Products', 'Other Commercial Services',\n",
    "       'Other Consumer Durables', 'Other Consumer Products and Services',\n",
    "       'Other Devices and Supplies', 'Other Energy Services',\n",
    "       'Other Financial Services', 'Other Healthcare Services',\n",
    "       'Other Healthcare Technology Systems', 'Other IT Services',\n",
    "       'Other Information Technology', 'Other Restaurants, Hotels and Leisure',\n",
    "       'Other Services (B2C Non-Financial)', 'Other Software',\n",
    "       'Other Transportation', 'Personal Products', 'Private Equity',\n",
    "       'Publishing', 'Real Estate Services (B2C)', 'Recreational Goods',\n",
    "       'Restaurants and Bars', 'Security Services (B2B)', 'Social Content',\n",
    "       'Social/Platform Software', 'Specialty Retail', 'Surgical Devices',\n",
    "       'Therapeutic Devices', 'Vertical Market Software', 'Water Utilities',\n",
    "       'Wireless Service Providers']]"
   ]
  },
  {
   "cell_type": "markdown",
   "metadata": {},
   "source": [
    "# train test split"
   ]
  },
  {
   "cell_type": "code",
   "execution_count": 105,
   "metadata": {
    "collapsed": true
   },
   "outputs": [],
   "source": [
    "x_all, y_all = training_df.iloc[:,1:], training_df.iloc[:,0]"
   ]
  },
  {
   "cell_type": "code",
   "execution_count": 109,
   "metadata": {},
   "outputs": [],
   "source": [
    "X_train, X_test, y_train, y_test  = train_test_split(x_all,y_all,test_size=.2)"
   ]
  },
  {
   "cell_type": "code",
   "execution_count": 113,
   "metadata": {},
   "outputs": [
    {
     "data": {
      "text/plain": [
       "(201, 96)"
      ]
     },
     "execution_count": 113,
     "metadata": {},
     "output_type": "execute_result"
    }
   ],
   "source": [
    "X_train.shape # 201 training examples"
   ]
  },
  {
   "cell_type": "code",
   "execution_count": 122,
   "metadata": {},
   "outputs": [
    {
     "data": {
      "text/plain": [
       "(201, 96)"
      ]
     },
     "execution_count": 122,
     "metadata": {},
     "output_type": "execute_result"
    }
   ],
   "source": [
    "X_train.values.shape"
   ]
  },
  {
   "cell_type": "markdown",
   "metadata": {},
   "source": [
    "# train random forest"
   ]
  },
  {
   "cell_type": "code",
   "execution_count": 115,
   "metadata": {
    "collapsed": true
   },
   "outputs": [],
   "source": [
    "rf_classify = RandomForestClassifier(n_estimators=300)"
   ]
  },
  {
   "cell_type": "code",
   "execution_count": 119,
   "metadata": {},
   "outputs": [
    {
     "ename": "ValueError",
     "evalue": "could not convert string to float: 'Media and Information Services (B2B)'",
     "output_type": "error",
     "traceback": [
      "\u001b[0;31m---------------------------------------------------------------------------\u001b[0m",
      "\u001b[0;31mValueError\u001b[0m                                Traceback (most recent call last)",
      "\u001b[0;32m<ipython-input-119-056616c58df3>\u001b[0m in \u001b[0;36m<module>\u001b[0;34m()\u001b[0m\n\u001b[0;32m----> 1\u001b[0;31m \u001b[0mrf_classify\u001b[0m\u001b[0;34m.\u001b[0m\u001b[0mfit\u001b[0m\u001b[0;34m(\u001b[0m\u001b[0mX_train\u001b[0m\u001b[0;34m.\u001b[0m\u001b[0mvalues\u001b[0m\u001b[0;34m,\u001b[0m\u001b[0my_train\u001b[0m\u001b[0;34m.\u001b[0m\u001b[0mvalues\u001b[0m\u001b[0;34m)\u001b[0m\u001b[0;34m\u001b[0m\u001b[0m\n\u001b[0m",
      "\u001b[0;32m/Users/jonathanhilgart/anaconda/envs/nlp_founder/lib/python3.6/site-packages/sklearn/ensemble/forest.py\u001b[0m in \u001b[0;36mfit\u001b[0;34m(self, X, y, sample_weight)\u001b[0m\n\u001b[1;32m    245\u001b[0m         \"\"\"\n\u001b[1;32m    246\u001b[0m         \u001b[0;31m# Validate or convert input data\u001b[0m\u001b[0;34m\u001b[0m\u001b[0;34m\u001b[0m\u001b[0m\n\u001b[0;32m--> 247\u001b[0;31m         \u001b[0mX\u001b[0m \u001b[0;34m=\u001b[0m \u001b[0mcheck_array\u001b[0m\u001b[0;34m(\u001b[0m\u001b[0mX\u001b[0m\u001b[0;34m,\u001b[0m \u001b[0maccept_sparse\u001b[0m\u001b[0;34m=\u001b[0m\u001b[0;34m\"csc\"\u001b[0m\u001b[0;34m,\u001b[0m \u001b[0mdtype\u001b[0m\u001b[0;34m=\u001b[0m\u001b[0mDTYPE\u001b[0m\u001b[0;34m)\u001b[0m\u001b[0;34m\u001b[0m\u001b[0m\n\u001b[0m\u001b[1;32m    248\u001b[0m         \u001b[0my\u001b[0m \u001b[0;34m=\u001b[0m \u001b[0mcheck_array\u001b[0m\u001b[0;34m(\u001b[0m\u001b[0my\u001b[0m\u001b[0;34m,\u001b[0m \u001b[0maccept_sparse\u001b[0m\u001b[0;34m=\u001b[0m\u001b[0;34m'csc'\u001b[0m\u001b[0;34m,\u001b[0m \u001b[0mensure_2d\u001b[0m\u001b[0;34m=\u001b[0m\u001b[0;32mFalse\u001b[0m\u001b[0;34m,\u001b[0m \u001b[0mdtype\u001b[0m\u001b[0;34m=\u001b[0m\u001b[0;32mNone\u001b[0m\u001b[0;34m)\u001b[0m\u001b[0;34m\u001b[0m\u001b[0m\n\u001b[1;32m    249\u001b[0m         \u001b[0;32mif\u001b[0m \u001b[0missparse\u001b[0m\u001b[0;34m(\u001b[0m\u001b[0mX\u001b[0m\u001b[0;34m)\u001b[0m\u001b[0;34m:\u001b[0m\u001b[0;34m\u001b[0m\u001b[0m\n",
      "\u001b[0;32m/Users/jonathanhilgart/anaconda/envs/nlp_founder/lib/python3.6/site-packages/sklearn/utils/validation.py\u001b[0m in \u001b[0;36mcheck_array\u001b[0;34m(array, accept_sparse, dtype, order, copy, force_all_finite, ensure_2d, allow_nd, ensure_min_samples, ensure_min_features, warn_on_dtype, estimator)\u001b[0m\n\u001b[1;32m    380\u001b[0m                                       force_all_finite)\n\u001b[1;32m    381\u001b[0m     \u001b[0;32melse\u001b[0m\u001b[0;34m:\u001b[0m\u001b[0;34m\u001b[0m\u001b[0m\n\u001b[0;32m--> 382\u001b[0;31m         \u001b[0marray\u001b[0m \u001b[0;34m=\u001b[0m \u001b[0mnp\u001b[0m\u001b[0;34m.\u001b[0m\u001b[0marray\u001b[0m\u001b[0;34m(\u001b[0m\u001b[0marray\u001b[0m\u001b[0;34m,\u001b[0m \u001b[0mdtype\u001b[0m\u001b[0;34m=\u001b[0m\u001b[0mdtype\u001b[0m\u001b[0;34m,\u001b[0m \u001b[0morder\u001b[0m\u001b[0;34m=\u001b[0m\u001b[0morder\u001b[0m\u001b[0;34m,\u001b[0m \u001b[0mcopy\u001b[0m\u001b[0;34m=\u001b[0m\u001b[0mcopy\u001b[0m\u001b[0;34m)\u001b[0m\u001b[0;34m\u001b[0m\u001b[0m\n\u001b[0m\u001b[1;32m    383\u001b[0m \u001b[0;34m\u001b[0m\u001b[0m\n\u001b[1;32m    384\u001b[0m         \u001b[0;32mif\u001b[0m \u001b[0mensure_2d\u001b[0m\u001b[0;34m:\u001b[0m\u001b[0;34m\u001b[0m\u001b[0m\n",
      "\u001b[0;31mValueError\u001b[0m: could not convert string to float: 'Media and Information Services (B2B)'"
     ]
    }
   ],
   "source": [
    "rf_classify.fit(X_train.values,y_train.values)"
   ]
  },
  {
   "cell_type": "code",
   "execution_count": null,
   "metadata": {
    "collapsed": true
   },
   "outputs": [],
   "source": []
  }
 ],
 "metadata": {
  "kernelspec": {
   "display_name": "nlp_founder",
   "language": "python",
   "name": "nlp_founder"
  },
  "language_info": {
   "codemirror_mode": {
    "name": "ipython",
    "version": 3
   },
   "file_extension": ".py",
   "mimetype": "text/x-python",
   "name": "python",
   "nbconvert_exporter": "python",
   "pygments_lexer": "ipython3",
   "version": "3.6.1"
  }
 },
 "nbformat": 4,
 "nbformat_minor": 2
}
